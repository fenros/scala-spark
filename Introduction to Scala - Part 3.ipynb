{
 "cells": [
  {
   "cell_type": "markdown",
   "metadata": {},
   "source": [
    "<img src=\"images/intro-logo-scala-eng.png\" align=\"left\" width=\"600px\"/>\n",
    "<!--- ![alt text](heading.png \"Heading with Scala logo\") --->"
   ]
  },
  {
   "cell_type": "markdown",
   "metadata": {},
   "source": [
    "---"
   ]
  },
  {
   "cell_type": "markdown",
   "metadata": {},
   "source": [
    "# Index\n",
    "\n",
    "### [3. Now, let's run!](#seccion-3. Now, lets run!)\n",
    "  * [More about collections](#subseccion-More about collections)\n",
    "  * [More about functions](#subseccion-More about functions)\n",
    "    * [Internal functions](#subsubseccion-Internal functions)\n",
    "    * [Function literals and functions as values](#subsubseccion-Function literals and functions as values)\n",
    "    * [Partially applied functions](#subsubseccion-Partially applied functions)\n",
    "    * [Closures](#subsubseccion-Closures)\n",
    "    * [Variable parameters](#subsubseccion-Variable parameters)\n",
    "    * [Higher-order functions](#subsubseccion-Higher-order functions)\n",
    "  * [Currying](#subseccion-Currying)\n",
    "  * [Parameters 'by-name' and 'lazy' vals](#subseccion-Parameters by-name and lazy vals)\n",
    "  * [Tail recursion](#subseccion-Tail recursion)\n",
    "  * [Companion `object`](#subseccion-Companion `object`)\n",
    "  * [Covariant and contravariant types](#subseccion-Covariant and contravariant types)\n",
    "  * [Implicit conversions](#subseccion-Implicit conversions)\n",
    "  * [Pattern matching and `case` classes](#subseccion-Pattern matching and `case` classes)\n",
    "  * [Type `Option`](#subseccion-Type `Option`)\n",
    "  * [Extractors](#subseccion-Extractors)\n",
    "    * [Regular expressions ](#subsubseccion-Regular expressions )\n"
   ]
  },
  {
   "cell_type": "markdown",
   "metadata": {},
   "source": [
    "---"
   ]
  },
  {
   "cell_type": "markdown",
   "metadata": {
    "collapsed": true
   },
   "source": [
    "<a name=\"seccion-3. Now, lets run!\"></a>\n",
    "<a name=\"seccion-3. Ahora, ¡a correr!\"></a>\n",
    "<table align=\"left\" style=\"border-collapse: collapse; width: 100%; border: 5px double black\">\n",
    "    <tr style=\"border:none !important;\">\n",
    "        <td style=\"border:none !important; width: 100px;\">\n",
    "<img src=\"icons/correr-m.png\" align=\"left\" width=90px/>\n",
    "        </td>\n",
    "        <td style=\"border:none !important; text-align:left;\">\n",
    "<h1>3. Now, let's run!</h1>\n",
    "<br>\n",
    "It's time to learn some more advanced features of Scala, that will allow us to make the most of the language.\n",
    "        </td>\n",
    "    </tr>\n",
    "</table>"
   ]
  },
  {
   "cell_type": "markdown",
   "metadata": {},
   "source": [
    "<a name=\"subseccion-Más sobre colecciones\"></a>\n",
    "<a name=\"subseccion-More about collections\"></a>\n",
    "## More about collections\n",
    "\n",
    "\n",
    "Having studied some of the most popular collections, let's have a look to other types intended to store data and apply operators on them.\n",
    "\n",
    "* `ListBuffer`: as we already previously stated, perform operations on the last elements of a list is not a good idea, so, instead of using `reverse` to avoid the problem, we also could use a `ListBuffer`, that allows us to work efficiently on the first and last elements of a list  with its operators `+:` and `+=:`. Afterwards, we can transform it to a `List` with `toList`.\n",
    "* `ArrayBuffer`: like `Array` but we do not need to specify the size because we can add new elements with `+=`.\n",
    "* `Queue`: to define FIFO structures, there are `mutable` and `immutable` versions. With the first one, we use `+=` and `++=` in order to insert new elements and `dequeue` to extract them. In the `immutable` version, we use `enqueue` and `dequeue` to insert and extract elements.\n",
    "* `Stack`: to define LIFO structures, also with `mutable` and `immutable` versions. Using `push`, `pop` and `top` to manipulate them.\n",
    "* `TreeSet` and `TreeMap`: versions of `Set` and `Map` implementing `SortedSet` and `SortedMap` traits, respectively, being able to mantain the keys and values ordered."
   ]
  },
  {
   "cell_type": "code",
   "execution_count": null,
   "metadata": {
    "collapsed": true
   },
   "outputs": [],
   "source": [
    "import scala.collection.mutable.ListBuffer\n",
    "\n",
    "val listBuf = new ListBuffer[Int]\n",
    "listBuf += 1\n",
    "3 +=: listBuf\n",
    "listBuf.toList\n",
    "\n",
    "import scala.collection.mutable.ArrayBuffer\n",
    "\n",
    "val arrBuf = new ArrayBuffer[Int]()\n",
    "arrBuf += 1\n",
    "arrBuf += 2\n",
    "arrBuf(1)\n",
    "\n",
    "import scala.collection.mutable.Queue\n",
    "\n",
    "val cola = Queue[Int]()\n",
    "cola += 1\n",
    "cola += 2\n",
    "cola ++= List(3, 4)\n",
    "val elemento = cola.dequeue\n",
    "\n",
    "import scala.collection.immutable.{Queue => ImQueue}\n",
    "\n",
    "val colaVacia = ImQueue[Int]()\n",
    "val cola1 = colaVacia.enqueue(1)\n",
    "val (elemento2, colaVacia2) = cola1.dequeue\n",
    "\n",
    "import scala.collection.mutable.Stack\n",
    "\n",
    "val pila = Stack[Int]()\n",
    "pila.push(1)\n",
    "pila.push(2)\n",
    "val elemento3 = pila.top\n",
    "val elemento4 = pila.pop\n",
    "\n",
    "import scala.collection.immutable.TreeSet\n",
    "\n",
    "val miSetOrdenado = TreeSet(5, 2, 7, 9, 1)"
   ]
  },
  {
   "cell_type": "markdown",
   "metadata": {},
   "source": [
    "<table align=\"left\" style=\"border-collapse: collapse; border: none !important; width: 100%;\">\n",
    "    <tr style=\"border:none !important;\">\n",
    "        <td style=\"border:none !important; width: 60px;\">\n",
    "<img src=\"icons/notepad.png\" align=\"left\" width=\"50px\"> \n",
    "        </td>\n",
    "        <td style=\"border:none !important; text-align:left\">\n",
    "            <ul>\n",
    "                <li>If we use `+:` instead of `+=:` a new (unmodified) instance of the original `ListBuffer` will be returned</li>\n",
    "                <li>The strings can also be seen as sequences thanks to their implicit conversion to to `RichString`, that we will see later</li>\n",
    "            </ul>\n",
    "        </td>\n",
    "    </tr>\n",
    "</table>"
   ]
  },
  {
   "cell_type": "markdown",
   "metadata": {},
   "source": [
    "<a name=\"subseccion-More about functions\"></a>\n",
    "## More about functions\n",
    "\n",
    "\n",
    "Let us review some concepts about functions that can be different from other languages.\n",
    "\n",
    "<a name=\"subsubseccion-Internal functions\"></a>\n",
    "### Internal functions\n",
    "\n",
    "If we need to define a local function, hidden from outside the object, we can use `private` as seen previously, but in Scala we can achieve the same effect by defining the function to be hidden inside the function that uses it (i.e. we can define a function `processLine` inside function `processFile`). "
   ]
  },
  {
   "cell_type": "code",
   "execution_count": 1,
   "metadata": {},
   "outputs": [
    {
     "data": {
      "text/plain": [
       "Intitializing Scala interpreter ..."
      ]
     },
     "metadata": {},
     "output_type": "display_data"
    },
    {
     "data": {
      "text/plain": [
       "Spark Web UI available at http://172.17.0.2:4040\n",
       "SparkContext available as 'sc' (version = 2.2.0, master = local[*], app id = local-1515434138216)\n",
       "SparkSession available as 'spark'\n"
      ]
     },
     "metadata": {},
     "output_type": "display_data"
    },
    {
     "name": "stdout",
     "output_type": "stream",
     "text": [
      "files/longitud.txt: Segunda línea con una longitud bastante mayor que el resto (63)"
     ]
    },
    {
     "data": {
      "text/plain": [
       "import scala.io.Source\n",
       "defined object LongLines\n"
      ]
     },
     "execution_count": 1,
     "metadata": {},
     "output_type": "execute_result"
    }
   ],
   "source": [
    "import scala.io.Source\n",
    "\n",
    "object LongLines {\n",
    "    def processFile(filename: String, width: Int) {\n",
    "        def processLine(line: String) {     //Function defined inside other function (hidden for the rest of the code)\n",
    "            if (line.length > width)\n",
    "                print(filename +\": \"+ line)\n",
    "        }\n",
    "        val source = Source.fromFile(filename)\n",
    "        for (line <- source.getLines)\n",
    "            processLine(line)\n",
    "    }\n",
    "}\n",
    "\n",
    "LongLines.processFile(\"files/longitud.txt\", 45)"
   ]
  },
  {
   "cell_type": "markdown",
   "metadata": {},
   "source": [
    "<a name=\"subsubseccion-Function literals and functions as values\"></a>\n",
    "### Function literals and functions as values\n",
    "\n",
    "Functions can be used without a name, just by defining them directly where they are required. That function literal will be compiled in a class in running time and it will be instantiated in an object used as a value.\n",
    "\n",
    "Each function literal used as a value is transformed in a instance of a class extending the trait `FunctionN`, being `N` the number of params of the function. Scala has the definitions for traits from `Function0` to `Funtion22`, each of them implementing method `apply` that invokes the function.\n",
    "\n",
    "Function literal can contain more than one sentence between braces and the returned values can be used in many places, such as parameters of functions like `foreach` or `filter` (seen previously) to specify the function to be applied to the elements of a sequence or the criteria to filter them."
   ]
  },
  {
   "cell_type": "code",
   "execution_count": 1,
   "metadata": {},
   "outputs": [
    {
     "data": {
      "text/plain": [
       "Intitializing Scala interpreter ..."
      ]
     },
     "metadata": {},
     "output_type": "display_data"
    },
    {
     "data": {
      "text/plain": [
       "Spark Web UI available at http://172.17.0.2:4040\n",
       "SparkContext available as 'sc' (version = 2.2.0, master = local[*], app id = local-1515484827858)\n",
       "SparkSession available as 'spark'\n"
      ]
     },
     "metadata": {},
     "output_type": "display_data"
    },
    {
     "name": "stdout",
     "output_type": "stream",
     "text": [
      "-1 0 1 2 3 \n",
      "[X=1,Y=0] [X=1,Y=1] [X=2,Y=0] [X=2,Y=1] [X=2,Y=2] [X=3,Y=0] [X=3,Y=1] [X=3,Y=2] [X=3,Y=3] \n",
      "[X=1,Y=0] [X=1,Y=1] [X=2,Y=0] [X=2,Y=1] [X=2,Y=2] [X=3,Y=0] [X=3,Y=1] [X=3,Y=2] [X=3,Y=3] "
     ]
    },
    {
     "data": {
      "text/plain": [
       "incr: Int => Int = <function1>\n",
       "incr: Int => Int = <function1>\n",
       "nums: List[Int] = List(-1, 0, 1, 2, 3)\n"
      ]
     },
     "execution_count": 1,
     "metadata": {},
     "output_type": "execute_result"
    }
   ],
   "source": [
    "(x: Int) => x + 1                   // Function literal\n",
    "var incr = (x: Int) => x + 1        // Function literal assigned to a variable (with type Int => Int)\n",
    "incr(2)                             // Calling the function\n",
    "incr = (x: Int) => x + 2            // Reassigning the variable to other function literal (with type (Int, Int) => Int)\n",
    "incr(2)                             // Calling the function\n",
    "//incr = (x: Int, n: Int) => x + n  // What will happnen if the variable is reassigned to another type of function? (i.e. (Int, Int) => Int)\n",
    "\n",
    "val nums = List(-1,0,1,2,3)\n",
    "nums.foreach((x: Int) => print(x+\" \"))  // Function literal as a parameter\n",
    "\n",
    "println()\n",
    "nums.foreach((x: Int) => {              // Function literal with sevral lines\n",
    "     val valido = x > 0                 // in this case we need to use the braces\n",
    "     if (valido)\n",
    "         for (y <- 0 to x)\n",
    "            print(\"[X=\"+x+\",Y=\"+y+\"] \")\n",
    "    })\n",
    "\n",
    "println()\n",
    "nums.filter((x: Int) => x > 0).        // calling filter and foreach to obtain the same result\n",
    "    foreach((x: Int) =>\n",
    "         for (y <- 0 to x)\n",
    "            print(\"[X=\"+x+\",Y=\"+y+\"] \")\n",
    "    )"
   ]
  },
  {
   "cell_type": "markdown",
   "metadata": {
    "collapsed": true
   },
   "source": [
    "<table align=\"left\" style=\"border-collapse: collapse; border: none !important; width: 100%;\">\n",
    "    <tr style=\"border:none !important;\">\n",
    "        <td style=\"border:none !important; width: 60px;\">\n",
    "<img src=\"icons/notepad.png\" align=\"left\" width=\"50px\"> \n",
    "        </td>\n",
    "        <td style=\"border:none !important;text-align:left;\">\n",
    "            <ul>\n",
    "                <li>The fact that Scala defines the traits from `Function0` to `Function22` is the reason why functions in Scala can have 22 parameters or less</li>\n",
    "            </ul>\n",
    "        </td>\n",
    "    </tr>\n",
    "</table>"
   ]
  },
  {
   "cell_type": "markdown",
   "metadata": {},
   "source": [
    "<table align=\"left\" style=\"border-collapse: collapse; border: none !important; width: 100%;\">\n",
    "    <tr style=\"border:none !important;\">\n",
    "        <td style=\"border:none !important; width: 60px;\">\n",
    "<img src=\"icons/optimizar.png\" align=\"left\" width=\"50px\"> \n",
    "        </td>\n",
    "        <td style=\"border:none !important;text-align:left;\">\n",
    "            <ul>\n",
    "                <li>In most cases we could avoid the type of the function literals because they can be inferred by the compiler. In those cases we could also avoid the brackets (`nums.filter(x => x > 0)`)</li>\n",
    "                <li>We can reduce the code a bit more by using `_` to make reference to the parameters, only if they appear once in the body of the function, corresponding the first `_` to the first parameter, and so. In this way, we could avoid the left part of the function literal (`nums.filter(_ > 0)`)</li>\n",
    "                <li>When using `_` we could be required to specify the type, which can be done between brackets (`val f = (_: Int) + (_: Int)`)</li>\n",
    "            </ul>\n",
    "        </td>\n",
    "    </tr>\n",
    "</table>"
   ]
  },
  {
   "cell_type": "markdown",
   "metadata": {},
   "source": [
    "<a name=\"subsubseccion-Partially applied functions\"></a>\n",
    "### Partially applied functions\n",
    "\n",
    "Here we show another utility of `_`, in this case to substitute the parameters in a given function. This mechanism allows us to wrap a function in a function literal that can be passed as a parameter or assigned to a variable (for example, try to assign function `suma3` to variable `fs3` without `_`).\n",
    "\n",
    "On the other hand, instead of substitute all the parameters with `_`, we could also substitute just a couple of them. In this case we are creating a wrapping function with less parameters than the original one because we just need to provide the parameters substituted by the `_`."
   ]
  },
  {
   "cell_type": "code",
   "execution_count": 2,
   "metadata": {},
   "outputs": [
    {
     "data": {
      "text/plain": [
       "suma3: (a: Int, b: Int, c: Int)Int\n",
       "fs3: (Int, Int, Int) => Int = <function3>\n",
       "fs3p: Int => Int = <function1>\n",
       "res1: Int = 6\n"
      ]
     },
     "execution_count": 2,
     "metadata": {},
     "output_type": "execute_result"
    }
   ],
   "source": [
    "def suma3(a: Int, b: Int, c: Int) = a + b + c\n",
    "val fs3 = suma3 _   // Type of 'suma3 _' is a generated class with an `apply` method of 3 parameters\n",
    "fs3(1, 2, 3)        // Calling the function\n",
    "fs3.apply(1, 2, 3)  // This is equivalent\n",
    "\n",
    "val fs3p = suma3 (1, (_: Int), 3)\n",
    "fs3p(2)\n",
    "fs3p.apply(2)       // This instruction will call suma3(1, 2, 3)"
   ]
  },
  {
   "cell_type": "markdown",
   "metadata": {},
   "source": [
    "<table align=\"left\" style=\"border-collapse: collapse; border: none !important; width: 100%;\">\n",
    "    <tr style=\"border:none !important;\">\n",
    "        <td style=\"border:none !important; width: 60px;\">\n",
    "<img src=\"icons/optimizar.png\" align=\"left\" width=\"50px\"> \n",
    "        </td>\n",
    "        <td style=\"border:none !important;text-align:left;\">\n",
    "            <ul>\n",
    "                <li>We can avoid the use of `_` when substituting all the parameters of a function anywhere in the code where a function is expected (`nums.foreach(println)`)</li>\n",
    "            </ul>\n",
    "        </td>\n",
    "    </tr>\n",
    "</table>"
   ]
  },
  {
   "cell_type": "markdown",
   "metadata": {},
   "source": [
    "<a name=\"subsubseccion-Closures\"></a>\n",
    "### Closures\n",
    "\n",
    "In a function literal like `(x: Int) => x + 1` all the necessary elements to compute its value are present. It can happen that the function needs to access to external variables, like in `(x: Int) => x + count`, in these cases it is said that the function has a \"free\" variable and the function value is called a **closure**. This is a very useful mechanism, for example to define a function inside other function in such way that the internal function could have access to the variables of the container function.\n",
    "\n",
    "In Scala, if the value of the \"free\" variable changes, the closure will be aware of that, as you can see in the example below.\n",
    "\n",
    "Finally, if the closure have access to a free variable with many copies it will refer to the one that was active when the closure was created."
   ]
  },
  {
   "cell_type": "code",
   "execution_count": 4,
   "metadata": {},
   "outputs": [
    {
     "data": {
      "text/plain": [
       "cantidad: Int = 10\n",
       "sumaCantidad: Int => Int = <function1>\n",
       "cantidad: Int = 10\n",
       "makeIncreaser: (cantidad: Int)Int => Int\n",
       "inc1: Int => Int = <function1>\n",
       "inc10: Int => Int = <function1>\n",
       "res3: Int = 11\n"
      ]
     },
     "execution_count": 4,
     "metadata": {},
     "output_type": "execute_result"
    }
   ],
   "source": [
    "var cantidad = 1\n",
    "val sumaCantidad = (x: Int) => x + cantidad\n",
    "sumaCantidad(1)\n",
    "cantidad = 10\n",
    "sumaCantidad(1)\n",
    "\n",
    "def makeIncreaser(cantidad: Int) = (x: Int) => x + cantidad // Creates a new closurein each call\n",
    "val inc1 = makeIncreaser(1)\n",
    "val inc10 = makeIncreaser(10)\n",
    "inc1(1)\n",
    "inc10(1)\n"
   ]
  },
  {
   "cell_type": "markdown",
   "metadata": {
    "collapsed": true
   },
   "source": [
    "<table align=\"left\" style=\"border-collapse: collapse; border: none !important; width: 100%;\">\n",
    "    <tr style=\"border:none !important;\">\n",
    "        <td style=\"border:none !important; width: 60px;\">\n",
    "<img src=\"icons/notepad.png\" align=\"left\" width=\"50px\"> \n",
    "        </td>\n",
    "        <td style=\"border:none !important;text-align:left;\">\n",
    "            <ul>\n",
    "                <li>A closure can also change the value of a free variable</li>\n",
    "            </ul>\n",
    "        </td>\n",
    "    </tr>\n",
    "</table>"
   ]
  },
  {
   "cell_type": "markdown",
   "metadata": {},
   "source": [
    "<a name=\"subsubseccion-Variable parameters\"></a>\n",
    "### Variable parameters\n",
    "\n",
    "In Scala we can define a function with a variable number of parameters of the same type by using `*` at the end of the type. \n",
    "\n",
    "Nevertheless, if we have an `Array` of the appropriate type, T, we cannot pass it directly as a parameter of the mentioned function, but we must add `: _*` after the array, as shown in the example. Otherwise, we will be passing just one parameter of type `Array[T]`, instead of a number of parameters of type T. "
   ]
  },
  {
   "cell_type": "code",
   "execution_count": 5,
   "metadata": {},
   "outputs": [
    {
     "name": "stdout",
     "output_type": "stream",
     "text": [
      "Hola\n",
      "Hola\n",
      "mundo\n",
      "Hola\n",
      "mundo\n"
     ]
    },
    {
     "data": {
      "text/plain": [
       "echo: (args: String*)Unit\n",
       "hola: Array[String] = Array(Hola, mundo)\n"
      ]
     },
     "execution_count": 5,
     "metadata": {},
     "output_type": "execute_result"
    }
   ],
   "source": [
    "def echo(args: String*) = \n",
    "    for (arg <- args) println(arg)\n",
    "\n",
    "echo()\n",
    "echo(\"Hola\")\n",
    "echo(\"Hola\", \"mundo\")\n",
    "\n",
    "val hola = Array(\"Hola\", \"mundo\")\n",
    "echo(hola: _*)"
   ]
  },
  {
   "cell_type": "markdown",
   "metadata": {},
   "source": [
    "<a name=\"subsubseccion-Higher-order functions\"></a>\n",
    "### Higher-order functions\n",
    "\n",
    "In functional programming, 'higher order functions' are those that return or take as parameters other functions. Among their advantages we must highlight their ability to create abstractions that reduce the duplicity of code and simplify it.\n",
    "\n",
    "Let's assume, for example, that we need to analyse a file and search the lines that satisfy some criteria with respect to a string (starts or ends with it, for example). We could create a number of functions very similar except for the condition to be checked, or implement a common schema where the condition will be a parameter itself, as we can see in the example below."
   ]
  },
  {
   "cell_type": "code",
   "execution_count": 6,
   "metadata": {},
   "outputs": [
    {
     "name": "stdout",
     "output_type": "stream",
     "text": [
      "FUNCTIONS:\n",
      "hola, qué tal\n",
      "Al ver a un compañero hay que decir hola\n",
      "hola, qué tal\n",
      "Al ver a un compañero hay que decir hola\n",
      "Adiós don Pepito, hola don José\n",
      "\n",
      "HIGER ORDER FUNCTIONS:\n",
      "hola, qué tal\n",
      "Al ver a un compañero hay que decir hola\n",
      "hola, qué tal\n",
      "Al ver a un compañero hay que decir hola\n",
      "Adiós don Pepito, hola don José\n"
     ]
    },
    {
     "data": {
      "text/plain": [
       "import scala.io.Source\n",
       "lines: List[String] = List(﻿Hola mundo, hola, qué tal, Al ver a un compañero hay que decir hola, Hola don Pepito, Adiós don José, Adiós don Pepito, hola don José)\n",
       "buscaEmpieza: (cadena: String)List[String]\n",
       "buscaTermina: (cadena: String)List[String]\n",
       "buscaContiene: (cadena: String)List[String]\n",
       "buscaCriterio: (cadena: String, criterio: (String, String) => Boolean)List[String]\n",
       "buscaEmpieza2: (cadena: String)List[String]\n",
       "buscaTermina2: (cadena: String)List[String]\n",
       "buscaContiene2: (cadena: String)List[String]\n"
      ]
     },
     "execution_count": 6,
     "metadata": {},
     "output_type": "execute_result"
    }
   ],
   "source": [
    "import scala.io.Source\n",
    "val lines = Source.fromFile(\"files/cadenas.txt\").getLines.toList\n",
    "\n",
    "def buscaEmpieza(cadena: String) =\n",
    "    for (line <- lines if line.startsWith(cadena)) yield line\n",
    "\n",
    "def buscaTermina(cadena: String) =\n",
    "    for (line <- lines if line.endsWith(cadena)) yield line\n",
    "\n",
    "def buscaContiene(cadena: String) =\n",
    "    for (line <- lines if line.contains(cadena)) yield line\n",
    "\n",
    "println(\"FUNCTIONS:\")\n",
    "buscaEmpieza(\"hola\").foreach(println)\n",
    "buscaTermina(\"hola\").foreach(println)\n",
    "buscaContiene(\"hola\").foreach(println)\n",
    "\n",
    "def buscaCriterio(cadena: String, criterio: (String, String) => Boolean) =\n",
    "    for (line <- lines if criterio(line, cadena)) yield line\n",
    "def buscaEmpieza2(cadena: String) = buscaCriterio(cadena, _.startsWith(_))\n",
    "def buscaTermina2(cadena: String) = buscaCriterio(cadena, _.endsWith(_))\n",
    "def buscaContiene2(cadena: String) = buscaCriterio(cadena, _.contains(_))\n",
    "\n",
    "println(\"\\nHIGER ORDER FUNCTIONS:\")\n",
    "buscaEmpieza2(\"hola\").foreach(println)\n",
    "buscaTermina2(\"hola\").foreach(println)\n",
    "buscaContiene2(\"hola\").foreach(println)"
   ]
  },
  {
   "cell_type": "markdown",
   "metadata": {},
   "source": [
    "<table align=\"left\" style=\"border-collapse: collapse; border: none !important; width: 100%;\">\n",
    "    <tr style=\"border:none !important;\">\n",
    "        <td style=\"border:none !important; width: 60px;\">\n",
    "<img src=\"icons/optimizar.png\" align=\"left\" width=\"50px\"> \n",
    "        </td>\n",
    "        <td style=\"border:none !important;text-align:left;\">\n",
    "            <ul>\n",
    "                <li>We could go further by using closures to avoid the first parameter of function `buscaCriterio`</li>\n",
    "            </ul>\n",
    "        </td>\n",
    "    </tr>\n",
    "</table>"
   ]
  },
  {
   "cell_type": "markdown",
   "metadata": {},
   "source": [
    "Other typical case that illustrate the benefits of 'higher-order functions' is based on the special methods included in Scala's collections. Let us see a couple of them in the next example."
   ]
  },
  {
   "cell_type": "code",
   "execution_count": 7,
   "metadata": {},
   "outputs": [],
   "source": [
    "// Standard version to check whether a list contains negative elements\n",
    "def containsNegImp(nums: List[Int]): Boolean = {\n",
    "    var exists = false\n",
    "    for (num <- nums)\n",
    "        if (num < 0)\n",
    "            exists = true\n",
    "    exists\n",
    "}\n",
    "\n",
    "// Simplifying code through higher-order function 'exists'\n",
    "def containsNegFun(nums: List[Int]): Boolean = nums.exists(_ < 0)\n",
    "\n",
    "// Both are equivalent\n",
    "containsNegImp(Nil)\n",
    "containsNegFun(Nil)\n",
    "containsNegImp(List(0, -1))\n",
    "containsNegFun(List(0, -1))\n",
    "\n",
    "// How can we implement a function to check whether a list contains odd numbers?"
   ]
  },
  {
   "cell_type": "markdown",
   "metadata": {},
   "source": [
    "<a name=\"subseccion-Currying\"></a>\n",
    "## Currying\n",
    "\n",
    "Currying is a functional programming technique that allows us to define a function with multiple lists of parameters instead of just one.\n",
    "\n",
    "Actually, when we define a curried function with two lists of parameters, we are defining two functions: the first one takes the first list of parameters and returns another function that takes the second list of parameters and returns the final result."
   ]
  },
  {
   "cell_type": "code",
   "execution_count": 8,
   "metadata": {},
   "outputs": [
    {
     "data": {
      "text/plain": [
       "sumaTradicional: (x: Int, y: Int)Int\n",
       "sumaCurried: (x: Int)(y: Int)Int\n",
       "sumaSimulandoCurry1: (x: Int)Int => Int\n",
       "sumaSimulandoCurry2: Int => Int\n",
       "res6: Int = 3\n"
      ]
     },
     "execution_count": 8,
     "metadata": {},
     "output_type": "execute_result"
    }
   ],
   "source": [
    "def sumaTradicional(x: Int, y: Int) = x + y\n",
    "sumaTradicional(1, 2)\n",
    "\n",
    "def sumaCurried(x: Int)(y: Int) = x + y\n",
    "sumaCurried(1)(2)\n",
    "\n",
    "// We can emulate the 'currying' and distinguish the two functions\n",
    "def sumaSimulandoCurry1(x: Int) = (y: Int) => x + y\n",
    "sumaSimulandoCurry1(1)(2)\n",
    "\n",
    "def sumaSimulandoCurry2 = sumaSimulandoCurry1(1)\n",
    "sumaSimulandoCurry2(2)"
   ]
  },
  {
   "cell_type": "markdown",
   "metadata": {},
   "source": [
    "Once we have defined curried function `sumaCurried` and the emulation of currying through functions`sumaSimulandoCurry1` and `sumaSimulandoCurry2`, could we have access to the second implicit function in `sumaCurried`? The answer lies in the partially defined functions previously studied, that is using `_` as follows:"
   ]
  },
  {
   "cell_type": "code",
   "execution_count": 9,
   "metadata": {},
   "outputs": [
    {
     "data": {
      "text/plain": [
       "sumaUno: Int => Int = <function1>\n",
       "sumaDiez: Int => Int = <function1>\n",
       "res7: Int = 12\n"
      ]
     },
     "execution_count": 9,
     "metadata": {},
     "output_type": "execute_result"
    }
   ],
   "source": [
    "val sumaUno = sumaCurried(1) _\n",
    "sumaUno(2)\n",
    "\n",
    "// I we need a function that sums 10 to the argument\n",
    "val sumaDiez = sumaCurried(10) _\n",
    "sumaDiez(2)"
   ]
  },
  {
   "cell_type": "markdown",
   "metadata": {},
   "source": [
    "<table align=\"left\" style=\"border-collapse: collapse; border: none !important; width: 100%;\">\n",
    "    <tr style=\"border:none !important;\">\n",
    "        <td style=\"border:none !important; width: 60px;\">\n",
    "<img src=\"icons/optimizar.png\" align=\"left\" width=\"50px\"> \n",
    "        </td>\n",
    "        <td style=\"border:none !important;text-align:left;\">\n",
    "            <ul>\n",
    "                <li>We can avoid the blank space before `_` in the previous example because the result is not a valid identifier for Scala. Otherwise, `println_` would be a valid one, so the blank space couldn't be deleted</li>\n",
    "            </ul>\n",
    "        </td>\n",
    "    </tr>\n",
    "</table>"
   ]
  },
  {
   "cell_type": "markdown",
   "metadata": {},
   "source": [
    "Currying can be useful when we want to create our own control structures, with a language-alike syntax.\n",
    "\n",
    "For example, let's assume that we need to create a generic function that performs a given operation on a given file and then closes the file in a secure way. We could implement a higher-order function with two parameters: the file and the operation to be executed. Applying currying, we can separate both parameters into two different lists of one parameter each, and then use another Scala feature (studied before) consisting on substituting the parenthesis by braces when calling a function with just one parameter. so we obtain a syntax similar to a Scala's control structure as we can see in the example below."
   ]
  },
  {
   "cell_type": "code",
   "execution_count": 11,
   "metadata": {},
   "outputs": [
    {
     "data": {
      "text/plain": [
       "import java.io.PrintWriter\n",
       "import java.io.File\n",
       "file: java.io.File = files/date.txt\n",
       "withPrintWriter: (file: java.io.File, op: java.io.PrintWriter => Unit)Unit\n",
       "withPrintWriterCurried: (file: java.io.File)(op: java.io.PrintWriter => Unit)Unit\n"
      ]
     },
     "execution_count": 11,
     "metadata": {},
     "output_type": "execute_result"
    }
   ],
   "source": [
    "import java.io.PrintWriter\n",
    "import java.io.File\n",
    "\n",
    "val file = new File(\"files/date.txt\")\n",
    "\n",
    "// Initial version (without currying)\n",
    "def withPrintWriter(file: File, op: PrintWriter => Unit) {\n",
    "    val writer = new PrintWriter(file)\n",
    "    try {\n",
    "        op(writer)\n",
    "    } finally {\n",
    "        writer.close()\n",
    "    }\n",
    "}\n",
    "withPrintWriter(file,\n",
    "    writer => writer.println(new java.util.Date)   // _.println(new java.util.Date)\n",
    ")\n",
    "\n",
    "// Version with currying\n",
    "def withPrintWriterCurried(file: File)(op: PrintWriter => Unit) {\n",
    "    val writer = new PrintWriter(file)\n",
    "    try {\n",
    "        op(writer)\n",
    "    } finally {\n",
    "        writer.close()\n",
    "    }\n",
    "}\n",
    "withPrintWriterCurried(file){                      // Currying + braces = control structure syntax alike\n",
    "    writer => writer.println(new java.util.Date)\n",
    "}\n"
   ]
  },
  {
   "cell_type": "markdown",
   "metadata": {
    "collapsed": true
   },
   "source": [
    "<table align=\"left\" style=\"border-collapse: collapse; border: none !important; width: 100%;\">\n",
    "    <tr style=\"border:none !important;\">\n",
    "        <td style=\"border:none !important; width: 60px;\">\n",
    "<img src=\"icons/notepad.png\" align=\"left\" width=\"50px\"> \n",
    "        </td>\n",
    "        <td style=\"border:none !important;text-align:left;\">\n",
    "            <ul>\n",
    "                <li>When we define a 'curried' function we must put the lists of parameters with functions at the end and the rest of parameters at the beginning, so the compiler can infer the types</li>\n",
    "            </ul>\n",
    "        </td>\n",
    "    </tr>\n",
    "</table>"
   ]
  },
  {
   "cell_type": "markdown",
   "metadata": {},
   "source": [
    "<a name=\"subseccion-Parameters by-name and lazy vals\"></a>\n",
    "## Parameters 'by-name' and 'lazy' vals\n",
    "\n",
    "When a function is called, its parameters are evaluated and then the code of the body of the function is executed with the parameter replaced by their computed values. Nevertheless, sometimes it could be more convenient to evaluate some parameters only when their values are needed.\n",
    "\n",
    "Let us see it with an example: supose that we want to emulate the behavior of function `assert` in Scala, that throws an `AssertException` when the predicate passed as parameter is evaluated to `false`. Supose that there is a variable `assertionsEnabled` that enables or disables the use of the function. We could implement this functionality in three different ways:\n",
    "\n",
    "1. We can implement a function with a boolean parameter, as shown in the first version in the example below. In this case the predicate will always be evaluated first, and then the body of the function will be executed.\n",
    "\n",
    "2. We could use a function literal without params, returning a boolean, as the predicate to be evaluated. In this way, the predicate is evaluated only when its value its needed.\n",
    "\n",
    "3. Finally, we could use the parameters 'by-name' syntax, `=> type`, in order to define a parameter used in the same way as in version 1, but evaluated like version 2. \n",
    "\n",
    "Having in mind the difference between first and third versions of the function, what's the difference in the execution if we introduce as predicate `2 / 0 > 3` and `assertionsEnabled = false`?"
   ]
  },
  {
   "cell_type": "code",
   "execution_count": null,
   "metadata": {
    "collapsed": true
   },
   "outputs": [],
   "source": [
    "var assertionsEnabled = true\n",
    "\n",
    "// Primera versión\n",
    "def myAssert1(pred: Boolean) = {\n",
    "    if (assertionsEnabled && !pred)\n",
    "        throw new AssertionError\n",
    "}\n",
    "//myAssert1(2 > 3)\n",
    "\n",
    "// Segunda versión\n",
    "def myAssert2(pred: () => Boolean) = {\n",
    "    if (assertionsEnabled && !pred())\n",
    "        throw new AssertionError\n",
    "}\n",
    "//myAssert2(() => 2 > 3)\n",
    "\n",
    "// Tercera versión\n",
    "def myAssert3(pred: => Boolean) = {\n",
    "    if (assertionsEnabled && !pred)\n",
    "        throw new AssertionError\n",
    "}\n",
    "//myAssert3(2 > 3)"
   ]
  },
  {
   "cell_type": "markdown",
   "metadata": {},
   "source": [
    "Similarly, when we define a variable with `val`, there may be some cases where we want the variable to be evaluated just when it is needed. In this case, Scala provides the `lazy` values, as shown in the next example."
   ]
  },
  {
   "cell_type": "code",
   "execution_count": 1,
   "metadata": {},
   "outputs": [
    {
     "data": {
      "text/plain": [
       "Intitializing Scala interpreter ..."
      ]
     },
     "metadata": {},
     "output_type": "display_data"
    },
    {
     "data": {
      "text/plain": [
       "Spark Web UI available at http://172.17.0.2:4040\n",
       "SparkContext available as 'sc' (version = 2.2.0, master = local[*], app id = local-1515515814515)\n",
       "SparkSession available as 'spark'\n"
      ]
     },
     "metadata": {},
     "output_type": "display_data"
    },
    {
     "data": {
      "text/plain": [
       "defined object Demo\n",
       "res0: Demo.type = Demo$@6c2c6999\n"
      ]
     },
     "execution_count": 1,
     "metadata": {},
     "output_type": "execute_result"
    }
   ],
   "source": [
    "object Demo {\n",
    "    lazy val x = { println(\"initializing x\"); \"done\" }  // If we delete 'lazy' it will be evaluated when the object is created\n",
    "}\n",
    "Demo"
   ]
  },
  {
   "cell_type": "markdown",
   "metadata": {
    "collapsed": true
   },
   "source": [
    "<table align=\"left\" style=\"border-collapse: collapse; border: none !important; width: 100%;\">\n",
    "    <tr style=\"border:none !important;\">\n",
    "        <td style=\"border:none !important; width: 60px;\">\n",
    "<img src=\"icons/notepad.png\" align=\"left\" width=\"50px\"> \n",
    "        </td>\n",
    "        <td style=\"border:none !important;text-align:left;\">\n",
    "            <ul>\n",
    "                <li> The same result can be achieved using `def` (without parameters) instead of `lazy val`. The difference is that the later is evaluated just once and the result is stored inside the variable, while using `def` the expression is evaluated anytime it is needed.</li>\n",
    "            </ul>\n",
    "        </td>\n",
    "    </tr>\n",
    "</table>"
   ]
  },
  {
   "cell_type": "markdown",
   "metadata": {},
   "source": [
    "<a name=\"subseccion-Tail recursion\"></a>\n",
    "## Tail recursion\n",
    "\n",
    "An iterative function can be defined usually with a loop in an imperative language or with a recursive function in a functional language. Although, in general, the later is shorter and simpler, it is usually branded as less efficient because it stacks the recursive calls in running time. Nevertheless, Scala compiler can perform some optimizations to this recursive schema if it is a tail recursion (if the last sentence in the recursive function is the recursive call to itself). In this way we can get the best of both approaches,\n",
    "\n",
    "In the following example we can see two versions of a recursive function that throws an exception at the end of a countdown. It is implemented with and without tail recursion. The message printed out by the exception gives a clue about the differences between both versions. In the tail recursive function it appears to be just one recursive call, actually the compiler has optimized the code in order to use the same space in the execution stack."
   ]
  },
  {
   "cell_type": "code",
   "execution_count": 5,
   "metadata": {},
   "outputs": [
    {
     "ename": "java.lang.Exception",
     "evalue": " boom!",
     "output_type": "error",
     "traceback": [
      "java.lang.Exception: boom!",
      "  at boom(<console>:25)",
      "  at boom(<console>:26)",
      "  at boom(<console>:26)",
      "  at boom(<console>:26)",
      "  ... 37 elided",
      ""
     ]
    }
   ],
   "source": [
    "def boom(x: Int): Int =                       // This IS NOT a tail recursive function\n",
    "    if (x == 0) throw new Exception(\"boom!\")\n",
    "    else boom(x - 1) + 1\n",
    "\n",
    "boom(3)"
   ]
  },
  {
   "cell_type": "code",
   "execution_count": 4,
   "metadata": {},
   "outputs": [
    {
     "ename": "java.lang.Exception",
     "evalue": " bang!",
     "output_type": "error",
     "traceback": [
      "java.lang.Exception: bang!",
      "  at bang(<console>:25)",
      "  at bang(<console>:26)",
      "  at bang(<console>:26)",
      "  at bang(<console>:26)",
      "  ... 37 elided",
      ""
     ]
    }
   ],
   "source": [
    "def bang(x: Int): Int =                       // This IS a tail recursive function\n",
    "    if (x == 0) throw new Exception(\"bang!\")\n",
    "    else bang(x - 1)\n",
    "\n",
    "bang(3)"
   ]
  },
  {
   "cell_type": "markdown",
   "metadata": {
    "collapsed": true
   },
   "source": [
    "<table align=\"left\" style=\"border-collapse: collapse; border: none !important; width: 100%;\">\n",
    "    <tr style=\"border:none !important;\">\n",
    "        <td style=\"border:none !important; width: 60px;\">\n",
    "<img src=\"icons/notepad.png\" align=\"left\" width=\"50px\"> \n",
    "        </td>\n",
    "        <td style=\"border:none !important;text-align:left;\">\n",
    "            <ul>\n",
    "                <li>Scala only optimizes tail recursive calls when the called function is the same function that makes the call</li>\n",
    "            </ul>\n",
    "        </td>\n",
    "    </tr>\n",
    "</table>"
   ]
  },
  {
   "cell_type": "markdown",
   "metadata": {},
   "source": [
    "<a name=\"subseccion-Companion `object`\"></a>\n",
    "## Companion `object`\n",
    "\n",
    "If there is an `object` with the same name of a `class`, this 'singleton' object is attached to the class in a particular way, forming both of them a 'couple' ('companion object' and 'companion class', respectively). Both (the class and the object) must be defined in the same source file and have access to the private members of each other.\n",
    "\n",
    "For example, apart from class `List`, there is also a `List` object, offering some interesting methods, like:\n",
    "* `List.apply` creates a List with `List.apply(1, 2, 3)` and, hence, with `List(1, 2, 3)`.\n",
    "* `List.range(i, j)` returns a list of numbers from `i` to `j-1` (we could use a third parameter to set the increment).\n",
    "* `List.fill(n)(elem)` returns a list with `elem` repeated `n` times.\n",
    "* `List.concat(lista1, ..., listaN)` returns a list form by the concatenation of the elements in all the lists passed as parameters.\n",
    "\n",
    "We could do the same with our types, for example with a functional implementation of Queue, like the example below. Since the functions applied to the beginning of a list are more efficient than those applied to the end of the list, an efficient implementation of Queue can be achieved by representing the queue using two lists: one for the beginning of the queue and the other for the end of the queue reversed."
   ]
  },
  {
   "cell_type": "code",
   "execution_count": 3,
   "metadata": {},
   "outputs": [
    {
     "data": {
      "text/plain": [
       "defined class MyQueue\n",
       "defined object MyQueue\n",
       "myFunctionalQueue: MyQueue[Int] = List(1, 2, 3)\n",
       "res1: MyQueue[Int] = List(1, 2, 3, 4)\n"
      ]
     },
     "execution_count": 3,
     "metadata": {},
     "output_type": "execute_result"
    }
   ],
   "source": [
    "// 'private' before the list of parameters hides the constructor of the class \n",
    "// (the user won't know that two lists are used in this implementation)\n",
    "class MyQueue[T] private (private val leading: List[T], private val trailing: List[T]) {\n",
    "    // This method builds the queue, only when required\n",
    "    private def mirror =\n",
    "        if (leading.isEmpty) new MyQueue(trailing.reverse, Nil)\n",
    "        else this\n",
    "\n",
    "    def head = mirror.leading.head\n",
    "    def tail = {\n",
    "        val q = mirror\n",
    "        new MyQueue(q.leading.tail, q.trailing)\n",
    "    }\n",
    "    def append(x: T) = new MyQueue(leading, x :: trailing)\n",
    "    override def toString = (leading ::: trailing.reverse).toString\n",
    "}\n",
    "\n",
    "object MyQueue {\n",
    "    // constructs a queue with the elements contained in it\n",
    "    def apply[T](xs: T*) = new MyQueue[T](xs.toList, Nil)\n",
    "}\n",
    "\n",
    "val myFunctionalQueue = MyQueue(1, 2, 3)\n",
    "myFunctionalQueue.head\n",
    "myFunctionalQueue.tail\n",
    "myFunctionalQueue.append(4)"
   ]
  },
  {
   "cell_type": "markdown",
   "metadata": {
    "collapsed": true
   },
   "source": [
    "<table align=\"left\" style=\"border-collapse: collapse; border: none !important; width: 100%;\">\n",
    "    <tr style=\"border:none !important;\">\n",
    "        <td style=\"border:none !important; width: 60px;\">\n",
    "<img src=\"icons/notepad.png\" align=\"left\" width=\"50px\"> \n",
    "        </td>\n",
    "        <td style=\"border:none !important;text-align:left;\">\n",
    "            <ul>\n",
    "                <li>We could define other constructors for the class, given that the default one has been hidden:</li>\n",
    "                <ul>\n",
    "                    <li>`def this() = this(Nil, Nil)`</li>\n",
    "                    <li>`def this(elems: T*) = this(elems.toList, Nil)`</li>\n",
    "                </ul>\n",
    "            </ul>\n",
    "        </td>\n",
    "    </tr>\n",
    "</table>"
   ]
  },
  {
   "cell_type": "markdown",
   "metadata": {},
   "source": [
    "Let's see another example using a 'companion object' to store a cache in order to save time (and maybe waste space) if the class has a method with a complex an expensive computation. In this case we defined the class `ChecksumAccumulator` that stores the sum of a sequence of bytes in order to compute the checksum for that sequence through the function `checksum`. Having just the class, if we need the checksum of a given string many times, we should create many instances of the class and call the method `checksum` in each instance, with the consequent waste of time. With a 'companion object', we store a map formed by the pairs 'string -> checksum' already processed, providing a method `calculate` that checks whether the checksum has been computed previously, so we can avoid the creation of a new instance of the class and to call method `checksum` if it is not necessary."
   ]
  },
  {
   "cell_type": "code",
   "execution_count": 8,
   "metadata": {},
   "outputs": [
    {
     "data": {
      "text/plain": [
       "defined class ChecksumAccumulator\n",
       "import scala.collection.mutable\n",
       "defined object ChecksumAccumulator\n",
       "res7: Int = -232\n"
      ]
     },
     "execution_count": 8,
     "metadata": {},
     "output_type": "execute_result"
    }
   ],
   "source": [
    "class ChecksumAccumulator {\n",
    "    private var sum = 0 \n",
    "    def add(b: Byte) { sum += b } \n",
    "    def checksum(): Int = ~(sum & 0xFF) + 1\n",
    "}\n",
    "\n",
    "import scala.collection.mutable\n",
    "\n",
    "object ChecksumAccumulator {\n",
    "    private val cache = mutable.Map[String, Int]()\n",
    "    \n",
    "    def calculate(s: String): Int = {\n",
    "        if (cache.contains(s)){\n",
    "            cache(s)\n",
    "        } else {\n",
    "            val acc = new ChecksumAccumulator\n",
    "            for (c <- s)\n",
    "                acc.add(c.toByte)\n",
    "            val cs = acc.checksum()\n",
    "            cache += (s -> cs)\n",
    "            cs\n",
    "        }\n",
    "    }\n",
    "}\n",
    "\n",
    "ChecksumAccumulator.calculate(\"Hola mundo!\")  // The checksum for the strng is computed and returned\n",
    "ChecksumAccumulator.calculate(\"Hola mundo!\")  // The checksum stored in the cache is returned"
   ]
  },
  {
   "cell_type": "markdown",
   "metadata": {},
   "source": [
    "<table align=\"left\" style=\"border-collapse: collapse; border: none !important; width: 100%;\">\n",
    "    <tr style=\"border:none !important;\">\n",
    "        <td style=\"border:none !important; width: 60px;\">\n",
    "<img src=\"icons/optimizar.png\" align=\"left\" width=\"50px\"> \n",
    "        </td>\n",
    "        <td style=\"border:none !important;text-align:left;\">\n",
    "            <ul>\n",
    "                <li>This example creates a very simple cache, we usually use a `scala.collection.jcl.WeakHashMap` that automatically frees memory when needed</li>\n",
    "            </ul>\n",
    "        </td>\n",
    "    </tr>\n",
    "</table>"
   ]
  },
  {
   "cell_type": "markdown",
   "metadata": {
    "collapsed": true
   },
   "source": [
    "<table align=\"left\" style=\"border-collapse: collapse; border: none !important; width: 100%;\">\n",
    "    <tr style=\"border:none !important;\">\n",
    "        <td style=\"border:none !important; width: 60px;\">\n",
    "<img src=\"icons/notepad.png\" align=\"left\" width=\"50px\"> \n",
    "        </td>\n",
    "        <td style=\"border:none !important;text-align:left;\">\n",
    "            <ul>\n",
    "                <li>An `object` '`X`' does NOT define a type by itself. So we cannot create a variableof type '`X`' (the type is defined by its 'companion class')</li>\n",
    "            </ul>\n",
    "        </td>\n",
    "    </tr>\n",
    "</table>"
   ]
  },
  {
   "cell_type": "markdown",
   "metadata": {},
   "source": [
    "<a name=\"subseccion-Covariant and contravariant types\"></a>\n",
    "## Covariant and contravariant types\n",
    "\n",
    "\n",
    "Type `List` is covariant, which means that given a type `S`, subtype of `T`, then `List[S]` is a subtype of `List[T]`. Examples:\n",
    "\n",
    "* `List[String]` is a subtype of `List[Object]`\n",
    "* `List()` has type `List[Nothing]` and, hence, is a subtype of `List[T]`, for any `T`. This is the erason why `val xs: list[String] = List()` is correct.\n",
    "\n",
    "Types built using the implementation of `MyQueue` (seen previously) are **not** covariant, so we cannot use a `MyQueue[String]` where a `MyQueue[AnyRef]` is expected."
   ]
  },
  {
   "cell_type": "code",
   "execution_count": 8,
   "metadata": {},
   "outputs": [
    {
     "ename": "<console>",
     "evalue": "28: error: reference to MyQueue is ambiguous;",
     "output_type": "error",
     "traceback": [
      "<console>:28: error: reference to MyQueue is ambiguous;",
      "it is imported twice in the same scope by",
      "import $line12$read.MyQueue",
      "and import INSTANCE.MyQueue",
      "       val q1 = MyQueue(\"Hola\", \"Mundo\")",
      "                ^",
      "<console>:29: error: reference to MyQueue is ambiguous;",
      "it is imported twice in the same scope by",
      "import $line12$read.MyQueue",
      "and import INSTANCE.MyQueue",
      "       var q2: MyQueue[AnyRef] = q1",
      "               ^",
      ""
     ]
    }
   ],
   "source": [
    "val q1 = MyQueue(\"Hola\", \"Mundo\")\n",
    "var q2: MyQueue[AnyRef] = q1"
   ]
  },
  {
   "cell_type": "markdown",
   "metadata": {},
   "source": [
    "We can transform our class `MyQueue` into a covariant type using `+` next to the generic type, as we can see below, but the compiler will return an error, stating that a covariant type appears where a contravariant type is expected. Let us think it carefully: if we define our class as covariant, we could do something like:\n",
    "\n",
    "<table align=\"middle\" style=\"border-collapse: collapse; border: none !important; width: 60%;\">\n",
    "    <tr style=\"border:none !important;\">\n",
    "        <td style=\"border:none !important; text-align:left\">\n",
    "&nbsp;&nbsp;&nbsp;&nbsp;val q1 = MyQueue(\"abc\")<br>\n",
    "&nbsp;&nbsp;&nbsp;&nbsp;val q2: MyQueue[AnyRef] = q1<br>\n",
    "&nbsp;&nbsp;&nbsp;&nbsp;q2.append(List(1, 2, 3))<br>\n",
    "        </td>\n",
    "    </tr>\n",
    "</table>\n"
   ]
  },
  {
   "cell_type": "code",
   "execution_count": 5,
   "metadata": {},
   "outputs": [
    {
     "ename": "<console>",
     "evalue": "24: error: covariant type T occurs in contravariant position in type T of value x",
     "output_type": "error",
     "traceback": [
      "<console>:24: error: covariant type T occurs in contravariant position in type T of value x",
      "           def append(x: T) = new MyQueue(leading, x :: trailing)",
      "                      ^",
      ""
     ]
    }
   ],
   "source": [
    "class MyQueue[+T] private (private val leading: List[T], private val trailing: List[T]) {\n",
    "    // This method builds the queue, only when required\n",
    "    private def mirror =\n",
    "        if (leading.isEmpty) new MyQueue(trailing.reverse, Nil)\n",
    "        else this\n",
    "\n",
    "    def head = mirror.leading.head\n",
    "    def tail = {\n",
    "        val q = mirror\n",
    "        new MyQueue(q.leading.tail, q.trailing)\n",
    "    }\n",
    "    def append(x: T) = new MyQueue(leading, x :: trailing)\n",
    "    override def toString = (leading ::: trailing.reverse).toString\n",
    "}\n",
    "\n",
    "object MyQueue {\n",
    "    // constructs a queue with the elements contained in it\n",
    "    def apply[T](xs: T*) = new MyQueue[T](xs.toList, Nil)\n",
    "}\n"
   ]
  },
  {
   "cell_type": "markdown",
   "metadata": {},
   "source": [
    "We can solve this problem by assigning a type to method `append`. This type must be a supertype of T, which means that we are establishing a 'lower bound' of the type, using `U >: T`."
   ]
  },
  {
   "cell_type": "code",
   "execution_count": 9,
   "metadata": {},
   "outputs": [
    {
     "data": {
      "text/plain": [
       "defined class MyQueue\n",
       "defined object MyQueue\n",
       "q1: MyQueue[String] = List(Hola, Mundo)\n",
       "q2: MyQueue[AnyRef] = List(Hola, Mundo)\n"
      ]
     },
     "execution_count": 9,
     "metadata": {},
     "output_type": "execute_result"
    }
   ],
   "source": [
    "class MyQueue[+T] private (private val leading: List[T], private val trailing: List[T]) {\n",
    "    // This method builds the queue, only when required\n",
    "    private def mirror =\n",
    "        if (leading.isEmpty) new MyQueue(trailing.reverse, Nil)\n",
    "        else this\n",
    "\n",
    "    def head = mirror.leading.head\n",
    "    def tail = {\n",
    "        val q = mirror\n",
    "        new MyQueue(q.leading.tail, q.trailing)\n",
    "    }\n",
    "    def append[U >: T](x: U) = new MyQueue[U](leading, x :: trailing)\n",
    "    override def toString = (leading ::: trailing.reverse).toString\n",
    "}\n",
    "\n",
    "object MyQueue {\n",
    "    // constructs a queue with the elements contained in it\n",
    "    def apply[T](xs: T*) = new MyQueue[T](xs.toList, Nil)\n",
    "}\n",
    "\n",
    "val q1 = MyQueue(\"Hola\", \"Mundo\")\n",
    "var q2: MyQueue[AnyRef] = q1"
   ]
  },
  {
   "cell_type": "markdown",
   "metadata": {
    "collapsed": true
   },
   "source": [
    "<table align=\"left\" style=\"border-collapse: collapse; border: none !important; width: 100%;\">\n",
    "    <tr style=\"border:none !important;\">\n",
    "        <td style=\"border:none !important; width: 60px;\">\n",
    "<img src=\"icons/notepad.png\" align=\"left\" width=\"50px\"> \n",
    "        </td>\n",
    "        <td style=\"border:none !important;text-align:left;\">\n",
    "            <ul>\n",
    "                <li>Scala also offers the functionality for `[-T]` instead of `[+T]` or `[U <: T]` instead of `[U >: T]`, but the details of these notations are out of the scope of this notebook.</li>\n",
    "            </ul>\n",
    "        </td>\n",
    "    </tr>\n",
    "</table>"
   ]
  },
  {
   "cell_type": "markdown",
   "metadata": {},
   "source": [
    "<a name=\"subseccion-Implicit conversions\"></a>\n",
    "## Implicit conversions\n",
    "\n",
    "\n",
    "Previously on this notebook we studied an implementation of rational numbers and their operators, such as `+` to perform the sum of rational numbers. It should be easy now to override this operator in order to sum an integer to a rational. \n",
    "\n",
    "The idea is to enable operations like: (1/2 + 3/4) and (1/2 + 3), but what will happen if we want to reverse the operands? (3 + 1/2)"
   ]
  },
  {
   "cell_type": "code",
   "execution_count": 17,
   "metadata": {},
   "outputs": [
    {
     "data": {
      "text/plain": [
       "defined class Rational6\n"
      ]
     },
     "execution_count": 17,
     "metadata": {},
     "output_type": "execute_result"
    }
   ],
   "source": [
    "class Rational6(val n: Int, val d: Int){\n",
    "    require(d != 0)\n",
    "    def this(n: Int) = this(n, 1)\n",
    "    override def toString = n+\"/\"+d\n",
    "    \n",
    "    def +(otro: Rational6): Rational6 = \n",
    "        new Rational6(\n",
    "            n * otro.d + otro.n * d,\n",
    "            d * otro.d\n",
    "        )\n",
    "    \n",
    "    def +(otro: Int): Rational6 = \n",
    "        new Rational6(\n",
    "            n + otro * d,\n",
    "            d\n",
    "    )\n",
    "}\n",
    "new Rational6(1, 2) + 3\n",
    "3 + new Rational6(1, 2)"
   ]
  },
  {
   "cell_type": "markdown",
   "metadata": {},
   "source": [
    "The error is caused because Int type do not have an operator that receives a rational number as parameter. This is a typical case to introduce implicit conversions from `Int` to `Rational`, in such way that the sum could be carried out."
   ]
  },
  {
   "cell_type": "code",
   "execution_count": 18,
   "metadata": {},
   "outputs": [
    {
     "data": {
      "text/plain": [
       "warning: there was one feature warning; re-run with -feature for details\n",
       "intToRational: (x: Int)Rational6\n",
       "res10: Rational6 = 7/2\n"
      ]
     },
     "execution_count": 18,
     "metadata": {},
     "output_type": "execute_result"
    }
   ],
   "source": [
    "implicit def intToRational(x: Int) = new Rational6(x)\n",
    "3 + new Rational6(1, 2)"
   ]
  },
  {
   "cell_type": "markdown",
   "metadata": {},
   "source": [
    "<table align=\"left\" style=\"border-collapse: collapse; border: none !important; width: 100%;\">\n",
    "    <tr style=\"border:none !important;\">\n",
    "        <td style=\"border:none !important; width: 60px;\">\n",
    "<img src=\"icons/warning.png\" align=\"left\" width=\"50px\"> \n",
    "        </td>\n",
    "        <td style=\"border:none !important; text-align:left\">\n",
    "            <ul>\n",
    "                <li>To apply the implicit conversion, it must be accessible from the code where it is needed</li>\n",
    "            </ul>\n",
    "        </td>\n",
    "    </tr>\n",
    "</table>"
   ]
  },
  {
   "cell_type": "markdown",
   "metadata": {},
   "source": [
    "There are 'enriched' versions of basic types (`Byte`, `Short`, `Int`, `Char`, `String`, `Float`, `Double`, `Boolean`) that allow us to perform many more operations with them. For example, with the implicit conversion from `String` to `RichString` we can apply sequence operators on a String (taken as a sequence of characters). "
   ]
  },
  {
   "cell_type": "code",
   "execution_count": 19,
   "metadata": {},
   "outputs": [
    {
     "data": {
      "text/plain": [
       "tieneMay: (s: String)Boolean\n",
       "res11: Boolean = true\n"
      ]
     },
     "execution_count": 19,
     "metadata": {},
     "output_type": "execute_result"
    }
   ],
   "source": [
    "def tieneMay(s: String) = s.exists(_.isUpper)\n",
    "tieneMay(\"hola mundo\")\n",
    "tieneMay(\"Hola Mundo\")"
   ]
  },
  {
   "cell_type": "markdown",
   "metadata": {},
   "source": [
    "In general, we must observe a set of rules in order to correctly define and apply implicit conversions:\n",
    "\n",
    "* Only those conversions tagged as `implicit` are applied, because it would be a mess if we could do the conversion using any method.\n",
    "* The conversion must be located into the scope and use a unique identificator, so Scala libraries usually have an object called `Preamble` that contains the conversions and use them easily by importing it, `import Preamble._`. There is an exception to this rule: the compiler searches the conversion also into the companion objects of the expected types. For example, we can define an implicit conversion `dollarToEuro` inside the companion object `Dollar`.\n",
    "* An implicit conversion is applied **only** if it is the only available one. If there are more than one available conversions, the compiler should choose one of them and it would be hard to debug possible errors.\n",
    "* Compiler applies conversions one by one, it does **not** solve nested conversions.\n",
    "* If the code works as it is, the compiler does **not** try to apply any conversions.\n",
    "* The name given to a conversion is useful just to import and use them (for example, if we want to import some conversions and no others)\n",
    "* Conversions are applied in three cases:\n",
    "  * Implicit conversion to an expected type. I.e.: `val x:Int = 3.5` if conversion `intToDouble` is defined\n",
    "  * Conversions of the receiver of a selection. I.e.: `\"abc\".exists`\n",
    "  * Implicit parameters. I.e.: `def greet(name: String)(implicit prompt: PreferredPrompt)` if an `implicit val` is defined with type `PreferredPrompt`"
   ]
  },
  {
   "cell_type": "markdown",
   "metadata": {
    "collapsed": true
   },
   "source": [
    "<table align=\"left\" style=\"border-collapse: collapse; border: none !important; width: 100%;\">\n",
    "    <tr style=\"border:none !important;\">\n",
    "        <td style=\"border:none !important; width: 60px;\">\n",
    "<img src=\"icons/notepad.png\" align=\"left\" width=\"50px\"> \n",
    "        </td>\n",
    "        <td style=\"border:none !important;text-align:left;\">\n",
    "            <ul>\n",
    "                <li> Implicit conversions allow us to extend the functionality of third party libraries, that we have to use them as they are without modifying them.</li>\n",
    "            </ul>\n",
    "        </td>\n",
    "    </tr>\n",
    "</table>"
   ]
  },
  {
   "cell_type": "markdown",
   "metadata": {},
   "source": [
    "<a name=\"subseccion-Pattern matching and `case` classes\"></a>\n",
    "## Pattern matching and `case` classes\n",
    "\n",
    "\n",
    "Pattern matching is a key tool in Scala for the processing of recursive data structures (specially tree structures), among other things. Pattern matching can be seen as a generalization of 'switch' clause of other programming languages, in such way that it checks an expression against a number of patterns and decides which way to take next, depending on the pattern matched. But pattern matching in Scala is much more powerful than that, because it includes new pattern types.\n",
    "\n",
    "In the case of lists, for example, we can create functions that decides what must be done depending on the structure of the list, checking whether it is an empty list, or it contains just one element, or if the first element is equal to '1', etc. In the example below, we can see the use of `match` clause to set the expression to be matched with the patterns, which are preceded by `case`. Finally, we use the arrow `=>` to separate the pattern from the expressions to be executed in case of a matching. Pattern `_` serves as wild-card, and symbol `*` indicates a sequence of elements (possibly empty). Anyway, we will review more pattern types later.\n",
    "\n",
    "The order of the patterns is relevant, as we can see in the example, calling `analizaLista(List(1))`, because it matches two patterns. For this reason, we must put first the patterns from the most concrete to the most generic ones."
   ]
  },
  {
   "cell_type": "code",
   "execution_count": 8,
   "metadata": {},
   "outputs": [
    {
     "name": "stdout",
     "output_type": "stream",
     "text": [
      "It's empty\n",
      "It has just one element (1)\n",
      "Starts by one\n",
      "Ohter case\n"
     ]
    },
    {
     "data": {
      "text/plain": [
       "analizaLista: (lista: List[Int])String\n"
      ]
     },
     "execution_count": 8,
     "metadata": {},
     "output_type": "execute_result"
    }
   ],
   "source": [
    "def analizaLista(lista: List[Int]): String = {\n",
    "    lista match {\n",
    "        case Nil => \"It's empty\"\n",
    "        case List(e) => \"It has just one element (\"+e+\")\"    // It could be also written like 'case e :: Nil =>'\n",
    "        case List(1, _*) => \"Starts by one\"                  // It could be also written like'case 1 :: resto =>'\n",
    "        case _ => \"Ohter case\"\n",
    "    }\n",
    "}\n",
    "\n",
    "println(analizaLista(Nil))\n",
    "println(analizaLista(List(1)))\n",
    "println(analizaLista(List(1, 2, 3)))\n",
    "println(analizaLista(List(2, 3)))"
   ]
  },
  {
   "cell_type": "markdown",
   "metadata": {
    "collapsed": true
   },
   "source": [
    "<table align=\"left\" style=\"border-collapse: collapse; border: none !important; width: 100%;\">\n",
    "    <tr style=\"border:none !important;\">\n",
    "        <td style=\"border:none !important; width: 60px;\">\n",
    "<img src=\"icons/notepad.png\" align=\"left\" width=\"50px\"> \n",
    "        </td>\n",
    "        <td style=\"border:none !important;text-align:left;\">\n",
    "            <ul>\n",
    "                <li>The patterns for `List` in the example work because an 'extractor' has been previously defined (we will study them later)</li>\n",
    "                <li>The pattern `x :: xs` works because, apart from being an operator of `List`, there is in Scala a class `scala.::`, so the pattern is interpreted as `::(x, xs)`</li>\n",
    "            </ul>\n",
    "        </td>\n",
    "    </tr>\n",
    "</table>"
   ]
  },
  {
   "cell_type": "markdown",
   "metadata": {},
   "source": [
    "In Scala, we dan define our own `case classes` to be used in a pattern matching structure. A common case is the analysis of arithmetic expressions, that can be variables, binary operations, etc. In the example below, we show the use of `case classes` (one for each type of arithmetic expressions) for pattern matching.\n",
    "\n",
    "When we define these classes as `case class`, we must take into account that:\n",
    "\n",
    "* A factory is automatically created, in order to build objects of the class without writting `new`, i.e. `val v = Var(\"x\")` instead of `val v = new Var(\"x\")`,... (just as we did with `List`). Since we can avoid the `new`s, it is easier to define nested expressions, like in `val op = BinOp(\"+\", Number(1), v)`.\n",
    "\n",
    "* The parameters of the case classes are declared as `val` so they are the fields of the classes.\n",
    "\n",
    "* The compiler automatically adds simple implementations for the methods `toString`, `hashCode` and `equals`."
   ]
  },
  {
   "cell_type": "code",
   "execution_count": 10,
   "metadata": {},
   "outputs": [
    {
     "name": "stdout",
     "output_type": "stream",
     "text": [
      "x\n",
      "BinOp(+,Number(1.0),Var(x))\n"
     ]
    },
    {
     "data": {
      "text/plain": [
       "defined class Expr\n",
       "defined class Var\n",
       "defined class Number\n",
       "defined class UnOp\n",
       "defined class BinOp\n",
       "v: Var = Var(x)\n",
       "op: BinOp = BinOp(+,Number(1.0),Var(x))\n",
       "res8: Boolean = true\n"
      ]
     },
     "execution_count": 10,
     "metadata": {},
     "output_type": "execute_result"
    }
   ],
   "source": [
    "abstract class Expr\n",
    "case class Var(name: String) extends Expr\n",
    "case class Number(num: Double) extends Expr\n",
    "case class UnOp(operator: String, arg: Expr) extends Expr\n",
    "case class BinOp(operator: String, left: Expr, right: Expr) extends Expr\n",
    "\n",
    "val v = Var(\"x\")                       // 'new' is not necessary\n",
    "println(v.name)                        // The parameters are defined as 'val'\n",
    "val op = BinOp(\"+\", Number(1), v)      // Easy to define nested expressions\n",
    "println(op)                            // There is an implementation for 'toString'...\n",
    "op.right == Var(\"x\")                   // ... and 'equals'"
   ]
  },
  {
   "cell_type": "markdown",
   "metadata": {},
   "source": [
    "Let's assume that we need to carry out some simplifications to arithmetics expressions. In this example we see some pattern types:\n",
    "\n",
    "* constants: like `\"+\"`, where will match any value equal to that, according to `==`\n",
    "* variables: like `e` used to match any value, and then use it in the pattern expressions \n",
    "* wild card : `_`, matches any value, but it cannot be recovered to use it, it can be nested (i.e. `UnOp(\"-\",_)`)\n",
    "* constructors: like `UnOp(\"-\",e)`, similar to the constructor of the class, although its parameters are patterns as well"
   ]
  },
  {
   "cell_type": "code",
   "execution_count": 12,
   "metadata": {},
   "outputs": [
    {
     "data": {
      "text/plain": [
       "simplifyTop: (expr: Expr)Expr\n",
       "res10: Expr = BinOp(+,Number(0.0),Var(x))\n"
      ]
     },
     "execution_count": 12,
     "metadata": {},
     "output_type": "execute_result"
    }
   ],
   "source": [
    "def simplifyTop(expr: Expr): Expr = expr match {\n",
    "    case UnOp(\"-\", UnOp(\"-\",e)) => e               // doble negation\n",
    "    case BinOp(\"+\", e, Number(0)) => e             // sum zero\n",
    "    case BinOp(\"*\", e, Number(1)) => e             // multiply by one\n",
    "    case _ => expr\n",
    "}\n",
    "\n",
    "simplifyTop(UnOp(\"-\", UnOp(\"-\", Var(\"x\"))))\n",
    "simplifyTop(UnOp(\"-\", UnOp(\"-\", BinOp(\"+\", Number(0), Var(\"x\")))))  // It just simplifies the upmost level"
   ]
  },
  {
   "cell_type": "markdown",
   "metadata": {
    "collapsed": true
   },
   "source": [
    "<table align=\"left\" style=\"border-collapse: collapse; border: none !important; width: 100%;\">\n",
    "    <tr style=\"border:none !important;\">\n",
    "        <td style=\"border:none !important; width: 60px;\">\n",
    "<img src=\"icons/notepad.png\" align=\"left\" width=\"50px\"> \n",
    "        </td>\n",
    "        <td style=\"border:none !important;text-align:left;\">\n",
    "            <ul>\n",
    "                <li>Differences with Java's `switch`:\n",
    "                    <ul><li> `match` is an expression</li>\n",
    "                        <li> It does **not** need a `break`</li> \n",
    "                        <li> If there is no match with some of its patterns, a `MatchError` exception is thrown</li>\n",
    "                        <li> We can use many types of patterns, not only constants</li>\n",
    "                    </ul>\n",
    "                </li>\n",
    "                <!--\n",
    "                <li>Si tenemos constantes en nuestro código con el mismo nombre que la variable que usamos en un patrón puede haber confusión sobre si se está cogiendo el valor de la constante o no, y en Scala se resuelve cogiendo la constante si empieza por mayúscula o la escribimos entre comillas simples ``</li>\n",
    "                -->\n",
    "            </ul>\n",
    "        </td>\n",
    "    </tr>\n",
    "</table>"
   ]
  },
  {
   "cell_type": "markdown",
   "metadata": {},
   "source": [
    "There are more types of patterns, such as:\n",
    "* sequences : `_*` represents a number of elements in a sequence, even zero (i.e.: `List(1, _*)`)\n",
    "* tuples : with a pattern like `(a, b, c)` we can match any tuple with 3 elements\n",
    "* types : a pattern like `case s: String =>` or `case m: Map[_,_] =>` we can match the type of the expression\n",
    "* assignment : with `<variable> @ <patrón>` we can match the pattern and then assign the variable to retrieve the value "
   ]
  },
  {
   "cell_type": "code",
   "execution_count": 14,
   "metadata": {},
   "outputs": [
    {
     "name": "stdout",
     "output_type": "stream",
     "text": [
      "It's a list starting by 1\n",
      "It's a String (with a length of 4)\n",
      "It's a tuple with three elements\n",
      "It's an application of 'abs' on a negation: UnOp(-,Number(1.0))\n"
     ]
    },
    {
     "data": {
      "text/plain": [
       "analizandoPatrones: (x: Any)String\n"
      ]
     },
     "execution_count": 14,
     "metadata": {},
     "output_type": "execute_result"
    }
   ],
   "source": [
    "def analizandoPatrones(x: Any) = x match {\n",
    "    case List(1, _*) => \"It's a list starting by 1\"\n",
    "    case (a, b, c) => \"It's a tuple with three elements\"\n",
    "    case s: String => \"It's a String (with a length of \"+s.length+\")\" // Note that x.length is not correct, cause it's type Any\n",
    "    case UnOp(\"abs\", e @ UnOp(\"-\", _)) => \"It's an application of 'abs' on a negation: \"+e\n",
    "    case _ => \"I don't know what it is!\"\n",
    "}\n",
    "println(analizandoPatrones(List(1)))\n",
    "println(analizandoPatrones(\"hola\"))\n",
    "println(analizandoPatrones((\"hola\", 10, List(1))))\n",
    "println(analizandoPatrones(UnOp(\"abs\", UnOp(\"-\", Number(1)))))"
   ]
  },
  {
   "cell_type": "markdown",
   "metadata": {
    "collapsed": true
   },
   "source": [
    "<table align=\"left\" style=\"border-collapse: collapse; border: none !important; width: 100%;\">\n",
    "    <tr style=\"border:none !important;\">\n",
    "        <td style=\"border:none !important; width: 60px;\">\n",
    "<img src=\"icons/notepad.png\" align=\"left\" width=\"50px\"> \n",
    "        </td>\n",
    "        <td style=\"border:none !important;text-align:left;\">\n",
    "            <ul>\n",
    "                <li>It is not possible to determine through a pattern if, for example, an expression is a amp from Int to Int (`case m: Map[Int, Int]`). Scala can just see if m is a map.</li>\n",
    "            </ul>\n",
    "        </td>\n",
    "    </tr>\n",
    "</table>"
   ]
  },
  {
   "cell_type": "markdown",
   "metadata": {},
   "source": [
    "Sometimes a pattern is not enough to express a complex condition, it can be overcome by using `if <condition>` between the pattern and the arrow `=>`."
   ]
  },
  {
   "cell_type": "code",
   "execution_count": 20,
   "metadata": {},
   "outputs": [
    {
     "data": {
      "text/plain": [
       "analizandoPatronesCondicionados: (x: Any)Any\n"
      ]
     },
     "execution_count": 20,
     "metadata": {},
     "output_type": "execute_result"
    }
   ],
   "source": [
    "def analizandoPatronesCondicionados(x: Any) = x match {\n",
    "    case n: Int if 0 < n => \"It is positive\"\n",
    "    case s: String if s(0) == 'a' => \"It starts by 'a'\" \n",
    "    case _ =>\n",
    "}"
   ]
  },
  {
   "cell_type": "markdown",
   "metadata": {},
   "source": [
    "In the previous example, pattern `case _` is necessary in order to tackle all the cases. Remember that a `MatchError` exception is thrown whenever an expression does not match any pattern. We can write, for example, `case _ =>` if we do not want to treat those cases, so `match` will return a type `Unit`.\n",
    "\n",
    "Supose that we do not use `case _` pattern, because we are covering all possible cases of arithmetic expressions in our pattern-matching structure. In that case, someone could define a new type of arithmetic expression in a different module, in such way that our pattern-matching structure will cause errors. To overcome this problem, Scala allows us to \"seal\" those classes that are supertypes of our case classes, in order to tell the compiler to prevent the creation of new case classes outside this file.\n",
    "\n",
    "Regarding our example with arithmetic expressions, we can seal the class `Expr` by preceding it with `sealed` (`sealed abstract class Expr`). In addition, since the compiler already knows all the possible cases for an object of type  `Expr`, it could warn us when we create a match with uncovered cases."
   ]
  },
  {
   "cell_type": "code",
   "execution_count": 21,
   "metadata": {},
   "outputs": [
    {
     "data": {
      "text/plain": [
       "<console>:23: warning: match may not be exhaustive.\n",
       "It would fail on the following inputs: BinOp(_, _, _), UnOp(_, _)\n",
       "       def describe(e: Expr): String = e match {  // it will arise a compiler warning cause we aren't covering all possible cases\n",
       "                                       ^\n",
       "defined class Expr\n",
       "defined class Var\n",
       "defined class Number\n",
       "defined class UnOp\n",
       "defined class BinOp\n",
       "describe: (e: Expr)String\n"
      ]
     },
     "execution_count": 21,
     "metadata": {},
     "output_type": "execute_result"
    }
   ],
   "source": [
    "sealed abstract class Expr\n",
    "case class Var(name: String) extends Expr\n",
    "case class Number(num: Double) extends Expr\n",
    "case class UnOp(operator: String, arg: Expr) extends Expr\n",
    "case class BinOp(operator: String, left: Expr, right: Expr) extends Expr\n",
    "\n",
    "def describe(e: Expr): String = e match {  // it will arise a compiler warning cause we aren't covering all possible cases\n",
    "    case Number(_) => \"a number\"\n",
    "    case Var(_) => \"a variable\"\n",
    "}"
   ]
  },
  {
   "cell_type": "markdown",
   "metadata": {
    "collapsed": true
   },
   "source": [
    "<table align=\"left\" style=\"border-collapse: collapse; border: none !important; width: 100%;\">\n",
    "    <tr style=\"border:none !important;\">\n",
    "        <td style=\"border:none !important; width: 60px;\">\n",
    "<img src=\"icons/notepad.png\" align=\"left\" width=\"50px\"> \n",
    "        </td>\n",
    "        <td style=\"border:none !important;text-align:left;\">\n",
    "            <ul>\n",
    "                <li>If the compiler warns us because we have a sealed class and a match without covering all the cases, but we are sure that the code is correct, we could avoid the warning by writting `(e: @unchecked)` instead of just `e` before the `match` in the example</li>\n",
    "            </ul>\n",
    "        </td>\n",
    "    </tr>\n",
    "</table>"
   ]
  },
  {
   "cell_type": "markdown",
   "metadata": {},
   "source": [
    "Another utility of pattern matching is in the assignment of variables."
   ]
  },
  {
   "cell_type": "code",
   "execution_count": 22,
   "metadata": {},
   "outputs": [
    {
     "data": {
      "text/plain": [
       "myTuple: (Int, String) = (123,abc)\n",
       "n: Int = 123\n",
       "s: String = abc\n",
       "miExp: BinOp = BinOp(*,Number(5.0),Number(1.0))\n",
       "op: String = *\n",
       "left: Expr = Number(5.0)\n",
       "right: Expr = Number(1.0)\n"
      ]
     },
     "execution_count": 22,
     "metadata": {},
     "output_type": "execute_result"
    }
   ],
   "source": [
    "// Assigning variables with patterns\n",
    "val myTuple = (123, \"abc\")\n",
    "val (n, s) = myTuple\n",
    "\n",
    "val miExp = new BinOp(\"*\", Number(5), Number(1)) // It works without 'new' as well\n",
    "val BinOp(op, left, right) = miExp"
   ]
  },
  {
   "cell_type": "markdown",
   "metadata": {},
   "source": [
    "And within the generators in `for` loops, discharging those elements that do not match the pattern."
   ]
  },
  {
   "cell_type": "code",
   "execution_count": 23,
   "metadata": {},
   "outputs": [
    {
     "name": "stdout",
     "output_type": "stream",
     "text": [
      "Number(1.0)\n"
     ]
    },
    {
     "data": {
      "text/plain": [
       "results: List[Product with Serializable with Expr] = List(UnOp(-,Number(1.0)), Number(2.0), BinOp(+,Number(1.0),Var(x)))\n"
      ]
     },
     "execution_count": 23,
     "metadata": {},
     "output_type": "execute_result"
    }
   ],
   "source": [
    "val results = List(UnOp(\"-\", Number(1)), Number(2), BinOp(\"+\", Number(1), Var(\"x\")))\n",
    "for (UnOp(\"-\",e) <- results) \n",
    "    println(e)"
   ]
  },
  {
   "cell_type": "markdown",
   "metadata": {},
   "source": [
    "Finally, we can use patterns (through a sequence of `case`s in braces) wherever a function literal is expected, in order to create different entry points depending on the patterns specified."
   ]
  },
  {
   "cell_type": "code",
   "execution_count": 26,
   "metadata": {},
   "outputs": [
    {
     "name": "stdout",
     "output_type": "stream",
     "text": [
      "Str:2\n",
      "()\n",
      "Pos:2\n",
      "()\n",
      "Neg:-2\n",
      "()\n"
     ]
    },
    {
     "data": {
      "text/plain": [
       "miFuncion: Any => Unit = <function1>\n"
      ]
     },
     "execution_count": 26,
     "metadata": {},
     "output_type": "execute_result"
    }
   ],
   "source": [
    "val miFuncion: Any => Unit = {\n",
    "    case s:String => println(\"Str:\"+s)\n",
    "    case x:Int if x >= 0 => println(\"Pos:\"+x)\n",
    "    case x:Int if x < 0 => println(\"Neg:\"+x)\n",
    "}\n",
    "\n",
    "println(miFuncion(\"2\"))\n",
    "println(miFuncion(2))\n",
    "println(miFuncion(-2))"
   ]
  },
  {
   "cell_type": "markdown",
   "metadata": {},
   "source": [
    "<a name=\"subseccion-Type `Option`\"></a>\n",
    "## Type `Option`\n",
    "\n",
    "In Scala we can decide that some value is optional through type `Option`, that can contain a value `x` of any type with the value `Some(x)` or it can have a value `None`.\n",
    "\n",
    "An example: the method `get` of type `Map` returns a `Some(value)` if the specified key is contained in the map, or `None` in the other case. Method `find` of type `List` works in the same way.\n",
    "\n",
    "On the other hand, the most common mechanism to extract the real value of an `Option` is by using pattern matching, as we can see in the next example."
   ]
  },
  {
   "cell_type": "code",
   "execution_count": 27,
   "metadata": {},
   "outputs": [
    {
     "data": {
      "text/plain": [
       "capitals: scala.collection.immutable.Map[String,String] = Map(France -> Paris, Japan -> Tokyo)\n",
       "show: (x: Option[String])String\n",
       "provincias: List[String] = List(Jaén, Córdoba, Sevilla, Huelva, Cádiz, Málaga, Granada, Almería)\n",
       "res16: Option[String] = Some(Córdoba)\n"
      ]
     },
     "execution_count": 27,
     "metadata": {},
     "output_type": "execute_result"
    }
   ],
   "source": [
    "val capitals = Map(\"France\" -> \"Paris\", \"Japan\" -> \"Tokyo\")\n",
    "\n",
    "def show(x: Option[String]) = x match {\n",
    "    case Some(s) => s\n",
    "    case None => \"?\"\n",
    "}\n",
    "show(capitals get \"France\")\n",
    "show(capitals get \"North Pole\")\n",
    "\n",
    "val provincias = List(\"Jaén\", \"Córdoba\", \"Sevilla\", \"Huelva\", \"Cádiz\", \"Málaga\", \"Granada\", \"Almería\")\n",
    "provincias.find(p => p.endsWith(\"a\"))     // Returns the first element that satisfies the condition, or None"
   ]
  },
  {
   "cell_type": "markdown",
   "metadata": {},
   "source": [
    "<a name=\"subseccion-Extractors\"></a>\n",
    "## Extractors\n",
    "\n",
    "\n",
    "Now that we can use pattern matching, let us see how can we create our own patterns. In the previous section we have used `Some(x)` as a pattern, because `Some` is a `case class`. But, what if we need to analyse a String in order to check whether it is an Email or not, and looking for the username and the extension? Take into account that `String` is not a case class and, if we need to extract the username and/or extension of the email, we need a method that locates the `@` symbol inside the string and returns the required parts. The best solution would use a pattern like `Email(user, domain)`, which will also serve to aditional purposes, such as manage lists of emails, etc.\n",
    "\n",
    "The tool intended to allow us to create new patterns for existing types, not necessarily based on the internal structure of the type, is the `extractor`. Basically, it consists in:\n",
    "* A method `unapply`: to match and separate the values\n",
    "* A method `apply` (**optional**): to build the values "
   ]
  },
  {
   "cell_type": "code",
   "execution_count": 2,
   "metadata": {},
   "outputs": [
    {
     "name": "stdout",
     "output_type": "stream",
     "text": [
      "USER: 'HOLA' DOMAIN: 'myDomain.com'\n"
     ]
    },
    {
     "data": {
      "text/plain": [
       "defined object EMail\n",
       "defined object UpperCase\n",
       "email: String = john_doe@myDomain.com\n"
      ]
     },
     "execution_count": 2,
     "metadata": {},
     "output_type": "execute_result"
    }
   ],
   "source": [
    "object EMail {\n",
    "    def unapply(str: String): Option[(String, String)] = {           // Extraction (mandatory)\n",
    "        val parts = str split \"@\"\n",
    "        if (parts.length == 2) Some(parts(0), parts(1)) else None\n",
    "    }\n",
    "\n",
    "    def apply(user: String, domain: String) = user +\"@\"+ domain      // Injection (optional)\n",
    "}\n",
    "\n",
    "object UpperCase {                                                   // Example without 'apply'\n",
    "    def unapply(s: String): Boolean = s.toUpperCase == s\n",
    "}\n",
    "\n",
    "\"HOLA@myDomain.com\" match {\n",
    "    case EMail(user @ UpperCase(), domain) => println(\"USER: '\"+user+\"' DOMAIN: '\"+domain+\"'\")\n",
    "    case EMail(user, domain) => println(\"user: '\"+user+\"' domain: '\"+domain+\"'\")\n",
    "    case _ => \n",
    "}\n",
    "\n",
    "val email: String = EMail(\"john_doe\", \"myDomain.com\")"
   ]
  },
  {
   "cell_type": "markdown",
   "metadata": {},
   "source": [
    "It is also possible to create patterns with an undetermined number of elements. To taht end, we need to replace method `unapply` by method `unapplySeq`. We see an example below."
   ]
  },
  {
   "cell_type": "code",
   "execution_count": 3,
   "metadata": {},
   "outputs": [
    {
     "name": "stdout",
     "output_type": "stream",
     "text": [
      "Dominio 'us.es'\n"
     ]
    },
    {
     "data": {
      "text/plain": [
       "defined object Domain\n",
       "procesarDominio: (email: String)Unit\n"
      ]
     },
     "execution_count": 3,
     "metadata": {},
     "output_type": "execute_result"
    }
   ],
   "source": [
    "object Domain {\n",
    "    def unapplySeq(whole: String): Option[Seq[String]] =\n",
    "        Some(whole.split(\"\\\\.\").reverse)\n",
    "\n",
    "    def apply(parts: String*): String =\n",
    "        parts.reverse.mkString(\".\")\n",
    "}\n",
    "\n",
    "def procesarDominio(email: String) = email match {\n",
    "    case EMail(_, Domain(\"es\", \"us\", _*)) => println(\"Dominio 'us.es'\")\n",
    "    case EMail(_, Domain(\"es\", _*)) => println(\"Dominio 'es'\")\n",
    "    case _ => \n",
    "}\n",
    "\n",
    "procesarDominio(\"john@us.es\")"
   ]
  },
  {
   "cell_type": "markdown",
   "metadata": {
    "collapsed": true
   },
   "source": [
    "<table align=\"left\" style=\"border-collapse: collapse; border: none !important; width: 100%;\">\n",
    "    <tr style=\"border:none !important;\">\n",
    "        <td style=\"border:none !important; width: 60px;\">\n",
    "<img src=\"icons/notepad.png\" align=\"left\" width=\"50px\"> \n",
    "        </td>\n",
    "        <td style=\"border:none !important;text-align:left;\">\n",
    "            <ul>\n",
    "                <li>Remember that the order of the patterns is relevant: we must put first the most restrictive ones.</li>\n",
    "                <li>Using `unapplySeq` we could also return a variable part, such as the user and the sequence of domains.</li>\n",
    "            </ul>\n",
    "        </td>\n",
    "    </tr>\n",
    "</table>"
   ]
  },
  {
   "cell_type": "markdown",
   "metadata": {},
   "source": [
    "<table align=\"left\" style=\"border-collapse: collapse; border: none !important; width: 100%;\">\n",
    "    <tr style=\"border:none !important;\">\n",
    "        <td style=\"border:none !important; width: 60px;\">\n",
    "<img src=\"icons/optimizar.png\" align=\"left\" width=\"50px\"> \n",
    "        </td>\n",
    "        <td style=\"border:none !important; text-align:left\">\n",
    "            <ul>\n",
    "                <li>El uso de `case class` es en principio más eficiente que el uso de un extractor, aunque los extractores ofrecen mayor independencia de la representación interna de las clases, pero en cualquier caso los patrones funcionarán exactamente igual</li>\n",
    "            </ul>\n",
    "        </td>\n",
    "    </tr>\n",
    "</table>"
   ]
  },
  {
   "cell_type": "markdown",
   "metadata": {},
   "source": [
    "<a name=\"subsubseccion-Regular expressions \"></a>\n",
    "### Regular expressions \n",
    "\n",
    "\n",
    "Regular expressions constitute another really useful tool for working with patterns. They have the same syntax and use as in Java. First, the regular expression is defined through a `String`, specifying with parentheses the groups corresponding to the parts of the string to be matched. For example, we can match a decimal number and its three components (sign, integer part, and fractional part) with the regular expression `(-)?(\\d+)(\\.\\d*)?`, where the parentheses define the three parts.\n",
    "\n",
    "There are also predefined methods to work with the pattern, like:\n",
    "* `findFirstIn`\n",
    "* `findAllIn`\n",
    "* `findPrefixOf`\n",
    "\n",
    "Finally, every regular expression in Scala defines an extractor, so we can use them like such."
   ]
  },
  {
   "cell_type": "code",
   "execution_count": 4,
   "metadata": {},
   "outputs": [
    {
     "name": "stdout",
     "output_type": "stream",
     "text": [
      "-1.0\n",
      "99\n",
      "3\n",
      "negative\n"
     ]
    },
    {
     "data": {
      "text/plain": [
       "import scala.util.matching.Regex\n",
       "Decimal: scala.util.matching.Regex = (-)?(\\d+)(\\.\\d*)?\n",
       "sign: String = -\n",
       "integerPart: String = 1\n",
       "decimalPart: String = .24\n"
      ]
     },
     "execution_count": 4,
     "metadata": {},
     "output_type": "execute_result"
    }
   ],
   "source": [
    "import scala.util.matching.Regex\n",
    "\n",
    "val Decimal = new Regex(\"(-)?(\\\\d+)(\\\\.\\\\d*)?\")       // Regex for decimal numbers\n",
    "//val Decimal = new Regex(\"\"\"(-)?(\\d+)(\\.\\d*)?\"\"\")    // Equivalent, using raw strings\n",
    "//val Decimal = \"\"\"(-)?(\\d+)(\\.\\d*)?\"\"\".r             // Equivalent, using method 'r' from RichString\n",
    "\n",
    "for (s <- Decimal findAllIn \"for -1.0 to 99 by 3\") println(s)\n",
    "\n",
    "val Decimal(sign, integerPart, decimalPart) = \"-1.24\" // What happens if we omit the symbol?\n",
    "\n",
    "\"-1.24\" match {\n",
    "    case Decimal(\"-\", _, _) => println(\"negative\")\n",
    "    case _ => println(\"positive\")\n",
    "}"
   ]
  },
  {
   "cell_type": "markdown",
   "metadata": {},
   "source": [
    "---"
   ]
  }
 ],
 "metadata": {
  "anaconda-cloud": {},
  "kernelspec": {
   "display_name": "spylon-kernel",
   "language": "scala",
   "name": "spylon-kernel"
  },
  "language_info": {
   "codemirror_mode": "text/x-scala",
   "file_extension": ".scala",
   "help_links": [
    {
     "text": "MetaKernel Magics",
     "url": "https://github.com/calysto/metakernel/blob/master/metakernel/magics/README.md"
    }
   ],
   "mimetype": "text/x-scala",
   "name": "scala",
   "pygments_lexer": "scala",
   "version": "0.4.0"
  }
 },
 "nbformat": 4,
 "nbformat_minor": 2
}
