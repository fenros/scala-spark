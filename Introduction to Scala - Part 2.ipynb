{
 "cells": [
  {
   "cell_type": "markdown",
   "metadata": {},
   "source": [
    "<img src=\"images/intro-logo-scala-eng.png\" align=\"left\" width=\"600px\"/>\n",
    "<!--- ![alt text](heading.png \"Heading with Scala logo\") --->"
   ]
  },
  {
   "cell_type": "markdown",
   "metadata": {},
   "source": [
    "---"
   ]
  },
  {
   "cell_type": "markdown",
   "metadata": {},
   "source": [
    "# Index\n",
    "\n",
    "### [2. Walking](#seccion-2. Walking)\n",
    "  * [More about control structures](#subseccion-More about control structures)\n",
    "  * [Initializing objects](#subseccion-Initializing objects)\n",
    "  * [Operators](#subseccion-Operators)\n",
    "  * [Special functions: `apply` and `update`](#subseccion-Special functions: `apply` and `update`)\n",
    "  * [Using `List`](#subseccion-Using `List`)\n",
    "  * [Operations with lists](#subseccion-Operations with lists)\n",
    "    * [Folding functions](#subsubseccion-Folding functions)\n",
    "  * [Tuples](#subseccion-Tuples)\n",
    "  * [Using `Sets` and `Maps`](#subseccion-Using `Sets` and `Maps`)\n",
    "  * [Pros and Cons of inmutab1e objects](#subseccion-Pros and Cons of inmutab1e objects)\n",
    "  * [Classes and objects](#subseccion-Classes and objects)\n",
    "  * [`abstract` modificator](#subseccion-`abstract` modificator)\n",
    "  * [Inheritance](#subseccion-Inheritance)\n",
    "  * [Class hierarchy in Scala](#subseccion-Class hierarchy in Scala)\n",
    "  * [Enumerations](#subseccion-Enumerations)\n",
    "  * [Operators precedence and associativity](#subseccion-Operators precedence and associativity)\n",
    "  * [Operators `==` and `!=` (and their relation to `equals`)](#subseccion-Operators `==` and `!=` {and their relation to `equals`})\n",
    "  * [Classes with parameters](#subseccion-Classes with parameters)\n",
    "  * [Preconditions](#subseccion-Preconditions)\n",
    "  * [Auxiliary class constructors](#subseccion-Auxiliary class constructors)\n",
    "  * [Traits](#subseccion-Traits)\n",
    "  * [Abstract and concrete types](#subseccion-Abstract and concrete types)\n",
    "  * [Working with exceptions through `throw`, `try`, `catch` and `finally`](#subseccion-Working with exceptions through `throw`, `try`, `catch` and `finally`)\n",
    "  * [Reading a file](#subseccion-Reading a file)\n",
    "  * [Applications](#subseccion-Applications)\n",
    "  * [Using `package` and `import`](#subseccion-Using `package` and `import`)\n",
    "    * [`import` by default](#subsubseccion-`import` by default)\n",
    "  * [Quality code](#subseccion-Quality code)\n",
    "    * [Checking conditions with `assert`](#subsubseccion-Checking conditions with `assert`)\n",
    "    * [Unit testing](#subsubseccion-Unit testing)\n",
    "\n"
   ]
  },
  {
   "cell_type": "markdown",
   "metadata": {},
   "source": [
    "---"
   ]
  },
  {
   "cell_type": "markdown",
   "metadata": {},
   "source": [
    "<a name=\"seccion-2. Walking\"></a>\n",
    "<table align=\"left\" style=\"border-collapse: collapse; width: 100%; border: 5px double black\">\n",
    "    <tr style=\"border:none !important;\">\n",
    "        <td style=\"border:none !important; width: 100px;\">\n",
    "<img src=\"icons/caminar-m.png\" align=\"left\" width=60px/>\n",
    "        </td>\n",
    "        <td style=\"border:none !important; text-align:left;\">\n",
    "<h1>2. Walking</h1>\n",
    "<br>\n",
    "Well, we can now stand up and move around with Scala. Although, we are not ready yet to go running, is time to walk and learn, step by step, some interesting features in Scala.\n",
    "        </td>\n",
    "    </tr>\n",
    "</table>"
   ]
  },
  {
   "cell_type": "markdown",
   "metadata": {},
   "source": [
    "<a name=\"subseccion-More about control structures\"></a>\n",
    "## More about control structures\n",
    "\n",
    "The only control structures included in Scala are `if`, `while`, `for`, `try` and `match`. We can use them together with the mechanisms of Scala in order to create our own control structures.\n",
    "\n",
    "In Scala, `if` is similar to the ternary operator `?:` in other languages, because it can return a value. The same applies to `for`, `try` and `match`, which can return a value as well."
   ]
  },
  {
   "cell_type": "code",
   "execution_count": 2,
   "metadata": {},
   "outputs": [
    {
     "name": "stdout",
     "output_type": "stream",
     "text": [
      "MAX=2\n",
      "MAX=2\n"
     ]
    },
    {
     "data": {
      "text/plain": [
       "defined \u001b[32mfunction\u001b[39m \u001b[36mmaximo\u001b[39m\n",
       "\u001b[36mvalor1\u001b[39m: \u001b[32mInt\u001b[39m = \u001b[32m1\u001b[39m\n",
       "\u001b[36mvalor2\u001b[39m: \u001b[32mInt\u001b[39m = \u001b[32m2\u001b[39m"
      ]
     },
     "execution_count": 2,
     "metadata": {},
     "output_type": "execute_result"
    }
   ],
   "source": [
    "def maximo(x: Int, y: Int) =\n",
    "    if (x > y) x else y\n",
    "\n",
    "println(\"MAX=\"+maximo(1,2))\n",
    "\n",
    "// To clarify the ability of returning a value with an 'if':\n",
    "val valor1 = 1\n",
    "val valor2 = 2\n",
    "println(\"MAX=\"+(if (valor1 > valor2) valor1 else valor2))"
   ]
  },
  {
   "cell_type": "markdown",
   "metadata": {},
   "source": [
    "`while` or `do-while` loops do not return any relevant values, but `Unit` (equivalent to `void` in Java). As we mentioned before, these loops are related to a more imperative style of programming, being inappropriate from the point of view of functinoal programming, due to the fact that can provoke collateral effects. The difference between both styles are shown bellow."
   ]
  },
  {
   "cell_type": "code",
   "execution_count": 3,
   "metadata": {},
   "outputs": [
    {
     "data": {
      "text/plain": [
       "defined \u001b[32mfunction\u001b[39m \u001b[36mmcdImp\u001b[39m\n",
       "defined \u001b[32mfunction\u001b[39m \u001b[36mmcdFun\u001b[39m"
      ]
     },
     "execution_count": 3,
     "metadata": {},
     "output_type": "execute_result"
    }
   ],
   "source": [
    "// Loop intended to find MCD of two integers (imperative style, not functional)\n",
    "def mcdImp(x: Long, y: Long): Long = {\n",
    "    var a = x\n",
    "    var b = y\n",
    "    while (a != 0) {\n",
    "        val temp = a\n",
    "        a = b % a\n",
    "        b = temp\n",
    "    }\n",
    "    b\n",
    "}\n",
    "\n",
    "// Same function, with a functional style\n",
    "def mcdFun(a: Int, b: Int): Int =\n",
    "    if (b == 0) a else mcdFun(b, a % b)"
   ]
  },
  {
   "cell_type": "markdown",
   "metadata": {},
   "source": [
    "In Scala, `for` loops are a more efficient and concise tool when it comes to carry out iterative tasks, as we see in the following examples.\n",
    "\n",
    "The first part of the loop `x <- xs` is called _generator_ and is in charge of iterating over the elements of the right part (the type of `x` is inferred from the type of `xs`). The generator can be constrained or filtered by using a `if (condition)`, in such way that those `x` that do not satisfy the condition are filtered out. Finally, the code inside the loop is executed for each element satisfying the filter.\n",
    "\n",
    "On the other hand, we can define more than one generator and more than one filter, implementing more powerful `for` expressions to solve more complex tasks as we can see in the third example, where a variable (`val`) is assigned within the `for` in order to store a partial result.\n",
    "\n",
    "Finally, we can compile the results of each iteration with the `yield` directive, as can be seen in the last example."
   ]
  },
  {
   "cell_type": "code",
   "execution_count": 4,
   "metadata": {},
   "outputs": [
    {
     "name": "stdout",
     "output_type": "stream",
     "text": [
      "0 2 4 6 8 \n",
      "0 2 4 6 8 \n",
      "[X=1,Y=1,XY=2] [X=2,Y=0,XY=2] [X=2,Y=2,XY=4] [X=3,Y=1,XY=4] [X=3,Y=3,XY=6] [X=4,Y=0,XY=4] [X=4,Y=2,XY=6] [X=4,Y=4,XY=8] "
     ]
    },
    {
     "data": {
      "text/plain": [
       "\u001b[36mres3_5\u001b[39m: \u001b[32mcollection\u001b[39m.\u001b[32mimmutable\u001b[39m.\u001b[32mIndexedSeq\u001b[39m[\u001b[32mInt\u001b[39m] = \u001b[33mVector\u001b[39m(\u001b[32m1\u001b[39m, \u001b[32m3\u001b[39m, \u001b[32m5\u001b[39m, \u001b[32m7\u001b[39m, \u001b[32m9\u001b[39m)"
      ]
     },
     "execution_count": 4,
     "metadata": {},
     "output_type": "execute_result"
    }
   ],
   "source": [
    "// Ejemplo sencillo\n",
    "for (x <- Range(0, 10) if (x % 2 == 0)) print(x+\" \")\n",
    "println()\n",
    "\n",
    "// Formulación equivalente con el 'if' en el cuerpo\n",
    "for (x <- Range(0, 10))\n",
    "    if (x % 2 == 0) print(x+\" \")\n",
    "println()\n",
    "\n",
    "// Ejemplo más completo\n",
    "for (x <- List(-1,0,1,2,3,4)                  // GENERATOR:  For each element 'x' in the list\n",
    "     if (x > 0);                              // FILTRO:     if 'x' is greater than zero\n",
    "     y <- 0 to x;                             // GENERADOR:  for each element 'y' in the range 0..'x'\n",
    "     xy = x + y                               // ASIGNACIÓN: we sum up 'x' and 'y' and store the result in 'xy'\n",
    "     if (xy % 2 == 0)                         // FILTRO:     if 'xy' is even\n",
    "     ) \n",
    "    print(\"[X=\"+x+\",Y=\"+y+\",XY=\"+xy+\"] \")     // we print out the elements 'x', 'y' and 'xy'\n",
    "\n",
    "// Compiling and returning the generated values\n",
    "for (x <- Range(0, 10) if (x % 2 == 0)) yield {x+1}"
   ]
  },
  {
   "cell_type": "markdown",
   "metadata": {},
   "source": [
    "<table align=\"left\" style=\"border-collapse: collapse; border: none !important; width: 100%;\">\n",
    "    <tr style=\"border:none !important;\">\n",
    "        <td style=\"border:none !important; width: 60px;\">\n",
    "<img src=\"icons/notepad.png\" align=\"left\" width=\"50px\"> \n",
    "        </td>\n",
    "        <td style=\"border:none !important;text-align:left;\">\n",
    "            <ul>\n",
    "                <li>Although it may be hard to notice, left part of `<-` is always a `val`</li>\n",
    "                <li>In this example we use `Range(0, 10)` to generate a sequence of integers `0..9`, but we could also use `0 to 9` or `0 until 10` with the same results. Furthermore, we use `List(...)` to create a list of elements, though the details will be explained more thoroughly in next sections.</li>\n",
    "            </ul>\n",
    "        </td>\n",
    "    </tr>\n",
    "</table>"
   ]
  },
  {
   "cell_type": "markdown",
   "metadata": {},
   "source": [
    "<table align=\"left\" style=\"border-collapse: collapse; border: none !important; width: 100%;\">\n",
    "    <tr style=\"border:none !important;\">\n",
    "        <td style=\"border:none !important; width: 60px;\">\n",
    "<img src=\"icons/optimizar.png\" align=\"left\" width=\"50px\"> \n",
    "        </td>\n",
    "        <td style=\"border:none !important; text-align:left\">\n",
    "            <ul>\n",
    "                <li>`for` loops with `yield` behave internally just like a sequence of `map`, `flatMap` and `filter` operations. The same goes for the `for` loops without `yield` and the operations `filter` and `foreach`</li>\n",
    "            </ul>\n",
    "        </td>\n",
    "    </tr>\n",
    "</table>"
   ]
  },
  {
   "cell_type": "markdown",
   "metadata": {},
   "source": [
    "Another alternative is the use of `foreach` function, which allows to apply a given code to all the elements in a collection."
   ]
  },
  {
   "cell_type": "code",
   "execution_count": null,
   "metadata": {
    "collapsed": true
   },
   "outputs": [],
   "source": [
    "Range(0, 10).foreach((x: Int) => if (x % 2 == 0) println(x))"
   ]
  },
  {
   "cell_type": "markdown",
   "metadata": {},
   "source": [
    "<a name=\"subseccion-Initializing objects\"></a>\n",
    "## Initializing objects\n",
    "\n",
    "In Scala, _objects_ (instances of classes) can be initialized using `new`. Like Java, we can parametrize and/or configure the instance, adding the _type_ between brackets and _values_ between braces. In next example we show the initialization of a vector (as an instance of class `Array`) with the `String` type and a value equal to `2`."
   ]
  },
  {
   "cell_type": "code",
   "execution_count": 1,
   "metadata": {},
   "outputs": [
    {
     "data": {
      "text/plain": [
       "Intitializing Scala interpreter ..."
      ]
     },
     "metadata": {},
     "output_type": "display_data"
    },
    {
     "data": {
      "text/plain": [
       "Spark Web UI available at http://172.17.0.2:4040\n",
       "SparkContext available as 'sc' (version = 2.2.0, master = local[*], app id = local-1511943676178)\n",
       "SparkSession available as 'spark'\n"
      ]
     },
     "metadata": {},
     "output_type": "display_data"
    },
    {
     "data": {
      "text/plain": [
       "vector: Array[String] = Array(pera, manzana)\n"
      ]
     },
     "execution_count": 1,
     "metadata": {},
     "output_type": "execute_result"
    }
   ],
   "source": [
    "val vector = new Array[String](2)\n",
    "vector(0) = \"pera\"\n",
    "vector(1) = \"manzana\""
   ]
  },
  {
   "cell_type": "markdown",
   "metadata": {},
   "source": [
    "<table align=\"left\" style=\"border-collapse: collapse; border: none !important; width: 100%;\">\n",
    "    <tr style=\"border:none !important;\">\n",
    "        <td style=\"border:none !important; width: 60px;\">\n",
    "<img src=\"icons/notepad.png\" align=\"left\" width=\"50px\"> \n",
    "        </td>\n",
    "        <td style=\"border:none !important;text-align:left;\">\n",
    "            <ul>\n",
    "                <li>Although the code in the example is correct, let's see a better way of initializing an `Array` in Scala: `val vector = Array(\"pera\", \"manzana\")`</li>\n",
    "                <li>We could've written `'val vector: Array[String] = new Array[String](2)'`, but we can avoid redundant code in Scala</li>\n",
    "                <li>The previous code clarifies that the type of the expression is `'Array[String]'`, not `'Array[String](2)'`</li>\n",
    "                <li>As we can see,the elements in the `Array` can be accessed using their index between braces, unlike Java (where we use brackets)</li>\n",
    "                <li>Using `val` ensures that we cannot reassign the variable, but the object within the variable can change</li>\n",
    "                <li>In Scala, `Array`s are represented like in Java, but they admit more operations, for example `++` to concatenate two `Array`, or `mkString` to generate a `String` with the elements in the `Array`, separating them with a given character</li>\n",
    "            </ul>\n",
    "        </td>\n",
    "    </tr>\n",
    "</table>"
   ]
  },
  {
   "cell_type": "markdown",
   "metadata": {},
   "source": [
    "<a name=\"subseccion-Operators\"></a>\n",
    "## Operators\n",
    "\n",
    "If a function only have one parameter, we can write it without '.' or braces. For example, in Scala `Int` has the function `to`, which returns a sequence of integers between the number calling the function and the number passed as parameter.\n",
    "\n",
    "There are no operators in Scala in the same terms as they exist in other languages. We just implement this idea of operators using functions with only one parameter. Furthermore, in Scala we can name functions using symbols (`+`,`-`,`/`,...). The predefined class `Int` has a function `+` to sum two integers (actually it has many definitions of this function, which can receive an integer, a double, etc.). In this way, `3 + 4` could be also written as `(3).+(4)`."
   ]
  },
  {
   "cell_type": "code",
   "execution_count": null,
   "metadata": {
    "collapsed": true
   },
   "outputs": [],
   "source": [
    "val desde = 0\n",
    "val hasta = 2\n",
    "desde.to(hasta)"
   ]
  },
  {
   "cell_type": "code",
   "execution_count": null,
   "metadata": {
    "collapsed": true
   },
   "outputs": [],
   "source": [
    "for (i <- desde.to(hasta)) println(i)"
   ]
  },
  {
   "cell_type": "code",
   "execution_count": null,
   "metadata": {
    "collapsed": true
   },
   "outputs": [],
   "source": [
    "for (i <- desde to hasta) println(i)"
   ]
  },
  {
   "cell_type": "code",
   "execution_count": null,
   "metadata": {
    "collapsed": true
   },
   "outputs": [],
   "source": [
    "for (i <- 0 to 2) println(i)"
   ]
  },
  {
   "cell_type": "code",
   "execution_count": null,
   "metadata": {
    "collapsed": true
   },
   "outputs": [],
   "source": [
    "3+4\n",
    "(3).+(4)\n",
    "desde + hasta\n",
    "desde.+(hasta)"
   ]
  },
  {
   "cell_type": "markdown",
   "metadata": {},
   "source": [
    "If the functions receives two parameters, we can use the **infix** notation, but with the parameters in braces. \n",
    "\n",
    "In the next example we use the function `indexOf` in the class `String`. This function can receive just a character to look for, or it can receive the position to begin the search from."
   ]
  },
  {
   "cell_type": "code",
   "execution_count": 7,
   "metadata": {},
   "outputs": [
    {
     "data": {
      "text/plain": [
       "\u001b[36mhm\u001b[39m: \u001b[32mString\u001b[39m = \u001b[32m\"Hola, mundo\"\u001b[39m\n",
       "\u001b[36mres6_1\u001b[39m: \u001b[32mInt\u001b[39m = \u001b[32m1\u001b[39m\n",
       "\u001b[36mres6_2\u001b[39m: \u001b[32mInt\u001b[39m = \u001b[32m1\u001b[39m\n",
       "\u001b[36mres6_3\u001b[39m: \u001b[32mInt\u001b[39m = \u001b[32m10\u001b[39m\n",
       "\u001b[36mres6_4\u001b[39m: \u001b[32mInt\u001b[39m = \u001b[32m10\u001b[39m"
      ]
     },
     "execution_count": 7,
     "metadata": {},
     "output_type": "execute_result"
    }
   ],
   "source": [
    "val hm = \"Hola, mundo\"\n",
    "hm indexOf 'o'\n",
    "hm.indexOf('o')\n",
    "hm indexOf ('o', 2)\n",
    "hm.indexOf('o', 2)"
   ]
  },
  {
   "cell_type": "markdown",
   "metadata": {},
   "source": [
    "<table align=\"left\" style=\"border-collapse: collapse; border: none !important; width: 100%;\">\n",
    "    <tr style=\"border:none !important;\">\n",
    "        <td style=\"border:none !important; width: 60px;\">\n",
    "<img src=\"icons/notepad.png\" align=\"left\" width=\"50px\"> \n",
    "        </td>\n",
    "        <td style=\"border:none !important;text-align:left;\">\n",
    "            <ul>\n",
    "                <li>Infix notation must have the next schema: _calling object_ + _operator_ + _parameter_. The calling object must be explicitly mentioned, for example we can write '`Console println \"Hola\"`', but this is incorrect: '`println \"Hola\"`'</li>\n",
    "                <li>In Scala any function can act as an operator just by using it with an infix notation</li>\n",
    "                <li>In order to keep the compatibility with Java, Scala's compiler translates the names of the functions used as operators in Scala in such way that they are valid method names in Java (i. e. `:->` is internally translated to `$colon$minus$greater`)</li>\n",
    "            </ul>\n",
    "        </td>\n",
    "    </tr>\n",
    "</table>"
   ]
  },
  {
   "cell_type": "markdown",
   "metadata": {},
   "source": [
    "Apart from the infix notation (two operands with the operator in the middle), we can alos define unary operators with a prefix notation (operator '`-`' in `-5`) and postfix notation (operator `toLong` in `5 toLong`).\n",
    "\n",
    "For prefix notation, we must define a function named with the prefix '`unary_`'. For example, we can define the function '`unary_-`' in class `Double`, in order to be able to write `-2.0` and it is equivalent to `(-2.0).unary_-`. Anyway, Scala allows us to use this type of notations **only** with operators `+,-,! and ~`."
   ]
  },
  {
   "cell_type": "code",
   "execution_count": 6,
   "metadata": {},
   "outputs": [
    {
     "data": {
      "text/plain": [
       "\u001b[36mres5_0\u001b[39m: \u001b[32mDouble\u001b[39m = \u001b[32m-2.0\u001b[39m\n",
       "\u001b[36mres5_1\u001b[39m: \u001b[32mDouble\u001b[39m = \u001b[32m-2.0\u001b[39m\n",
       "\u001b[36mres5_2\u001b[39m: \u001b[32mBoolean\u001b[39m = \u001b[32mfalse\u001b[39m\n",
       "\u001b[36mres5_3\u001b[39m: \u001b[32mInt\u001b[39m = \u001b[32m-256\u001b[39m"
      ]
     },
     "execution_count": 6,
     "metadata": {},
     "output_type": "execute_result"
    }
   ],
   "source": [
    "-2.0\n",
    "(2.0).unary_-\n",
    "\n",
    "!(true)\n",
    "~0xFF"
   ]
  },
  {
   "cell_type": "markdown",
   "metadata": {},
   "source": [
    "Finally, postfix notation is used to call functions without input parameters."
   ]
  },
  {
   "cell_type": "code",
   "execution_count": 8,
   "metadata": {},
   "outputs": [
    {
     "data": {
      "text/plain": [
       "\u001b[36mres7_0\u001b[39m: \u001b[32mString\u001b[39m = \u001b[32m\"hola, mundo\"\u001b[39m\n",
       "\u001b[36mres7_1\u001b[39m: \u001b[32mString\u001b[39m = \u001b[32m\"hola, mundo\"\u001b[39m"
      ]
     },
     "execution_count": 8,
     "metadata": {},
     "output_type": "execute_result"
    }
   ],
   "source": [
    "hm.toLowerCase()\n",
    "hm toLowerCase"
   ]
  },
  {
   "cell_type": "markdown",
   "metadata": {},
   "source": [
    "<table align=\"left\" style=\"border-collapse: collapse; border: none !important; width: 100%;\">\n",
    "    <tr style=\"border:none !important;\">\n",
    "        <td style=\"border:none !important; width: 60px;\">\n",
    "<img src=\"icons/notepad.png\" align=\"left\" width=\"50px\"> \n",
    "        </td>\n",
    "        <td style=\"border:none !important;text-align:left;\">\n",
    "            <ul>\n",
    "                <li>When a function have no parameters, in Scala we can write it without the braces, although it is recommended to include the braces when the function has collateral effects, to make some distinctions from the pure functions (without them)</li>\n",
    "            </ul>\n",
    "        </td>\n",
    "    </tr>\n",
    "</table>"
   ]
  },
  {
   "cell_type": "markdown",
   "metadata": {},
   "source": [
    "Before going any further, take the chance to explore the [Scala's API](http://www.scala-lang.org/api/current/scala/index.html), look for those classes related to the basic types and check their operators, for example:\n",
    "\n",
    "* Arithmetc: `+ - * / %`\n",
    "* Relational: `> < >= <= !`\n",
    "* Logic: `&& ||`\n",
    "* Bitwise: `& | ^ << >> >>>`"
   ]
  },
  {
   "cell_type": "markdown",
   "metadata": {},
   "source": [
    "<table align=\"left\" style=\"border-collapse: collapse; border: none !important; width: 100%;\">\n",
    "    <tr style=\"border:none !important;\">\n",
    "        <td style=\"border:none !important; width: 60px;\">\n",
    "<img src=\"icons/notepad.png\" align=\"left\" width=\"50px\"> \n",
    "        </td>\n",
    "        <td style=\"border:none !important;text-align:left;\">\n",
    "            <ul>\n",
    "                <li>Logic operators are 'short-circuited' like in Java, in such way that the operands are not evaluated if it is not necessary (`true || x` is `true` no matter the value of `x`)</li>\n",
    "            </ul>\n",
    "        </td>\n",
    "    </tr>\n",
    "</table>"
   ]
  },
  {
   "cell_type": "markdown",
   "metadata": {},
   "source": [
    "<a name=\"subseccion-Special functions: `apply` and `update`\"></a>\n",
    "## Special functions: `apply` and `update`\n",
    "\n",
    "\n",
    "In Scala, if we write a variable followed by one or more values in braces it is internally converted to an invocation to a function called `apply`, defined on the type of the variable. This is the reason why we get the values of an `Array` using braces instead of brackets: `vector(0)` is equivalent to `vector.apply(0)` and it returns the value in the position 0 of the `Array`. This idea is not limited to the `Array` class, but it can be extended to the rest of objects in Scala, so we can also define an `apply` function to take advantage of this feature.\n",
    "\n",
    "On the other hand, if we write a variable followed by one or more values in braces in the left part of an assignment, instead of `apply`, this code is internally translated to an invocation of the function `update` which, in the case of the `Array` class, changes the value in the given position for the value in the right side of the assignment. So `vector(0) = \"pera\"` is equivalent to `vector.update(0, \"pera\")`)"
   ]
  },
  {
   "cell_type": "code",
   "execution_count": 2,
   "metadata": {},
   "outputs": [
    {
     "name": "stdout",
     "output_type": "stream",
     "text": [
      "uva\n"
     ]
    }
   ],
   "source": [
    "vector(0) = \"uva\"\n",
    "println(vector(0))"
   ]
  },
  {
   "cell_type": "code",
   "execution_count": 3,
   "metadata": {},
   "outputs": [
    {
     "name": "stdout",
     "output_type": "stream",
     "text": [
      "ciruela\n"
     ]
    }
   ],
   "source": [
    "vector.update(0, \"ciruela\")\n",
    "println(vector.apply(0))"
   ]
  },
  {
   "cell_type": "markdown",
   "metadata": {},
   "source": [
    "<a name=\"subseccion-Using `List`\"></a>\n",
    "## Using `List`\n",
    "\n",
    "In Scala, `List` class represent sequences of objects of the same type (they are \"homogeneous\") but, unlike `Array`, a `List` is always **inmutable** and has a recursive structure, so it is a key piece of functinal programming style. We write `List[T]` to represent a \"list of objects with type T\". It can be created and used as follows:"
   ]
  },
  {
   "cell_type": "code",
   "execution_count": 4,
   "metadata": {},
   "outputs": [
    {
     "data": {
      "text/plain": [
       "frutas: List[String] = List(peras, manzanas)\n",
       "copiaFrutas: List[String] = List(peras, manzanas)\n",
       "hitosSuperados: List[Int] = List(1)\n"
      ]
     },
     "execution_count": 4,
     "metadata": {},
     "output_type": "execute_result"
    }
   ],
   "source": [
    "val frutas = List(\"peras\", \"manzanas\")\n",
    "val copiaFrutas = frutas\n",
    "\n",
    "var hitosSuperados: List[Int] = List()  // Note the specification of the base type (`var hitosSuperados = List[Int]()` would also work)\n",
    "hitosSuperados ::= 1                    // Since it is a 'var', it can be reassigned"
   ]
  },
  {
   "cell_type": "markdown",
   "metadata": {},
   "source": [
    "Scala's API has a number of functions intended to manipulate lists, but we must remember that their inmutable nature is not changed. Which means that, for example, the function that adds a new element to a list returns a new list with all the elements of the original list plus the new element, keeping the original list unchanged. Let's try the operators `::` and `:::`, in charge of adding an element at the beginning of a list and concatenating two lists, respectively."
   ]
  },
  {
   "cell_type": "code",
   "execution_count": 5,
   "metadata": {},
   "outputs": [
    {
     "data": {
      "text/plain": [
       "<console>:28: warning: a pure expression does nothing in statement position; you may be omitting necessary parentheses\n",
       "       frutas                                               // Stays unchanged\n",
       "       ^\n",
       "masFrutas: List[String] = List(naranja, uva, ciruela)\n",
       "todasFrutas: List[String] = List(peras, manzanas, naranja, uva, ciruela)\n",
       "res4: List[String] = List(naranja, uva, ciruela)\n"
      ]
     },
     "execution_count": 5,
     "metadata": {},
     "output_type": "execute_result"
    }
   ],
   "source": [
    "val masFrutas = \"naranja\" :: List(\"uva\", \"ciruela\")  // Adding an element\n",
    "val todasFrutas = frutas ::: masFrutas               // Concatenating two lists\n",
    "frutas                                               // Stays unchanged\n",
    "masFrutas                                            // Stays unchanged"
   ]
  },
  {
   "cell_type": "markdown",
   "metadata": {},
   "source": [
    "An empty list is represented by the class `Nil`, useful to recursively create lists with the function `::`, adding elements to this empty list, as we see in the following example. \n",
    "\n",
    "Remember the previous explanation about infix notation in Scala: `x :: alist` could be expressed like `x.::(alist)`. However, this case is an exception, since the actual translation is `alist.::(x)`, just changing the order of the operands explained previously. This happens when the function name ends with '`:`'. Thus, in this example, `alist` is a variable of type `List`, which has the function (operator) `::`."
   ]
  },
  {
   "cell_type": "code",
   "execution_count": 6,
   "metadata": {},
   "outputs": [
    {
     "data": {
      "text/plain": [
       "deCeroADos: List[Int] = List(0, 1, 2)\n"
      ]
     },
     "execution_count": 6,
     "metadata": {},
     "output_type": "execute_result"
    }
   ],
   "source": [
    "val deCeroADos = 0 :: 1 :: 2 :: Nil"
   ]
  },
  {
   "cell_type": "markdown",
   "metadata": {},
   "source": [
    "<table align=\"left\" style=\"border-collapse: collapse; border: none !important; width: 100%;\">\n",
    "    <tr style=\"border:none !important;\">\n",
    "        <td style=\"border:none !important; width: 60px;\">\n",
    "<img src=\"icons/notepad.png\" align=\"left\" width=\"50px\"> \n",
    "        </td>\n",
    "        <td style=\"border:none !important;text-align:left;\">\n",
    "            <ul>\n",
    "                <li>We can see in the previous example that Scala can infer the type of the elements within the list by analyzing the type of the elements used in the initialization.</li>\n",
    "                <li>According to the explanation about the special functions `apply` and `update`, it is not necessary to use the constructor `new` in order to initialize a `List`, we'll see it with more detail later.</li>\n",
    "                <li>Function `::` is also known as `cons`, from `construct`</li>\n",
    "                <li>Adding an element at the beginning of a list, and not at the end of it, is related to the expensive cost of the later</li>\n",
    "                <li>Class `List` will be revisited later on this notebook due to its usefulness in functional programming with Scala</li>\n",
    "                <li>A list can contain objects of any types, including other lists.</li>\n",
    "            </ul>\n",
    "        </td>\n",
    "    </tr>\n",
    "</table>"
   ]
  },
  {
   "cell_type": "markdown",
   "metadata": {},
   "source": [
    "<a name=\"subseccion-Operations with lists\"></a>\n",
    "## Operations with lists\n",
    "\n",
    "Let's review some of the most common operations with objects of type `List`. We will use a list of `String` with the names of the provinces in Andalucía."
   ]
  },
  {
   "cell_type": "code",
   "execution_count": 3,
   "metadata": {},
   "outputs": [
    {
     "data": {
      "text/plain": [
       "provincias: List[String] = List(Jaén, Córdoba, Sevilla, Huelva, Cádiz, Málaga, Granada, Almería)\n"
      ]
     },
     "execution_count": 3,
     "metadata": {},
     "output_type": "execute_result"
    }
   ],
   "source": [
    "val provincias = List(\"Jaén\", \"Córdoba\", \"Sevilla\", \"Huelva\", \"Cádiz\", \"Málaga\", \"Granada\", \"Almería\")"
   ]
  },
  {
   "cell_type": "markdown",
   "metadata": {},
   "source": [
    "1) Functions that retrieve some information about lists:"
   ]
  },
  {
   "cell_type": "code",
   "execution_count": 9,
   "metadata": {},
   "outputs": [
    {
     "data": {
      "text/plain": [
       "res6: Iterator[String] = non-empty iterator\n"
      ]
     },
     "execution_count": 9,
     "metadata": {},
     "output_type": "execute_result"
    }
   ],
   "source": [
    "provincias.isEmpty                      \n",
    "provincias.length                       // Number of elements in a list\n",
    "provincias.count(p => p.endsWith(\"a\"))  // Number of elements in a list that comply a condition\n",
    "provincias.indices                      // Tells the valid indexes of a list, for example to use 'apply' function (see below)\n",
    "provincias.toIterator                   // returns an iterator over the list"
   ]
  },
  {
   "cell_type": "markdown",
   "metadata": {},
   "source": [
    "2) Functions to take a sublists of elements:"
   ]
  },
  {
   "cell_type": "code",
   "execution_count": 4,
   "metadata": {},
   "outputs": [
    {
     "data": {
      "text/plain": [
       "res2: (List[String], List[String]) = (List(Jaén),List(Córdoba, Sevilla, Huelva, Cádiz, Málaga, Granada, Almería))\n"
      ]
     },
     "execution_count": 4,
     "metadata": {},
     "output_type": "execute_result"
    }
   ],
   "source": [
    "provincias.take(2)                          // Take a given number of elements from the left part of the list\n",
    "provincias.drop(2)                          // Remove a given number of elements from the left part of the list\n",
    "provincias.dropRight(2)                     // Remove a given number of elements from the right part of the list\n",
    "provincias.filterNot(p => p.endsWith(\"a\"))  // Remove the elements that comply a given condition\n",
    "provincias.filter(p => p.endsWith(\"a\"))     // Take the elements that comply a given condition\n",
    "provincias.partition(p => p.endsWith(\"a\"))  // Returns two lists, one conteining the elements that comply a condition and the other with the rest of them\n",
    "provincias.splitAt(2)                       // Split the list into two using the index\n",
    "provincias.takeWhile(p => !p.endsWith(\"a\")) // Keep the longest prefix of the list whose elements comply the condition\n",
    "provincias.dropWhile(p => !p.endsWith(\"a\")) // Remove the longest prefix of the list whose elements comply the condition\n",
    "provincias.span(p => !p.endsWith(\"a\"))      // Split the original list into two: the result of the takewhile and the dropWhile, respectively"
   ]
  },
  {
   "cell_type": "raw",
   "metadata": {},
   "source": []
  },
  {
   "cell_type": "markdown",
   "metadata": {},
   "source": [
    "3) Quantifiers: existential ($\\exists$) and universal ($\\forall$):"
   ]
  },
  {
   "cell_type": "code",
   "execution_count": 5,
   "metadata": {},
   "outputs": [
    {
     "data": {
      "text/plain": [
       "res3: Boolean = true\n"
      ]
     },
     "execution_count": 5,
     "metadata": {},
     "output_type": "execute_result"
    }
   ],
   "source": [
    "provincias.exists(p => p.endsWith(\"x\"))  // Check if there is an element that complies the condition\n",
    "provincias.forall(p => p.length > 3)     // Check if all the elements comply the condition"
   ]
  },
  {
   "cell_type": "markdown",
   "metadata": {},
   "source": [
    "4) Ordering:"
   ]
  },
  {
   "cell_type": "code",
   "execution_count": 6,
   "metadata": {},
   "outputs": [
    {
     "data": {
      "text/plain": [
       "res4: List[String] = List(Almería, Córdoba, Cádiz, Granada, Huelva, Jaén, Málaga, Sevilla)\n"
      ]
     },
     "execution_count": 6,
     "metadata": {},
     "output_type": "execute_result"
    }
   ],
   "source": [
    "provincias.reverse                  // Inverse order of the elements\n",
    "provincias.sortWith((s, t) =>       // Sort the elements using a given relation\n",
    "                     s.charAt(0) <\n",
    "                     t.charAt(0))"
   ]
  },
  {
   "cell_type": "markdown",
   "metadata": {},
   "source": [
    "5) Extractors:"
   ]
  },
  {
   "cell_type": "code",
   "execution_count": 7,
   "metadata": {},
   "outputs": [
    {
     "data": {
      "text/plain": [
       "res5: String = Sevilla\n"
      ]
     },
     "execution_count": 7,
     "metadata": {},
     "output_type": "execute_result"
    }
   ],
   "source": [
    "provincias.head     // First element from the left\n",
    "provincias.tail     // All the elements, except the first from the left\n",
    "provincias.init     // All the elements, except the first from the right\n",
    "provincias.last     // First element from the right\n",
    "\n",
    "provincias.apply(2) // take the element in the given position"
   ]
  },
  {
   "cell_type": "markdown",
   "metadata": {},
   "source": [
    "6) Functions with the elements of the list:"
   ]
  },
  {
   "cell_type": "code",
   "execution_count": 9,
   "metadata": {},
   "outputs": [
    {
     "name": "stdout",
     "output_type": "stream",
     "text": [
      "Jaén\n",
      "Córdoba\n",
      "Sevilla\n",
      "Huelva\n",
      "Cádiz\n",
      "Málaga\n",
      "Granada\n",
      "Almería\n"
     ]
    },
    {
     "data": {
      "text/plain": [
       "zipped: List[(String, Int)] = List((Jaén,0), (Córdoba,1), (Sevilla,2), (Huelva,3), (Cádiz,4), (Málaga,5), (Granada,6), (Almería,7))\n",
       "mult: List[List[String]] = List(List(Jaén, Córdoba), List(Sevilla, Huelva, Cádiz), List(Málaga, Granada, Almería))\n",
       "res7: List[Char] = List(J, a, é, n, C, ó, r, d, o, b, a, S, e, v, i, l, l, a, H, u, e, l, v, a, C, á, d, i, z, M, á, l, a, g, a, G, r, a, n, a, d, a, A, l, m, e, r, í, a)\n"
      ]
     },
     "execution_count": 9,
     "metadata": {},
     "output_type": "execute_result"
    }
   ],
   "source": [
    "provincias.zip(provincias.indices)    // Merges two lists into a new one containing tuples with an element from each list\n",
    "provincias.zipWithIndex               // Merges a list with its indexes (this example is equivalent to the previous one)\n",
    "\n",
    "val zipped = provincias.zip(provincias.indices)\n",
    "zipped.unzip                          // Splits a list of tuples in two lists\n",
    "\n",
    "val mult = List(List(\"Jaén\", \"Córdoba\"), List(\"Sevilla\", \"Huelva\", \"Cádiz\"), List(\"Málaga\", \"Granada\", \"Almería\"))\n",
    "mult.flatten                          // Flattens a list of lists appending the elements of the contained lists\n",
    "\n",
    "provincias.foreach(p => println(p))   // Applies the given function to all the elements in the list (returns \"Unit\")\n",
    "provincias.map(p => p.toLowerCase())  // Returns a list containing the result of applying the function to each element of the original list\n",
    "\n",
    "provincias.map(p => p.toList)        \n",
    "provincias.flatMap(p => p.toList)  "
   ]
  },
  {
   "cell_type": "markdown",
   "metadata": {},
   "source": [
    "7) Transformations between `List` and `Array`:"
   ]
  },
  {
   "cell_type": "code",
   "execution_count": 8,
   "metadata": {},
   "outputs": [
    {
     "data": {
      "text/plain": [
       "provinciasArr: Array[String] = Array(Jaén, Córdoba, Sevilla, Huelva, Cádiz, Málaga, Granada, Almería)\n",
       "provinciasLst: List[String] = List(Jaén, Córdoba, Sevilla, Huelva, Cádiz, Málaga, Granada, Almería)\n",
       "provinciasArr2: Array[String] = Array(Jaén, Córdoba, Sevilla, Huelva, Cádiz, Málaga, Granada, Almería)\n"
      ]
     },
     "execution_count": 8,
     "metadata": {},
     "output_type": "execute_result"
    }
   ],
   "source": [
    "val provinciasArr = provincias.toArray\n",
    "val provinciasLst = provinciasArr.toList\n",
    "\n",
    "val provinciasArr2 = new Array[String](8)\n",
    "provincias.copyToArray(provinciasArr2, 0)  // The array must be large enough to contain the elemnets of the list"
   ]
  },
  {
   "cell_type": "markdown",
   "metadata": {},
   "source": [
    "8) Finally, functions to transform a list into a String:"
   ]
  },
  {
   "cell_type": "code",
   "execution_count": 10,
   "metadata": {},
   "outputs": [
    {
     "data": {
      "text/plain": [
       "res8: String = [Jaén, Córdoba, Sevilla, Huelva, Cádiz, Málaga, Granada, Almería]\n"
      ]
     },
     "execution_count": 10,
     "metadata": {},
     "output_type": "execute_result"
    }
   ],
   "source": [
    "provincias.toString                  // Tranforms a list into a String\n",
    "provincias.mkString(\"[\", \", \", \"]\")  // Tranforms a list into a String, specifying a prefix, a separator between the elements of the list and a suffix"
   ]
  },
  {
   "cell_type": "markdown",
   "metadata": {},
   "source": [
    "<table align=\"left\" style=\"border-collapse: collapse; border: none !important; width: 100%;\">\n",
    "    <tr style=\"border:none !important;\">\n",
    "        <td style=\"border:none !important; width: 60px;\">\n",
    "<img src=\"icons/notepad.png\" align=\"left\" width=\"50px\"> \n",
    "        </td>\n",
    "        <td style=\"border:none !important;text-align:left;\">\n",
    "            <ul>\n",
    "                <li>Function `length` is really expensive, so it is **NOT** a good idea to use `xs.length == 0` instead of `xs.isEmpty`</li>\n",
    "                <li>Functions `head` and `tail` have a complexity in time of O(0), while `init` and `last` complexities depend on the length of the list</li>\n",
    "                <li>Accessing to the last elements of a list is very expensive, it is usually better to perform a `reverse` and then access to the first elements</li>\n",
    "                <li>Executing `zip` with lists of different leghts will ignore the \"surplus\"</li>\n",
    "                <li>Some interesting equivalences:</li>\n",
    "                <ul>\n",
    "                    <li>`xs.reverse.reverse equals xs`</li>\n",
    "                    <li>`xs.reverse.init equals xs.tail.reverse`</li>\n",
    "                    <li>`xs.reverse.tail equals xs.init.reverse`</li>\n",
    "                    <li>`xs.reverse.head equals xs.last`</li>\n",
    "                    <li>`xs.reverse.last equals xs.head`</li>\n",
    "                </ul>\n",
    "            </ul>\n",
    "        </td>\n",
    "    </tr>\n",
    "</table>"
   ]
  },
  {
   "cell_type": "markdown",
   "metadata": {},
   "source": [
    "<a name=\"subsubseccion-Folding functions\"></a>\n",
    "### Folding functions\n",
    "\n",
    "This is a very important set of functions on lists, forming by the left  (`/:`)  and right (`:\\`) folding functions. They allow us to aggregate the elements of the list applying a function to process then in pairs. We must specify the list to be processed (`xs`), a binary function (`op`) and the base case of the operation (`z`) which is used to form a pair with the first element of the list if is a folding from the left, analogous with a folding from the right:\n",
    "\n",
    "\n",
    "* `(z /: List(abc))(op)` is equivalent to `op(op(op(z, a), b), c)`\n",
    "* `(List(abc) :\\ z)(op)` is equivalent to `op(a, op(b, op(c, z)))`\n",
    "\n",
    "\n",
    "<img src=\"images/plegado.png\" width=400px/>"
   ]
  },
  {
   "cell_type": "code",
   "execution_count": 12,
   "metadata": {},
   "outputs": [
    {
     "data": {
      "text/plain": [
       "sumBinInts: (Int, Int) => Int = <function2>\n",
       "sumList: (xs: List[Int])Int\n",
       "nums: List[Int] = List(1, 2, 3)\n",
       "res10: Int = 6\n"
      ]
     },
     "execution_count": 12,
     "metadata": {},
     "output_type": "execute_result"
    }
   ],
   "source": [
    "val sumBinInts = ((x: Int, y: Int) => x + y)\n",
    "def sumList(xs: List[Int]): Int = (0 /: xs)(sumBinInts)\n",
    "val nums = List(1, 2, 3)\n",
    "nums.sum\n",
    "(0 /: nums)((x: Int, y: Int) => x + y)\n",
    "nums.foldLeft(0)(sumBinInts)"
   ]
  },
  {
   "cell_type": "markdown",
   "metadata": {},
   "source": [
    "<table align=\"left\" style=\"border-collapse: collapse; border: none !important; width: 100%;\">\n",
    "    <tr style=\"border:none !important;\">\n",
    "        <td style=\"border:none !important; width: 60px;\">\n",
    "<img src=\"icons/notepad.png\" align=\"left\" width=\"50px\"> \n",
    "        </td>\n",
    "        <td style=\"border:none !important;text-align:left;\">\n",
    "            <ul>\n",
    "                <li>We can use functions `foldLeft` and `foldRight` in class `List` instead of `/:` and `:\\` operators, respectively.</li>\n",
    "            </ul>\n",
    "        </td>\n",
    "    </tr>\n",
    "</table>"
   ]
  },
  {
   "cell_type": "markdown",
   "metadata": {},
   "source": [
    "<a name=\"subseccion-Tuples\"></a>\n",
    "## Tuples\n",
    "\n",
    "A list is a sequence of elements of the same type, but what can we do to group elements of different types? That is the aim of tuples, inmutable sequences of objects with (possibly) different types. According to the types of its elements, lists are _homogeneous_ and tuples are _heterogeneous_.\n",
    "\n",
    "We can access the elements of a tuple by using '`._`' and the index of the element, starting in `1`."
   ]
  },
  {
   "cell_type": "code",
   "execution_count": 13,
   "metadata": {},
   "outputs": [
    {
     "data": {
      "text/plain": [
       "<console>:25: warning: a pure expression does nothing in statement position; you may be omitting necessary parentheses\n",
       "       par._1\n",
       "           ^\n",
       "par: (String, Int) = (Diámetro de la Tierra (Km),12742)\n",
       "res11: Int = 12742\n"
      ]
     },
     "execution_count": 13,
     "metadata": {},
     "output_type": "execute_result"
    }
   ],
   "source": [
    "val par = (\"Diámetro de la Tierra (Km)\", 12742)\n",
    "par._1\n",
    "par._2"
   ]
  },
  {
   "cell_type": "markdown",
   "metadata": {},
   "source": [
    "<table align=\"left\" style=\"border-collapse: collapse; border: none !important; width: 100%;\">\n",
    "    <tr style=\"border:none !important;\">\n",
    "        <td style=\"border:none !important; width: 60px;\">\n",
    "<img src=\"icons/notepad.png\" align=\"left\" width=\"50px\"> \n",
    "        </td>\n",
    "        <td style=\"border:none !important;text-align:left;\">\n",
    "            <ul>\n",
    "                <li>The type of a tuple depends on the number and type of its components. The type of the tuple in the example is `Tuple2[String, Int]`</li>\n",
    "                <li>Theoretically, we can define a tuple with any number of elements, but in Scala we are limited to 22 elements (`Tuple22`)</li>\n",
    "                <li>Unlike the lists, the elements in a tuple cannot be accessed using braces, `par(0)`, because `apply` function would be invoked and there is a problem with the return type due to the _heterogeneity_ of tuples</li>\n",
    "            </ul>\n",
    "        </td>\n",
    "    </tr>\n",
    "</table>"
   ]
  },
  {
   "cell_type": "markdown",
   "metadata": {},
   "source": [
    "<a name=\"subseccion-Using `Sets` and `Maps`\"></a>\n",
    "## Using `Sets` and `Maps`\n",
    "\n",
    "The last data structures to be reviewed in this chapter are `Set` and `Map`. Scala provides mutable and inmutable versions for each one. By default Scala uses the inmutable ones, so the mutable versions must be explicitly imported in case we need them. Next figure shows the hierarchy of classes and `traits` (a concept similar to Java 8 `interfaces` that we will see later) of `Set` and `Map`.\n",
    "\n",
    "<img src=\"images/SetMap.png\" width=800px/>\n",
    "\n",
    "Both versions, `mutable` and `immutable`, behaves similarly with some exceptions. For example, both `scala.collection.mutable.Set` and `scala.collection.immutable.Set` have a function `+` in charge of the creation of a new copy of the `Set` with the addition of the given element, but just the `mutable` version provides a fucntion `+=` to add the element into the original  `Set`.\n",
    "\n",
    "Some basic operations with `Set`:\n",
    "* `+`: Adds an element\n",
    "* `-`: Removes an element\n",
    "* `++`: Adds a number of elements (i.e. `miSet ++ List(1, 2, 3)`)\n",
    "* `--`: Removes a number of elements \n",
    "* `size`: Returns the number of elements of the `Set`\n",
    "* `contains`: Returns `true` if the given element is contained in the `Set`\n",
    "* `clear`: Removes all the elements in the `Set`\n",
    "* `intersect`, `union` y `diff`: common set operations"
   ]
  },
  {
   "cell_type": "code",
   "execution_count": 1,
   "metadata": {},
   "outputs": [
    {
     "data": {
      "text/plain": [
       "Intitializing Scala interpreter ..."
      ]
     },
     "metadata": {},
     "output_type": "display_data"
    },
    {
     "data": {
      "text/plain": [
       "Spark Web UI available at http://172.17.0.2:4040\n",
       "SparkContext available as 'sc' (version = 2.2.0, master = local[*], app id = local-1512117972518)\n",
       "SparkSession available as 'spark'\n"
      ]
     },
     "metadata": {},
     "output_type": "display_data"
    },
    {
     "data": {
      "text/plain": [
       "import scala.collection.mutable\n",
       "miSet: scala.collection.mutable.Set[Int] = Set()\n",
       "res0: scala.collection.immutable.Set[Int] = Set(3)\n"
      ]
     },
     "execution_count": 1,
     "metadata": {},
     "output_type": "execute_result"
    }
   ],
   "source": [
    "import scala.collection.mutable    // This sentence imports the 'mutable.Set'\n",
    "\n",
    "val miSet = mutable.Set[Int]()\n",
    "miSet += 2\n",
    "miSet -= 2\n",
    "miSet ++= List(1, 2, 3, 4)\n",
    "miSet --= List(2, 3)\n",
    "miSet.size\n",
    "miSet.contains(1)\n",
    "miSet.clear; miSet.size\n",
    "Set(3, 4, 5) intersect Set(4, 5, 6)\n",
    "Set(3, 4, 5) union Set(4, 5, 6)\n",
    "Set(3, 4, 5) diff Set(4, 5, 6)"
   ]
  },
  {
   "cell_type": "markdown",
   "metadata": {},
   "source": [
    "`Maps` are sequences of tuples (key, value), that can be created with operator `->`.\n",
    "\n",
    "Some basic operations with `Map`:\n",
    "* `+`: Adds a pair key `->` value\n",
    "* `-`: Removes a pair, given the key\n",
    "* `++`: Adds a number of pairs (for example, `miMap ++ List(1 -> \"uno\", 2 -> \"dos\")`)\n",
    "* `--`: Removes a number of pairs \n",
    "* `size`: Returns the number of pairs in the `Map`\n",
    "* `contains`: Returns `true` if the given key is contained in the `Map`\n",
    "* `keys`: Returns an iterator over the keys\n",
    "* `keySet`: Returns a `Set` with all the keys\n",
    "* `values`: Returns an iterator over the values\n",
    "* `isEmpty`: Returns `true` if the `Map` is empty\n",
    "\n",
    "And, of course, we can retrieve the value stored in a `Map` given its corresponding key as a parameter."
   ]
  },
  {
   "cell_type": "code",
   "execution_count": 2,
   "metadata": {},
   "outputs": [
    {
     "name": "stdout",
     "output_type": "stream",
     "text": [
      "Japón\n",
      "España\n",
      "Tokyo\n",
      "Madrid\n"
     ]
    },
    {
     "data": {
      "text/plain": [
       "import scala.collection.mutable\n",
       "capitales: scala.collection.mutable.Map[String,String] = Map(Japón -> Tokyo, España -> Madrid)\n",
       "res1: Boolean = false\n"
      ]
     },
     "execution_count": 2,
     "metadata": {},
     "output_type": "execute_result"
    }
   ],
   "source": [
    "import scala.collection.mutable    // This sentence imports the 'mutable.Map'\n",
    "\n",
    "val capitales = mutable.Map(\"España\" -> \"Madrid\", \"Francia\" -> \"Paris\")\n",
    "capitales += \"Alemania\" -> \"Berlin\"\n",
    "capitales -= \"Francia\"\n",
    "capitales ++= List(\"Japón\" -> \"Tokyo\", \"Portugal\" -> \"Lisboa\")\n",
    "capitales --= List(\"Portugal\", \"Alemania\")\n",
    "capitales.size\n",
    "capitales.contains(\"Francia\")\n",
    "capitales.contains(\"España\")\n",
    "for (p <- capitales.keys) println(p)\n",
    "capitales.keySet\n",
    "for (c <- capitales.values) println(c)\n",
    "capitales.isEmpty"
   ]
  },
  {
   "cell_type": "markdown",
   "metadata": {},
   "source": [
    "<table align=\"left\" style=\"border-collapse: collapse; border: none !important; width: 100%;\">\n",
    "    <tr style=\"border:none !important;\">\n",
    "        <td style=\"border:none !important; width: 60px;\">\n",
    "<img src=\"icons/notepad.png\" align=\"left\" width=\"50px\"> \n",
    "        </td>\n",
    "        <td style=\"border:none !important;text-align:left;\">\n",
    "            <ul>\n",
    "                <li>We can use and create new types of `Set` and `Map`, for example `scala.collection.immutable.HashSet`</li>\n",
    "                <li>If we create an empty `Map` we m ust specify its type because Scala cannot infer it: `val capitales = Map[String, String]()`</li>\n",
    "                <li>It is strongly recommended the `immutable` version instead of the `mutable` one, same as `val` instead of `var` and functions without collateral effects instead of procedures. All of these recommendations lead us towards a pure functional programming style.</li>\n",
    "            </ul>\n",
    "        </td>\n",
    "    </tr>\n",
    "</table>"
   ]
  },
  {
   "cell_type": "markdown",
   "metadata": {},
   "source": [
    "## Pros and Cons of inmutable objects\n",
    "\n",
    "As we know, inmutability is a key concept in functional programming, prioritizing the use of this type of objects instead of the mutable ones. Moving to another field like Maths, if we sum two rationals, we do not modify the operands but we \"define\" a new variable with the result of the operation. Anyway, there are situations where mutable objects are needed, so Scala provides the mutable alternatives for many kinds of objects, although it is strongly recommended the use of inmutable objects as much as possible.\n",
    "\n",
    "When it comes to define our own classes, we must decide whether they will be inmutable objects, or we will allow those objects to be modified after their instantiation.\n",
    "\n",
    "Let us enumerate some advantages and disadvantages of this type of objects: \n",
    "\n",
    "Pros:\n",
    "* Ir is easier to think on inmutable objects, without changing states over time.\n",
    "* We can pass those objects to functions without the need of making copies in case they are modified.\n",
    "* Concurrent programming is easier because a number of threads can access to an object but cannot modify it.\n",
    "* A safe 'hashkey' is created for those objects, in order to ensure the ability of locating the object in a `HashSet`, once it has been modified.\n",
    "\n",
    "Cons:\n",
    "* Anytime we perform a transformation function on the inmutable object, it is duplicated along with all its dependencies, when  sometimes the transformation can consist only on one simple edition of a variable."
   ]
  },
  {
   "cell_type": "markdown",
   "metadata": {},
   "source": [
    "<a name=\"subseccion-Clases y objetos\"></a>\n",
    "<a name=\"subseccion-Classes and objects\"></a>\n",
    "## Classes and objects\n",
    "\n",
    "As an object-oriented programming language, Scala allows us to define classes, fields, methods (functions) and objects.\n",
    "\n",
    "In the next example we show a declaration of a simple class, with a field `acumulator` and two methods `sum` and `get`. The field is declared as `private`, to restrict its visibility outside the class."
   ]
  },
  {
   "cell_type": "code",
   "execution_count": 4,
   "metadata": {},
   "outputs": [
    {
     "name": "stdout",
     "output_type": "stream",
     "text": [
      "0\n",
      "5\n"
     ]
    },
    {
     "data": {
      "text/plain": [
       "defined class miClase\n",
       "c: miClase = miClase@510da336\n"
      ]
     },
     "execution_count": 4,
     "metadata": {},
     "output_type": "execute_result"
    }
   ],
   "source": [
    "class miClase{\n",
    "    private var acumulator = 0\n",
    "    def sum(x: Int): Unit = {\n",
    "        acumulator += x\n",
    "    }\n",
    "    def get(): Int = {\n",
    "        return acumulator\n",
    "    }\n",
    "}\n",
    "\n",
    "val c = new miClase\n",
    "println(c.get())\n",
    "c.sum(5)\n",
    "println(c.get())"
   ]
  },
  {
   "cell_type": "markdown",
   "metadata": {},
   "source": [
    "<table align=\"left\" style=\"border-collapse: collapse; border: none !important; width: 100%;\">\n",
    "    <tr style=\"border:none !important;\">\n",
    "        <td style=\"border:none !important; width: 60px;\">\n",
    "<img src=\"icons/notepad.png\" align=\"left\" width=\"50px\"> \n",
    "        </td>\n",
    "        <td style=\"border:none !important;text-align:left;\">\n",
    "            <ul>\n",
    "                <li>The parameters of a method are always `val`, so `x` cannot be modified inside in function `sum`</li>\n",
    "                <li>`private` and `protected` have similar meanings in Scala and Java, with two differences: a `private` member is not visible in an internal class and a `protected` one cannot be accessed from classes within the same package</li>\n",
    "                <li>`public` do not exists in Scala, just the members of a class are public by default</li>\n",
    "                <li>In Scala we can specify `private[this]` in order to hide the contents of an object from other objects of the same class.</li>\n",
    "                <li>Naming convention in Scala: classes and constants should be named in _UpperCamelCase_, while variables, fields and methods should be named in lower cases. It is **not*** recommended the use of `_`, which has other uses in Scala</li>\n",
    "                <li>In Scala, we reference an internal class as `Outer#Inner`. The use of symbol '`.`' is reserved for the objects (`o1.Inner` and `o2.Inner` would be 2 different types, subtypes of the general `Outer#Inner`)</li>\n",
    "            </ul>\n",
    "        </td>\n",
    "    </tr>\n",
    "</table>"
   ]
  },
  {
   "cell_type": "markdown",
   "metadata": {},
   "source": [
    "<table align=\"left\" style=\"border-collapse: collapse; border: none !important; width: 100%;\">\n",
    "    <tr style=\"border:none !important;\">\n",
    "        <td style=\"border:none !important; width: 60px;\">\n",
    "<img src=\"icons/optimizar.png\" align=\"left\" width=\"50px\"> \n",
    "        </td>\n",
    "        <td style=\"border:none !important;text-align:left;\">\n",
    "            <ul>\n",
    "                <li>Following Scala syntax, we could omit types and brackets in some lines of the previous example</li>\n",
    "                <li>Method `sum` is a procedure implemented to provoke collateral effects, so we could write it omitting the return type and the symbol '`=`': `def sum(x: Int) {acumulator += x}`</li>\n",
    "                <li>`return` is not necessary in method `get` because, in Scala, methods return the value returned by their last sentence (except in procedures, where the value is omitted and a `Unit` is returned)</li>\n",
    "            </ul>\n",
    "        </td>\n",
    "    </tr>\n",
    "</table>"
   ]
  },
  {
   "cell_type": "markdown",
   "metadata": {},
   "source": [
    "<table align=\"left\" style=\"border-collapse: collapse; border: none !important; width: 100%;\">\n",
    "    <tr style=\"border:none !important;\">\n",
    "        <td style=\"border:none !important; width: 60px;\">\n",
    "<img src=\"icons/warning.png\" align=\"left\" width=\"50px\"> \n",
    "        </td>\n",
    "        <td style=\"border:none !important;text-align:left;\">\n",
    "            <ul>\n",
    "                <li>If we miss the symbol '`=`' in a method, Scala will take it as a procedure and the return type will be `Unit`, so we may not obtain the expected result</li>\n",
    "            </ul>\n",
    "        </td>\n",
    "    </tr>\n",
    "</table>"
   ]
  },
  {
   "cell_type": "markdown",
   "metadata": {},
   "source": [
    "Although the use of inmutable objects is strongly recommended, Scala provides the ability of specifying mutable statuses through the mutable variables using `var`. When we use this sentence to define a field, i.e. `var x`, Scala automatically generates a 'getter' `x` and a 'setter' `x_=`. In fact, we could also define 'getters' and 'setters' without an associated `var`."
   ]
  },
  {
   "cell_type": "code",
   "execution_count": null,
   "metadata": {
    "collapsed": true
   },
   "outputs": [],
   "source": [
    "class Time {\n",
    "    var hour = 12\n",
    "    var minute = 0\n",
    "}\n",
    "val t = new Time()\n",
    "t.hour\n",
    "t.hour_=(13)\n",
    "t.hour\n",
    "\n",
    "class Thermometer {\n",
    "    var celsius: Float = _\n",
    "    def fahrenheit = celsius * 9 / 5 + 32\n",
    "    def fahrenheit_= (f: Float) {           // Se crea el 'var' fahrenheit\n",
    "        celsius = (f - 32) * 5 / 9\n",
    "    }\n",
    "    override def toString = fahrenheit +\"F/\"+ celsius +\"C\"\n",
    "}"
   ]
  },
  {
   "cell_type": "markdown",
   "metadata": {},
   "source": [
    "<table align=\"left\" style=\"border-collapse: collapse; border: none !important; width: 100%;\">\n",
    "    <tr style=\"border:none !important;\">\n",
    "        <td style=\"border:none !important; width: 60px;\">\n",
    "<img src=\"icons/notepad.png\" align=\"left\" width=\"50px\"> \n",
    "        </td>\n",
    "        <td style=\"border:none !important;text-align:left;\">\n",
    "            <ul>\n",
    "                <li>Mutable variable `celsius` is initialized with `_` in order to assign a zero, depending on the type (0, false, null,...)</li>\n",
    "            </ul>\n",
    "        </td>\n",
    "    </tr>\n",
    "</table>"
   ]
  },
  {
   "cell_type": "markdown",
   "metadata": {},
   "source": [
    "Unlike Java, Scala do not have `static` elements but, in exchange, we can create 'singleton' objects. The definition syntax is like normal classes but changing `class` for `object`."
   ]
  },
  {
   "cell_type": "code",
   "execution_count": null,
   "metadata": {
    "collapsed": true
   },
   "outputs": [],
   "source": [
    "object miObjeto{\n",
    "    private var acumulador = 0\n",
    "    def sumar(x: Int): Unit = {\n",
    "        acumulador += x\n",
    "    }\n",
    "    def consultar(): Int = {\n",
    "        return acumulador\n",
    "    }\n",
    "}\n",
    "\n",
    "println(miObjeto.consultar())\n",
    "miObjeto.sumar(5)\n",
    "println(miObjeto.consultar())"
   ]
  },
  {
   "cell_type": "markdown",
   "metadata": {},
   "source": [
    "<table align=\"left\" style=\"border-collapse: collapse; border: none !important; width: 100%;\">\n",
    "    <tr style=\"border:none !important;\">\n",
    "        <td style=\"border:none !important; width: 60px;\">\n",
    "<img src=\"icons/notepad.png\" align=\"left\" width=\"50px\"> \n",
    "        </td>\n",
    "        <td style=\"border:none !important;text-align:left;\">\n",
    "            <ul>\n",
    "                <li>Since a 'singleton' object is **not** an instantiable class, we cannot use `new` to create it. Internally, a 'singleton' object is an instance of a synthetic class named like the object, ending in '`$`' (`miObjeto$` in the example).</li>\n",
    "            </ul>\n",
    "        </td>\n",
    "    </tr>\n",
    "</table>"
   ]
  },
  {
   "cell_type": "markdown",
   "metadata": {},
   "source": [
    "<a name=\"subseccion-`abstract` modificator\"></a>\n",
    "## `abstract` modificator\n",
    "\n",
    "Like Java, Scala provide a mechanism to define `abstract` classes, that can contain methods without a defined implementation, thus it is **not** possible to instantiate objects from abstract classes. To do so, we must define a child class which adds as implementation to the elements of the father who do not have one.\n",
    "\n",
    "`abstract` modificator can be applied just to classes, not methods. \n",
    "\n",
    "Regarding the conventions in Scala intended to avoid boilerplate code, since we can omit the brackets and symbol `=` when a method do not have a source code, the definition of an abstract method is very similar to the definition of a field."
   ]
  },
  {
   "cell_type": "code",
   "execution_count": null,
   "metadata": {
    "collapsed": true
   },
   "outputs": [],
   "source": [
    "abstract class Elemento{\n",
    "    def contenidos: Array[String]\n",
    "}"
   ]
  },
  {
   "cell_type": "markdown",
   "metadata": {},
   "source": [
    "<table align=\"left\" style=\"border-collapse: collapse; border: none !important; width: 100%;\">\n",
    "    <tr style=\"border:none !important;\">\n",
    "        <td style=\"border:none !important; width: 60px;\">\n",
    "<img src=\"icons/notepad.png\" align=\"left\" width=\"50px\"> \n",
    "        </td>\n",
    "        <td style=\"border:none !important;text-align:left;\">\n",
    "            <ul>\n",
    "                <li>It is also possible to omit the braces when the method is invoked, but it is recommended to follow the same critera: include the braces whenever the method can provoke collateral effects.\n",
    "            </ul>\n",
    "        </td>\n",
    "    </tr>\n",
    "</table>"
   ]
  },
  {
   "cell_type": "markdown",
   "metadata": {},
   "source": [
    "<table align=\"left\" style=\"border-collapse: collapse; border: none !important; width: 100%;\">\n",
    "    <tr style=\"border:none !important;\">\n",
    "        <td style=\"border:none !important; width: 60px;\">\n",
    "<img src=\"icons/optimizar.png\" align=\"left\" width=\"50px\"> \n",
    "        </td>\n",
    "        <td style=\"border:none !important; text-align:left\">\n",
    "            <ul>\n",
    "                <li>The decision between defining a field or a method relies solely on the application: a field can be faster, but it also requires aditional memory space for each object.</li>\n",
    "                <li>Note the difference between initializing a field to zero, `var x:Int = _`, or defining it as abstract, `var x:Int`</li>\n",
    "            </ul>\n",
    "        </td>\n",
    "    </tr>\n",
    "</table>"
   ]
  },
  {
   "cell_type": "markdown",
   "metadata": {},
   "source": [
    "<a name=\"subseccion-Inheritance\"></a>\n",
    "## Inheritance\n",
    "\n",
    "From the point of view of an object-oriented language, in Scala we can extend a class through the inheritance with the following syntax: `class B() extends A {...}`. Class `B` inherits all the elements in class `A` and becomes a subclass of `A`, while the type `B` is a subtype of `A`, with two exceptions:\n",
    "\n",
    "1. `private` elements are not inherited.\n",
    "1. A method in the superclass is not inherited if we define a metho din the subclass with the same name and parameters (it is called 'override')\n",
    "\n",
    "Some interesting points:\n",
    "* If we override a non-abstract method, it is required to add `override` at the beginning of its definition\n",
    "* We can override a method without parameters with a field (methods and fields share the same 'namespace' in Scala)\n",
    "* Since the 'namespace' is shared by methods and fields, we cannot have a field and a method with the same name in the same class.\n",
    "\n",
    "One of the most relevant effects of the inheritance is that we can use an object of the subclass wherever an object of the superclass is required (this phenomenon is called 'polymorphism'). When we call a method that exists in both, the superclass and the subclass, the implementation to be executed is the one in the object calling it, not the implementation of the required type."
   ]
  },
  {
   "cell_type": "code",
   "execution_count": null,
   "metadata": {
    "collapsed": true
   },
   "outputs": [],
   "source": [
    "abstract class Animal {\n",
    "    def peligroso: Boolean\n",
    "    def miTipo = println(\"Animal\")\n",
    "}\n",
    "\n",
    "class Perro extends Animal {\n",
    "    val peligroso = false\n",
    "    override def miTipo = println(\"Perro\")\n",
    "}\n",
    "\n",
    "val mascota: Animal = new Perro\n",
    "mascota.miTipo"
   ]
  },
  {
   "cell_type": "markdown",
   "metadata": {},
   "source": [
    "<table align=\"left\" style=\"border-collapse: collapse; border: none !important; width: 100%;\">\n",
    "    <tr style=\"border:none !important;\">\n",
    "        <td style=\"border:none !important; width: 60px;\">\n",
    "<img src=\"icons/notepad.png\" align=\"left\" width=\"50px\"> \n",
    "        </td>\n",
    "        <td style=\"border:none !important; text-align:left\">\n",
    "            <ul>\n",
    "                <li>We have 4 different 'namespaces' in Java: fields, methods, types and packages, while we have just 2 in Scala: values (fields, methods, packages and objects) and types (classes and traits)</li>\n",
    "                <li>We mentioned before that we can implement a method through a field, but not vice versa, because a `val` is inmutable (must be evaluated always to the same value)  and a method could return different values in each invocation</li>\n",
    "            </ul>\n",
    "        </td>\n",
    "    </tr>\n",
    "</table>"
   ]
  },
  {
   "cell_type": "markdown",
   "metadata": {},
   "source": [
    "When we extend a class, we can call the constructor of the superclass just by writting its name, followed by the required parameters in braces, as we can see in the next example:\n",
    "\n",
    "<img src=\"images/Herencia.PNG\" width=400px/>"
   ]
  },
  {
   "cell_type": "code",
   "execution_count": null,
   "metadata": {
    "collapsed": true
   },
   "outputs": [],
   "source": [
    "abstract class Element{\n",
    "    def contents: Array[String]\n",
    "    def height: Int = contents.length\n",
    "    def width: Int = if (height == 0) 0 else contents(0).length\n",
    "}\n",
    "\n",
    "class ArrayElement(conts: Array[String]) extends Element {\n",
    "    def contents: Array[String] = conts\n",
    "}\n",
    "\n",
    "class LineElement(s: String) extends ArrayElement(Array(s)) {\n",
    "    override def width = s.length\n",
    "    override def height = 1\n",
    "}"
   ]
  },
  {
   "cell_type": "markdown",
   "metadata": {},
   "source": [
    "<table align=\"left\" style=\"border-collapse: collapse; border: none !important; width: 100%;\">\n",
    "    <tr style=\"border:none !important;\">\n",
    "        <td style=\"border:none !important; width: 60px;\">\n",
    "<img src=\"icons/notepad.png\" align=\"left\" width=\"50px\"> \n",
    "        </td>\n",
    "        <td style=\"border:none !important; text-align:left\">\n",
    "            <ul>\n",
    "                <li>The design of the hierarchy and composition used in the example is just that, an example. It may not be the optimal design.</li>\n",
    "            </ul>\n",
    "        </td>\n",
    "    </tr>\n",
    "</table>"
   ]
  },
  {
   "cell_type": "markdown",
   "metadata": {},
   "source": [
    "A class can be also defined as `final`, which prevents us to define any child class from it, causing a compilation error. We can use `final` in methods, making impossible to override them in any subclass with `override` modificator."
   ]
  },
  {
   "cell_type": "code",
   "execution_count": 0,
   "metadata": {},
   "outputs": [
    {
     "name": "stderr",
     "output_type": "stream",
     "text": [
      "cmd0.sc:2: illegal inheritance from final class NoHeredable\n",
      "class A extends NoHeredable\n",
      "                ^"
     ]
    },
    {
     "ename": "",
     "evalue": "",
     "output_type": "error",
     "traceback": [
      "Compilation Failed"
     ]
    }
   ],
   "source": [
    "final class NoHeredable            // Without 'final' modificator, there is no error\n",
    "class A extends NoHeredable"
   ]
  },
  {
   "cell_type": "code",
   "execution_count": 0,
   "metadata": {},
   "outputs": [
    {
     "name": "stderr",
     "output_type": "stream",
     "text": [
      "cmd0.sc:6: overriding method noHeredable in class A of type => Boolean;\n",
      " method noHeredable cannot override final member\n",
      "    override def noHeredable = false\n",
      "                 ^"
     ]
    },
    {
     "ename": "",
     "evalue": "",
     "output_type": "error",
     "traceback": [
      "Compilation Failed"
     ]
    }
   ],
   "source": [
    "class A {\n",
    "    final def noHeredable = true   // Without 'final' modificator, there is no error\n",
    "}\n",
    "\n",
    "class B extends A {\n",
    "    override def noHeredable = false\n",
    "}"
   ]
  },
  {
   "cell_type": "markdown",
   "metadata": {},
   "source": [
    "<a name=\"subseccion-La jerarquía de clases en Scala\"></a>\n",
    "<a name=\"subseccion-Class hierarchy in Scala\"></a>\n",
    "## Class hierarchy in Scala\n",
    "\n",
    "In next figure we show the class hierarchy provided by Scala, which illustrates the fact that every class is a subclass of `Any` and, on the other hand, class `Nothing` is a subclass of any class.\n",
    "\n",
    "Dotted lines represent implicit conversions defined in Scala, which means that a given type can be transformed automatically into another when needed, for example if a method `A.m` is called, but it exists in class `B`, not in class `A`, it is correct only if there is an implicit conversion from `A` to `B`. We will explain how can we define our own implicit conversions.\n",
    "\n",
    "At the top of the hierarchy, just above `Any`, we find `AnyVal` which is the root of a branch form by the types associated to the values (like `Int`), and `AnyRef`, root of the branch  form by the types associated to the reference types (like `List`). `AnyRef` is the equivalent to class `Object` in Java, and both are interchangeablein Scala, although `AnyRef` is recommended.\n",
    "\n",
    "At the bottom of the hierarchy we can find `Null`, as a subtype of all the subclasses of `AnyRef` (incompatible with `AnyVal`), being `Nothing` above all of them, as a subclass of the rest. `Nothing` do not have any associated values and it is usually used to note abnormal endings.\n",
    "\n",
    "<img src=\"images/Clases.PNG\" width=100%/>"
   ]
  },
  {
   "cell_type": "markdown",
   "metadata": {},
   "source": [
    "<table align=\"left\" style=\"border-collapse: collapse; border: none !important; width: 100%;\">\n",
    "    <tr style=\"border:none !important;\">\n",
    "        <td style=\"border:none !important; width: 60px;\">\n",
    "<img src=\"icons/notepad.png\" align=\"left\" width=\"50px\"> \n",
    "        </td>\n",
    "        <td style=\"border:none !important;text-align:left;\">\n",
    "            <ul>\n",
    "                <li>`Any` contains definitions for `==`, `!=`, `equals`, `hashCode` and `toString`, being declared as `final` the operators `==` and `!=`, equivalent to `equals` and its negation, so we can alter the behavior of `==` and `!=` by overriding `equals`</li>\n",
    "                <li>A use case for `Nothing`: `def error(message: String): Nothing = throw new RuntimeException(message)`</li>\n",
    "            </ul>\n",
    "        </td>\n",
    "    </tr>\n",
    "</table>"
   ]
  },
  {
   "cell_type": "markdown",
   "metadata": {},
   "source": [
    "<a name=\"subseccion-Enumerations\"></a>\n",
    "## Enumerations\n",
    "\n",
    "Like other languages, Scala also implements the concept of enumerations, consisting on a type composed by a set of named constants. Nevertheless, enumerations are **not** part of the syntax of the language, but they are defined through an object extending class `Enumeration`. We create an enumeration in the following example."
   ]
  },
  {
   "cell_type": "code",
   "execution_count": 1,
   "metadata": {},
   "outputs": [
    {
     "data": {
      "text/plain": [
       "defined \u001b[32mobject\u001b[39m \u001b[36mColor\u001b[39m"
      ]
     },
     "execution_count": 1,
     "metadata": {},
     "output_type": "execute_result"
    }
   ],
   "source": [
    "object Color extends Enumeration {\n",
    "    val Red, Green, Blue = Value\n",
    "}"
   ]
  },
  {
   "cell_type": "markdown",
   "metadata": {},
   "source": [
    "<table align=\"left\" style=\"border-collapse: collapse; border: none !important; width: 100%;\">\n",
    "    <tr style=\"border:none !important;\">\n",
    "        <td style=\"border:none !important; width: 60px;\">\n",
    "<img src=\"icons/notepad.png\" align=\"left\" width=\"50px\"> \n",
    "        </td>\n",
    "        <td style=\"border:none !important;text-align:left;\">\n",
    "            <ul>\n",
    "                <li>Class `scala.Enumeration` has an internal class `Value` and a method without params, `Value`, which returns a new instance of the internal class. That's the reason why `Color.Red` is of type `Color.Value`, which is the type of all the values of the enumerations defined within object `Color`</li>\n",
    "            </ul>\n",
    "        </td>\n",
    "    </tr>\n",
    "</table>"
   ]
  },
  {
   "cell_type": "markdown",
   "metadata": {},
   "source": [
    "We can also associate names to the values and perform some operations with them, such as iterate over them with method `values`, get their indexes with method `id` (starting by 0) or get the value given the index."
   ]
  },
  {
   "cell_type": "code",
   "execution_count": null,
   "metadata": {
    "collapsed": true
   },
   "outputs": [],
   "source": [
    "object Direction extends Enumeration {\n",
    "    val North = Value(\"North\")\n",
    "    val East = Value(\"East\")\n",
    "    val South = Value(\"South\")\n",
    "    val West = Value(\"West\")\n",
    "}\n",
    "for (d <- Direction.values) print(d +\" \")\n",
    "Direction.East.id\n",
    "Direction(1)"
   ]
  },
  {
   "cell_type": "markdown",
   "metadata": {},
   "source": [
    "<a name=\"subseccion-Operators precedence and associativity\"></a>\n",
    "## Operators precedence and associativity\n",
    "\n",
    "Precedence in Scala depends on the _first character_ of the name of the operator. For example, the expression `a +++ b *** c` will be computed as  `a +++ (b *** c)` because character `*` has greater precedence than `+` so it gives operator `***` higher precedence than operator `+++`. The order is, from higher to lower precedence:\n",
    "\n",
    "1. (other special characters)\n",
    "2. `* / %`\n",
    "3. `+ -`\n",
    "4. `:`\n",
    "5. `= !`\n",
    "6. `< >`\n",
    "7. `&`\n",
    "8. `^`\n",
    "9. `|`\n",
    "10. (all the letters)\n",
    "11. (all the assignment operators)\n",
    "\n",
    "There is one exception to the rule for the operators ending in `=` which are not relational (`<= >= ==`): all of them have the same precedence as `=` (the lowest). It is the case of `+=` and `*=`, for example."
   ]
  },
  {
   "cell_type": "code",
   "execution_count": 2,
   "metadata": {},
   "outputs": [
    {
     "data": {
      "text/plain": [
       "\u001b[36mres1\u001b[39m: \u001b[32mInt\u001b[39m = \u001b[32m16\u001b[39m"
      ]
     },
     "execution_count": 2,
     "metadata": {},
     "output_type": "execute_result"
    }
   ],
   "source": [
    "2 + 2 * 7"
   ]
  },
  {
   "cell_type": "markdown",
   "metadata": {},
   "source": [
    "On the other hand, associativity in Scala depends on the _last character_ of the name of the operator. General rule is that methods are called on the left operand with the right operand acting as a parameter, except if the operand ends with `:`, when the opposite is applied. This rule also applies when the operators has the same precedence, in such way that expression `a:::b:::c` will be computed as `a:::(b:::c)` and expression `a*b*c` will be computed as `(a*b)*c`, for example."
   ]
  },
  {
   "cell_type": "code",
   "execution_count": 3,
   "metadata": {},
   "outputs": [
    {
     "data": {
      "text/plain": [
       "\u001b[36mres2_0\u001b[39m: \u001b[32mInt\u001b[39m = \u001b[32m1\u001b[39m\n",
       "\u001b[36mres2_1\u001b[39m: \u001b[32mInt\u001b[39m = \u001b[32m3\u001b[39m\n",
       "\u001b[36mres2_2\u001b[39m: \u001b[32mList\u001b[39m[\u001b[32mInt\u001b[39m] = \u001b[33mList\u001b[39m(\u001b[32m1\u001b[39m, \u001b[32m2\u001b[39m, \u001b[32m3\u001b[39m)"
      ]
     },
     "execution_count": 3,
     "metadata": {},
     "output_type": "execute_result"
    }
   ],
   "source": [
    "7 % 3              //(7).%(3)\n",
    "3 % 7              //(3).%(7)\n",
    "\n",
    "1 :: List(2, 3)    //(List(2, 3)).::(1)\n",
    "//List(1, 2) :: 3  //ERROR: the method is called on the object (3) and class Int has no :: method defined"
   ]
  },
  {
   "cell_type": "markdown",
   "metadata": {},
   "source": [
    "<table align=\"left\" style=\"border-collapse: collapse; border: none !important; width: 100%;\">\n",
    "    <tr style=\"border:none !important;\">\n",
    "        <td style=\"border:none !important; width: 60px;\">\n",
    "<img src=\"icons/notepad.png\" align=\"left\" width=\"50px\"> \n",
    "        </td>\n",
    "        <td style=\"border:none !important;text-align:left;\">\n",
    "            <ul>\n",
    "                <li>Operands are allways evaluated from left to right, no matter the associativity.</li>\n",
    "            </ul>\n",
    "        </td>\n",
    "    </tr>\n",
    "</table>"
   ]
  },
  {
   "cell_type": "markdown",
   "metadata": {},
   "source": [
    "<table align=\"left\" style=\"border-collapse: collapse; border: none !important; width: 100%;\">\n",
    "    <tr style=\"border:none !important;\">\n",
    "        <td style=\"border:none !important; width: 60px;\">\n",
    "<img src=\"icons/warning.png\" align=\"left\" width=\"50px\"> \n",
    "        </td>\n",
    "        <td style=\"border:none !important;text-align:left;\">\n",
    "            <ul>\n",
    "                <li>In order to avoid mistakes, use braces everytime you have doubts about the associativity and precedence rules</li>\n",
    "            </ul>\n",
    "        </td>\n",
    "    </tr>\n",
    "</table>"
   ]
  },
  {
   "cell_type": "markdown",
   "metadata": {},
   "source": [
    "<a name=\"subseccion-Operators `==` and `!=` {and their relation to `equals`}\"></a>\n",
    "## Operators `==` and `!=` (and their relation to `equals`)\n",
    "\n",
    "As it has been stated before, operators `==` and `!=` in Scala are based on the definition of function `equals`. While in value types like `Int` the result is the common comparison between integers, for reference types it depends on the implementation of method `equals`, based on the content of the object, thus in Scala the comparison between two `String` objects with operator `==` will behave as expected (unlike in Java).\n",
    "\n",
    "We can compare objects of any types, value types like `Int` or reference types (`List`,...) and we can even compare elements of different types or with `null` without provoking an exception.\n",
    "\n",
    "The general rule for comparisons is first, check whether the left element of the comparison is `null`, if not method `equals` is called, which checks if the content of the objects are the same, even when the types are different."
   ]
  },
  {
   "cell_type": "code",
   "execution_count": 1,
   "metadata": {},
   "outputs": [
    {
     "data": {
      "text/plain": [
       "\u001b[36mres0_0\u001b[39m: \u001b[32mBoolean\u001b[39m = \u001b[32mfalse\u001b[39m\n",
       "\u001b[36mres0_1\u001b[39m: \u001b[32mBoolean\u001b[39m = \u001b[32mtrue\u001b[39m\n",
       "\u001b[36mres0_2\u001b[39m: \u001b[32mBoolean\u001b[39m = \u001b[32mtrue\u001b[39m\n",
       "\u001b[36mres0_3\u001b[39m: \u001b[32mBoolean\u001b[39m = \u001b[32mtrue\u001b[39m\n",
       "\u001b[36mres0_4\u001b[39m: \u001b[32mBoolean\u001b[39m = \u001b[32mfalse\u001b[39m\n",
       "\u001b[36mres0_5\u001b[39m: \u001b[32mBoolean\u001b[39m = \u001b[32mfalse\u001b[39m\n",
       "\u001b[36mres0_6\u001b[39m: \u001b[32mBoolean\u001b[39m = \u001b[32mtrue\u001b[39m\n",
       "\u001b[36mres0_7\u001b[39m: \u001b[32mBoolean\u001b[39m = \u001b[32mtrue\u001b[39m\n",
       "\u001b[36mres0_8\u001b[39m: \u001b[32mBoolean\u001b[39m = \u001b[32mfalse\u001b[39m\n",
       "\u001b[36mres0_9\u001b[39m: \u001b[32mBoolean\u001b[39m = \u001b[32mfalse\u001b[39m\n",
       "\u001b[36mres0_10\u001b[39m: \u001b[32mBoolean\u001b[39m = \u001b[32mtrue\u001b[39m"
      ]
     },
     "execution_count": 1,
     "metadata": {},
     "output_type": "execute_result"
    }
   ],
   "source": [
    "1 == 2\n",
    "1 != 2\n",
    "2 == 2\n",
    "\n",
    "List(1, 2, 3) == List(1, 2, 3)\n",
    "List(1, 2, 3) == List(1, 2, 3, 4)\n",
    "\n",
    "1.0 == 2\n",
    "1.0 != 2\n",
    "2.0 == 2\n",
    "\n",
    "List(1, 2, 3) == null\n",
    "null == List(1, 2, 3)\n",
    "\n",
    "(\"ho\"+\"la\") == \"hola\""
   ]
  },
  {
   "cell_type": "markdown",
   "metadata": {},
   "source": [
    "<table align=\"left\" style=\"border-collapse: collapse; border: none !important; width: 100%;\">\n",
    "    <tr style=\"border:none !important;\">\n",
    "        <td style=\"border:none !important; width: 60px;\">\n",
    "<img src=\"icons/notepad.png\" align=\"left\" width=\"50px\"> \n",
    "        </td>\n",
    "        <td style=\"border:none !important;text-align:left;\">\n",
    "            <ul>\n",
    "                <li>As we can see, the comparison with operator `==` is by **value**. If we need to perform a comparison by reference we must invoke methods `eq` and `ne`, although they can only work with objects that can be directly mapped to Java objects</li>\n",
    "            </ul>\n",
    "        </td>\n",
    "    </tr>\n",
    "</table>"
   ]
  },
  {
   "cell_type": "markdown",
   "metadata": {},
   "source": [
    "<a name=\"subseccion-Classes with parameters\"></a>\n",
    "## Classes with parameters\n",
    "\n",
    "The implementation of a simple class with, for example, two fields with type Int, can be done by specifying those fields as parameters of the class, avoiding the need for a body with the definition of the fields within brackets. I.e. : `class miClase(x: Int, y: Int)`.\n",
    "\n",
    "Scala compiler will create a constructor with those parameters, including any line of code that we write directly in the body of the class. \n",
    "\n",
    "Obviously, we can also define other class members inside the body of the class, as we can see in the example the overriding of toString method in order to show  a more legible message with information about the object."
   ]
  },
  {
   "cell_type": "code",
   "execution_count": 4,
   "metadata": {},
   "outputs": [
    {
     "name": "stdout",
     "output_type": "stream",
     "text": [
      "Created 1/2\n",
      "Created 1/2\n"
     ]
    },
    {
     "data": {
      "text/plain": [
       "defined \u001b[32mclass\u001b[39m \u001b[36mRational1\u001b[39m\n",
       "\u001b[36mres3_1\u001b[39m: \u001b[32mwrapper\u001b[39m.\u001b[32mwrapper\u001b[39m.\u001b[32mRational1\u001b[39m = $sess.cmd3Wrapper$Helper$Rational1@2c3a4967\n",
       "defined \u001b[32mclass\u001b[39m \u001b[36mRational2\u001b[39m\n",
       "\u001b[36mres3_3\u001b[39m: \u001b[32mwrapper\u001b[39m.\u001b[32mwrapper\u001b[39m.\u001b[32mRational2\u001b[39m = $sess.cmd3Wrapper$Helper$Rational2@426967cb\n",
       "defined \u001b[32mclass\u001b[39m \u001b[36mRational3\u001b[39m\n",
       "\u001b[36mres3_5\u001b[39m: \u001b[32mwrapper\u001b[39m.\u001b[32mwrapper\u001b[39m.\u001b[32mRational3\u001b[39m = 1/2"
      ]
     },
     "execution_count": 4,
     "metadata": {},
     "output_type": "execute_result"
    }
   ],
   "source": [
    "class Rational1(n: Int, d: Int)\n",
    "new Rational1(1, 2)\n",
    "\n",
    "class Rational2(n: Int, d: Int){\n",
    "    println(\"Created \"+n+\"/\"+d)                       // this instruction is included in the by-default constructor by Scala compiler\n",
    "}\n",
    "new Rational2(1, 2)\n",
    "\n",
    "class Rational3(n: Int, d: Int){\n",
    "    println(\"Created \"+n+\"/\"+d)                      // this instruction is included in the by-default constructor by Scala compiler\n",
    "    override def toString = n+\"/\"+d                  // Overriding toString method\n",
    "}\n",
    "new Rational3(1, 2)"
   ]
  },
  {
   "cell_type": "markdown",
   "metadata": {
    "collapsed": true
   },
   "source": [
    "<table align=\"left\" style=\"border-collapse: collapse; border: none !important; width: 100%;\">\n",
    "    <tr style=\"border:none !important;\">\n",
    "        <td style=\"border:none !important; width: 60px;\">\n",
    "<img src=\"icons/notepad.png\" align=\"left\" width=\"50px\"> \n",
    "        </td>\n",
    "        <td style=\"border:none !important;text-align:left;\">\n",
    "            <ul>\n",
    "                <li>While Java allows us to define constructors with params, Scala allows classes with parameters with a more concise style, saving lines of code in small classes</li>\n",
    "            </ul>\n",
    "        </td>\n",
    "    </tr>\n",
    "</table>"
   ]
  },
  {
   "cell_type": "markdown",
   "metadata": {},
   "source": [
    "What about adding a method to sum two rational numbers? We use the lessons learned up to now to do it in the example, in an inmutable fashion. But, what happen when we try to retrieve the fields '`n`' and '`d`' within object `otro`? The way in which we have defined the fields of the class `Rational4`, they can be accessed **only** from the object itself (they are _private_ by default). To solve this problem we use _parametric fields_, which are parameters defined as a field of the class, for example: `val n: Int`. We can also use `var` for a mutable option, and even precede the definition with `private` or `protected` if necessary."
   ]
  },
  {
   "cell_type": "code",
   "execution_count": 9,
   "metadata": {},
   "outputs": [
    {
     "data": {
      "text/plain": [
       "Name: Compile Error\n",
       "Message: <console>:17: error: value d is not a member of Rational4\n",
       "                   n * otro.d + otro.n * d,     // Puedo acceder a 'n' y 'd' del objeto actual pero no de 'otro'\n",
       "                            ^\n",
       "<console>:17: error: value n is not a member of Rational4\n",
       "                   n * otro.d + otro.n * d,     // Puedo acceder a 'n' y 'd' del objeto actual pero no de 'otro'\n",
       "                                     ^\n",
       "<console>:18: error: value d is not a member of Rational4\n",
       "                   d * otro.d\n",
       "                            ^\n",
       "StackTrace: "
      ]
     },
     "execution_count": 9,
     "metadata": {},
     "output_type": "execute_result"
    }
   ],
   "source": [
    "class Rational4(n: Int, d: Int){         // Falta definir n y d con 'val'\n",
    "    override def toString = n+\"/\"+d\n",
    "    def +(otro: Rational4): Rational4 = \n",
    "        new Rational4(\n",
    "            n * otro.d + otro.n * d,     // Puedo acceder a 'n' y 'd' del objeto actual pero no de 'otro'\n",
    "            d * otro.d\n",
    "        )\n",
    "}\n",
    "\n",
    "val r1 = new Rational4(1, 2)\n",
    "val r2 = new Rational4(3, 4)\n",
    "val r3 = r1 + r2"
   ]
  },
  {
   "cell_type": "code",
   "execution_count": 5,
   "metadata": {},
   "outputs": [
    {
     "data": {
      "text/plain": [
       "defined \u001b[32mclass\u001b[39m \u001b[36mGato\u001b[39m\n",
       "defined \u001b[32mclass\u001b[39m \u001b[36mTigre\u001b[39m"
      ]
     },
     "execution_count": 5,
     "metadata": {},
     "output_type": "execute_result"
    }
   ],
   "source": [
    "class Gato {\n",
    "    val peligroso = false\n",
    "}\n",
    "\n",
    "class Tigre (\n",
    "        override val peligroso: Boolean,\n",
    "        private var edad: Int\n",
    "    ) extends Gato"
   ]
  },
  {
   "cell_type": "markdown",
   "metadata": {},
   "source": [
    "In summary:\n",
    "\n",
    "* `class Rational4(n: Int)`: `n` is just a constructor parameter. If this variable is not used anywhere except the constructor, it remains there. No field is generated. Otherwise `private val n` field is created and value of `n` parameter is assigned to it. No getter is created.\n",
    "\n",
    "* `class Rational4(private val n: Int)`: Such declaration of parameter will create `private val n` field with a private getter. This behavior is the same as above no matter if the parameter was used besides the constructor (i.e. in `toString()`) or not.\n",
    "\n",
    "* `class Rational4(val bar: Int)`: Same as above but a Scala-like getter is **public**."
   ]
  },
  {
   "cell_type": "markdown",
   "metadata": {},
   "source": [
    "<a name=\"subseccion-Preconditions\"></a>\n",
    "## Preconditions\n",
    "\n",
    "Sometimes, a method needs parameters to satisfy certain conditions. For example, a rational number needs a non-zero denominator. We can describe these situations in Scala with `require`, in such way that an error is returned whenever the conditions are not satisfied. If the boolean condition passed as parameter to `require` is evaluated to `false`, exception `IllegalArgumentException` will be thrown. "
   ]
  },
  {
   "cell_type": "code",
   "execution_count": 6,
   "metadata": {},
   "outputs": [
    {
     "name": "stdout",
     "output_type": "stream",
     "text": [
      "1/2 (1)\n",
      "1/2 (3)\n"
     ]
    },
    {
     "data": {
      "text/plain": [
       "defined \u001b[32mclass\u001b[39m \u001b[36mRationalX\u001b[39m\n",
       "\u001b[36mr\u001b[39m: \u001b[32mRationalX\u001b[39m = 1/2 (3)"
      ]
     },
     "execution_count": 6,
     "metadata": {},
     "output_type": "execute_result"
    }
   ],
   "source": [
    "class RationalX(n: Int, d: Int){\n",
    "    require(d != 0)                                 // Precondition for constructor of 'Rational4'\n",
    "    var x = 1                                       // add a field x modifiable through method 'cambiaX'\n",
    "    def cambiaX(newX: Int){\n",
    "        require(newX != 0)                          // Precondition for method 'cambiaX'\n",
    "        x = newX\n",
    "    }\n",
    "    override def toString = n+\"/\"+d+\" (\"+x+\")\"\n",
    "}\n",
    "\n",
    "val r = new RationalX(1, 2)                         // Try with denominator = 0\n",
    "println(r)\n",
    "r.cambiaX(3)                                        // Try changing x to 0\n",
    "println(r)"
   ]
  },
  {
   "cell_type": "markdown",
   "metadata": {},
   "source": [
    "<a name=\"subseccion-Auxiliary class constructors\"></a>\n",
    "## Auxiliary class constructors\n",
    "\n",
    "We may need to define other class constructors apart from the default one, so we use `def this(...)`, having in mind that the first instruction is mandatory in Scala to invoke other constructor of the same class (with `this(...)`). We can define a number of auxiliary constructors in cascade, although in the end we must call the default constructor.\n",
    "\n",
    "In next example with rational numbers it could be useful to create a number by just specifying the numerator, taking by default a denominator equal to `1`."
   ]
  },
  {
   "cell_type": "code",
   "execution_count": 1,
   "metadata": {},
   "outputs": [],
   "source": [
    "class Rational5(val n: Int, val d: Int){\n",
    "    require(d != 0)\n",
    "    \n",
    "    def this(n: Int) = this(n, 1)\n",
    "    \n",
    "    override def toString = n+\"/\"+d\n",
    "    def +(otro: Rational5): Rational5 = \n",
    "        new Rational5(\n",
    "            n * otro.d + otro.n * d,\n",
    "            d * otro.d\n",
    "        )\n",
    "}"
   ]
  },
  {
   "cell_type": "markdown",
   "metadata": {
    "collapsed": true
   },
   "source": [
    "<table align=\"left\" style=\"border-collapse: collapse; border: none !important; width: 100%;\">\n",
    "    <tr style=\"border:none !important;\">\n",
    "        <td style=\"border:none !important; width: 60px;\">\n",
    "<img src=\"icons/notepad.png\" align=\"left\" width=\"50px\"> \n",
    "        </td>\n",
    "        <td style=\"border:none !important;text-align:left;\">\n",
    "            <ul>\n",
    "                <li>In general, we use `this` to refer to the same object itself, just like in Java, so method `+` could be written with `this.n` and `this.d` wherever  `n` and `d` are used</li>\n",
    "                <li>Unlike Java, Scala allows **only** the main constructor to invoke the constructor of a superclass</li>\n",
    "            </ul>\n",
    "        </td>\n",
    "    </tr>\n",
    "</table>"
   ]
  },
  {
   "cell_type": "markdown",
   "metadata": {},
   "source": [
    "<a name=\"subseccion-Traits\"></a>\n",
    "## Traits\n",
    "\n",
    "A `trait` in Scala encapsulates methods and fields (abstract or not) to be included in other classes. The differences between this and the inheritance is that a class can have **only one** superclass, while it can combine any number of `traits`. To do so, we can use `extends` and `with` in the definition of a class. If the class has also a superclass we will use `extends` to specify the superclass and `with` for each `trait` to be used. \n",
    "\n",
    "A `trait` can be used as a type and its methods can be invoked just like those in a superclass. A variable whose type is a `trait` can contain objects of any class combining its `trait`.\n",
    "\n",
    "Two differences between classes and traits:\n",
    "* A `trait` **cannot** have parameters\n",
    "* When we call `super` in a class, like in `super.toString`, we know the specific method being invoked beforehand, the same cannot be said about `traits` "
   ]
  },
  {
   "cell_type": "code",
   "execution_count": 8,
   "metadata": {},
   "outputs": [
    {
     "name": "stdout",
     "output_type": "stream",
     "text": [
      "I am a frog\n",
      "I can run!\n"
     ]
    }
   ],
   "source": [
    "class Amphibian {\n",
    "    def demo = println(\"Now I'm in, now I'm out!\")\n",
    "}\n",
    "trait HasLegs{\n",
    "    def demo = println(\"I can run!\")            // Concrete method\n",
    "    val numLegs: Int                            // Abstract field\n",
    "    override def toString = \"Legged\"            // A trait inherits from AnyRef like a class\n",
    "}\n",
    "trait EatsInsects{\n",
    "    def demo = println(\"Mmmmm...\")\n",
    "}\n",
    "\n",
    "class Frog extends Amphibian with HasLegs with EatsInsects{      // Use \"extends\" for the superclase and \"with\" for traits\n",
    "    override def demo = println(\"I am a frog\")                   // What happen if this line is removed?\n",
    "    val numLegs = 4                                              // Abstract elements must be initialized\n",
    "}\n",
    "\n",
    "val frog: HasLegs = new Frog                    // Using trait HasLegs as a type\n",
    "frog.demo                                       // Method demo from Frog is called, overriding the one in the type (HasLegs)\n",
    "\n",
    "class TwoLegged extends HasLegs{                // Using extends for the trait\n",
    "    val numLegs = 2\n",
    "}\n",
    "val legged = new TwoLegged\n",
    "legged.demo                                     // Method demo from HasLegs is called, because class TwoLegged do not have one"
   ]
  },
  {
   "cell_type": "markdown",
   "metadata": {
    "collapsed": true
   },
   "source": [
    "Traits can be used to implement interfaces with concrete and abstract methods, in such way that a class can include the trait to get the implemented methods and add code to the abstract ones. For example, trait `Ordered` has just one abstract method, `compare`, that must be implemented, while the rest of the functinoality is already provided: `<`, `>`, `<=`and `>=`, because are based on `compare`."
   ]
  },
  {
   "cell_type": "code",
   "execution_count": 2,
   "metadata": {},
   "outputs": [
    {
     "data": {
      "text/plain": [
       "defined class OrderedRational\n",
       "mitad: OrderedRational = 1/2\n",
       "tercio: OrderedRational = 1/3\n",
       "res1: Boolean = true\n"
      ]
     },
     "execution_count": 2,
     "metadata": {},
     "output_type": "execute_result"
    }
   ],
   "source": [
    "/* Instead of\n",
    "class OrderedRational(n: Int, d: Int) {\n",
    "    // ...\n",
    "    def < (that: Rational) =\n",
    "        this.numer * that.denom > that.numer * this.denom\n",
    "    def > (that: Rational) = that < this\n",
    "    def <= (that: Rational) = (this < that) || (this == that)\n",
    "    def >= (that: Rational) = (this > that) || (this == that)\n",
    "}\n",
    "*/\n",
    "class OrderedRational(val n: Int, val d: Int) extends Ordered[OrderedRational] {\n",
    "    // ...\n",
    "    override def toString = n+\"/\"+d\n",
    "    // ...\n",
    "\n",
    "    def compare(that: OrderedRational) =\n",
    "        (this.n * that.d) - (that.n * this.d)\n",
    "}\n",
    "\n",
    "val mitad = new OrderedRational(1, 2)\n",
    "val tercio = new OrderedRational(1, 3)\n",
    "mitad < tercio\n",
    "mitad > tercio"
   ]
  },
  {
   "cell_type": "markdown",
   "metadata": {},
   "source": [
    "Another common use of traits is the definition of a sequence of traits that can be stacked in order to produce different versions of a class. For example, we can define a basic class representing a queue of integers, and then define different traits intended to add new functionalities, in such way that they can be freely combined. Those new features could be, for instance, create duplicates of each element to be added, increment those elements, filter them...\n",
    "\n",
    "Let's highlight three aspects of this schema:\n",
    "* Creating the traits with `extends IntQueue` we are specifying that only those classes extending IntQueue can use the trait. \n",
    "* Defining the methods as `abstract override` we are forcing classes using this trait to implement the method (in any abstract method we could **not** use `super`, but this schema allows it).\n",
    "* Traits are combined from right to left, so the order is relevant."
   ]
  },
  {
   "cell_type": "code",
   "execution_count": 1,
   "metadata": {},
   "outputs": [
    {
     "data": {
      "text/plain": [
       "Intitializing Scala interpreter ..."
      ]
     },
     "metadata": {},
     "output_type": "display_data"
    },
    {
     "data": {
      "text/plain": [
       "Spark Web UI available at http://172.17.0.2:4040\n",
       "SparkContext available as 'sc' (version = 2.2.0, master = local[*], app id = local-1513271268202)\n",
       "SparkSession available as 'spark'\n"
      ]
     },
     "metadata": {},
     "output_type": "display_data"
    },
    {
     "data": {
      "text/plain": [
       "defined class IntQueue\n",
       "import scala.collection.mutable.ArrayBuffer\n",
       "defined class BasicIntQueue\n",
       "defined trait Doubling\n",
       "defined trait Incrementing\n",
       "defined trait Filtering\n",
       "defined class MyQueue\n",
       "queueD: MyQueue = MyQueue@5a54db7f\n",
       "queueIF: BasicIntQueue with Incrementing with Filtering = $anon$1@dbd8b6a\n",
       "queueFI: BasicIntQueue with Filtering with Incrementing = $anon$2@5634e03d\n",
       "res0: Int = 0\n"
      ]
     },
     "execution_count": 1,
     "metadata": {},
     "output_type": "execute_result"
    }
   ],
   "source": [
    "// Abstract definition of a Queue of Int\n",
    "abstract class IntQueue {\n",
    "    def get(): Int\n",
    "    def put(x: Int)\n",
    "}\n",
    "\n",
    "// Implementation with ArrayBuffer\n",
    "import scala.collection.mutable.ArrayBuffer\n",
    "class BasicIntQueue extends IntQueue {\n",
    "    private val buf = new ArrayBuffer[Int]\n",
    "    def get() = buf.remove(0)\n",
    "    def put(x: Int) { buf += x }\n",
    "}\n",
    "\n",
    "// Accumulative modifications\n",
    "trait Doubling extends IntQueue {\n",
    "    abstract override def put(x: Int) { super.put(2 * x) }\n",
    "}\n",
    "trait Incrementing extends IntQueue {\n",
    "    abstract override def put(x: Int) { super.put(x + 1) }\n",
    "}\n",
    "trait Filtering extends IntQueue {\n",
    "    abstract override def put(x: Int) {\n",
    "        if (x >= 0) super.put(x)\n",
    "    }\n",
    "}\n",
    "\n",
    "class MyQueue extends BasicIntQueue with Doubling\n",
    "val queueD = new MyQueue\n",
    "queueD.put(10)\n",
    "queueD.get()\n",
    "\n",
    "// We can include traits directly when creating the object using new\n",
    "val queueIF = new BasicIntQueue with Incrementing with Filtering\n",
    "queueIF.put(-1)\n",
    "queueIF.put(0)\n",
    "queueIF.put(1)\n",
    "queueIF.get()\n",
    "\n",
    "// The order is relevant, trais are applied from right to left\n",
    "val queueFI = new BasicIntQueue with Filtering with Incrementing\n",
    "queueFI.put(-1)\n",
    "queueFI.put(0)\n",
    "queueFI.put(1)\n",
    "queueFI.get()"
   ]
  },
  {
   "cell_type": "markdown",
   "metadata": {},
   "source": [
    "<table align=\"left\" style=\"border-collapse: collapse; border: none !important; width: 100%;\">\n",
    "    <tr style=\"border:none !important;\">\n",
    "        <td style=\"border:none !important; width: 60px;\">\n",
    "<img src=\"icons/optimizar.png\" align=\"left\" width=\"50px\"> \n",
    "        </td>\n",
    "        <td style=\"border:none !important; text-align:left\">\n",
    "            <ul>\n",
    "                <li>Traits are compiled as interfaces, the running time of their methods can be higher than using a class, so we must evaluate whether the running time is key to the performance of our application because traits can become a bottleneck.</li>\n",
    "            </ul>\n",
    "        </td>\n",
    "    </tr>\n",
    "</table>"
   ]
  },
  {
   "cell_type": "markdown",
   "metadata": {},
   "source": [
    "<a name=\"subseccion-Abstract and concrete types\"></a>\n",
    "## Abstract and concrete types\n",
    "\n",
    "Apart from traits, which are abstract by nature, and classes, that can be defined as abstract, There are also abstract types in Scala. They are abstract members of classes or traits, defined with the word `type`. When we define a concrete type, we use them as an alias for an existent type."
   ]
  },
  {
   "cell_type": "code",
   "execution_count": 1,
   "metadata": {},
   "outputs": [
    {
     "data": {
      "text/plain": [
       "Intitializing Scala interpreter ..."
      ]
     },
     "metadata": {},
     "output_type": "display_data"
    },
    {
     "data": {
      "text/plain": [
       "Spark Web UI available at http://172.17.0.2:4040\n",
       "SparkContext available as 'sc' (version = 2.2.0, master = local[*], app id = local-1513326461327)\n",
       "SparkSession available as 'spark'\n"
      ]
     },
     "metadata": {},
     "output_type": "display_data"
    },
    {
     "data": {
      "text/plain": [
       "defined trait Abstract\n",
       "defined class Concrete\n",
       "x: Concrete = Concrete@d1ef85c\n",
       "res0: String = holahola\n"
      ]
     },
     "execution_count": 1,
     "metadata": {},
     "output_type": "execute_result"
    }
   ],
   "source": [
    "trait Abstract {\n",
    "    type T                              // Abstract type\n",
    "    def transform(x: T): T\n",
    "}\n",
    "\n",
    "class Concrete extends Abstract {\n",
    "    type T = String                     // Concrete type (T is an alias for String)\n",
    "    def transform(x: T) = x + x         // We could use String instead of T\n",
    "}\n",
    "\n",
    "val x = new Concrete\n",
    "x.transform(\"hola\")"
   ]
  },
  {
   "cell_type": "markdown",
   "metadata": {},
   "source": [
    "It is possible to establish bounds in the class hierarchy when we define abstract types, using `<:` or `>:`. For example, when implementing class 'Animal' containing the suitable food for that animal, we could define an abstract type for the food, but we can also force it to be a subtype of type 'Food', avoiding common errors such as instantiating that abstract type inappropriately, like `IOException`."
   ]
  },
  {
   "cell_type": "code",
   "execution_count": null,
   "metadata": {
    "collapsed": true
   },
   "outputs": [],
   "source": [
    "class Food\n",
    "abstract class Animal {\n",
    "    type SuitableFood <: Food\n",
    "    def eat(food: SuitableFood)\n",
    "}\n",
    "\n",
    "class Grass extends Food\n",
    "class Cow extends Animal {\n",
    "    type SuitableFood = Grass\n",
    "    override def eat(food: Grass) {}\n",
    "}"
   ]
  },
  {
   "cell_type": "markdown",
   "metadata": {},
   "source": [
    "<a name=\"subseccion-Working with exceptions through `throw`, `try`, `catch` and `finally`\"></a>\n",
    "## Working with exceptions through `throw`, `try`, `catch` and `finally`\n",
    "\n",
    "Scala includes similar mechanisms as Java to manage exceptions, using `throw`, `try` and `catch`. The main difference lies on the fact that, in Scala, `throw`, `try`, `catch` and `finally` are expressions, hence they return a specific type (i.e. `throw` returns a type `Nothing`). Furthermore, we can use Scala's 'pattern matching' (we will study it later on) in `catch`. With `finally` sentence we assure that, whatever happens inside the `try` block, code inside `finally` will be executed.\n",
    "\n",
    "If everything goes fine, the returned value of a `try-catch-finally` block is the result of the code within `try`. On the contrary, if an exception is thrown with an associated `catch`, it is returned the result of the code in this block. Finally, if a non-catched exception is produced it will return no value. The value computed in the `finally` block is ignored though we could force it to be returned using `return` (seer the last example below). Anyway, this is not recommended because the code in `finally` is usually used to close streams or files or any other kind of collateral effects, not to compute a returning value."
   ]
  },
  {
   "cell_type": "code",
   "execution_count": 6,
   "metadata": {},
   "outputs": [
    {
     "ename": "<console>",
     "evalue": "43: error: not found: type IOException",
     "output_type": "error",
     "traceback": [
      "<console>:43: error: not found: type IOException",
      "           case ex: IOException => println(\"RE: \"+ex.getMessage)",
      "                    ^",
      "<console>:48: warning: a pure expression does nothing in statement position; you may be omitting necessary parentheses",
      "       def f:Int = try {1} finally {2}",
      "                                    ^",
      ""
     ]
    }
   ],
   "source": [
    "def mitad(n: Int): Int =\n",
    "    if (n < 0)\n",
    "        throw new IllegalArgumentException(\"n no puede ser negativo\")\n",
    "    else\n",
    "        if (n % 2 == 0)\n",
    "            n / 2\n",
    "        else\n",
    "            throw new RuntimeException(\"n debe ser par\")\n",
    "\n",
    "\n",
    "try {\n",
    "    println(mitad(-6))\n",
    "} catch {\n",
    "    case ex: IllegalArgumentException => println(\"IAE: \"+ex.getMessage)\n",
    "    case ex: RuntimeException => println(\"RE: \"+ex.getMessage)\n",
    "} finally {\n",
    "    println(\"The End\")\n",
    "}\n",
    "\n",
    "def f:Int = try {1} finally {2}\n",
    "def g:Int = try {return 1} finally {return 2}\n",
    "f\n",
    "g"
   ]
  },
  {
   "cell_type": "markdown",
   "metadata": {},
   "source": [
    "<a name=\"subseccion-Reading a file\"></a>\n",
    "## Reading a file\n",
    "\n",
    "We an use class `scala.io.Source` in order to read a file. It contains a set of convenient methods to that end as we can see in the next example."
   ]
  },
  {
   "cell_type": "code",
   "execution_count": 7,
   "metadata": {},
   "outputs": [
    {
     "data": {
      "text/plain": [
       "import scala.io.Source\n",
       "lines: List[String] = List(﻿Primera línea, Segunda línea, tercera línea)\n"
      ]
     },
     "execution_count": 7,
     "metadata": {},
     "output_type": "execute_result"
    }
   ],
   "source": [
    "import scala.io.Source\n",
    "\n",
    "val lines = Source.fromFile(\"files/test.txt\").getLines.toList"
   ]
  },
  {
   "cell_type": "markdown",
   "metadata": {},
   "source": [
    "<table align=\"left\" style=\"border-collapse: collapse; border: none !important; width: 100%;\">\n",
    "    <tr style=\"border:none !important;\">\n",
    "        <td style=\"border:none !important; width: 60px;\">\n",
    "<img src=\"icons/notepad.png\" align=\"left\" width=\"50px\"> \n",
    "        </td>\n",
    "        <td style=\"border:none !important;text-align:left;\">\n",
    "            <ul>\n",
    "                <li>Method`fromFile` has an optional second parameter to specify the 'encoding' of the file (for example: \"UTF8\", \"UTF16\" or \"ISO-8859-1\")</li>\n",
    "                <li>In the example above, we use method `toList` to transform the String `iterator` returned by `getLines` to a `List` (an `iterator` is inmediately 'consumed' and does not allow us to use it more than once)</li>\n",
    "            </ul>\n",
    "        </td>\n",
    "    </tr>\n",
    "</table>"
   ]
  },
  {
   "cell_type": "markdown",
   "metadata": {},
   "source": [
    "<a name=\"subseccion-Applications\"></a>\n",
    "## Applications\n",
    "\n",
    "In order to implement an application is Scala, we must specify an entry point to start the application. This is done by defining an object with a method `main` receiving a parameter of type `Array[String]`, with a returning type of `Unit`."
   ]
  },
  {
   "cell_type": "code",
   "execution_count": 9,
   "metadata": {},
   "outputs": [
    {
     "name": "stdout",
     "output_type": "stream",
     "text": [
      "Hola\n",
      "mundo!\n"
     ]
    },
    {
     "data": {
      "text/plain": [
       "defined object miApp\n"
      ]
     },
     "execution_count": 9,
     "metadata": {},
     "output_type": "execute_result"
    }
   ],
   "source": [
    "object miApp{\n",
    "    def main(args: Array[String]) {\n",
    "        for (arg <- args) println(arg)\n",
    "    }\n",
    "}\n",
    "\n",
    "miApp.main(Array(\"Hola\", \"mundo!\")) // Method to be executed ahen the application is started"
   ]
  },
  {
   "cell_type": "markdown",
   "metadata": {},
   "source": [
    "Our application is formed by the source files '`.scala`' needed, having in mind that it must be at least a `main` method as entry point. The main difference with a 'script' is that applications end with a definition, while scripts end with an expression.\n",
    "\n",
    "The base compiler of Scala is `scalac`, which can compile the files of our application. The execution is done by invoking the `scala` command, followed by the name of the object containing the `main` method."
   ]
  },
  {
   "cell_type": "markdown",
   "metadata": {},
   "source": [
    "<table align=\"left\" style=\"border-collapse: collapse; border: none !important; width: 100%;\">\n",
    "    <tr style=\"border:none !important;\">\n",
    "        <td style=\"border:none !important; width: 60px;\">\n",
    "<img src=\"icons/notepad.png\" align=\"left\" width=\"50px\"> \n",
    "        </td>\n",
    "        <td style=\"border:none !important;text-align:left;\">\n",
    "            <ul>\n",
    "                <li>Unlike Java, Scala allows us to use any names for the files in our application (which menas that the name of a file do not have to match with the class contained in it), although it is recommended to use names related to the content of the files</li>\n",
    "                <li>Apart from `scalac`, there are other methods to compile Scala source code, for example a faster version of the base compiler, called `fsc`</li>\n",
    "            </ul>\n",
    "        </td>\n",
    "    </tr>\n",
    "</table>"
   ]
  },
  {
   "cell_type": "markdown",
   "metadata": {},
   "source": [
    "<table align=\"left\" style=\"border-collapse: collapse; border: none !important; width: 100%;\">\n",
    "    <tr style=\"border:none !important;\">\n",
    "        <td style=\"border:none !important; width: 60px;\">\n",
    "<img src=\"icons/optimizar.png\" align=\"left\" width=\"50px\"> \n",
    "        </td>\n",
    "        <td style=\"border:none !important;text-align:left;\">\n",
    "            <ul>\n",
    "                <li>We can use traits to re-write our main object like follows: `object miApp extends Application {...}`, allowing us to directly write inside the braces the code of the `main`, with some limitations (it is not possible to use parameters in this case, for example), that's why this type of definition it is only recommended in small and simple applications</li>\n",
    "            </ul>\n",
    "        </td>\n",
    "    </tr>\n",
    "</table>"
   ]
  },
  {
   "cell_type": "markdown",
   "metadata": {},
   "source": [
    "<a name=\"subseccion-Using `package` and `import`\"></a>\n",
    "## Using `package` and `import`\n",
    "\n",
    "We could (and should) organize our source code using packages, writting, for example, `package com.myproject.tests`. This way, files including this sentence will be included in the same package and they could have access to all the members define in any of them.\n",
    "\n",
    "On the other hand, if a file belonging to another package (or belonging to any package at all, which really means that it is included in the default package) wants to use some of the contents in package `com.myproject.tests`, it must import it using `import com.myproject.tests`.\n",
    "\n",
    "It is worth to highlight some points about `import`:\n",
    "* With the revious sentence we import all the content inside package `com.myproject.tests` and we could use them, but we have no access to members of packages `com.myproject` nor `com`. \n",
    "* When a package is imported, we can access its members by their names, without using the complete path.\n",
    "* We can use `import` anywhere, not just at the beginning of a file.\n",
    "* We can import any member of a package, like a specific object, which will allow us to have direct access to its members without using the name of the object itself and the point operator (this is specially useful when we are using objects as modules).\n",
    "\n",
    "The basic syntax for `import` includes some interesting features:\n",
    "* `import <package>.{<member1>,...,<memberN>}`: imports just some of the members of a package (equivalent to hide the rest of the contents of that package)\n",
    "* `import <package>.{<real-name> => <new-name>}` : rename a member of a package to be used in the importing file,\n",
    "* Some interesting points, based on the previous statements:\n",
    " * `import <package>.{_}` : is equivalent to `import <package>._`\n",
    " * `import <package>.{_, <member> => <renamedMember>}` : imports everything and renames a member\n",
    " * `import <package>.{_, <member> => _}` : imports everything *except* the specified member"
   ]
  },
  {
   "cell_type": "code",
   "execution_count": 10,
   "metadata": {},
   "outputs": [
    {
     "data": {
      "text/plain": [
       "import java.io.File\n",
       "import java.util.regex\n",
       "import java.sql.{Date=>SDate}\n"
      ]
     },
     "execution_count": 10,
     "metadata": {},
     "output_type": "execute_result"
    }
   ],
   "source": [
    "import java.io.File             // import File from package java.io\n",
    "import java.util.regex          // import package regex (we have access to its components through regex.<member>)\n",
    "import java.sql.{Date => SDate} // import just class Date from package java.sql and rename it to SDate"
   ]
  },
  {
   "cell_type": "markdown",
   "metadata": {},
   "source": [
    "<table align=\"left\" style=\"border-collapse: collapse; border: none !important; width: 100%;\">\n",
    "    <tr style=\"border:none !important;\">\n",
    "        <td style=\"border:none !important; width: 60px;\">\n",
    "<img src=\"icons/notepad.png\" align=\"left\" width=\"50px\"> \n",
    "        </td>\n",
    "        <td style=\"border:none !important;text-align:left;\">\n",
    "            <ul>\n",
    "                <li>Scala includes a `_root_` package, which is over the rest of packages (for example `java.io.File` is equivalent to `_root_.java.io.File`), this can be useful when we have problems in complex project structures with repeated names</li>\n",
    "                <li>In Scala, with respect to Java, `import java.io.*` is substituted by `import java.io._` because `*` is a valid identifier in Scala</li>\n",
    "            </ul>\n",
    "        </td>\n",
    "    </tr>\n",
    "</table>"
   ]
  },
  {
   "cell_type": "markdown",
   "metadata": {},
   "source": [
    "<a name=\"subsubseccion-`import` by default\"></a>\n",
    "### `import` by default\n",
    "\n",
    "Although we can see the [API](http://www.scala-lang.org/api/current/) anytime and search whatever we need, there are a number of components that are imported by default without us writting anything, which are:\n",
    "\n",
    "1. `import java.lang._` : all the content inside package `java.lang`\n",
    "2. `import scala._` : all the content inside package `scala`\n",
    "3. `import Predef._` : all the content inside object `Predef`\n",
    "\n",
    "These `import` by default allow us, for example, to write just `println` instead of `Predef.println`, among many other things."
   ]
  },
  {
   "cell_type": "markdown",
   "metadata": {},
   "source": [
    "<table align=\"left\" style=\"border-collapse: collapse; border: none !important; width: 100%;\">\n",
    "    <tr style=\"border:none !important;\">\n",
    "        <td style=\"border:none !important; width: 60px;\">\n",
    "<img src=\"icons/notepad.png\" align=\"left\" width=\"50px\"> \n",
    "        </td>\n",
    "        <td style=\"border:none !important; text-align:left\">\n",
    "            <ul>\n",
    "                <li>The order of the imports is relevant, having more precedence the last ones, so if we write `StringBuilder`, we are using `scala.StringBuilder` instead of `java.lang.StringBuilder`, because the default imports are performed in the order shown previously</li>\n",
    "            </ul>\n",
    "        </td>\n",
    "    </tr>\n",
    "</table>"
   ]
  },
  {
   "cell_type": "markdown",
   "metadata": {},
   "source": [
    "<a name=\"subseccion-Quality code\"></a>\n",
    "## Quality code\n",
    "\n",
    "Scala provides some tools to help us develop quality code and to ease the tests to prove it."
   ]
  },
  {
   "cell_type": "markdown",
   "metadata": {},
   "source": [
    "<a name=\"subsubseccion-Checking conditions with `assert`\"></a>\n",
    "### Checking conditions with `assert`\n",
    "\n",
    "The expression `assert(condition [, explanation])` : throws an `AssertionError` exception if the condition is not fulfilled. The second (optional) parameter allowes us to add an explanation (of type `Any`) wchich will be included into the exception after invoking `toString` on it."
   ]
  },
  {
   "cell_type": "code",
   "execution_count": 11,
   "metadata": {},
   "outputs": [
    {
     "ename": "java.lang.AssertionError",
     "evalue": " assertion failed: 3 NO es menor que 2",
     "output_type": "error",
     "traceback": [
      "java.lang.AssertionError: assertion failed: 3 NO es menor que 2",
      "  at scala.Predef$.assert(Predef.scala:170)",
      "  ... 37 elided",
      ""
     ]
    }
   ],
   "source": [
    "assert(3 < 2, \"3 NO es menor que 2\")"
   ]
  },
  {
   "cell_type": "markdown",
   "metadata": {},
   "source": [
    "<table align=\"left\" style=\"border-collapse: collapse; border: none !important; width: 100%;\">\n",
    "    <tr style=\"border:none !important;\">\n",
    "        <td style=\"border:none !important; width: 60px;\">\n",
    "<img src=\"icons/notepad.png\" align=\"left\" width=\"50px\"> \n",
    "        </td>\n",
    "        <td style=\"border:none !important; text-align:left\">\n",
    "            <ul>\n",
    "                <li>The use of `assert` can be activated or deactivated from the command line with the JVM options `-ea` and `-da`, respectively</li>\n",
    "                <li>`Predef` object has a method `ensuring`, which is another way of checking conditions in addition to `assert`</li>\n",
    "            </ul>\n",
    "        </td>\n",
    "    </tr>\n",
    "</table>"
   ]
  },
  {
   "cell_type": "markdown",
   "metadata": {},
   "source": [
    "<a name=\"subsubseccion-Unit testing\"></a>\n",
    "### Unit testing\n",
    "\n",
    "Apart from the possibilities provided by Java's ecosystem to carry out unit testing, there are a number of tools provided by Scala to ease this task, such as ScalaTest.\n",
    "\n",
    "The easiest way of create unit tests using Scalatest is by extending class `org.scalatest.Suite` with a class containing a method (whose name starts with \"test\") for each test to be implemented. In general, it is recommended to put the file qith the test inside package `test`. We show an example below:\n",
    "\n",
    "<table align=\"middle\" style=\"border-collapse: collapse; border: none !important; width: 60%;\">\n",
    "    <tr style=\"border:none !important;\">\n",
    "        <td style=\"border:none !important; text-align:left\">\n",
    "&nbsp;&nbsp;&nbsp;&nbsp;`import org.scalatest.Suite`<br><br>\n",
    "&nbsp;&nbsp;&nbsp;&nbsp;`class miSuite extends Suite{`<br>\n",
    "&nbsp;&nbsp;&nbsp;&nbsp;&nbsp;&nbsp;&nbsp;&nbsp;`    def testSumaRacionales() = {`<br>\n",
    "&nbsp;&nbsp;&nbsp;&nbsp;&nbsp;&nbsp;&nbsp;&nbsp;&nbsp;&nbsp;&nbsp;&nbsp;`        val r1 = new Rational(1, 2)`<br>\n",
    "&nbsp;&nbsp;&nbsp;&nbsp;&nbsp;&nbsp;&nbsp;&nbsp;&nbsp;&nbsp;&nbsp;&nbsp;`        val r2 = new Rational(1, 4)`<br>\n",
    "&nbsp;&nbsp;&nbsp;&nbsp;&nbsp;&nbsp;&nbsp;&nbsp;&nbsp;&nbsp;&nbsp;&nbsp;`        val r3 = new Rational(3, 4)`<br>\n",
    "&nbsp;&nbsp;&nbsp;&nbsp;&nbsp;&nbsp;&nbsp;&nbsp;&nbsp;&nbsp;&nbsp;&nbsp;`        val rSuma = r1 + r2`<br>\n",
    "&nbsp;&nbsp;&nbsp;&nbsp;&nbsp;&nbsp;&nbsp;&nbsp;&nbsp;&nbsp;&nbsp;&nbsp;`        assert(r3 == rSuma , \"Error summing rational numbers\")`<br>\n",
    "&nbsp;&nbsp;&nbsp;&nbsp;&nbsp;&nbsp;&nbsp;&nbsp;`    }`<br>\n",
    "&nbsp;&nbsp;&nbsp;&nbsp;`}`<br>\n",
    "        </td>\n",
    "    </tr>\n",
    "</table>\n",
    "\n",
    "If we use `===` instead of `==` in an `assert` we can see more descriptive messages.\n",
    "\n",
    "If we need to check whether an exception is thrown as expected, method `intercept` must be invoked as follows:\n",
    "\n",
    "<table align=\"middle\" style=\"border-collapse: collapse; border: none !important; width: 60%;\">\n",
    "    <tr style=\"border:none !important;\">\n",
    "        <td style=\"border:none !important; text-align:left\">\n",
    "&nbsp;&nbsp;&nbsp;&nbsp;`intercept(classOf[IllegalArgumentException]) {`<br>\n",
    "&nbsp;&nbsp;&nbsp;&nbsp;&nbsp;&nbsp;&nbsp;&nbsp;`    val r1 = new Rational(1, 0)`<br>\n",
    "&nbsp;&nbsp;&nbsp;&nbsp;`}`\n",
    "        </td>\n",
    "    </tr>\n",
    "</table>\n",
    "\n",
    "Finally, the tests (or `Suite`) are executed through ScalaTest by invoking the application `Runner`, although the most common practice consists in taking advantage of the optinos provided by the different IDEs, like [ScalaIDE](http://scala-ide.org/download/sdk.html) (eclipse) or [IntelliJ](https://www.jetbrains.com/idea/download)."
   ]
  },
  {
   "cell_type": "markdown",
   "metadata": {},
   "source": [
    "<table align=\"left\" style=\"border-collapse: collapse; border: none !important; width: 100%;\">\n",
    "    <tr style=\"border:none !important;\">\n",
    "        <td style=\"border:none !important; width: 60px;\">\n",
    "<img src=\"icons/notepad.png\" align=\"left\" width=\"50px\"> \n",
    "        </td>\n",
    "        <td style=\"border:none !important; text-align:left\">\n",
    "            <ul>\n",
    "                <li>Apart from the tools introduced in this section, there are other tools and methods that can help you to test your code</li>\n",
    "            </ul>\n",
    "        </td>\n",
    "    </tr>\n",
    "</table>"
   ]
  },
  {
   "cell_type": "markdown",
   "metadata": {},
   "source": [
    "---"
   ]
  }
 ],
 "metadata": {
  "anaconda-cloud": {},
  "kernelspec": {
   "display_name": "spylon-kernel",
   "language": "scala",
   "name": "spylon-kernel"
  },
  "language_info": {
   "codemirror_mode": "text/x-scala",
   "file_extension": ".scala",
   "help_links": [
    {
     "text": "MetaKernel Magics",
     "url": "https://github.com/calysto/metakernel/blob/master/metakernel/magics/README.md"
    }
   ],
   "mimetype": "text/x-scala",
   "name": "scala",
   "pygments_lexer": "scala",
   "version": "0.4.0"
  }
 },
 "nbformat": 4,
 "nbformat_minor": 2
}
