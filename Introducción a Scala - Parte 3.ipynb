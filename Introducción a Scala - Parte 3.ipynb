{
 "cells": [
  {
   "cell_type": "markdown",
   "metadata": {},
   "source": [
    "<img src=\"images/intro-logo-scala-spa.png\" align=\"left\" width=\"600px\"/>\n",
    "<!--- ![alt text](heading.png \"Heading with Scala logo\") --->"
   ]
  },
  {
   "cell_type": "markdown",
   "metadata": {},
   "source": [
    "---"
   ]
  },
  {
   "cell_type": "markdown",
   "metadata": {},
   "source": [
    "# Índice\n",
    "\n",
    "### [3. Ahora, ¡a correr!](#seccion-3. Ahora, ¡a correr!)\n",
    "  * [Más sobre colecciones](#subseccion-Más sobre colecciones)\n",
    "  * [Más sobre funciones](#subseccion-Más sobre funciones)\n",
    "    * [Funciones internas](#subsubseccion-Funciones internas)\n",
    "    * [Literales de funciones y funciones como valores](#subsubseccion-Literales de funciones y funciones como valores)\n",
    "    * [Funciones parcialmente aplicadas](#subsubseccion-Funciones parcialmente aplicadas)\n",
    "    * [Clausuras (closures)](#subsubseccion-Clausuras {closures})\n",
    "    * [Parámetros repetidos](#subsubseccion-Parámetros repetidos)\n",
    "    * [Funciones de orden superior ('Higher-order functions')](#subsubseccion-Funciones de orden superior {Higher-order functions})\n",
    "  * [Currying](#subseccion-Currying)\n",
    "  * [Parámetros 'by-name' y 'lazy' vals](#subseccion-Parámetros by-name y lazy vals)\n",
    "  * [Recursión por la cola ('tail recursion')](#subseccion-Recursión por la cola {tail recursion})\n",
    "  * [Companion `object`](#subseccion-Companion `object`)\n",
    "  * [Tipos covariantes y contravariantes](#subseccion-Tipos covariantes y contravariantes)\n",
    "  * [Conversiones implícitas](#subseccion-Conversiones implícitas)\n",
    "  * [Pattern matching y clases `case`](#subseccion-Pattern matching y clases `case`)\n",
    "  * [El tipo `Option`](#subseccion-El tipo `Option`)\n",
    "  * [Extractores](#subseccion-Extractores)\n",
    "    * [Expresiones regulares](#subsubseccion-Expresiones regulares)\n"
   ]
  },
  {
   "cell_type": "markdown",
   "metadata": {},
   "source": [
    "---"
   ]
  },
  {
   "cell_type": "markdown",
   "metadata": {
    "collapsed": true
   },
   "source": [
    "<!---\n",
    "# 3. Ahora, ¡a correr! --->\n",
    "<a name=\"seccion-3. Ahora, ¡a correr!\"></a>\n",
    "<table align=\"left\" style=\"border-collapse: collapse; width: 100%; border: 5px double black\">\n",
    "    <tr style=\"border:none !important;\">\n",
    "        <td style=\"border:none !important; width: 100px;\">\n",
    "<img src=\"icons/correr-m.png\" align=\"left\" width=90px/>\n",
    "        </td>\n",
    "        <td style=\"border:none !important; text-align:left;\">\n",
    "<h1>3. Ahora, ¡a correr!</h1>\n",
    "<br>\n",
    "Llega el momento de conocer algunos de los apartados más avanzados de Scala, con los que podremos sacar el máximo provecho del lenguaje.\n",
    "        </td>\n",
    "    </tr>\n",
    "</table>"
   ]
  },
  {
   "cell_type": "markdown",
   "metadata": {},
   "source": [
    "<a name=\"subseccion-Más sobre colecciones\"></a>\n",
    "## Más sobre colecciones\n",
    "\n",
    "Aunque ya hemos visto los más populares, vamos a ver algunos tipos más para albergar nuestros datos y realizar operaciones sobre ellos.\n",
    "\n",
    "* `ListBuffer`: Como ya hemos visto, realizar operaciones sobre el final de una lista no es buena idea, y frente a la opción de usar `reverse` para esquivar el problema, tenemos también la posibilidad de usar un `ListBuffer`, que permite trabajar de forma eficiente sobre el principio y final de la lista con los operadores `+:`, `+=:` y `+=`. Luego se puede convertir a `List` con `toList`.\n",
    "* `ArrayBuffer`: Como `Array` pero sin necesidad de indicar el tamaño al crearlo ya que podemos añadir elementos con `+=`.\n",
    "* `Queue`: Para estructuras FIFO, en modalidad `mutable` e `immutable`. En el primer tipo usaremos `+=` y `++=` para insertar elementos y `dequeue` para extraer, y en la versión `immutable` usaremos `enqueue` y `dequeue` para insertar y extraer elementos.\n",
    "* `Stack`: Para estructuras LIFO, también con versiones `mutable` e `immutable`, y usando `push`, `pop` y `top` para manipularlas.\n",
    "* `TreeSet` y `TreeMap`: Versiones de `Set` y `Map` que implementan los traits `SortedSet` y `SortedMap`, manteniendo los elementos y claves ordenados."
   ]
  },
  {
   "cell_type": "code",
   "execution_count": 49,
   "metadata": {},
   "outputs": [
    {
     "data": {
      "text/plain": [
       "\u001b[32mimport \u001b[39m\u001b[36mscala.collection.mutable.ListBuffer\r\n",
       "\r\n",
       "\u001b[39m\r\n",
       "\u001b[36mlistBuf\u001b[39m: \u001b[32mListBuffer\u001b[39m[\u001b[32mInt\u001b[39m] = \u001b[33mListBuffer\u001b[39m(\u001b[32m3\u001b[39m, \u001b[32m1\u001b[39m)\r\n",
       "\u001b[36mres48_2\u001b[39m: \u001b[32mListBuffer\u001b[39m[\u001b[32mInt\u001b[39m] = \u001b[33mListBuffer\u001b[39m(\u001b[32m3\u001b[39m, \u001b[32m1\u001b[39m)\r\n",
       "\u001b[36mres48_3\u001b[39m: \u001b[32mListBuffer\u001b[39m[\u001b[32mInt\u001b[39m] = \u001b[33mListBuffer\u001b[39m(\u001b[32m3\u001b[39m, \u001b[32m1\u001b[39m)\r\n",
       "\u001b[36mres48_4\u001b[39m: \u001b[32mList\u001b[39m[\u001b[32mInt\u001b[39m] = \u001b[33mList\u001b[39m(\u001b[32m3\u001b[39m, \u001b[32m1\u001b[39m)\r\n",
       "\u001b[32mimport \u001b[39m\u001b[36mscala.collection.mutable.ArrayBuffer\r\n",
       "\r\n",
       "\u001b[39m\r\n",
       "\u001b[36marrBuf\u001b[39m: \u001b[32mArrayBuffer\u001b[39m[\u001b[32mInt\u001b[39m] = \u001b[33mArrayBuffer\u001b[39m(\u001b[32m1\u001b[39m, \u001b[32m2\u001b[39m)\r\n",
       "\u001b[36mres48_7\u001b[39m: \u001b[32mArrayBuffer\u001b[39m[\u001b[32mInt\u001b[39m] = \u001b[33mArrayBuffer\u001b[39m(\u001b[32m1\u001b[39m, \u001b[32m2\u001b[39m)\r\n",
       "\u001b[36mres48_8\u001b[39m: \u001b[32mArrayBuffer\u001b[39m[\u001b[32mInt\u001b[39m] = \u001b[33mArrayBuffer\u001b[39m(\u001b[32m1\u001b[39m, \u001b[32m2\u001b[39m)\r\n",
       "\u001b[36mres48_9\u001b[39m: \u001b[32mInt\u001b[39m = \u001b[32m2\u001b[39m\r\n",
       "\u001b[32mimport \u001b[39m\u001b[36mscala.collection.mutable.Queue\r\n",
       "\r\n",
       "\u001b[39m\r\n",
       "\u001b[36mcola\u001b[39m: \u001b[32mQueue\u001b[39m[\u001b[32mInt\u001b[39m] = \u001b[33mQueue\u001b[39m(\u001b[32m2\u001b[39m, \u001b[32m3\u001b[39m, \u001b[32m4\u001b[39m)\r\n",
       "\u001b[36mres48_12\u001b[39m: \u001b[32mQueue\u001b[39m[\u001b[32mInt\u001b[39m] = \u001b[33mQueue\u001b[39m(\u001b[32m2\u001b[39m, \u001b[32m3\u001b[39m, \u001b[32m4\u001b[39m)\r\n",
       "\u001b[36mres48_13\u001b[39m: \u001b[32mQueue\u001b[39m[\u001b[32mInt\u001b[39m] = \u001b[33mQueue\u001b[39m(\u001b[32m2\u001b[39m, \u001b[32m3\u001b[39m, \u001b[32m4\u001b[39m)\r\n",
       "\u001b[36mres48_14\u001b[39m: \u001b[32mQueue\u001b[39m[\u001b[32mInt\u001b[39m] = \u001b[33mQueue\u001b[39m(\u001b[32m2\u001b[39m, \u001b[32m3\u001b[39m, \u001b[32m4\u001b[39m)\r\n",
       "\u001b[36melemento\u001b[39m: \u001b[32mInt\u001b[39m = \u001b[32m1\u001b[39m\r\n",
       "\u001b[32mimport \u001b[39m\u001b[36mscala.collection.immutable.{Queue => ImQueue}\r\n",
       "\r\n",
       "\u001b[39m\r\n",
       "\u001b[36mcolaVacia\u001b[39m: \u001b[32mcollection\u001b[39m.\u001b[32mimmutable\u001b[39m.\u001b[32mQueue\u001b[39m[\u001b[32mInt\u001b[39m] = \u001b[33mQueue\u001b[39m()\r\n",
       "\u001b[36mcola1\u001b[39m: \u001b[32mcollection\u001b[39m.\u001b[32mimmutable\u001b[39m.\u001b[32mQueue\u001b[39m[\u001b[32mInt\u001b[39m] = \u001b[33mQueue\u001b[39m(\u001b[32m1\u001b[39m)\r\n",
       "\u001b[36melemento2\u001b[39m: \u001b[32mInt\u001b[39m = \u001b[32m1\u001b[39m\r\n",
       "\u001b[36mcolaVacia2\u001b[39m: \u001b[32mcollection\u001b[39m.\u001b[32mimmutable\u001b[39m.\u001b[32mQueue\u001b[39m[\u001b[32mInt\u001b[39m] = \u001b[33mQueue\u001b[39m()\r\n",
       "\u001b[32mimport \u001b[39m\u001b[36mscala.collection.mutable.Stack\r\n",
       "\r\n",
       "\u001b[39m\r\n",
       "\u001b[36mpila\u001b[39m: \u001b[32mStack\u001b[39m[\u001b[32mInt\u001b[39m] = \u001b[33mStack\u001b[39m(\u001b[32m1\u001b[39m)\r\n",
       "\u001b[36mres48_22\u001b[39m: \u001b[32mStack\u001b[39m[\u001b[32mInt\u001b[39m] = \u001b[33mStack\u001b[39m(\u001b[32m1\u001b[39m)\r\n",
       "\u001b[36mres48_23\u001b[39m: \u001b[32mStack\u001b[39m[\u001b[32mInt\u001b[39m] = \u001b[33mStack\u001b[39m(\u001b[32m1\u001b[39m)\r\n",
       "\u001b[36melemento3\u001b[39m: \u001b[32mInt\u001b[39m = \u001b[32m2\u001b[39m\r\n",
       "\u001b[36melemento4\u001b[39m: \u001b[32mInt\u001b[39m = \u001b[32m2\u001b[39m\r\n",
       "\u001b[32mimport \u001b[39m\u001b[36mscala.collection.immutable.TreeSet\r\n",
       "\r\n",
       "\u001b[39m\r\n",
       "\u001b[36mmiSetOrdenado\u001b[39m: \u001b[32mcollection\u001b[39m.\u001b[32mimmutable\u001b[39m.\u001b[32mTreeSet\u001b[39m[\u001b[32mInt\u001b[39m] = \u001b[33mTreeSet\u001b[39m(\u001b[32m1\u001b[39m, \u001b[32m2\u001b[39m, \u001b[32m5\u001b[39m, \u001b[32m7\u001b[39m, \u001b[32m9\u001b[39m)"
      ]
     },
     "execution_count": 49,
     "metadata": {},
     "output_type": "execute_result"
    }
   ],
   "source": [
    "import scala.collection.mutable.ListBuffer\n",
    "\n",
    "val listBuf = new ListBuffer[Int]\n",
    "listBuf += 1\n",
    "3 +=: listBuf\n",
    "listBuf.toList\n",
    "\n",
    "import scala.collection.mutable.ArrayBuffer\n",
    "\n",
    "val arrBuf = new ArrayBuffer[Int]()\n",
    "arrBuf += 1\n",
    "arrBuf += 2\n",
    "arrBuf(1)\n",
    "\n",
    "import scala.collection.mutable.Queue\n",
    "\n",
    "val cola = Queue[Int]()\n",
    "cola += 1\n",
    "cola += 2\n",
    "cola ++= List(3, 4)\n",
    "val elemento = cola.dequeue\n",
    "\n",
    "import scala.collection.immutable.{Queue => ImQueue}\n",
    "\n",
    "val colaVacia = ImQueue[Int]()\n",
    "val cola1 = colaVacia.enqueue(1)\n",
    "val (elemento2, colaVacia2) = cola1.dequeue\n",
    "\n",
    "import scala.collection.mutable.Stack\n",
    "\n",
    "val pila = Stack[Int]()\n",
    "pila.push(1)\n",
    "pila.push(2)\n",
    "val elemento3 = pila.top\n",
    "val elemento4 = pila.pop\n",
    "\n",
    "import scala.collection.immutable.TreeSet\n",
    "\n",
    "val miSetOrdenado = TreeSet(5, 2, 7, 9, 1)"
   ]
  },
  {
   "cell_type": "markdown",
   "metadata": {},
   "source": [
    "<table align=\"left\" style=\"border-collapse: collapse; border: none !important; width: 100%;\">\n",
    "    <tr style=\"border:none !important;\">\n",
    "        <td style=\"border:none !important; width: 60px;\">\n",
    "<img src=\"icons/notepad.png\" align=\"left\" width=\"50px\"> \n",
    "        </td>\n",
    "        <td style=\"border:none !important; text-align:left\">\n",
    "            <ul>\n",
    "                <li>Si usamos `+:` en lugar de `+=:` se devolverá una nueva instancia sin modificar el `ListBuffer` original</li>\n",
    "                <li>Los String también pueden usarse como secuencias gracias a su conversión implícita a `RichString` que comentaremos más adelante</li>\n",
    "            </ul>\n",
    "        </td>\n",
    "    </tr>\n",
    "</table>"
   ]
  },
  {
   "cell_type": "markdown",
   "metadata": {},
   "source": [
    "<a name=\"subseccion-Más sobre funciones\"></a>\n",
    "## Más sobre funciones\n",
    "\n",
    "Veamos algunos conceptos sobre funciones que pueden resultarnos diferentes a lo que se suele ver en otros lenguajes.\n",
    "\n",
    "<a name=\"subsubseccion-Funciones internas\"></a>\n",
    "### Funciones internas\n",
    "\n",
    "Para definir una función local, a la que no se pueda acceder desde fuera de un objeto, podemos usar `private` como ya vimos anteriormente, pero Scala también ofrece otra posibilidad para 'ocultar' una función, que consiste en definirla dentro de la función que hace uso de ella (p. ej. podemos definir la función `procesarLinea` dentro de la función `procesarFichero`)."
   ]
  },
  {
   "cell_type": "code",
   "execution_count": 2,
   "metadata": {},
   "outputs": [
    {
     "name": "stdout",
     "output_type": "stream",
     "text": [
      "files/longitud.txt: Segunda línea con una longitud bastante mayor que el resto (63)"
     ]
    },
    {
     "data": {
      "text/plain": [
       "\u001b[32mimport \u001b[39m\u001b[36mscala.io.Source\r\n",
       "\r\n",
       "\u001b[39m\r\n",
       "defined \u001b[32mobject\u001b[39m \u001b[36mLongLines\u001b[39m"
      ]
     },
     "execution_count": 2,
     "metadata": {},
     "output_type": "execute_result"
    }
   ],
   "source": [
    "import scala.io.Source\n",
    "\n",
    "object LongLines {\n",
    "    def processFile(filename: String, width: Int) {\n",
    "        def processLine(line: String) {              //Función definida dentro de otra función (oculta al resto del código)\n",
    "            if (line.length > width)\n",
    "                print(filename +\": \"+ line)\n",
    "        }\n",
    "        val source = Source.fromFile(filename)\n",
    "        for (line <- source.getLines)\n",
    "            processLine(line)\n",
    "    }\n",
    "}\n",
    "\n",
    "LongLines.processFile(\"files/longitud.txt\", 45)"
   ]
  },
  {
   "cell_type": "markdown",
   "metadata": {},
   "source": [
    "<a name=\"subsubseccion-Literales de funciones y funciones como valores\"></a>\n",
    "### Literales de funciones y funciones como valores\n",
    "\n",
    "Podemos utilizar funciones sin necesidad de darles un nombre con el que referenciarlas, sino empleando su definición directamente donde se requieren. Ese literal de función se compilará en una clase en tiempo de ejecución será instanciada en un objeto que se usará como valor.\n",
    "\n",
    "Cada literal de función que usamos como valor se convierte en una instancia de una clase que extiende el trait `FunctionN`, siendo `N` el número de parámetros de la función. En Scala están definidos desde `Function0` hasta `Funtion22`, y cada uno de ellos implementa el método `apply` que se encarga de invocar la función.\n",
    "\n",
    "Los literales de función pueden contener más de una sentencia entre llaves y los valores que producen pueden usarse en muchos lugares, como por ejemplo como parámetros de métodos como `foreach` o `filter` que ya comentamos anteriormente, indicando lo que queremos hacer con cada elemento de una secuencia o el criterio a seguir para el filtrado."
   ]
  },
  {
   "cell_type": "code",
   "execution_count": 23,
   "metadata": {},
   "outputs": [
    {
     "name": "stdout",
     "output_type": "stream",
     "text": [
      "-1 0 1 2 3 \n",
      "[X=1,Y=0] [X=1,Y=1] [X=2,Y=0] [X=2,Y=1] [X=2,Y=2] [X=3,Y=0] [X=3,Y=1] [X=3,Y=2] [X=3,Y=3] \n",
      "[X=1,Y=0] [X=1,Y=1] [X=2,Y=0] [X=2,Y=1] [X=2,Y=2] [X=3,Y=0] [X=3,Y=1] [X=3,Y=2] [X=3,Y=3] "
     ]
    },
    {
     "data": {
      "text/plain": [
       "\u001b[36mres22_0\u001b[39m: \u001b[32mInt\u001b[39m => \u001b[32mInt\u001b[39m = <function1>\r\n",
       "\u001b[36mincr\u001b[39m: \u001b[32mInt\u001b[39m => \u001b[32mInt\u001b[39m = <function1>\r\n",
       "\u001b[36mres22_2\u001b[39m: \u001b[32mInt\u001b[39m = \u001b[32m3\u001b[39m\r\n",
       "\u001b[36mres22_4\u001b[39m: \u001b[32mInt\u001b[39m = \u001b[32m4\u001b[39m\r\n",
       "\u001b[36mnums\u001b[39m: \u001b[32mList\u001b[39m[\u001b[32mInt\u001b[39m] = \u001b[33mList\u001b[39m(\u001b[32m-1\u001b[39m, \u001b[32m0\u001b[39m, \u001b[32m1\u001b[39m, \u001b[32m2\u001b[39m, \u001b[32m3\u001b[39m)"
      ]
     },
     "execution_count": 23,
     "metadata": {},
     "output_type": "execute_result"
    }
   ],
   "source": [
    "(x: Int) => x + 1                   // Literal de función\n",
    "var incr = (x: Int) => x + 1        // Literal de función asignada a una variable (de tipo Int => Int)\n",
    "incr(2)                             // Llamada a la función\n",
    "incr = (x: Int) => x + 2            // Reasignación de la variable a otro literal de función (de tipo (Int, Int) => Int)\n",
    "incr(2)                             // Llamada a la función\n",
    "//incr = (x: Int, n: Int) => x + n  // ¿Qué pasará si reasignamos la variable a otro tipo de función? (p.ej. (Int, Int) => Int)\n",
    "\n",
    "val nums = List(-1,0,1,2,3)\n",
    "nums.foreach((x: Int) => print(x+\" \"))  // Literal de función usada como parámetro\n",
    "\n",
    "println()\n",
    "nums.foreach((x: Int) => {              // Literal de función de varias líneas\n",
    "     val valido = x > 0                 // Al sacar fuera la condición ya tendremos que usar las llaves\n",
    "     if (valido)\n",
    "         for (y <- 0 to x)\n",
    "            print(\"[X=\"+x+\",Y=\"+y+\"] \")\n",
    "    })\n",
    "\n",
    "println()\n",
    "nums.filter((x: Int) => x > 0).        // Encadenando llamadas a filter y foreach para obtener el mismo resultado\n",
    "    foreach((x: Int) =>\n",
    "         for (y <- 0 to x)\n",
    "            print(\"[X=\"+x+\",Y=\"+y+\"] \")\n",
    "    )"
   ]
  },
  {
   "cell_type": "markdown",
   "metadata": {
    "collapsed": true
   },
   "source": [
    "<table align=\"left\" style=\"border-collapse: collapse; border: none !important; width: 100%;\">\n",
    "    <tr style=\"border:none !important;\">\n",
    "        <td style=\"border:none !important; width: 60px;\">\n",
    "<img src=\"icons/notepad.png\" align=\"left\" width=\"50px\"> \n",
    "        </td>\n",
    "        <td style=\"border:none !important;text-align:left;\">\n",
    "            <ul>\n",
    "                <li>El hecho de que Scala incluya los traits desde `Function0` hasta `Function22` es la razón por la que el número máximo de parámetros de una función en Scala sea 22</li>\n",
    "            </ul>\n",
    "        </td>\n",
    "    </tr>\n",
    "</table>"
   ]
  },
  {
   "cell_type": "markdown",
   "metadata": {},
   "source": [
    "<table align=\"left\" style=\"border-collapse: collapse; border: none !important; width: 100%;\">\n",
    "    <tr style=\"border:none !important;\">\n",
    "        <td style=\"border:none !important; width: 60px;\">\n",
    "<img src=\"icons/optimizar.png\" align=\"left\" width=\"50px\"> \n",
    "        </td>\n",
    "        <td style=\"border:none !important;text-align:left;\">\n",
    "            <ul>\n",
    "                <li>En muchos casos podremos eliminar el tipo de los parámetros en los literales de función al poder ser deducidos por el compilador viendo donde se aplica, y en esos casos se pueden eliminar los paréntesis (`nums.filter(x => x > 0)`)</li>\n",
    "                <li>Para reducir más aún el código podemos usar `_` para referirnos a los parámetros siempre que aparezcan una sola vez en el cuerpo de la función, refiriéndose el primer `_` al primer parámetro, el segundo `_` al segundo parámetro, etc., eliminando así la parte izquierda del literal de función (`nums.filter(_ > 0)`)</li>\n",
    "                <li>Si usando `_` nos vemos obligados a indicar el tipo podemos hacerlo entre paréntesis (`val f = (_: Int) + (_: Int)`)</li>\n",
    "            </ul>\n",
    "        </td>\n",
    "    </tr>\n",
    "</table>"
   ]
  },
  {
   "cell_type": "markdown",
   "metadata": {},
   "source": [
    "<a name=\"subsubseccion-Funciones parcialmente aplicadas\"></a>\n",
    "### Funciones parcialmente aplicadas\n",
    "\n",
    "Vemos otra forma de utilizar `_`, en este caso para sustituir toda una lista de parámetros. Esto nos permite envolver una función en un valor de función que podamos pasar como parámetro o asignarla a una variable (intenta por ejemplo asignar `suma3` a `fs3` sin el `_`).\n",
    "\n",
    "En lugar de sustituir toda la lista de parámetros con `_`, también podemos sustituir algunos de los parámetros, de ahí el nombre de este tipo de funciones. En este caso el envoltorio que estamos creando solo nos pide los parámetros que faltan para poder hacer la llamada a la función de \"detino\"."
   ]
  },
  {
   "cell_type": "code",
   "execution_count": 28,
   "metadata": {},
   "outputs": [
    {
     "data": {
      "text/plain": [
       "defined \u001b[32mfunction\u001b[39m \u001b[36msuma3\u001b[39m\r\n",
       "\u001b[36mfs3\u001b[39m: (\u001b[32mInt\u001b[39m, \u001b[32mInt\u001b[39m, \u001b[32mInt\u001b[39m) => \u001b[32mInt\u001b[39m = <function3>\r\n",
       "\u001b[36mres27_2\u001b[39m: \u001b[32mInt\u001b[39m = \u001b[32m6\u001b[39m\r\n",
       "\u001b[36mres27_3\u001b[39m: \u001b[32mInt\u001b[39m = \u001b[32m6\u001b[39m\r\n",
       "\u001b[36mfs3p\u001b[39m: \u001b[32mInt\u001b[39m => \u001b[32mInt\u001b[39m = <function1>\r\n",
       "\u001b[36mres27_5\u001b[39m: \u001b[32mInt\u001b[39m = \u001b[32m6\u001b[39m\r\n",
       "\u001b[36mres27_6\u001b[39m: \u001b[32mInt\u001b[39m = \u001b[32m6\u001b[39m"
      ]
     },
     "execution_count": 28,
     "metadata": {},
     "output_type": "execute_result"
    }
   ],
   "source": [
    "def suma3(a: Int, b: Int, c: Int) = a + b + c\n",
    "val fs3 = suma3 _   // El tipo de 'suma3 _' es una clase generada con un `apply` de 3 parámetros (los que faltan)\n",
    "fs3(1, 2, 3)        // Invocando la función\n",
    "fs3.apply(1, 2, 3)  // Formulación equivalente\n",
    "\n",
    "val fs3p = suma3 (1, (_: Int), 3)\n",
    "fs3p(2)\n",
    "fs3p.apply(2)       // Esta invocación a su vez invocará suma3(1, 2, 3)"
   ]
  },
  {
   "cell_type": "markdown",
   "metadata": {},
   "source": [
    "<table align=\"left\" style=\"border-collapse: collapse; border: none !important; width: 100%;\">\n",
    "    <tr style=\"border:none !important;\">\n",
    "        <td style=\"border:none !important; width: 60px;\">\n",
    "<img src=\"icons/optimizar.png\" align=\"left\" width=\"50px\"> \n",
    "        </td>\n",
    "        <td style=\"border:none !important;text-align:left;\">\n",
    "            <ul>\n",
    "                <li>Si sustituimos toda la lista de parámetros por `_`, podemos obviar el propio `_` si en ese punto del código se espera una función (`nums.foreach(println)`)</li>\n",
    "            </ul>\n",
    "        </td>\n",
    "    </tr>\n",
    "</table>"
   ]
  },
  {
   "cell_type": "markdown",
   "metadata": {},
   "source": [
    "<a name=\"subsubseccion-Clausuras {closures}\"></a>\n",
    "### Clausuras (closures)\n",
    "\n",
    "En un literal de función como `(x: Int) => x + 1` todos los términos necesarios para su calculo están al alcance, pero si la función accede a una variable externa, como en `(x: Int) => x + cantidad`, decimos que contiene una variable 'libre' y eso convierte el valor de función generado en una **clausura**. Este tipo de valores de función son útiles por ejemplo al definir una función dentro de otra de manera que la función interna pueda acceder a los parámetros de la externa.\n",
    "\n",
    "En Scala si el valor de esa variable libre cambia, la clausura será consciente de ello como vemos en el ejemplo. \n",
    "\n",
    "Por último, se puede dar el caso de que la clausura acceda a una variable de la que hay varias copias, y en ese caso se referirá a la que estaba activa cuando se creó la clausura. "
   ]
  },
  {
   "cell_type": "code",
   "execution_count": 33,
   "metadata": {},
   "outputs": [
    {
     "data": {
      "text/plain": [
       "\u001b[36mcantidad\u001b[39m: \u001b[32mInt\u001b[39m = \u001b[32m10\u001b[39m\r\n",
       "\u001b[36msumaCantidad\u001b[39m: \u001b[32mInt\u001b[39m => \u001b[32mInt\u001b[39m = <function1>\r\n",
       "\u001b[36mres32_2\u001b[39m: \u001b[32mInt\u001b[39m = \u001b[32m2\u001b[39m\r\n",
       "\u001b[36mres32_4\u001b[39m: \u001b[32mInt\u001b[39m = \u001b[32m11\u001b[39m\r\n",
       "defined \u001b[32mfunction\u001b[39m \u001b[36mmakeIncreaser\u001b[39m\r\n",
       "\u001b[36minc1\u001b[39m: \u001b[32mInt\u001b[39m => \u001b[32mInt\u001b[39m = <function1>\r\n",
       "\u001b[36minc10\u001b[39m: \u001b[32mInt\u001b[39m => \u001b[32mInt\u001b[39m = <function1>\r\n",
       "\u001b[36mres32_8\u001b[39m: \u001b[32mInt\u001b[39m = \u001b[32m2\u001b[39m\r\n",
       "\u001b[36mres32_9\u001b[39m: \u001b[32mInt\u001b[39m = \u001b[32m11\u001b[39m"
      ]
     },
     "execution_count": 33,
     "metadata": {},
     "output_type": "execute_result"
    }
   ],
   "source": [
    "var cantidad = 1\n",
    "val sumaCantidad = (x: Int) => x + cantidad\n",
    "sumaCantidad(1)\n",
    "cantidad = 10\n",
    "sumaCantidad(1)\n",
    "\n",
    "def makeIncreaser(cantidad: Int) = (x: Int) => x + cantidad // Crea una nueva clausura en cada llamada\n",
    "val inc1 = makeIncreaser(1)\n",
    "val inc10 = makeIncreaser(10)\n",
    "inc1(1)\n",
    "inc10(1)\n"
   ]
  },
  {
   "cell_type": "markdown",
   "metadata": {
    "collapsed": true
   },
   "source": [
    "<table align=\"left\" style=\"border-collapse: collapse; border: none !important; width: 100%;\">\n",
    "    <tr style=\"border:none !important;\">\n",
    "        <td style=\"border:none !important; width: 60px;\">\n",
    "<img src=\"icons/notepad.png\" align=\"left\" width=\"50px\"> \n",
    "        </td>\n",
    "        <td style=\"border:none !important;text-align:left;\">\n",
    "            <ul>\n",
    "                <li>Desde una clausura también se puede cambiar el valor de una variable libre</li>\n",
    "            </ul>\n",
    "        </td>\n",
    "    </tr>\n",
    "</table>"
   ]
  },
  {
   "cell_type": "markdown",
   "metadata": {},
   "source": [
    "<a name=\"subsubseccion-Parámetros repetidos\"></a>\n",
    "### Parámetros repetidos\n",
    "\n",
    "Para indicar en Scala que se espera un `Array` de parámetros del mismo tipo se usa el `*` al final del tipo. \n",
    "\n",
    "No obstante, hay que saber que si tenemos un `Array` del tipo apropiado no podemos pasarlo como parámetro directamente, sino que hay que indicarle al compilador que queremos pasar cada elemento del array individualmente como parámetro, y eso lo conseguimos poniendo detrás `: _*` como vemos en el ejemplo."
   ]
  },
  {
   "cell_type": "code",
   "execution_count": 36,
   "metadata": {},
   "outputs": [
    {
     "name": "stdout",
     "output_type": "stream",
     "text": [
      "Hola\r\n",
      "Hola\r\n",
      "mundo\r\n",
      "Hola\r\n",
      "mundo\r\n"
     ]
    },
    {
     "data": {
      "text/plain": [
       "defined \u001b[32mfunction\u001b[39m \u001b[36mecho\u001b[39m\r\n",
       "\u001b[36mhola\u001b[39m: \u001b[32mArray\u001b[39m[\u001b[32mString\u001b[39m] = \u001b[33mArray\u001b[39m(\u001b[32m\"Hola\"\u001b[39m, \u001b[32m\"mundo\"\u001b[39m)"
      ]
     },
     "execution_count": 36,
     "metadata": {},
     "output_type": "execute_result"
    }
   ],
   "source": [
    "def echo(args: String*) = \n",
    "    for (arg <- args) println(arg)\n",
    "\n",
    "echo()\n",
    "echo(\"Hola\")\n",
    "echo(\"Hola\", \"mundo\")\n",
    "\n",
    "val hola = Array(\"Hola\", \"mundo\")\n",
    "echo(hola: _*)"
   ]
  },
  {
   "cell_type": "markdown",
   "metadata": {},
   "source": [
    "<a name=\"subsubseccion-Funciones de orden superior {Higher-order functions}\"></a>\n",
    "### Funciones de orden superior ('Higher-order functions')\n",
    "\n",
    "En programación funcional, llamamos funciones de orden superior ('higher order functions' en inglés) a las funciones que toman otras como parámetro o devuelven otra función. Entre sus ventajas destacan su capacidad para crear abstracciones que reducen la duplicación de código y suponen una oportunidad para simplificarlo.\n",
    "\n",
    "Supongamos por ejemplo que queremos analizar un fichero buscando las lineas que cumplen un determinado criterio respecto a una cadena, por ejemplo, que empieza con ella, que termina con ella o que la contiene. Podríamos crear funciones muy parecidas en las que sólo varía ese criterio, o implementar un esquema común en el que ese criterio sea parametrizable, tal y como vemos en el ejemplo."
   ]
  },
  {
   "cell_type": "code",
   "execution_count": 55,
   "metadata": {},
   "outputs": [
    {
     "name": "stdout",
     "output_type": "stream",
     "text": [
      "FUNCTIONS:\n",
      "hola, qué tal\n",
      "Al ver a un compañero hay que decir hola\n",
      "hola, qué tal\n",
      "Al ver a un compañero hay que decir hola\n",
      "Adiós don Pepito, hola don José\n",
      "\n",
      "HIGER ORDER FUNCTIONS:\n",
      "hola, qué tal\n",
      "Al ver a un compañero hay que decir hola\n",
      "hola, qué tal\n",
      "Al ver a un compañero hay que decir hola\n",
      "Adiós don Pepito, hola don José\n"
     ]
    },
    {
     "data": {
      "text/plain": [
       "\u001b[32mimport \u001b[39m\u001b[36mscala.io.Source\r\n",
       "\u001b[39m\r\n",
       "\u001b[36mlines\u001b[39m: \u001b[32mList\u001b[39m[\u001b[32mString\u001b[39m] = \u001b[33mList\u001b[39m(\n",
       "  \u001b[32m\"﻿Hola mundo\"\u001b[39m,\n",
       "  \u001b[32m\"hola, qué tal\"\u001b[39m,\n",
       "  \u001b[32m\"Al ver a un compañero hay que decir hola\"\u001b[39m,\n",
       "  \u001b[32m\"Hola don Pepito, Adiós don José\"\u001b[39m,\n",
       "  \u001b[32m\"Adiós don Pepito, hola don José\"\u001b[39m\n",
       ")\r\n",
       "defined \u001b[32mfunction\u001b[39m \u001b[36mbuscaEmpieza\u001b[39m\r\n",
       "defined \u001b[32mfunction\u001b[39m \u001b[36mbuscaTermina\u001b[39m\r\n",
       "defined \u001b[32mfunction\u001b[39m \u001b[36mbuscaContiene\u001b[39m\r\n",
       "defined \u001b[32mfunction\u001b[39m \u001b[36mbuscaCriterio\u001b[39m\r\n",
       "defined \u001b[32mfunction\u001b[39m \u001b[36mbuscaEmpieza2\u001b[39m\r\n",
       "defined \u001b[32mfunction\u001b[39m \u001b[36mbuscaTermina2\u001b[39m\r\n",
       "defined \u001b[32mfunction\u001b[39m \u001b[36mbuscaContiene2\u001b[39m"
      ]
     },
     "execution_count": 55,
     "metadata": {},
     "output_type": "execute_result"
    }
   ],
   "source": [
    "import scala.io.Source\n",
    "val lines = Source.fromFile(\"files/cadenas.txt\").getLines.toList\n",
    "\n",
    "def buscaEmpieza(cadena: String) =\n",
    "    for (line <- lines if line.startsWith(cadena)) yield line\n",
    "\n",
    "def buscaTermina(cadena: String) =\n",
    "    for (line <- lines if line.endsWith(cadena)) yield line\n",
    "\n",
    "def buscaContiene(cadena: String) =\n",
    "    for (line <- lines if line.contains(cadena)) yield line\n",
    "\n",
    "println(\"FUNCTIONS:\")\n",
    "buscaEmpieza(\"hola\").foreach(println)\n",
    "buscaTermina(\"hola\").foreach(println)\n",
    "buscaContiene(\"hola\").foreach(println)\n",
    "\n",
    "def buscaCriterio(cadena: String, criterio: (String, String) => Boolean) =\n",
    "    for (line <- lines if criterio(line, cadena)) yield line\n",
    "def buscaEmpieza2(cadena: String) = buscaCriterio(cadena, _.startsWith(_))\n",
    "def buscaTermina2(cadena: String) = buscaCriterio(cadena, _.endsWith(_))\n",
    "def buscaContiene2(cadena: String) = buscaCriterio(cadena, _.contains(_))\n",
    "\n",
    "println(\"\\nHIGER ORDER FUNCTIONS:\")\n",
    "buscaEmpieza2(\"hola\").foreach(println)\n",
    "buscaTermina2(\"hola\").foreach(println)\n",
    "buscaContiene2(\"hola\").foreach(println)"
   ]
  },
  {
   "cell_type": "markdown",
   "metadata": {},
   "source": [
    "<table align=\"left\" style=\"border-collapse: collapse; border: none !important; width: 100%;\">\n",
    "    <tr style=\"border:none !important;\">\n",
    "        <td style=\"border:none !important; width: 60px;\">\n",
    "<img src=\"icons/optimizar.png\" align=\"left\" width=\"50px\"> \n",
    "        </td>\n",
    "        <td style=\"border:none !important;text-align:left;\">\n",
    "            <ul>\n",
    "                <li>Podemos ir un paso más allá utilizando clausuras para eliminar el primer parámetro de `buscaCriterio`</li>\n",
    "            </ul>\n",
    "        </td>\n",
    "    </tr>\n",
    "</table>"
   ]
  },
  {
   "cell_type": "markdown",
   "metadata": {},
   "source": [
    "Otros ejemplos típicos que ilustran los beneficios de usar funciones de orden superior se basan en los métodos de propósito especial que incorpora Scala para distintos tipos de colecciones. A continuación vemos una muestra de ello."
   ]
  },
  {
   "cell_type": "code",
   "execution_count": 56,
   "metadata": {},
   "outputs": [
    {
     "data": {
      "text/plain": [
       "defined \u001b[32mfunction\u001b[39m \u001b[36mcontainsNegImp\u001b[39m\r\n",
       "defined \u001b[32mfunction\u001b[39m \u001b[36mcontainsNegFun\u001b[39m\r\n",
       "\u001b[36mres55_2\u001b[39m: \u001b[32mBoolean\u001b[39m = \u001b[32mfalse\u001b[39m\r\n",
       "\u001b[36mres55_3\u001b[39m: \u001b[32mBoolean\u001b[39m = \u001b[32mfalse\u001b[39m\r\n",
       "\u001b[36mres55_4\u001b[39m: \u001b[32mBoolean\u001b[39m = \u001b[32mtrue\u001b[39m\r\n",
       "\u001b[36mres55_5\u001b[39m: \u001b[32mBoolean\u001b[39m = \u001b[32mtrue\u001b[39m"
      ]
     },
     "execution_count": 56,
     "metadata": {},
     "output_type": "execute_result"
    }
   ],
   "source": [
    "// Versión \"estándar\" para comprobar si una lista tiene números negativos\n",
    "def containsNegImp(nums: List[Int]): Boolean = {\n",
    "    var exists = false\n",
    "    for (num <- nums)\n",
    "        if (num < 0)\n",
    "            exists = true\n",
    "    exists\n",
    "}\n",
    "\n",
    "// Ahorrando código mediante el uso de la funcion de orden superior 'exists'\n",
    "def containsNegFun(nums: List[Int]): Boolean = nums.exists(_ < 0)\n",
    "\n",
    "// Vemos que ambas son equivalentes\n",
    "containsNegImp(Nil)\n",
    "containsNegFun(Nil)\n",
    "containsNegImp(List(0, -1))\n",
    "containsNegFun(List(0, -1))\n",
    "\n",
    "// ¿Cómo haríamos la función que comprueba si una lista contiene números impares?"
   ]
  },
  {
   "cell_type": "markdown",
   "metadata": {},
   "source": [
    "<a name=\"subseccion-Currying\"></a>\n",
    "## Currying\n",
    "\n",
    "Se trata de una técnica de la programación funcional que permite definir una función con múltiples listas de parámetros en lugar de solo una.\n",
    "\n",
    "En realidad, al definir una función 'curried' con dos listas de parámetros estamos definiendo dos funciones. Se define una función que toma la primera lista de parámetros y esta devuelve otra función que toma la segunda lista de parámetros y devuelve el resultado final."
   ]
  },
  {
   "cell_type": "code",
   "execution_count": 59,
   "metadata": {},
   "outputs": [
    {
     "data": {
      "text/plain": [
       "defined \u001b[32mfunction\u001b[39m \u001b[36msumaTradicional\u001b[39m\r\n",
       "\u001b[36mres58_1\u001b[39m: \u001b[32mInt\u001b[39m = \u001b[32m3\u001b[39m\r\n",
       "defined \u001b[32mfunction\u001b[39m \u001b[36msumaCurried\u001b[39m\r\n",
       "\u001b[36mres58_3\u001b[39m: \u001b[32mInt\u001b[39m = \u001b[32m3\u001b[39m\r\n",
       "defined \u001b[32mfunction\u001b[39m \u001b[36msumaSimulandoCurry1\u001b[39m\r\n",
       "\u001b[36mres58_5\u001b[39m: \u001b[32mInt\u001b[39m = \u001b[32m3\u001b[39m\r\n",
       "defined \u001b[32mfunction\u001b[39m \u001b[36msumaSimulandoCurry2\u001b[39m\r\n",
       "\u001b[36mres58_7\u001b[39m: \u001b[32mInt\u001b[39m = \u001b[32m3\u001b[39m"
      ]
     },
     "execution_count": 59,
     "metadata": {},
     "output_type": "execute_result"
    }
   ],
   "source": [
    "def sumaTradicional(x: Int, y: Int) = x + y\n",
    "sumaTradicional(1, 2)\n",
    "\n",
    "def sumaCurried(x: Int)(y: Int) = x + y\n",
    "sumaCurried(1)(2)\n",
    "\n",
    "// Podemos simular lo que hacemos con 'currying' y podremos diferenciar facilmente las dos funciones\n",
    "def sumaSimulandoCurry1(x: Int) = (y: Int) => x + y\n",
    "sumaSimulandoCurry1(1)(2)\n",
    "\n",
    "def sumaSimulandoCurry2 = sumaSimulandoCurry1(1)\n",
    "sumaSimulandoCurry2(2)"
   ]
  },
  {
   "cell_type": "markdown",
   "metadata": {},
   "source": [
    "Y una vez hemos visto la función `sumaCurried` y las funciones que simulan la técnica de currying `sumaSimulandoCurry1` y `sumaSimulandoCurry2`, ¿cómo podríamos acceder a la segunda función implícita en `sumaCurried`? La respuesta está en las funciones parcialmente aplicadas que vimos anteriormente, es decir, utilizando el símbolo `_` como se ve en el siguiente ejemplo."
   ]
  },
  {
   "cell_type": "code",
   "execution_count": 63,
   "metadata": {},
   "outputs": [
    {
     "data": {
      "text/plain": [
       "\u001b[36msumaUno\u001b[39m: \u001b[32mInt\u001b[39m => \u001b[32mInt\u001b[39m = <function1>\r\n",
       "\u001b[36mres62_1\u001b[39m: \u001b[32mInt\u001b[39m = \u001b[32m3\u001b[39m\r\n",
       "\u001b[36msumaDiez\u001b[39m: \u001b[32mInt\u001b[39m => \u001b[32mInt\u001b[39m = <function1>\r\n",
       "\u001b[36mres62_3\u001b[39m: \u001b[32mInt\u001b[39m = \u001b[32m12\u001b[39m"
      ]
     },
     "execution_count": 63,
     "metadata": {},
     "output_type": "execute_result"
    }
   ],
   "source": [
    "val sumaUno = sumaCurried(1) _\n",
    "sumaUno(2)\n",
    "\n",
    "// Y si queremos una función que sume 10 al argumento que se le pase?\n",
    "val sumaDiez = sumaCurried(10) _\n",
    "sumaDiez(2)"
   ]
  },
  {
   "cell_type": "markdown",
   "metadata": {},
   "source": [
    "<table align=\"left\" style=\"border-collapse: collapse; border: none !important; width: 100%;\">\n",
    "    <tr style=\"border:none !important;\">\n",
    "        <td style=\"border:none !important; width: 60px;\">\n",
    "<img src=\"icons/optimizar.png\" align=\"left\" width=\"50px\"> \n",
    "        </td>\n",
    "        <td style=\"border:none !important;text-align:left;\">\n",
    "            <ul>\n",
    "                <li>Podemos eliminar el espacio antes del `_` en los ejemplos vistos ya que el resultado no es un identificador válido en Scala (`println_` en cambio sí lo sería, por lo que en ese caso por ejemplo no podríamos eliminar el espacio)</li>\n",
    "            </ul>\n",
    "        </td>\n",
    "    </tr>\n",
    "</table>"
   ]
  },
  {
   "cell_type": "markdown",
   "metadata": {},
   "source": [
    "Una razón por la que podemos querer aplicar 'currying' es la creación de estructuras de control propias que parezcan parte del lenguaje. \n",
    "\n",
    "Por ejemplo, supongamos que queremos una función \"genérica\" que realice una operación con un fichero y se encargue de cerrarlo de forma segura cuando termine. Podemos crear una función de orden superior que reciba el fichero y la operación a realizar como parámetros. Si aplicamos 'currying' para separar estos dos parámetros podremos además hacer uso de una característica de Scala, la cuál me permite cambiar los paréntesis por llaves en las llamadas de funciones de un solo parámetro, quedandonos una sintaxis propia de una estructura de control como vemos en el ejemplo."
   ]
  },
  {
   "cell_type": "code",
   "execution_count": 68,
   "metadata": {},
   "outputs": [
    {
     "data": {
      "text/plain": [
       "\u001b[32mimport \u001b[39m\u001b[36mjava.io.PrintWriter\r\n",
       "\u001b[39m\r\n",
       "\u001b[32mimport \u001b[39m\u001b[36mjava.io.File\r\n",
       "\r\n",
       "\u001b[39m\r\n",
       "\u001b[36mfile\u001b[39m: \u001b[32mFile\u001b[39m = files\\date.txt\r\n",
       "defined \u001b[32mfunction\u001b[39m \u001b[36mwithPrintWriter\u001b[39m\r\n",
       "defined \u001b[32mfunction\u001b[39m \u001b[36mwithPrintWriterCurried\u001b[39m"
      ]
     },
     "execution_count": 68,
     "metadata": {},
     "output_type": "execute_result"
    }
   ],
   "source": [
    "import java.io.PrintWriter\n",
    "import java.io.File\n",
    "\n",
    "val file = new File(\"files/date.txt\")\n",
    "\n",
    "// Versión inicial (sin currying)\n",
    "def withPrintWriter(file: File, op: PrintWriter => Unit) {\n",
    "    val writer = new PrintWriter(file)\n",
    "    try {\n",
    "        op(writer)\n",
    "    } finally {\n",
    "        writer.close()\n",
    "    }\n",
    "}\n",
    "withPrintWriter(file,\n",
    "    writer => writer.println(new java.util.Date)   // _.println(new java.util.Date)\n",
    ")\n",
    "\n",
    "// Versión con currying\n",
    "def withPrintWriterCurried(file: File)(op: PrintWriter => Unit) {\n",
    "    val writer = new PrintWriter(file)\n",
    "    try {\n",
    "        op(writer)\n",
    "    } finally {\n",
    "        writer.close()\n",
    "    }\n",
    "}\n",
    "withPrintWriterCurried(file){                      // Currying + llaves = sintaxis propia de una estructura de control\n",
    "    writer => writer.println(new java.util.Date)\n",
    "}\n"
   ]
  },
  {
   "cell_type": "markdown",
   "metadata": {
    "collapsed": true
   },
   "source": [
    "<table align=\"left\" style=\"border-collapse: collapse; border: none !important; width: 100%;\">\n",
    "    <tr style=\"border:none !important;\">\n",
    "        <td style=\"border:none !important; width: 60px;\">\n",
    "<img src=\"icons/notepad.png\" align=\"left\" width=\"50px\"> \n",
    "        </td>\n",
    "        <td style=\"border:none !important;text-align:left;\">\n",
    "            <ul>\n",
    "                <li>Cuando definimos una función 'curried' debemos dejar las listas de parámetros con funciones para el final (si las hubiere) y los parámetros que no son funciones al principio, para así ayudar al compilador a inferir los tipos</li>\n",
    "            </ul>\n",
    "        </td>\n",
    "    </tr>\n",
    "</table>"
   ]
  },
  {
   "cell_type": "markdown",
   "metadata": {},
   "source": [
    "<a name=\"subseccion-Parámetros by-name y lazy vals\"></a>\n",
    "## Parámetros 'by-name' y 'lazy' vals\n",
    "\n",
    "Cuando llamamos a una función, los parámetros se evalúan y posteriormente se ejecuta el cuerpo de la función sustituyendo los parámetros por los valores calculados, pero en ocasiones, podemos desear que un parámetro no se evalúe hasta que sea necesario.\n",
    "\n",
    "Por ejemplo, supongamos que queremos replicar la función `assert` de Scala, que lanza una excepción `AssertException` si el predicado que se le pasa como parámetro devuelve `false`, y supongamos que hay una variable `assertionsEnabled` que habilita o no el uso de la función. Veamos posibles aproximaciones:\n",
    "\n",
    "1. Podríamos implementar la función con un parámetro booleano como vemos en la primera versión del ejemplo, pero el parámetro se evaluaría siempre en primer lugar\n",
    "\n",
    "2. Podríamos usar como predicado un literal de función sin parámetros que devuelva un booleano, y de esta forma se ejecutaría allá donde lo necesitemos\n",
    "\n",
    "3. Por último, podemos usar la sintaxis `=> tipo` para crear un parámetro que se use como en la versión 1 pero que se evalúe como en la versión 2\n",
    "\n",
    "Y teniendo en cuenta la diferencia existente entre la primera y la tercera versión de la función, ¿qué diferencia habrá si hacemos la llamada con `2 / 0 > 3` y `assertionsEnabled = false`?"
   ]
  },
  {
   "cell_type": "code",
   "execution_count": 76,
   "metadata": {},
   "outputs": [
    {
     "data": {
      "text/plain": [
       "\u001b[36massertionsEnabled\u001b[39m: \u001b[32mBoolean\u001b[39m = \u001b[32mtrue\u001b[39m\r\n",
       "defined \u001b[32mfunction\u001b[39m \u001b[36mmyAssert1\u001b[39m\r\n",
       "defined \u001b[32mfunction\u001b[39m \u001b[36mmyAssert2\u001b[39m\r\n",
       "defined \u001b[32mfunction\u001b[39m \u001b[36mmyAssert3\u001b[39m"
      ]
     },
     "execution_count": 76,
     "metadata": {},
     "output_type": "execute_result"
    }
   ],
   "source": [
    "var assertionsEnabled = true\n",
    "\n",
    "// Primera versión\n",
    "def myAssert1(pred: Boolean) = {\n",
    "    if (assertionsEnabled && !pred)\n",
    "        throw new AssertionError\n",
    "}\n",
    "//myAssert1(2 > 3)\n",
    "\n",
    "// Segunda versión\n",
    "def myAssert2(pred: () => Boolean) = {\n",
    "    if (assertionsEnabled && !pred())\n",
    "        throw new AssertionError\n",
    "}\n",
    "//myAssert2(() => 2 > 3)\n",
    "\n",
    "// Tercera versión\n",
    "def myAssert3(pred: => Boolean) = {\n",
    "    if (assertionsEnabled && !pred)\n",
    "        throw new AssertionError\n",
    "}\n",
    "//myAssert3(2 > 3)"
   ]
  },
  {
   "cell_type": "markdown",
   "metadata": {},
   "source": [
    "A la hora de crear un campo con `val` también se puede dar el caso de que no queramos que se evalúe hasta que sea necesario, y esto se consigue con la palabra `lazy` como vemos en el siguiente ejemplo."
   ]
  },
  {
   "cell_type": "code",
   "execution_count": 22,
   "metadata": {},
   "outputs": [
    {
     "data": {
      "text/plain": [
       "defined \u001b[32mobject\u001b[39m \u001b[36mDemo\u001b[39m\r\n",
       "\u001b[36mres21_1\u001b[39m: \u001b[32mwrapper\u001b[39m.\u001b[32mwrapper\u001b[39m.\u001b[32mDemo\u001b[39m.type = $sess.cmd21Wrapper$Helper$Demo$@6acdf86b"
      ]
     },
     "execution_count": 22,
     "metadata": {},
     "output_type": "execute_result"
    }
   ],
   "source": [
    "object Demo {\n",
    "    lazy val x = { println(\"initializing x\"); \"done\" }  // Si eliminamos 'lazy' se evaluará al crear el objeto\n",
    "}\n",
    "Demo"
   ]
  },
  {
   "cell_type": "markdown",
   "metadata": {
    "collapsed": true
   },
   "source": [
    "<table align=\"left\" style=\"border-collapse: collapse; border: none !important; width: 100%;\">\n",
    "    <tr style=\"border:none !important;\">\n",
    "        <td style=\"border:none !important; width: 60px;\">\n",
    "<img src=\"icons/notepad.png\" align=\"left\" width=\"50px\"> \n",
    "        </td>\n",
    "        <td style=\"border:none !important;text-align:left;\">\n",
    "            <ul>\n",
    "                <li>El mismo efecto se conseguiría usando `def` sin parámetros en lugar de `lazy val`, pero a diferencia de lo que ocurre con `def`, en este caso sólo se evalúa una vez y el resultado se almacena</li>\n",
    "            </ul>\n",
    "        </td>\n",
    "    </tr>\n",
    "</table>"
   ]
  },
  {
   "cell_type": "markdown",
   "metadata": {},
   "source": [
    "<a name=\"subseccion-Recursión por la cola {tail recursion}\"></a>\n",
    "## Recursión por la cola ('tail recursion')\n",
    "\n",
    "Normalmente podemos definir una función repetitiva con un bucle si usamos el enfoque imperativo, o con una función recursiva si usamos el enfoque funcional. Aunque la versión recursiva generalmente es más corta y sencilla, suele destacarse como uno de los inconvenientes de esta vía la eficiencia, al ir apilando las llamadas en tiempo de ejecución con lo que ello conlleva. Sin embargo, ocurre que si lo último que hace la función es llamarse a sí misma, el compilador optimizará el código de manera que funcione como un bucle internamente, dándonos la posibilidad de obtener lo mejor de ambas aproximaciones.\n",
    "\n",
    "En el siguiente ejemplo vemos dos versiones de una función que provoca una excepción al final de una cuentaatrás, implementada sin y con recursión por la cola. El mensaje que provoca la excepción nos da pistas sobre las diferencias, ya que en la versión con recursión por la cola vemos que parece haber una única llamada a la función, pero no es así, lo que ocurre es que el compilador ha optimizado el código para utilizar el mismo espacio en la pila de ejecución."
   ]
  },
  {
   "cell_type": "code",
   "execution_count": 39,
   "metadata": {},
   "outputs": [
    {
     "ename": "",
     "evalue": "",
     "output_type": "error",
     "traceback": [
      "\u001b[31mjava.lang.Exception: boom!\u001b[39m\r",
      "  $sess.cmd38Wrapper$Helper.boom(\u001b[32mcmd38.sc\u001b[39m:\u001b[32m2\u001b[39m)\r",
      "  $sess.cmd38Wrapper$Helper.boom(\u001b[32mcmd38.sc\u001b[39m:\u001b[32m3\u001b[39m)\r",
      "  $sess.cmd38Wrapper$Helper.boom(\u001b[32mcmd38.sc\u001b[39m:\u001b[32m3\u001b[39m)\r",
      "  $sess.cmd38Wrapper$Helper.boom(\u001b[32mcmd38.sc\u001b[39m:\u001b[32m3\u001b[39m)\r",
      "  $sess.cmd38Wrapper$Helper.<init>(\u001b[32mcmd38.sc\u001b[39m:\u001b[32m5\u001b[39m)\r",
      "  $sess.cmd38Wrapper.<init>(\u001b[32mcmd38.sc\u001b[39m:\u001b[32m690\u001b[39m)\r",
      "  $sess.cmd38$.<init>(\u001b[32mcmd38.sc\u001b[39m:\u001b[32m363\u001b[39m)\r",
      "  $sess.cmd38$.<clinit>(\u001b[32mcmd38.sc\u001b[39m:\u001b[32m-1\u001b[39m)"
     ]
    }
   ],
   "source": [
    "def boom(x: Int): Int =                       // Esta versión NO es recursiva por la cola\n",
    "    if (x == 0) throw new Exception(\"boom!\")\n",
    "    else boom(x - 1) + 1\n",
    "\n",
    "boom(3)"
   ]
  },
  {
   "cell_type": "code",
   "execution_count": 40,
   "metadata": {},
   "outputs": [
    {
     "ename": "",
     "evalue": "",
     "output_type": "error",
     "traceback": [
      "\u001b[31mjava.lang.Exception: bang!\u001b[39m\r",
      "  $sess.cmd39Wrapper$Helper.bang(\u001b[32mcmd39.sc\u001b[39m:\u001b[32m2\u001b[39m)\r",
      "  $sess.cmd39Wrapper$Helper.<init>(\u001b[32mcmd39.sc\u001b[39m:\u001b[32m5\u001b[39m)\r",
      "  $sess.cmd39Wrapper.<init>(\u001b[32mcmd39.sc\u001b[39m:\u001b[32m682\u001b[39m)\r",
      "  $sess.cmd39$.<init>(\u001b[32mcmd39.sc\u001b[39m:\u001b[32m363\u001b[39m)\r",
      "  $sess.cmd39$.<clinit>(\u001b[32mcmd39.sc\u001b[39m:\u001b[32m-1\u001b[39m)"
     ]
    }
   ],
   "source": [
    "def bang(x: Int): Int =                       // Esta versión SI es recursiva por la cola\n",
    "    if (x == 0) throw new Exception(\"bang!\")\n",
    "    else bang(x - 1)\n",
    "\n",
    "bang(3)"
   ]
  },
  {
   "cell_type": "markdown",
   "metadata": {
    "collapsed": true
   },
   "source": [
    "<table align=\"left\" style=\"border-collapse: collapse; border: none !important; width: 100%;\">\n",
    "    <tr style=\"border:none !important;\">\n",
    "        <td style=\"border:none !important; width: 60px;\">\n",
    "<img src=\"icons/notepad.png\" align=\"left\" width=\"50px\"> \n",
    "        </td>\n",
    "        <td style=\"border:none !important;text-align:left;\">\n",
    "            <ul>\n",
    "                <li>Scala sólo optimiza las llamadas recursivas por la cola a la misma función que hace la llamada</li>\n",
    "            </ul>\n",
    "        </td>\n",
    "    </tr>\n",
    "</table>"
   ]
  },
  {
   "cell_type": "markdown",
   "metadata": {},
   "source": [
    "<a name=\"subseccion-Companion `object`\"></a>\n",
    "## Companion `object`\n",
    "\n",
    "Si el nombre de un `object` coincide con el de una `class`, este objeto 'singleton' se vincula a la clase de una forma muy particular, convirtiéndose ambos en 'compañeros' ('companion object' y 'companion class' respectivamente). Ambos (la clase y el objeto) deben definirse en el mismo fichero fuente y pueden acceder a los miembros privados que tenga el otro.\n",
    "\n",
    "Por ejemplo, aparte de la clase `List` se ha definido también un objeto `List` que ofrece diversos métodos, como por ejemplo:\n",
    "* `List.apply` que permite crear una lista con `List.apply(1, 2, 3)` y por consiguiente también mediante `List(1, 2, 3)`.\n",
    "* `List.range(i, j)` que devuelve una lista de números desde `i` hasta `j-1` (podemos usar un tercer parámetro para indicar el incremento).\n",
    "* `List.fill(n)(elem)` que devuelve una lista con `elem` repetido `n` veces.\n",
    "* `List.concat(lista1, ..., listaN)` que recibe N listas y devuelve una única lista con todos los elementos concatenados.\n",
    "\n",
    "Lo mismo lo podríamos aplicar a nuestros tipos, por ejemplo con una implementación funcional de las colas como vemos en siguiente ejemplo. Dado que las operaciones que operan sobre el inicio de una lista son más eficientes que las que operan sobre el final, una implementación que mejora la eficiencia conjunta de todas las operaciones (`head`, `tail` y `append`) es la que representa la cola con dos listas, la del inicio de la cola y la del final invertido."
   ]
  },
  {
   "cell_type": "code",
   "execution_count": 1,
   "metadata": {},
   "outputs": [
    {
     "data": {
      "text/plain": [
       "Intitializing Scala interpreter ..."
      ]
     },
     "metadata": {},
     "output_type": "display_data"
    },
    {
     "data": {
      "text/plain": [
       "Spark Web UI available at http://172.17.0.2:4040\n",
       "SparkContext available as 'sc' (version = 2.2.0, master = local[*], app id = local-1524817367355)\n",
       "SparkSession available as 'spark'\n"
      ]
     },
     "metadata": {},
     "output_type": "display_data"
    },
    {
     "data": {
      "text/plain": [
       "defined class MyQueue\n",
       "defined object MyQueue\n",
       "myFunctionalQueue: MyQueue[Int] = List(1, 2, 3)\n",
       "res0: MyQueue[Int] = List(1, 2, 3, 4)\n"
      ]
     },
     "execution_count": 1,
     "metadata": {},
     "output_type": "execute_result"
    }
   ],
   "source": [
    "// El 'private' antes de la lista de parámetros oculta el constructor de la clase (el usuario no sabrá que se usan 2 listas)\n",
    "class MyQueue[T] private (private val leading: List[T], private val trailing: List[T]) {\n",
    "    // Este método se encarga de recomponer la cola solo si es necesario\n",
    "    private def mirror =\n",
    "        if (leading.isEmpty) new MyQueue(trailing.reverse, Nil)\n",
    "        else this\n",
    "\n",
    "    def head = mirror.leading.head\n",
    "    def tail = {\n",
    "        val q = mirror\n",
    "        new MyQueue(q.leading.tail, q.trailing)\n",
    "    }\n",
    "    def append(x: T) = new MyQueue(leading, x :: trailing)\n",
    "    override def toString = (leading ::: trailing.reverse).toString\n",
    "}\n",
    "\n",
    "object MyQueue {\n",
    "    // Permite construir una cola con los elementos que la componen\n",
    "    def apply[T](xs: T*) = new MyQueue[T](xs.toList, Nil)\n",
    "}\n",
    "\n",
    "val myFunctionalQueue = MyQueue(1, 2, 3)\n",
    "myFunctionalQueue.head\n",
    "myFunctionalQueue.tail\n",
    "myFunctionalQueue.append(4)"
   ]
  },
  {
   "cell_type": "markdown",
   "metadata": {
    "collapsed": true
   },
   "source": [
    "<table align=\"left\" style=\"border-collapse: collapse; border: none !important; width: 100%;\">\n",
    "    <tr style=\"border:none !important;\">\n",
    "        <td style=\"border:none !important; width: 60px;\">\n",
    "<img src=\"icons/notepad.png\" align=\"left\" width=\"50px\"> \n",
    "        </td>\n",
    "        <td style=\"border:none !important;text-align:left;\">\n",
    "            <ul>\n",
    "                <li>También podríamos crear nuevos constructores en la clase para sustituir al principal que ha sido ocultado</li>\n",
    "                <ul>\n",
    "                    <li>`def this() = this(Nil, Nil)`</li>\n",
    "                    <li>`def this(elems: T*) = this(elems.toList, Nil)`</li>\n",
    "                </ul>\n",
    "            </ul>\n",
    "        </td>\n",
    "    </tr>\n",
    "</table>"
   ]
  },
  {
   "cell_type": "markdown",
   "metadata": {},
   "source": [
    "Vamos a ver otro ejemplo en el que usamos el 'companion object' para guardar una caché que nos ahorraría tiempo (a costa del espacio) en el caso de que la clase contenga un método que requiera un calculo muy costoso. En este caso tenemos la clase `ChecksumAccumulator`, que permite almacenar la suma de una secuencia de bytes para luego calcular un número de comprobación para dicha secuencia a través del método `checksum`. Si solo tuviésemos la clase y necesitásemos el checksum de una misma cadena, crearíamos varias instancias de la clase con la correspondiente llamada al método `checksum` y la consiguiente pérdida de tiempo. Pero con el 'companion object', guardaremos un `map`con los pares 'cadena->checksum' que ya se han procesado previamente y ofreceremos un método `calculate`, que comprobará si el `checksum` ya se ha creado anteriormente, antes de crear una nueva instancia de la clase y llamar al método `checksum` si no hay más remedio."
   ]
  },
  {
   "cell_type": "code",
   "execution_count": 20,
   "metadata": {},
   "outputs": [
    {
     "data": {
      "text/plain": [
       "defined \u001b[32mclass\u001b[39m \u001b[36mChecksumAccumulator\u001b[39m\r\n",
       "\u001b[32mimport \u001b[39m\u001b[36mscala.collection.mutable\r\n",
       "\r\n",
       "\u001b[39m\r\n",
       "defined \u001b[32mobject\u001b[39m \u001b[36mChecksumAccumulator\u001b[39m\r\n",
       "\u001b[36mres19_3\u001b[39m: \u001b[32mInt\u001b[39m = \u001b[32m-232\u001b[39m\r\n",
       "\u001b[36mres19_4\u001b[39m: \u001b[32mInt\u001b[39m = \u001b[32m-232\u001b[39m"
      ]
     },
     "execution_count": 20,
     "metadata": {},
     "output_type": "execute_result"
    }
   ],
   "source": [
    "class ChecksumAccumulator {\n",
    "    private var sum = 0 \n",
    "    def add(b: Byte) { sum += b } \n",
    "    def checksum(): Int = ~(sum & 0xFF) + 1\n",
    "}\n",
    "\n",
    "import scala.collection.mutable\n",
    "\n",
    "object ChecksumAccumulator {\n",
    "    private val cache = mutable.Map[String, Int]()\n",
    "    \n",
    "    def calculate(s: String): Int = {\n",
    "        if (cache.contains(s)){\n",
    "            cache(s)\n",
    "        } else {\n",
    "            val acc = new ChecksumAccumulator\n",
    "            for (c <- s)\n",
    "                acc.add(c.toByte)\n",
    "            val cs = acc.checksum()\n",
    "            cache += (s -> cs)\n",
    "            cs\n",
    "        }\n",
    "    }\n",
    "}\n",
    "\n",
    "ChecksumAccumulator.calculate(\"Hola mundo!\")  // Se calcula el checksum para la cadena dada\n",
    "ChecksumAccumulator.calculate(\"Hola mundo!\")  // Se devuelve el checksum almacenado en la caché"
   ]
  },
  {
   "cell_type": "markdown",
   "metadata": {},
   "source": [
    "<table align=\"left\" style=\"border-collapse: collapse; border: none !important; width: 100%;\">\n",
    "    <tr style=\"border:none !important;\">\n",
    "        <td style=\"border:none !important; width: 60px;\">\n",
    "<img src=\"icons/optimizar.png\" align=\"left\" width=\"50px\"> \n",
    "        </td>\n",
    "        <td style=\"border:none !important;text-align:left;\">\n",
    "            <ul>\n",
    "                <li>En este ejemplo se crea una caché muy sencilla, pero normalmente preferiremos utilizar un `scala.collection.jcl.WeakHashMap` que liberará memoria en caso de que sea necesario</li>\n",
    "            </ul>\n",
    "        </td>\n",
    "    </tr>\n",
    "</table>"
   ]
  },
  {
   "cell_type": "markdown",
   "metadata": {
    "collapsed": true
   },
   "source": [
    "<table align=\"left\" style=\"border-collapse: collapse; border: none !important; width: 100%;\">\n",
    "    <tr style=\"border:none !important;\">\n",
    "        <td style=\"border:none !important; width: 60px;\">\n",
    "<img src=\"icons/notepad.png\" align=\"left\" width=\"50px\"> \n",
    "        </td>\n",
    "        <td style=\"border:none !important;text-align:left;\">\n",
    "            <ul>\n",
    "                <li>Un `object` '`X`' no define un tipo por sí mismo, de manera que no pueden crearse variables de ese tipo '`X`' (el tipo sería el definido por su 'companion class')</li>\n",
    "            </ul>\n",
    "        </td>\n",
    "    </tr>\n",
    "</table>"
   ]
  },
  {
   "cell_type": "markdown",
   "metadata": {},
   "source": [
    "<a name=\"subseccion-Tipos covariantes y contravariantes\"></a>\n",
    "## Tipos covariantes y contravariantes\n",
    "\n",
    "El tipo `List` es covariante, y eso significa que si el tipo `S` es un subtipo de `T` entonces `List[S]` es un subtipo de `List[T]`. Algunos ejemplos:\n",
    "\n",
    "* `List[String]` es un subtipo de `List[Object]`\n",
    "* `List()` será de tipo `List[Nothing]` y por lo tanto subtipo de `List[T]` para cualquier `T`, por eso funciona `val xs: list[String] = List()`\n",
    "\n",
    "Los tipos que pueden construirse con la implementación que vimos antes de `MyQueue` no son covariantes, de ahí que no podamos usar por ejemplo un `MyQueue[String]` allá donde se espere un `MyQueue[AnyRef]`."
   ]
  },
  {
   "cell_type": "code",
   "execution_count": 12,
   "metadata": {},
   "outputs": [
    {
     "name": "stderr",
     "output_type": "stream",
     "text": [
      "cmd12.sc:2: type mismatch;\n",
      " found   : cmd12Wrapper.this.cmd11.wrapper.MyQueue[String]\n",
      " required: cmd12Wrapper.this.cmd11.wrapper.MyQueue[AnyRef]\n",
      "Note: String <: AnyRef, but class MyQueue is invariant in type T.\n",
      "You may wish to define T as +T instead. (SLS 4.5)\r\n",
      "var q2: MyQueue[AnyRef] = q1\r\n",
      "                          ^"
     ]
    },
    {
     "ename": "",
     "evalue": "",
     "output_type": "error",
     "traceback": [
      "Compilation Failed"
     ]
    }
   ],
   "source": [
    "val q1 = MyQueue(\"Hola\", \"Mundo\")\n",
    "var q2: MyQueue[AnyRef] = q1"
   ]
  },
  {
   "cell_type": "markdown",
   "metadata": {},
   "source": [
    "Podemos indicar nuestro deseo de que la clase `MyQueue` que vimos antes sea covariante, poniendo un `+` junto al tipo como vemos abajo, pero el compilador se quejará y mostrará un error argumentando que un tipo covariante aparece en una posición donde se espera un tipo contravariante. Si lo pensamos bien, al indicar que el tipo es covariante podríamos hacer algo ilógico como lo siguiente:\n",
    "\n",
    "<table align=\"middle\" style=\"border-collapse: collapse; border: none !important; width: 60%;\">\n",
    "    <tr style=\"border:none !important;\">\n",
    "        <td style=\"border:none !important; text-align:left\">\n",
    "&nbsp;&nbsp;&nbsp;&nbsp;val q1 = MyQueue(\"abc\")<br>\n",
    "&nbsp;&nbsp;&nbsp;&nbsp;val q2: MyQueue[AnyRef] = q1<br>\n",
    "&nbsp;&nbsp;&nbsp;&nbsp;q2.append(List(1, 2, 3))<br>\n",
    "        </td>\n",
    "    </tr>\n",
    "</table>\n"
   ]
  },
  {
   "cell_type": "code",
   "execution_count": 4,
   "metadata": {},
   "outputs": [
    {
     "data": {
      "text/plain": [
       "Name: Compile Error\n",
       "Message: <console>:25: error: covariant type T occurs in contravariant position in type T of value x\n",
       "           def append(x: T) = new MyQueue(leading, x :: trailing)\n",
       "                      ^\n",
       "StackTrace: "
      ]
     },
     "execution_count": 4,
     "metadata": {},
     "output_type": "execute_result"
    }
   ],
   "source": [
    "class MyQueue[+T] private (private val leading: List[T], private val trailing: List[T]) {\n",
    "    // Este método se encarga de recomponer la cola solo si es necesario\n",
    "    private def mirror =\n",
    "        if (leading.isEmpty) new MyQueue(trailing.reverse, Nil)\n",
    "        else this\n",
    "\n",
    "    def head = mirror.leading.head\n",
    "    def tail = {\n",
    "        val q = mirror\n",
    "        new MyQueue(q.leading.tail, q.trailing)\n",
    "    }\n",
    "    def append(x: T) = new MyQueue(leading, x :: trailing)\n",
    "    override def toString = (leading ::: trailing.reverse).toString\n",
    "}\n",
    "\n",
    "object MyQueue {\n",
    "    // Permite construir una cola con los elementos que la componen\n",
    "    def apply[T](xs: T*) = new MyQueue[T](xs.toList, Nil)\n",
    "}\n"
   ]
  },
  {
   "cell_type": "markdown",
   "metadata": {},
   "source": [
    "Para evitar esto, la solución pasa por asignarle un tipo al método `append`, indicando que dicho tipo (el del parámetro) debe ser un supertipo de T, o lo que es lo mismo, establecer un límite inferior o 'lower bound' con la sintaxis `U >: T`."
   ]
  },
  {
   "cell_type": "code",
   "execution_count": 2,
   "metadata": {},
   "outputs": [
    {
     "data": {
      "text/plain": [
       "defined class MyQueue\n",
       "defined object MyQueue\n",
       "q1: MyQueue[String] = List(Hola, Mundo)\n",
       "q2: MyQueue[AnyRef] = List(Hola, Mundo)\n"
      ]
     },
     "execution_count": 2,
     "metadata": {},
     "output_type": "execute_result"
    }
   ],
   "source": [
    "class MyQueue[+T] private (private val leading: List[T], private val trailing: List[T]) {\n",
    "    // Este método se encarga de recomponer la cola solo si es necesario\n",
    "    private def mirror =\n",
    "        if (leading.isEmpty) new MyQueue(trailing.reverse, Nil)\n",
    "        else this\n",
    "\n",
    "    def head = mirror.leading.head\n",
    "    def tail = {\n",
    "        val q = mirror\n",
    "        new MyQueue(q.leading.tail, q.trailing)\n",
    "    }\n",
    "    def append[U >: T](x: U) = new MyQueue[U](leading, x :: trailing)\n",
    "    override def toString = (leading ::: trailing.reverse).toString\n",
    "}\n",
    "\n",
    "object MyQueue {\n",
    "    // Permite construir una cola con los elementos que la componen\n",
    "    def apply[T](xs: T*) = new MyQueue[T](xs.toList, Nil)\n",
    "}\n",
    "\n",
    "val q1 = MyQueue(\"Hola\", \"Mundo\")\n",
    "var q2: MyQueue[AnyRef] = q1"
   ]
  },
  {
   "cell_type": "markdown",
   "metadata": {
    "collapsed": true
   },
   "source": [
    "<table align=\"left\" style=\"border-collapse: collapse; border: none !important; width: 100%;\">\n",
    "    <tr style=\"border:none !important;\">\n",
    "        <td style=\"border:none !important; width: 60px;\">\n",
    "<img src=\"icons/notepad.png\" align=\"left\" width=\"50px\"> \n",
    "        </td>\n",
    "        <td style=\"border:none !important;text-align:left;\">\n",
    "            <ul>\n",
    "                <li>También existe la posibilidad de indicar `[-T]` en lugar de `[+T]` o `[U <: T]` en lugar de `[U >: T]`, pero no comentaremos los detalles de estas y otras opciones relacionadas con la varianza en este notebook</li>\n",
    "            </ul>\n",
    "        </td>\n",
    "    </tr>\n",
    "</table>"
   ]
  },
  {
   "cell_type": "markdown",
   "metadata": {},
   "source": [
    "<a name=\"subseccion-Conversiones implícitas\"></a>\n",
    "## Conversiones implícitas\n",
    "\n",
    "Hemos visto anteriormente cómo definir números racionales, y cómo definir operadores para, por ejemplo, sumar números racionales. También debería resultarnos fácil sobrecargar el operador de suma para poder sumarle un `Int` a un número racional.\n",
    "\n",
    "Esto nos permitirá sumar racionales (1/2 + 3/4) y sumar un racional y un `Int` (1/2 + 3) pero, ¿qué ocurre si invertimos el orden de los operandos? (3 + 1/2)"
   ]
  },
  {
   "cell_type": "code",
   "execution_count": 3,
   "metadata": {},
   "outputs": [
    {
     "ename": "<console>",
     "evalue": "32: error: overloaded method value + with alternatives:",
     "output_type": "error",
     "traceback": [
      "<console>:32: error: overloaded method value + with alternatives:",
      "  (x: Double)Double <and>",
      "  (x: Float)Float <and>",
      "  (x: Long)Long <and>",
      "  (x: Int)Int <and>",
      "  (x: Char)Int <and>",
      "  (x: Short)Int <and>",
      "  (x: Byte)Int <and>",
      "  (x: String)String",
      " cannot be applied to (Rational6)",
      "       3 + new Rational6(1, 2)",
      "         ^",
      ""
     ]
    }
   ],
   "source": [
    "class Rational6(val n: Int, val d: Int){\n",
    "    require(d != 0)\n",
    "    def this(n: Int) = this(n, 1)\n",
    "    override def toString = n+\"/\"+d\n",
    "    \n",
    "    def +(otro: Rational6): Rational6 = \n",
    "        new Rational6(\n",
    "            n * otro.d + otro.n * d,\n",
    "            d * otro.d\n",
    "        )\n",
    "    \n",
    "    def +(otro: Int): Rational6 = \n",
    "        new Rational6(\n",
    "            n + otro * d,\n",
    "            d\n",
    "    )\n",
    "}\n",
    "new Rational6(1, 2) + 3\n",
    "3 + new Rational6(1, 2)"
   ]
  },
  {
   "cell_type": "markdown",
   "metadata": {},
   "source": [
    "El error sucede porque el tipo Int no tiene definido un operador que reciba como parámetro un racional. Este es un caso ideal para definir una conversión implícita de `Int` a `Rational` que me permita realizar la suma."
   ]
  },
  {
   "cell_type": "code",
   "execution_count": 19,
   "metadata": {},
   "outputs": [
    {
     "data": {
      "text/plain": [
       "defined \u001b[32mfunction\u001b[39m \u001b[36mintToRational\u001b[39m\r\n",
       "\u001b[36mres18_1\u001b[39m: \u001b[32mRational6\u001b[39m = 7/2"
      ]
     },
     "execution_count": 19,
     "metadata": {},
     "output_type": "execute_result"
    }
   ],
   "source": [
    "implicit def intToRational(x: Int) = new Rational6(x)\n",
    "3 + new Rational6(1, 2)"
   ]
  },
  {
   "cell_type": "markdown",
   "metadata": {},
   "source": [
    "<table align=\"left\" style=\"border-collapse: collapse; border: none !important; width: 100%;\">\n",
    "    <tr style=\"border:none !important;\">\n",
    "        <td style=\"border:none !important; width: 60px;\">\n",
    "<img src=\"icons/warning.png\" align=\"left\" width=\"50px\"> \n",
    "        </td>\n",
    "        <td style=\"border:none !important; text-align:left\">\n",
    "            <ul>\n",
    "                <li>Para que la conversión implícita pueda aplicarse debe ser accesible en el ámbito del código que la necesite</li>\n",
    "            </ul>\n",
    "        </td>\n",
    "    </tr>\n",
    "</table>"
   ]
  },
  {
   "cell_type": "markdown",
   "metadata": {},
   "source": [
    "Existen versiones \"enriquecidas\" de los tipos básicos (`Byte`, `Short`, `Int`, `Char`, `String`, `Float`, `Double`, `Boolean`) que me permiten realizar muchas operaciones adicionales sobre dichos tipos. Por ejemplo, gracias a la conversión implícita de un `String` a `RichString` puedo operar sobre la cadena como una secuencia de caracteres.  "
   ]
  },
  {
   "cell_type": "code",
   "execution_count": 17,
   "metadata": {},
   "outputs": [
    {
     "data": {
      "text/plain": [
       "defined \u001b[32mfunction\u001b[39m \u001b[36mtieneMay\u001b[39m\r\n",
       "\u001b[36mres16_1\u001b[39m: \u001b[32mBoolean\u001b[39m = \u001b[32mfalse\u001b[39m\r\n",
       "\u001b[36mres16_2\u001b[39m: \u001b[32mBoolean\u001b[39m = \u001b[32mtrue\u001b[39m"
      ]
     },
     "execution_count": 17,
     "metadata": {},
     "output_type": "execute_result"
    }
   ],
   "source": [
    "def tieneMay(s: String) = s.exists(_.isUpper)\n",
    "tieneMay(\"hola mundo\")\n",
    "tieneMay(\"Hola Mundo\")"
   ]
  },
  {
   "cell_type": "markdown",
   "metadata": {},
   "source": [
    "En general, hay una serie de reglas que describen cuando y como se realizan las conversiones implícitas:\n",
    "\n",
    "* Sólo se aplican conversiones marcadas con `implicit`, ya que sería un caos poder hacer la conversión con cualquier método.\n",
    "* La conversión debe estar en el ámbito y mediante un único identificador, por lo que las librerías en Scala suelen tener un objeto `Preamble` donde se definen las conversiones para luego poder hacer `import Preamble._` y poder usar las conversiones directamente con su nombre. Hay una excepción a esta regla y es que la conversión también se busca dentro de la definición del 'companion object' del tipo esperado, por ejemplo podemos definir una conversión `dollarToEuro` dentro del objeto `Dollar`.\n",
    "* Sólo se aplica una conversión si es la única conversión posible. Si hubiese más de una conversión disponible y el compilador eligiese una sería muy dificil depurar posibles errores.\n",
    "* El compilador sólo aplica las conversiones de una en una, es decir, no puede aplicar conversiones anidadas.\n",
    "* Si el código funciona tal cual no se intenta ninguna conversión.\n",
    "* El nombre de una conversión solo sirve para ejecutarla o importarla de forma explícita (por ejemplo si queremos importar algunas conversiones y otras no).\n",
    "* Las conversiones se aplican en 3 casos:\n",
    "  * conversiones a un tipo esperado. Ej.: `val x:Int = 3.5` si definimos la conversión `intToDouble`\n",
    "  * conversiones del receptor de una selección. Ej.: `\"abc\".exists`\n",
    "  * parametros implícitos. Ej.: `def greet(name: String)(implicit prompt: PreferredPrompt)` si definimos un `implicit val` de tipo `PreferredPrompt`"
   ]
  },
  {
   "cell_type": "markdown",
   "metadata": {
    "collapsed": true
   },
   "source": [
    "<table align=\"left\" style=\"border-collapse: collapse; border: none !important; width: 100%;\">\n",
    "    <tr style=\"border:none !important;\">\n",
    "        <td style=\"border:none !important; width: 60px;\">\n",
    "<img src=\"icons/notepad.png\" align=\"left\" width=\"50px\"> \n",
    "        </td>\n",
    "        <td style=\"border:none !important;text-align:left;\">\n",
    "            <ul>\n",
    "                <li>Las conversiones implícitas me permiten extender la funcionalidad del código que importamos de terceros, que habitualmente hay que utilizar tal y cómo es sin poder modificarlo</li>\n",
    "            </ul>\n",
    "        </td>\n",
    "    </tr>\n",
    "</table>"
   ]
  },
  {
   "cell_type": "markdown",
   "metadata": {},
   "source": [
    "<a name=\"subseccion-Pattern matching y clases `case`\"></a>\n",
    "## Pattern matching y clases `case`\n",
    "\n",
    "El concepto de pattern matching es una herramienta fundamental en el manejo de estructuras de datos recursivas con Scala, particularmente las que tienen forma de árbol. Se puede ver como una generalización de la cláusula 'switch' que encontramos en otros lenguajes, de manera que se coteja una expresión con una serie de patrones para decidir qué hacer según el patrón con el que haya encajado, sólo que en este caso se aumenta la potencia con nuevos tipos de patrones.\n",
    "\n",
    "En el caso de las listas por ejemplo, me permite crear funciones que decidan lo que van a hacer en función de la forma que tiene la lista en cuestión, preguntando por ejemplo si es una lista vacía, o si tiene un único elemento, o si el primer elemento es un `1`, etc. Vemos como se utiliza `match` para indicar el selector que cotejaremos con los patrones y para cada uno de ellos, marcado con `case`, se usa la flecha `=>` para separar el patrón de las expresiones que serán evaluadas en el caso de que el patrón encaje. El patrón `_` sirve como comodín, y con el `*` como una secuencia de cualquier número de elementos, incluso cero, aunque en un momento repasaremos los tipos de patrones que podremos usar.\n",
    "\n",
    "El orden en el que escribimos los patrones es relevante, como puede verse en la llamada `analizaLista(List(1))`, ya que encaja dos patrones. Por esta razón siempre hay que poner los casos más 'concretos' delante de los más 'generales', para evitar que estos últimos eclipsen a los primeros."
   ]
  },
  {
   "cell_type": "code",
   "execution_count": 10,
   "metadata": {},
   "outputs": [
    {
     "data": {
      "text/plain": [
       "defined \u001b[32mfunction\u001b[39m \u001b[36manalizaLista\u001b[39m\r\n",
       "\u001b[36mres9_1\u001b[39m: \u001b[32mString\u001b[39m = \u001b[32m\"Está vacía\"\u001b[39m\r\n",
       "\u001b[36mres9_2\u001b[39m: \u001b[32mString\u001b[39m = \u001b[32m\"Tiene un solo elemento (1)\"\u001b[39m\r\n",
       "\u001b[36mres9_3\u001b[39m: \u001b[32mString\u001b[39m = \u001b[32m\"Empieza por uno\"\u001b[39m\r\n",
       "\u001b[36mres9_4\u001b[39m: \u001b[32mString\u001b[39m = \u001b[32m\"Otro caso\"\u001b[39m"
      ]
     },
     "execution_count": 10,
     "metadata": {},
     "output_type": "execute_result"
    }
   ],
   "source": [
    "def analizaLista(lista: List[Int]): String = {\n",
    "    lista match {\n",
    "        case Nil => \"Está vacía\"\n",
    "        case List(e) => \"Tiene un solo elemento (\"+e+\")\"    // Podría poner también 'case e :: Nil =>'\n",
    "        case List(1, _*) => \"Empieza por uno\"               // Podría poner también 'case 1 :: resto =>'\n",
    "        case _ => \"Otro caso\"\n",
    "    }\n",
    "}\n",
    "\n",
    "analizaLista(Nil)\n",
    "analizaLista(List(1))\n",
    "analizaLista(List(1, 2, 3))\n",
    "analizaLista(List(2, 3))"
   ]
  },
  {
   "cell_type": "markdown",
   "metadata": {
    "collapsed": true
   },
   "source": [
    "<table align=\"left\" style=\"border-collapse: collapse; border: none !important; width: 100%;\">\n",
    "    <tr style=\"border:none !important;\">\n",
    "        <td style=\"border:none !important; width: 60px;\">\n",
    "<img src=\"icons/notepad.png\" align=\"left\" width=\"50px\"> \n",
    "        </td>\n",
    "        <td style=\"border:none !important;text-align:left;\">\n",
    "            <ul>\n",
    "                <li>Los ejemplos de patrones que hemos visto con `List` son posibles ya que se ha definido un 'extractor' para ello, de los que hablaremos más adelante</li>\n",
    "                <li>El patrón `x :: xs` es posible porque además de existir como operador de `List`, también existe la clase `scala.::` y el patrón se trata como `::(x, xs)`</li>\n",
    "            </ul>\n",
    "        </td>\n",
    "    </tr>\n",
    "</table>"
   ]
  },
  {
   "cell_type": "markdown",
   "metadata": {},
   "source": [
    "En Scala podemos crear nuestras propias `case class` para que se puedan utilizar como patrón con la cláusula `match`. Un ejemplo típico es el análisis de las expresiones aritméticas, que pueden ser variables, operaciones binarias, etc. Vemos un ejemplo simplificado de este caso para el que mostramos varias `case class`, una por cada tipo de expresión (o patrón) que vamos a analizar.\n",
    "\n",
    "Al declarar estas clases como `case class` ocurren varias cosas:\n",
    "\n",
    "* Se genera para empezar un método 'factoría' que permite crear un objeto de dichas clases sin escribir el `new`, por ejemplo `val v = Var(\"x\")` en lugar de `val v = new Var(\"x\")`,... (tal y como hacíamos con `List`). Esto facilita el anidamiento, por ejemplo `val op = BinOp(\"+\", Number(1), v)`, al poder prescindir de los `new`.\n",
    "\n",
    "* Todos los parámetros se declaran como `val` y por lo tanto se mantienen como campos.\n",
    "\n",
    "* El compilador añade automáticamente implementaciones \"naturales\" para los métodos `toString`, `hashCode` e `equals`.\n"
   ]
  },
  {
   "cell_type": "code",
   "execution_count": 6,
   "metadata": {},
   "outputs": [
    {
     "name": "stdout",
     "output_type": "stream",
     "text": [
      "BinOp(+,Number(1.0),Var(x))\n"
     ]
    },
    {
     "data": {
      "text/plain": [
       "defined \u001b[32mclass\u001b[39m \u001b[36mExpr\u001b[39m\r\n",
       "defined \u001b[32mclass\u001b[39m \u001b[36mVar\u001b[39m\r\n",
       "defined \u001b[32mclass\u001b[39m \u001b[36mNumber\u001b[39m\r\n",
       "defined \u001b[32mclass\u001b[39m \u001b[36mUnOp\u001b[39m\r\n",
       "defined \u001b[32mclass\u001b[39m \u001b[36mBinOp\u001b[39m\r\n",
       "\u001b[36mv\u001b[39m: \u001b[32mwrapper\u001b[39m.\u001b[32mwrapper\u001b[39m.\u001b[32mVar\u001b[39m = \u001b[33mVar\u001b[39m(\u001b[32m\"x\"\u001b[39m)\r\n",
       "\u001b[36mres5_6\u001b[39m: \u001b[32mString\u001b[39m = \u001b[32m\"x\"\u001b[39m\r\n",
       "\u001b[36mop\u001b[39m: \u001b[32mwrapper\u001b[39m.\u001b[32mwrapper\u001b[39m.\u001b[32mBinOp\u001b[39m = BinOp(+,Number(1.0),Var(x))\r\n",
       "\u001b[36mres5_9\u001b[39m: \u001b[32mBoolean\u001b[39m = \u001b[32mtrue\u001b[39m"
      ]
     },
     "execution_count": 6,
     "metadata": {},
     "output_type": "execute_result"
    }
   ],
   "source": [
    "abstract class Expr\n",
    "case class Var(name: String) extends Expr\n",
    "case class Number(num: Double) extends Expr\n",
    "case class UnOp(operator: String, arg: Expr) extends Expr\n",
    "case class BinOp(operator: String, left: Expr, right: Expr) extends Expr\n",
    "\n",
    "val v = Var(\"x\")                       // No hace falta 'new'\n",
    "v.name                                 // los parametros son 'val'\n",
    "val op = BinOp(\"+\", Number(1), v)      // Puedo realizar el anidamiento fácilmente\n",
    "println(op)                            // Se crea automáticamente una implementación para 'toString'...\n",
    "op.right == Var(\"x\")                   // ... y para 'equals'"
   ]
  },
  {
   "cell_type": "markdown",
   "metadata": {},
   "source": [
    "Supongamos que queremos llevar a cabo algunas simplificaciones simples de expresiones aritméticas. En este ejemplo vemos algunos tipos de patrones de los que podemos usar:\n",
    "* constantes: como `\"+\"`, en el que encajará cualquier valor que sea igual según `==`\n",
    "* variables: como la `e` que utilizamos para que encaje en cualquier valor y nos permita recuperarlo \n",
    "* comodín : el `_` que también encaja en cualquier valor pero sin variable que me permita recuperarlo, y puede usarse anidado (p. ej. `UnOp(\"-\",_)`)\n",
    "* constructores: como `UnOp(\"-\",e)`, similares al constructor propio de la clase, aunque sus parámetros son a su vez patrones"
   ]
  },
  {
   "cell_type": "code",
   "execution_count": 8,
   "metadata": {},
   "outputs": [
    {
     "data": {
      "text/plain": [
       "defined \u001b[32mfunction\u001b[39m \u001b[36msimplifyTop\u001b[39m\r\n",
       "\u001b[36mres7_1\u001b[39m: \u001b[32mExpr\u001b[39m = Var(x)\r\n",
       "\u001b[36mres7_2\u001b[39m: \u001b[32mExpr\u001b[39m = BinOp(+,Number(0.0),Var(x))"
      ]
     },
     "execution_count": 8,
     "metadata": {},
     "output_type": "execute_result"
    }
   ],
   "source": [
    "def simplifyTop(expr: Expr): Expr = expr match {\n",
    "    case UnOp(\"-\", UnOp(\"-\",e)) => e               // Doble negación\n",
    "    case BinOp(\"+\", e, Number(0)) => e             // Sumar cero\n",
    "    case BinOp(\"*\", e, Number(1)) => e             // Multiplicar por uno\n",
    "    case _ => expr\n",
    "}\n",
    "\n",
    "simplifyTop(UnOp(\"-\", UnOp(\"-\", Var(\"x\"))))\n",
    "simplifyTop(UnOp(\"-\", UnOp(\"-\", BinOp(\"+\", Number(0), Var(\"x\")))))  // Solo simplifica el nivel superior"
   ]
  },
  {
   "cell_type": "markdown",
   "metadata": {
    "collapsed": true
   },
   "source": [
    "<table align=\"left\" style=\"border-collapse: collapse; border: none !important; width: 100%;\">\n",
    "    <tr style=\"border:none !important;\">\n",
    "        <td style=\"border:none !important; width: 60px;\">\n",
    "<img src=\"icons/notepad.png\" align=\"left\" width=\"50px\"> \n",
    "        </td>\n",
    "        <td style=\"border:none !important;text-align:left;\">\n",
    "            <ul>\n",
    "                <li>Diferencias con el `switch` de Java:\n",
    "                    <ul><li> `match` es una expresión</li>\n",
    "                        <li> **No** necesita un `break`</li> \n",
    "                        <li> Si no encaja ninguno de los patrones, se lanza una excepción `MatchError`</li>\n",
    "                        <li> Podemos usar muchos tipos de patrones, no solo constantes</li>\n",
    "                    </ul>\n",
    "                </li>\n",
    "                <!--\n",
    "                <li>Si tenemos constantes en nuestro código con el mismo nombre que la variable que usamos en un patrón puede haber confusión sobre si se está cogiendo el valor de la constante o no, y en Scala se resuelve cogiendo la constante si empieza por mayúscula o la escribimos entre comillas simples ``</li>\n",
    "                -->\n",
    "            </ul>\n",
    "        </td>\n",
    "    </tr>\n",
    "</table>"
   ]
  },
  {
   "cell_type": "markdown",
   "metadata": {},
   "source": [
    "Aparte de los tipos de patrones ya vistos, podemos añadir:\n",
    "* secuencias : con `_*` podemos representar cualquier número de elementos en una secuencia, incluso cero (p. ej.: `List(1, _*)`)\n",
    "* tuplas : con un patrón como `(a, b, c)` encajaremos cualquier tupla de 3 elementos\n",
    "* tipos : con patrones como `case s: String =>` o `case m: Map[_,_] =>` podemos centrarnos en el tipo de lo que analizamos\n",
    "* asignación : con `<variable> @ <patrón>` podemos comprobar si el patrón encaja y si es así crear la variable para recuperar el valor "
   ]
  },
  {
   "cell_type": "code",
   "execution_count": 16,
   "metadata": {},
   "outputs": [
    {
     "data": {
      "text/plain": [
       "defined \u001b[32mfunction\u001b[39m \u001b[36manalizandoPatrones\u001b[39m\r\n",
       "\u001b[36mres15_1\u001b[39m: \u001b[32mString\u001b[39m = \u001b[32m\"Es una lista que empieza por 1\"\u001b[39m\r\n",
       "\u001b[36mres15_2\u001b[39m: \u001b[32mString\u001b[39m = \u001b[32m\"Es un String (de longitud 4)\"\u001b[39m\r\n",
       "\u001b[36mres15_3\u001b[39m: \u001b[32mString\u001b[39m = \u001b[32m\"Es una tupla de 3 elementos\"\u001b[39m\r\n",
       "\u001b[36mres15_4\u001b[39m: \u001b[32mString\u001b[39m = \u001b[32m\"Es una aplicación de 'abs' sobre la negación: UnOp(-,Number(1.0))\"\u001b[39m"
      ]
     },
     "execution_count": 16,
     "metadata": {},
     "output_type": "execute_result"
    }
   ],
   "source": [
    "def analizandoPatrones(x: Any) = x match {\n",
    "    case List(1, _*) => \"Es una lista que empieza por 1\"\n",
    "    case (a, b, c) => \"Es una tupla de 3 elementos\"\n",
    "    case s: String => \"Es un String (de longitud \"+s.length+\")\" // Nótese que no podríamos hacer x.length porque es Any\n",
    "    case UnOp(\"abs\", e @ UnOp(\"-\", _)) => \"Es una aplicación de 'abs' sobre la negación: \"+e\n",
    "    case _ => \"No sé lo que es!\"\n",
    "}\n",
    "analizandoPatrones(List(1))\n",
    "analizandoPatrones(\"hola\")\n",
    "analizandoPatrones((\"hola\", 10, List(1)))\n",
    "analizandoPatrones(UnOp(\"abs\", UnOp(\"-\", Number(1))))"
   ]
  },
  {
   "cell_type": "markdown",
   "metadata": {
    "collapsed": true
   },
   "source": [
    "<table align=\"left\" style=\"border-collapse: collapse; border: none !important; width: 100%;\">\n",
    "    <tr style=\"border:none !important;\">\n",
    "        <td style=\"border:none !important; width: 60px;\">\n",
    "<img src=\"icons/notepad.png\" align=\"left\" width=\"50px\"> \n",
    "        </td>\n",
    "        <td style=\"border:none !important;text-align:left;\">\n",
    "            <ul>\n",
    "                <li>No podemos usar un patron de tipos para por ejemplo averiguar si la expresión es un mapa de Int a Int (`case m: Map[Int, Int]`) porque debido al borrado de tipos Scala solo es capaz de decir si m es un mapa, pero no de tipos concretos</li>\n",
    "            </ul>\n",
    "        </td>\n",
    "    </tr>\n",
    "</table>"
   ]
  },
  {
   "cell_type": "markdown",
   "metadata": {},
   "source": [
    "A veces la expresividad de los patrones no es suficiente y nos gustaría imponer una condición que debe cumplir el patrón para encajar, lo cual podemos hacer introduciendo un `if <condición>` entre el patrón y la flecha `=>`."
   ]
  },
  {
   "cell_type": "code",
   "execution_count": null,
   "metadata": {
    "collapsed": true
   },
   "outputs": [],
   "source": [
    "def analizandoPatronesCondicionados(x: Any) = {\n",
    "    case n: Int if 0 < n => \"Es positivo\"\n",
    "    case s: String if s(0) == 'a' => \"Empieza por 'a'\" \n",
    "    case _ =>\n",
    "}"
   ]
  },
  {
   "cell_type": "markdown",
   "metadata": {},
   "source": [
    "El patrón `case _` es necesario para estar seguros de que no nos dejamos ningún caso por cubrir, ya que si no se encuentra ningún patrón que encaje se lanza una excepción de tipo `MatchError`. Podemos poner por ejemplo `case _ =>` sin parte derecha en el caso de que no queramos tratar esos casos. El valor que devolvería el `match` entonces sería `()`, el valor del tipo `Unit`.\n",
    "\n",
    "Pero supongamos que no ponemos el patrón `case _` porque estamos contemplando en nuestro `match` todos los tipos de expresiones que hay. En ese caso, alguien podría definir un nuevo tipo de expresión en otro módulo y nuestro código podría provocar errores. Para evitarlo, Scala nos permite sellar las clases de las que heredan nuestras `case class` para indicarle al compilador que no se permiten crear más `case class` que las que definen en ese fichero.\n",
    "\n",
    "En el caso de las expresiones aritméticas, podemos sellar la clase `Expr` colocando `sealed` al principio de la declaración (`sealed abstract class Expr`), y dado que el compilador ya sabrá todos los casos posibles de expresiones, podrá avisarnos si creamos un `match` en el que haya casos sin contemplar."
   ]
  },
  {
   "cell_type": "code",
   "execution_count": 4,
   "metadata": {},
   "outputs": [
    {
     "data": {
      "text/plain": [
       "<console>:18: warning: match may not be exhaustive.\n",
       "It would fail on the following inputs: BinOp(_, _, _), UnOp(_, _)\n",
       "       def describe(e: Expr): String = e match {  // Generará un warning del compilador por no contemplar todos los casos de Expr\n",
       "                                       ^\n",
       "defined class Expr\n",
       "defined class Var\n",
       "defined class Number\n",
       "defined class UnOp\n",
       "defined class BinOp\n",
       "describe: (e: Expr)String\n"
      ]
     },
     "execution_count": 4,
     "metadata": {},
     "output_type": "execute_result"
    }
   ],
   "source": [
    "sealed abstract class Expr\n",
    "case class Var(name: String) extends Expr\n",
    "case class Number(num: Double) extends Expr\n",
    "case class UnOp(operator: String, arg: Expr) extends Expr\n",
    "case class BinOp(operator: String, left: Expr, right: Expr) extends Expr\n",
    "\n",
    "def describe(e: Expr): String = e match {  // Generará un warning del compilador por no contemplar todos los casos de Expr\n",
    "    case Number(_) => \"un número\"\n",
    "    case Var(_) => \"una variable\"\n",
    "}"
   ]
  },
  {
   "cell_type": "markdown",
   "metadata": {
    "collapsed": true
   },
   "source": [
    "<table align=\"left\" style=\"border-collapse: collapse; border: none !important; width: 100%;\">\n",
    "    <tr style=\"border:none !important;\">\n",
    "        <td style=\"border:none !important; width: 60px;\">\n",
    "<img src=\"icons/notepad.png\" align=\"left\" width=\"50px\"> \n",
    "        </td>\n",
    "        <td style=\"border:none !important;text-align:left;\">\n",
    "            <ul>\n",
    "                <li>Si nos salen 'warnings' por tener una clase sellada y no contemplar todos los casos pero estamos seguros de que no habrá error, podemos eliminar los avisos poniendo por ejemplo `(e: @unchecked)` en lugar de `e` antes del `match` del ejemplo</li>\n",
    "            </ul>\n",
    "        </td>\n",
    "    </tr>\n",
    "</table>"
   ]
  },
  {
   "cell_type": "markdown",
   "metadata": {},
   "source": [
    "Otro sitio donde podemos usar patrones es en las asignaciones de variables."
   ]
  },
  {
   "cell_type": "code",
   "execution_count": 12,
   "metadata": {},
   "outputs": [
    {
     "data": {
      "text/plain": [
       "\u001b[36mmyTuple\u001b[39m: (\u001b[32mInt\u001b[39m, \u001b[32mString\u001b[39m) = (\u001b[32m123\u001b[39m, \u001b[32m\"abc\"\u001b[39m)\r\n",
       "\u001b[36mn\u001b[39m: \u001b[32mInt\u001b[39m = \u001b[32m123\u001b[39m\r\n",
       "\u001b[36ms\u001b[39m: \u001b[32mString\u001b[39m = \u001b[32m\"abc\"\u001b[39m\r\n",
       "\u001b[36mmiExp\u001b[39m: \u001b[32mBinOp\u001b[39m = BinOp(*,Number(5.0),Number(1.0))\r\n",
       "\u001b[36mop\u001b[39m: \u001b[32mString\u001b[39m = \u001b[32m\"*\"\u001b[39m\r\n",
       "\u001b[36mleft\u001b[39m: \u001b[32mExpr\u001b[39m = Number(5.0)\r\n",
       "\u001b[36mright\u001b[39m: \u001b[32mExpr\u001b[39m = Number(1.0)"
      ]
     },
     "execution_count": 12,
     "metadata": {},
     "output_type": "execute_result"
    }
   ],
   "source": [
    "// Asignaciones con patrones\n",
    "val myTuple = (123, \"abc\")\n",
    "val (n, s) = myTuple\n",
    "\n",
    "val miExp = new BinOp(\"*\", Number(5), Number(1)) // También funciona sin el 'new'\n",
    "val BinOp(op, left, right) = miExp"
   ]
  },
  {
   "cell_type": "markdown",
   "metadata": {},
   "source": [
    "También en los generadores de los bucles `for`, descartando los elementos que no encajen en el patrón."
   ]
  },
  {
   "cell_type": "code",
   "execution_count": 2,
   "metadata": {},
   "outputs": [
    {
     "name": "stdout",
     "output_type": "stream",
     "text": [
      "Number(1.0)\n"
     ]
    },
    {
     "data": {
      "text/plain": [
       "\u001b[36mresults\u001b[39m: \u001b[32mList\u001b[39m[\u001b[32mProduct\u001b[39m with \u001b[32mSerializable\u001b[39m with \u001b[32mExpr\u001b[39m] = \u001b[33mList\u001b[39m(UnOp(-,Number(1.0)), Number(2.0), BinOp(+,Number(1.0),Var(x)))"
      ]
     },
     "execution_count": 2,
     "metadata": {},
     "output_type": "execute_result"
    }
   ],
   "source": [
    "val results = List(UnOp(\"-\", Number(1)), Number(2), BinOp(\"+\", Number(1), Var(\"x\")))\n",
    "for (UnOp(\"-\",e) <- results) \n",
    "    println(e)"
   ]
  },
  {
   "cell_type": "markdown",
   "metadata": {},
   "source": [
    "Por último, también puedo usar patrones (mediante una secuencia de `case` entre llaves) allá donde se espere un literal de función para crear distintos puntos de entrada dependiendo de los patrones que especifique."
   ]
  },
  {
   "cell_type": "code",
   "execution_count": 20,
   "metadata": {},
   "outputs": [
    {
     "name": "stdout",
     "output_type": "stream",
     "text": [
      "Str:2\n",
      "Pos:2\n",
      "Neg:-2\n"
     ]
    },
    {
     "data": {
      "text/plain": [
       "\u001b[36mmiFuncion\u001b[39m: \u001b[32mAny\u001b[39m => \u001b[32mUnit\u001b[39m = <function1>"
      ]
     },
     "execution_count": 20,
     "metadata": {},
     "output_type": "execute_result"
    }
   ],
   "source": [
    "val miFuncion: Any => Unit = {\n",
    "    case s:String => println(\"Str:\"+s)\n",
    "    case x:Int if x >= 0 => println(\"Pos:\"+x)\n",
    "    case x:Int if x < 0 => println(\"Neg:\"+x)\n",
    "}\n",
    "\n",
    "miFuncion(\"2\")\n",
    "miFuncion(2)\n",
    "miFuncion(-2)"
   ]
  },
  {
   "cell_type": "markdown",
   "metadata": {},
   "source": [
    "<a name=\"subseccion-El tipo `Option`\"></a>\n",
    "## El tipo `Option`\n",
    "\n",
    "Scala permite indicar que algo es opcional mediante el tipo `Option`, que puede encapsular un valor `x` de cualquier otro tipo mediante el valor `Some(x)` o puede tener valor `None`.\n",
    "\n",
    "El método `get` del tipo `Map` es un ejemplo común de su uso, ya que devuelve `Some(valor)` si encuentra la clave especificada o `None` en caso contrario, al igual que el método `find` de `List`.\n",
    "\n",
    "Por otra parte, la forma más habitual de extraer el valor real es mediante 'pattern matching', tal y como vemos en el ejemplo."
   ]
  },
  {
   "cell_type": "code",
   "execution_count": 5,
   "metadata": {},
   "outputs": [
    {
     "data": {
      "text/plain": [
       "capitals: scala.collection.immutable.Map[String,String] = Map(France -> Paris, Japan -> Tokyo)\n",
       "show: (x: Option[String])String\n",
       "provincias: List[String] = List(Jaén, Córdoba, Sevilla, Huelva, Cádiz, Málaga, Granada, Almería)\n",
       "res2: Option[String] = Some(Córdoba)\n"
      ]
     },
     "execution_count": 5,
     "metadata": {},
     "output_type": "execute_result"
    }
   ],
   "source": [
    "val capitals = Map(\"France\" -> \"Paris\", \"Japan\" -> \"Tokyo\")\n",
    "\n",
    "def show(x: Option[String]) = x match {\n",
    "    case Some(s) => s\n",
    "    case None => \"?\"\n",
    "}\n",
    "show(capitals get \"France\")\n",
    "show(capitals get \"North Pole\")\n",
    "\n",
    "val provincias = List(\"Jaén\", \"Córdoba\", \"Sevilla\", \"Huelva\", \"Cádiz\", \"Málaga\", \"Granada\", \"Almería\")\n",
    "provincias.find(p => p.endsWith(\"a\"))     // Devuelve el primer elemento que cumpla la condición o None si no existe"
   ]
  },
  {
   "cell_type": "markdown",
   "metadata": {},
   "source": [
    "<a name=\"subseccion-Extractores\"></a>\n",
    "## Extractores\n",
    "\n",
    "Ahora que ya sabemos como usar 'pattern matching', veamos cómo podemos crear nuestros propios patrones. Hemos visto cómo podemos usar `Some(x)` como patrón, debido a que `Some` es una `case class`, pero ¿y si quisieramos analizar un String para ver si es un Email y detectar si el usuario o el dominio encajan en lo que estoy buscando? Resulta que `String` no es una `case class` y para extraer las partes de un Email necesitaríamos métodos que busquen el caracter `@` y devuelvan una u otra parte. Pero lo ideal sería poder utilizar un patrón `Email(user, domain)`, lo cual además facilitaría otro tipo de tareas relacionadas por ejemplo con listas de emails, etc.\n",
    "\n",
    "Los extractores permiten crear nuevos patrones para tipos ya existentes, donde el patrón no tiene por qué seguir la representación interna del tipo. Un extractor es un objeto que tiene:\n",
    "* un método `unapply`: para encajar y separar los valores\n",
    "* un método `apply` (**opcional**): para construir valores"
   ]
  },
  {
   "cell_type": "code",
   "execution_count": 46,
   "metadata": {},
   "outputs": [
    {
     "name": "stdout",
     "output_type": "stream",
     "text": [
      "user: 'john' domain: 'myDomain.com'\r\n"
     ]
    },
    {
     "data": {
      "text/plain": [
       "defined \u001b[32mobject\u001b[39m \u001b[36mEMail\u001b[39m\r\n",
       "defined \u001b[32mobject\u001b[39m \u001b[36mUpperCase\u001b[39m\r\n",
       "\u001b[36memail\u001b[39m: \u001b[32mString\u001b[39m = \u001b[32m\"john_doe@myDomain.com\"\u001b[39m"
      ]
     },
     "execution_count": 46,
     "metadata": {},
     "output_type": "execute_result"
    }
   ],
   "source": [
    "object EMail {\n",
    "    def unapply(str: String): Option[(String, String)] = {           // Extracción (obligatorio)\n",
    "        val parts = str split \"@\"\n",
    "        if (parts.length == 2) Some(parts(0), parts(1)) else None\n",
    "    }\n",
    "\n",
    "    def apply(user: String, domain: String) = user +\"@\"+ domain      // Inyección (opcional)\n",
    "}\n",
    "\n",
    "object UpperCase {                                                   // Ejemplo sin 'apply' ya que no hay nada que construir\n",
    "    def unapply(s: String): Boolean = s.toUpperCase == s\n",
    "}\n",
    "\n",
    "\"john@myDomain.com\" match {\n",
    "    case EMail(user @ UpperCase(), domain) => println(\"USER: '\"+user+\"' DOMAIN: '\"+domain+\"'\")\n",
    "    case EMail(user, domain) => println(\"user: '\"+user+\"' domain: '\"+domain+\"'\")\n",
    "    case _ => \n",
    "}\n",
    "\n",
    "val email: String = EMail(\"john_doe\", \"myDomain.com\")"
   ]
  },
  {
   "cell_type": "markdown",
   "metadata": {},
   "source": [
    "También es posible crear patrones con un número indeterminado de elementos. Para ello hay un método especial que sustituye a `unapply` y se trata de `unapplySeq`. En el siguiente ejemplo se muestra cómo usarlo para extraer las partes del dominio."
   ]
  },
  {
   "cell_type": "code",
   "execution_count": 53,
   "metadata": {},
   "outputs": [
    {
     "name": "stdout",
     "output_type": "stream",
     "text": [
      "Dominio 'us.es'\n"
     ]
    },
    {
     "data": {
      "text/plain": [
       "defined \u001b[32mobject\u001b[39m \u001b[36mDomain\u001b[39m\r\n",
       "defined \u001b[32mfunction\u001b[39m \u001b[36mprocesarDominio\u001b[39m"
      ]
     },
     "execution_count": 53,
     "metadata": {},
     "output_type": "execute_result"
    }
   ],
   "source": [
    "object Domain {\n",
    "    def unapplySeq(whole: String): Option[Seq[String]] =\n",
    "        Some(whole.split(\"\\\\.\").reverse)\n",
    "\n",
    "    def apply(parts: String*): String =\n",
    "        parts.reverse.mkString(\".\")\n",
    "}\n",
    "\n",
    "def procesarDominio(email: String) = email match {\n",
    "    case EMail(_, Domain(\"es\", \"us\", _*)) => println(\"Dominio 'us.es'\")\n",
    "    case EMail(_, Domain(\"es\", _*)) => println(\"Dominio 'es'\")\n",
    "    case _ => \n",
    "}\n",
    "\n",
    "procesarDominio(\"john@us.es\")"
   ]
  },
  {
   "cell_type": "markdown",
   "metadata": {
    "collapsed": true
   },
   "source": [
    "<table align=\"left\" style=\"border-collapse: collapse; border: none !important; width: 100%;\">\n",
    "    <tr style=\"border:none !important;\">\n",
    "        <td style=\"border:none !important; width: 60px;\">\n",
    "<img src=\"icons/notepad.png\" align=\"left\" width=\"50px\"> \n",
    "        </td>\n",
    "        <td style=\"border:none !important;text-align:left;\">\n",
    "            <ul>\n",
    "                <li>Nótese que el orden en el que se escriben los patrones es importante para que el patrón más restrictivo no quede \"eclipsado\" por el más general</li>\n",
    "                <li>Con `unapplySeq` ambién podríamos devolver una parte fija y otra variable (por ejemplo el usuario y la secuencia que compone el dominio)</li>\n",
    "            </ul>\n",
    "        </td>\n",
    "    </tr>\n",
    "</table>"
   ]
  },
  {
   "cell_type": "markdown",
   "metadata": {},
   "source": [
    "<table align=\"left\" style=\"border-collapse: collapse; border: none !important; width: 100%;\">\n",
    "    <tr style=\"border:none !important;\">\n",
    "        <td style=\"border:none !important; width: 60px;\">\n",
    "<img src=\"icons/optimizar.png\" align=\"left\" width=\"50px\"> \n",
    "        </td>\n",
    "        <td style=\"border:none !important; text-align:left\">\n",
    "            <ul>\n",
    "                <li>El uso de `case class` es en principio más eficiente que el uso de un extractor, aunque los extractores ofrecen mayor independencia de la representación interna de las clases, pero en cualquier caso los patrones funcionarán exactamente igual</li>\n",
    "            </ul>\n",
    "        </td>\n",
    "    </tr>\n",
    "</table>"
   ]
  },
  {
   "cell_type": "markdown",
   "metadata": {},
   "source": [
    "<a name=\"subsubseccion-Expresiones regulares\"></a>\n",
    "### Expresiones regulares\n",
    "\n",
    "Las expresiones regulares también ofrecen una herramienta muy útil a la hora de trabajar con patrones. Su uso en Scala deriva de su definición en Java y sigue la misma sintaxis. Definimos el patrón con un `String` y en él especificamos mediante paréntesis los grupos que se corresponden con las partes de la cadena que queremos encajar. Por ejemplo, podemos reconocer un número decimal y a la vez encajar las 3 partes que lo componen (signo, parte entera y parte decimal) con el patrón `(-)?(\\d+)(\\.\\d*)?` en el que los paréntesis delimitan esas 3 partes.\n",
    "\n",
    "También hay métodos predefinidos que sirven para operar con el patrón, como por ejemplo:\n",
    "\n",
    "* `findFirstIn`\n",
    "* `findAllIn`\n",
    "* `findPrefixOf`\n",
    "\n",
    "Por otro lado, toda expresión regular en Scala define un extractor, y por lo tanto podemos usarlo de la misma forma que el resto de extractores tal y cómo los hemos estado viendo."
   ]
  },
  {
   "cell_type": "code",
   "execution_count": 10,
   "metadata": {},
   "outputs": [
    {
     "name": "stdout",
     "output_type": "stream",
     "text": [
      "-1.0\n",
      "99\n",
      "3\n",
      "negativo\n"
     ]
    },
    {
     "data": {
      "text/plain": [
       "import scala.util.matching.Regex\n",
       "Decimal: scala.util.matching.Regex = (-)?(\\d+)(\\.\\d*)?\n",
       "sign: String = -\n",
       "integerPart: String = 1\n",
       "decimalPart: String = .24\n"
      ]
     },
     "execution_count": 10,
     "metadata": {},
     "output_type": "execute_result"
    }
   ],
   "source": [
    "import scala.util.matching.Regex\n",
    "\n",
    "val Decimal = new Regex(\"(-)?(\\\\d+)(\\\\.\\\\d*)?\")       // Definimos una e.r. para números decimales\n",
    "//val Decimal = new Regex(\"\"\"(-)?(\\d+)(\\.\\d*)?\"\"\")    // Formato equivalente usando raw strings\n",
    "//val Decimal = \"\"\"(-)?(\\d+)(\\.\\d*)?\"\"\".r             // Formato equivalente usando el método 'r' de RichString\n",
    "\n",
    "for (s <- Decimal findAllIn \"for -1.0 to 99 by 3\") println(s)\n",
    "\n",
    "val Decimal(sign, integerPart, decimalPart) = \"-1.24\" // ¿Qué ocurre si quitamos el signo?\n",
    "\n",
    "\"-1.24\" match {\n",
    "    case Decimal(\"-\", _, _) => println(\"negativo\")\n",
    "    case _ => println(\"positivo\")\n",
    "}"
   ]
  },
  {
   "cell_type": "markdown",
   "metadata": {},
   "source": [
    "---"
   ]
  }
 ],
 "metadata": {
  "anaconda-cloud": {},
  "kernelspec": {
   "display_name": "spylon-kernel",
   "language": "scala",
   "name": "spylon-kernel"
  },
  "language_info": {
   "codemirror_mode": "text/x-scala",
   "file_extension": ".scala",
   "help_links": [
    {
     "text": "MetaKernel Magics",
     "url": "https://github.com/calysto/metakernel/blob/master/metakernel/magics/README.md"
    }
   ],
   "mimetype": "text/x-scala",
   "name": "scala",
   "pygments_lexer": "scala",
   "version": "0.4.0"
  }
 },
 "nbformat": 4,
 "nbformat_minor": 2
}
