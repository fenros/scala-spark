{
 "cells": [
  {
   "cell_type": "markdown",
   "metadata": {},
   "source": [
    "<img src=\"images/intro-logo-scala-spa.png\" align=\"left\" width=\"600px\"/>\n",
    "<!--- ![alt text](heading.png \"Heading with Scala logo\") --->"
   ]
  },
  {
   "cell_type": "markdown",
   "metadata": {},
   "source": [
    "---"
   ]
  },
  {
   "cell_type": "markdown",
   "metadata": {},
   "source": [
    "# Índice\n",
    "\n",
    "### [1. Empezando a gatear](#seccion-1. Empezando a gatear)\n",
    "  * [Imprimir en pantalla](#subseccion-Imprimir en pantalla)\n",
    "  * [Expresiones](#subseccion-Expresiones)\n",
    "  * [Variables](#subseccion-Variables)\n",
    "  * [Multilínea](#subseccion-Multilínea)\n",
    "  * [Tipos \"básicos\" y sus literales](#subseccion-Tipos básicos y sus literales)\n",
    "  * [Funciones](#subseccion-Funciones)\n",
    "  * [Procedimientos](#subseccion-Procedimientos)\n",
    "  * [Estructuras de control básicas (`while`, `if`)](#subseccion-Estructuras de control básicas {`while`, `if`})\n"
   ]
  },
  {
   "cell_type": "markdown",
   "metadata": {},
   "source": [
    "---"
   ]
  },
  {
   "cell_type": "markdown",
   "metadata": {},
   "source": [
    "<!---\n",
    "# 1. Empezando a gatear --->\n",
    "<a name=\"seccion-1. Empezando a gatear\"></a>\n",
    "<table align=\"left\" style=\"border-collapse: collapse; width: 100%; border: 5px double black\">\n",
    "    <tr style=\"border:none !important;\">\n",
    "        <td style=\"border:none !important; width: 100px\">\n",
    "<img src=\"icons/gatear-m.png\" align=\"left\" width=60px/>\n",
    "        </td>\n",
    "        <td style=\"border:none !important; text-align:left;\">\n",
    "<h1>1. Empezando a gatear</h1>\n",
    "<br>\n",
    "Veamos algunas operaciones básicas que podemos realizar con el intérprete de Scala.\n",
    "        </td>\n",
    "    </tr>\n",
    "</table>\n"
   ]
  },
  {
   "cell_type": "markdown",
   "metadata": {},
   "source": [
    "<a name=\"subseccion-Imprimir en pantalla\"></a>\n",
    "## Imprimir en pantalla\n",
    "\n",
    "A diferencia de Java, Scala solo requiere llamar a `println` para imprimir algo en pantalla (¡Gracias Scala!)."
   ]
  },
  {
   "cell_type": "code",
   "execution_count": 17,
   "metadata": {},
   "outputs": [
    {
     "name": "stdout",
     "output_type": "stream",
     "text": [
      "Hola mundo\r\n"
     ]
    }
   ],
   "source": [
    "println(\"Hola mundo\")"
   ]
  },
  {
   "cell_type": "markdown",
   "metadata": {},
   "source": [
    "<table align=\"left\" style=\"border-collapse: collapse; border: none !important; width: 100%;\">\n",
    "    <tr style=\"border:none !important;\">\n",
    "        <td style=\"border:none !important; width: 60px;\">\n",
    "<img src=\"icons/notepad.png\" align=\"left\" width=\"50px\"> \n",
    "        </td>\n",
    "        <td style=\"border:none !important;text-align:left;\">\n",
    "            <ul>\n",
    "                <li>Como vemos en este ejemplo, **NO** es necesario terminar las lineas con '`;`' ni ningún otro símbolo.</li>\n",
    "            </ul>\n",
    "        </td>\n",
    "    </tr>\n",
    "</table>"
   ]
  },
  {
   "cell_type": "markdown",
   "metadata": {},
   "source": [
    "<a name=\"subseccion-Expresiones\"></a>\n",
    "## Expresiones\n",
    "\n",
    "Si introducimos una expresión, el intérprete de Scala calculará su valor e imprimirá el resultado.\n",
    "\n",
    "Por ejemplo, si introducimos `1 + 2` se imprimirá el resultado en pantalla, es decir, un `Int` con valor `3` al que se le da un nombre cualquiera como `res0`."
   ]
  },
  {
   "cell_type": "code",
   "execution_count": 2,
   "metadata": {},
   "outputs": [
    {
     "data": {
      "text/plain": [
       "\u001b[36mres1\u001b[39m: \u001b[32mInt\u001b[39m = \u001b[32m3\u001b[39m"
      ]
     },
     "execution_count": 2,
     "metadata": {},
     "output_type": "execute_result"
    }
   ],
   "source": [
    "1 + 2"
   ]
  },
  {
   "cell_type": "markdown",
   "metadata": {},
   "source": [
    "<table align=\"left\" style=\"border-collapse: collapse; border: none !important; width: 100%;\">\n",
    "    <tr style=\"border:none !important;\">\n",
    "        <td style=\"border:none !important; width: 60px;\">\n",
    "<img src=\"icons/notepad.png\" align=\"left\" width=\"50px\"> \n",
    "        </td>\n",
    "        <td style=\"border:none !important;text-align:left;\">\n",
    "            <ul>\n",
    "                <li>El tipo es `Int`, que equivale a la unión de los tipos `int` e `Integer` de Java como ya veremos</li>\n",
    "            </ul>\n",
    "        </td>\n",
    "    </tr>\n",
    "</table>"
   ]
  },
  {
   "cell_type": "markdown",
   "metadata": {},
   "source": [
    "<a name=\"subseccion-Variables\"></a>\n",
    "## Variables\n",
    "\n",
    "En scala hay 2 tipos de variables, llamadas `var` y `val`. La diferencia es que, una vez inicializadas, las `var` se pueden reasignar y las `val` no."
   ]
  },
  {
   "cell_type": "code",
   "execution_count": 3,
   "metadata": {},
   "outputs": [
    {
     "data": {
      "text/plain": [
       "\u001b[36mx\u001b[39m: \u001b[32mInt\u001b[39m = \u001b[32m3\u001b[39m\n",
       "\u001b[36my\u001b[39m: \u001b[32mInt\u001b[39m = \u001b[32m4\u001b[39m"
      ]
     },
     "execution_count": 3,
     "metadata": {},
     "output_type": "execute_result"
    }
   ],
   "source": [
    "val x = 3\n",
    "var y = 4"
   ]
  },
  {
   "cell_type": "code",
   "execution_count": 3,
   "metadata": {},
   "outputs": [
    {
     "name": "stderr",
     "output_type": "stream",
     "text": [
      "cmd3.sc:1: reassignment to val\n",
      "val res3_0 = x = 5\n",
      "               ^"
     ]
    },
    {
     "ename": "",
     "evalue": "",
     "output_type": "error",
     "traceback": [
      "Compilation Failed"
     ]
    }
   ],
   "source": [
    "x = 5\n",
    "y = 6 // ERROR!!"
   ]
  },
  {
   "cell_type": "markdown",
   "metadata": {},
   "source": [
    "<table align=\"left\" style=\"border-collapse: collapse; border: none !important; width: 100%;\">\n",
    "    <tr style=\"border:none !important;\">\n",
    "        <td style=\"border:none !important; width: 60px;\">\n",
    "<img src=\"icons/warning.png\" align=\"left\" width=\"50px\"> \n",
    "        </td>\n",
    "        <td style=\"border:none !important;text-align:left;\">\n",
    "            <ul>\n",
    "                <li>El uso de variables mutables (reasignables) no está recomendado en un entorno de programación funcional pura</li>\n",
    "            </ul>\n",
    "        </td>\n",
    "    </tr>\n",
    "</table>"
   ]
  },
  {
   "cell_type": "markdown",
   "metadata": {},
   "source": [
    "<a name=\"subseccion-Multilínea\"></a>\n",
    "## Multilínea\n",
    "\n",
    "Podemos continuar una sentencia en la siguiente línea y el intérprete sabrá que aún no hemos terminado de escribirla. Aun así, existen algunas limitaciones a esta regla que iremos conociendo con el tiempo, por ejemplo, prueba a insertar un salto de línea en mitad del _String_. "
   ]
  },
  {
   "cell_type": "code",
   "execution_count": null,
   "metadata": {
    "collapsed": true
   },
   "outputs": [],
   "source": [
    "val texto = \n",
    "\"Completando una operación en varias líneas\""
   ]
  },
  {
   "cell_type": "markdown",
   "metadata": {},
   "source": [
    "<table align=\"left\" style=\"border-collapse: collapse; border: none !important; width: 100%;\">\n",
    "    <tr style=\"border:none !important;\">\n",
    "        <td style=\"border:none !important; width: 60px;\">\n",
    "<img src=\"icons/notepad.png\" align=\"left\" width=\"50px\"> \n",
    "        </td>\n",
    "        <td style=\"border:none !important;text-align:left;\">\n",
    "            <ul>\n",
    "                <li>Si este ejemplo da un error `IO error while decoding`, declarar la variable de entorno `JAVA_TOOL_OPTIONS=\"-Dfile.encoding=UTF8\"`</li>\n",
    "            </ul>\n",
    "        </td>\n",
    "    </tr>\n",
    "</table>"
   ]
  },
  {
   "cell_type": "markdown",
   "metadata": {},
   "source": [
    "<a name=\"subseccion-Tipos básicos y sus literales\"></a>\n",
    "## Tipos \"básicos\" y sus literales\n",
    "\n",
    "Vamos a repasar ahora los tipos \"básicos\" que podemos utilizar en Scala desde el primer momento. Todos ellos son clases, incluso los más sencillos, por lo que no hay distinción entre `int` e `Integer` como ocurre en Java, sino solamente `Int`.\n",
    "* `Byte`\n",
    "* `Short`\n",
    "* `Int`\n",
    "* `Long`\n",
    "* `Char`\n",
    "* `String`\n",
    "* `Float`\n",
    "* `Double`\n",
    "* `Boolean`\n",
    "\n",
    "Por el nombre es fácil saber a qué nos referimos con cada uno de ellos, pero mostramos algunos ejemplos con los literales que podemos usar."
   ]
  },
  {
   "cell_type": "code",
   "execution_count": 34,
   "metadata": {},
   "outputs": [
    {
     "data": {
      "text/plain": [
       "\u001b[36mhex\u001b[39m: \u001b[32mInt\u001b[39m = \u001b[32m255\u001b[39m\r\n",
       "\u001b[36mdec\u001b[39m: \u001b[32mInt\u001b[39m = \u001b[32m255\u001b[39m\r\n",
       "\u001b[36mhexLong\u001b[39m: \u001b[32mLong\u001b[39m = \u001b[32m255L\u001b[39m\r\n",
       "\u001b[36mdecLong\u001b[39m: \u001b[32mLong\u001b[39m = \u001b[32m255L\u001b[39m\r\n",
       "\u001b[36mhexShort\u001b[39m: \u001b[32mShort\u001b[39m = \u001b[32m255\u001b[39m\r\n",
       "\u001b[36mdecShort\u001b[39m: \u001b[32mShort\u001b[39m = \u001b[32m255\u001b[39m\r\n",
       "\u001b[36mhexByte\u001b[39m: \u001b[32mByte\u001b[39m = \u001b[32m15\u001b[39m\r\n",
       "\u001b[36mdecByte\u001b[39m: \u001b[32mByte\u001b[39m = \u001b[32m15\u001b[39m\r\n",
       "\u001b[36mreal\u001b[39m: \u001b[32mDouble\u001b[39m = \u001b[32m123450.0\u001b[39m\r\n",
       "\u001b[36mrealFloat\u001b[39m: \u001b[32mFloat\u001b[39m = \u001b[32m123450.0F\u001b[39m\r\n",
       "\u001b[36mcaracter\u001b[39m: \u001b[32mChar\u001b[39m = \u001b[32m'A'\u001b[39m\r\n",
       "\u001b[36mcaracterOctal\u001b[39m: \u001b[32mChar\u001b[39m = \u001b[32m'A'\u001b[39m\r\n",
       "\u001b[36mcaracterHex\u001b[39m: \u001b[32mChar\u001b[39m = \u001b[32m'A'\u001b[39m\r\n",
       "\u001b[36mcaracterEspecial\u001b[39m: \u001b[32mChar\u001b[39m = \u001b[32m'\\n'\u001b[39m\r\n",
       "\u001b[36mhola\u001b[39m: \u001b[32mString\u001b[39m = \u001b[32m\"Hola\"\u001b[39m\r\n",
       "\u001b[36mholaEsp\u001b[39m: \u001b[32mString\u001b[39m = \u001b[32m\"\"\"\n",
       "'Hola\n",
       "Mundo!'\n",
       "\"\"\"\u001b[39m\r\n",
       "\u001b[36mholaRaw\u001b[39m: \u001b[32mString\u001b[39m = \u001b[32m\"\"\"\n",
       "'Hola\n",
       "                  Mundo!'\n",
       "\"\"\"\u001b[39m\r\n",
       "\u001b[36mverdadero\u001b[39m: \u001b[32mBoolean\u001b[39m = \u001b[32mtrue\u001b[39m\r\n",
       "\u001b[36mfalso\u001b[39m: \u001b[32mBoolean\u001b[39m = \u001b[32mfalse\u001b[39m"
      ]
     },
     "execution_count": 34,
     "metadata": {},
     "output_type": "execute_result"
    }
   ],
   "source": [
    "// Int\n",
    "val hex = 0x00FF       // Hexadecimal (base 16) si comienza con 0x o 0X\n",
    "val dec = 255          // Decimal (base 10) si NO comienza con un 0\n",
    "\n",
    "// Long                // Long si termina con l o L\n",
    "val hexLong = 0x00FFL\n",
    "val decLong = 255l\n",
    "\n",
    "// Short y Byte        // Short y Byte si almacenamos un valor (que esté dentro del rango) en una variable de estos tipos\n",
    "val hexShort: Short = 0x00FF\n",
    "val decShort: Short = 255\n",
    "val hexByte: Byte = 0x0F\n",
    "val decByte: Byte = 15 // Ver qué ocurre si intentamos almacenar 255 en lugar de 15\n",
    "\n",
    "// Double\n",
    "val real = 1.2345E5\n",
    "\n",
    "// Float               // Float si termina con f o F\n",
    "val realFloat = 1.2345E5F\n",
    "\n",
    "// Char\n",
    "val caracter = 'A'\n",
    "val caracterOctal = '\\101'  // Podemos usar un número octal entre '\\0' y '\\377'\n",
    "val caracterHex = '\\u0041'  // Podemos usar un número hexadecimal entre '\\u0000' y '\\uFFFF'\n",
    "val caracterEspecial = '\\n' // Caracteres especiales: \\n \\b \\t \\f \\r \\\" \\' \\\\\n",
    "\n",
    "// String\n",
    "val hola = \"Hola\"\n",
    "val holaEsp = \"\\'Hola\\nMundo!\\'\"\n",
    "  // 'Raw string' -> se escriben entre \"\"\" y se coge todo literal (saltos de linea, caracteres especiales,...)\n",
    "val holaRaw = \"\"\"'Hola\n",
    "                  Mundo!'\"\"\"\n",
    "\n",
    "// Boolean\n",
    "val verdadero = true\n",
    "val falso = false"
   ]
  },
  {
   "cell_type": "markdown",
   "metadata": {},
   "source": [
    "<table align=\"left\" style=\"border-collapse: collapse; border: none !important; width: 100%;\">\n",
    "    <tr style=\"border:none !important;\">\n",
    "        <td style=\"border:none !important; width: 60px;\">\n",
    "<img src=\"icons/notepad.png\" align=\"left\" width=\"50px\"> \n",
    "        </td>\n",
    "        <td style=\"border:none !important;text-align:left;\">\n",
    "            <ul>\n",
    "                <li>El nombre completo del tipo `Int` es `scala.Int`, pero dado que el paquete `scala` siempre se importa de forma automática, podemos escribir solo `Int`</li>\n",
    "                <li>Todos estos tipos básicos están en el paquete `scala` salvo `String`, que en realidad es `java.lang.String` (al igual que `scala`, el paquete `java.lang` también se importa de forma automática)</li>\n",
    "                <li>En principio podemos escribir algunos tipos en minúsculas, por ejemplo `int`, pero seguirá siendo `scala.Int` y es posible que esta posibilidad desaparezca con versiones nuevas del lenguaje</li>\n",
    "                <li>Se pueden usar caracteres unicode en cualquier sitio, por ejemplo en el identificador de una variable, pero no es recomendable al hacer más difícil leer el código</li>\n",
    "            </ul>\n",
    "        </td>\n",
    "    </tr>\n",
    "</table>"
   ]
  },
  {
   "cell_type": "markdown",
   "metadata": {},
   "source": [
    "<table align=\"left\" style=\"border-collapse: collapse; border: none !important; width: 100%;\">\n",
    "    <tr style=\"border:none !important;\">\n",
    "        <td style=\"border:none !important; width: 60px;\">\n",
    "<img src=\"icons/optimizar.png\" align=\"left\" width=\"50px\"> \n",
    "        </td>\n",
    "        <td style=\"border:none !important;text-align:left;\">\n",
    "            <ul>\n",
    "                <li>Los `raw string` incluyen también los espacios para identar el código, por lo que suele usarse el método `stripMargin` para obtener los resultados deseados (marcando con `|` donde empieza el margen izquierdo)</li>\n",
    "            </ul>\n",
    "        </td>\n",
    "    </tr>\n",
    "</table>"
   ]
  },
  {
   "cell_type": "markdown",
   "metadata": {},
   "source": [
    "<a name=\"subseccion-Funciones\"></a>\n",
    "## Funciones\n",
    "\n",
    "Para definir una función usamos `def` e indicamos los parámetros, con sus tipos y el tipo de retorno, así como el cuerpo de la función entre llaves."
   ]
  },
  {
   "cell_type": "code",
   "execution_count": null,
   "metadata": {
    "collapsed": true
   },
   "outputs": [],
   "source": [
    "def sumaXY(x: Int, y: Int): Int = {x + y}"
   ]
  },
  {
   "cell_type": "code",
   "execution_count": null,
   "metadata": {
    "collapsed": true
   },
   "outputs": [],
   "source": [
    "sumaXY(7, 8)"
   ]
  },
  {
   "cell_type": "markdown",
   "metadata": {},
   "source": [
    "<table align=\"left\" style=\"border-collapse: collapse; border: none !important; width: 100%;\">\n",
    "    <tr style=\"border:none !important;\">\n",
    "        <td style=\"border:none !important; width: 60px;\">\n",
    "<img src=\"icons/optimizar.png\" align=\"left\" width=\"50px\"> \n",
    "        </td>\n",
    "        <td style=\"border:none !important;text-align:left;\">\n",
    "            <ul>\n",
    "                <li>Si la función NO es recursiva podemos obviar el tipo de retorno</li>\n",
    "                <li>Si el cuerpo de la función contiene una única sentencia podemos eliminar las llaves</li>\n",
    "            </ul>\n",
    "        </td>\n",
    "    </tr>\n",
    "</table>\n"
   ]
  },
  {
   "cell_type": "code",
   "execution_count": null,
   "metadata": {
    "collapsed": true
   },
   "outputs": [],
   "source": [
    "def sumaXYalt(x: Int, y: Int) = x + y"
   ]
  },
  {
   "cell_type": "code",
   "execution_count": null,
   "metadata": {
    "collapsed": true
   },
   "outputs": [],
   "source": [
    "sumaXYalt(7, 8)"
   ]
  },
  {
   "cell_type": "markdown",
   "metadata": {},
   "source": [
    "Aunque estamos empezando nuestro periplo por Scala, hay una característica muy importante que conviene ir conociendo desde el principio, aunque iremos conociendo más detalles conforme avancemos, y nos referimos al papel de las funciones como \"ciudadanos de primera clase\". Y esto significa:\n",
    "\n",
    "* Podemos usar funciones como valores, al igual que ocurre con los enteros o las cadenas (podemos asignar una función a una variable, pasarla como parámetro, hacer que una función devuelva una función, etc.)\n",
    "* Se pueden construir en los mismos sitios que los valores \"ordinarios\" (localmente, en una expresión, etc.)\n",
    "* Se le asigna un tipo de la misma forma que al resto de valores y este tipo puede usarse como cualquier otro"
   ]
  },
  {
   "cell_type": "code",
   "execution_count": 3,
   "metadata": {},
   "outputs": [
    {
     "data": {
      "text/plain": [
       "4"
      ]
     },
     "execution_count": 3,
     "metadata": {},
     "output_type": "execute_result"
    }
   ],
   "source": [
    "(x: Int) => x + 1                   // Literal de función\n",
    "var incr = (x: Int) => x + 1        // Literal de función asignada a una variable (de tipo Int => Int)\n",
    "incr                                // El tipo de la variable será el de la función: Int => Int\n",
    "incr(2)                             // Llamada a la función\n",
    "incr = (x: Int) => x + 2            // Reasignación de la variable a otro literal de función (de tipo (Int, Int) => Int)\n",
    "incr(2)                             // Llamada a la función\n",
    "\n",
    "def aplicaFunInt(f: Int => Int, x: Int) = f(x)  // Una función cuyo parámetro es una función es una función de orden superior\n",
    "aplicaFunInt((x: Int) => x + 1, 2)              // Pasamos una función como parámetro\n",
    "aplicaFunInt(incr, 2)                           // También podemos pasar una variable que contenga una función"
   ]
  },
  {
   "cell_type": "markdown",
   "metadata": {},
   "source": [
    "<a name=\"subseccion-Procedimientos\"></a>\n",
    "## Procedimientos\n",
    "\n",
    "Un procedimiento es una función que no devuelve nada, y por lo tanto se ejecuta por los 'efectos colaterales' que provoca, por ejemplo, para imprimir algo en pantalla. Será por lo tanto una función con el tipo de retorno `Unit`, que equivale a `void` en Java. En este tipo 'especial' de funciones, podemos suprimir el tipo de retorno y el signo '`=`' insertando el cuerpo entre llaves."
   ]
  },
  {
   "cell_type": "code",
   "execution_count": 6,
   "metadata": {},
   "outputs": [
    {
     "data": {
      "text/plain": [
       "defined \u001b[32mfunction\u001b[39m \u001b[36mhola\u001b[39m\r\n",
       "defined \u001b[32mfunction\u001b[39m \u001b[36mhola2\u001b[39m"
      ]
     },
     "execution_count": 6,
     "metadata": {},
     "output_type": "execute_result"
    }
   ],
   "source": [
    "def hola(): Unit = println(\"¡Hola!\")  // Formato 'función' suprimiendo llaves ya que el cuerpo sólo tiene una sentencia\n",
    "def hola2() {println(\"¡Hola!\")}       // Formato 'procedimiento' suprimiendo tipo y '=' pero con las llaves"
   ]
  },
  {
   "cell_type": "code",
   "execution_count": 7,
   "metadata": {},
   "outputs": [
    {
     "name": "stdout",
     "output_type": "stream",
     "text": [
      "¡Hola!\n",
      "¡Hola!\n"
     ]
    }
   ],
   "source": [
    "hola()\n",
    "hola2()"
   ]
  },
  {
   "cell_type": "markdown",
   "metadata": {},
   "source": [
    "<table align=\"left\" style=\"border-collapse: collapse; border: none !important; width: 100%;\">\n",
    "    <tr style=\"border:none !important;\">\n",
    "        <td style=\"border:none !important; width: 60px;\">\n",
    "<img src=\"icons/warning.png\" align=\"left\" width=\"50px\"> \n",
    "        </td>\n",
    "        <td style=\"border:none !important;text-align:left;\">\n",
    "            <ul>\n",
    "                <li>El uso de procedimientos no está recomendado en un entorno de programación funcional pura</li>\n",
    "            </ul>\n",
    "        </td>\n",
    "    </tr>\n",
    "</table>"
   ]
  },
  {
   "cell_type": "markdown",
   "metadata": {},
   "source": [
    "<a name=\"subseccion-Estructuras de control básicas {`while`, `if`}\"></a>\n",
    "## Estructuras de control básicas (`while`, `if`)\n",
    "\n",
    "A continuación aparece un ejemplo sencillo de las estructuras de control básicas `while` e `if` para que compruebes su funcionamiento."
   ]
  },
  {
   "cell_type": "code",
   "execution_count": 5,
   "metadata": {},
   "outputs": [
    {
     "name": "stdout",
     "output_type": "stream",
     "text": [
      "0\n",
      "2\n",
      "4\n",
      "6\n",
      "8\n"
     ]
    },
    {
     "data": {
      "text/plain": [
       "\u001b[36mi\u001b[39m: \u001b[32mInt\u001b[39m = \u001b[32m10\u001b[39m"
      ]
     },
     "execution_count": 5,
     "metadata": {},
     "output_type": "execute_result"
    }
   ],
   "source": [
    "var i = 0\n",
    "while (i  < 10){\n",
    "    if (i % 2 == 0){\n",
    "        println(i)\n",
    "    }\n",
    "    i = i + 1\n",
    "}"
   ]
  },
  {
   "cell_type": "markdown",
   "metadata": {},
   "source": [
    "<table align=\"left\" style=\"border-collapse: collapse; border: none !important; width: 100%;\">\n",
    "    <tr style=\"border:none !important;\">\n",
    "        <td style=\"border:none !important; width: 60px;\">\n",
    "<img src=\"icons/notepad.png\" align=\"left\" width=\"50px\"> \n",
    "        </td>\n",
    "        <td style=\"border:none !important; text-align:left\">\n",
    "            <ul>\n",
    "                <li>A diferencia de otros lenguajes, Scala no devuelve ningún valor en las reasignaciones de un `var` (o mejor dicho devuelve `Unit`), por lo que cosas 'típicas' como `while ((i += 1) < 10)` o `while((line = readline()) != \"\")` no funcionan en Scala</li>\n",
    "                <li>En Scala no hay `break` ni `continue`, pero se puede conseguir el mismo efecto facilmente usando `if` y booleanos (p. ej. `while(... && !breakVar){ if (!<continueCond>)...) ... if (<breakCond>) breakVar=true}` o con un enfoque funcional mediante resursión</li>\n",
    "            </ul>\n",
    "        </td>\n",
    "    </tr>\n",
    "</table>"
   ]
  },
  {
   "cell_type": "markdown",
   "metadata": {},
   "source": [
    "<table align=\"left\" style=\"border-collapse: collapse; border: none !important; width: 100%;\">\n",
    "    <tr style=\"border:none !important;\">\n",
    "        <td style=\"border:none !important; width: 60px;\">\n",
    "<img src=\"icons/optimizar.png\" align=\"left\" width=\"50px\"> \n",
    "        </td>\n",
    "        <td style=\"border:none !important;text-align:left;\">\n",
    "            <ul>\n",
    "                <li>Comprueba que en Scala *NO* funciona `i++`, en su lugar podemos usar `i+=1`</li>\n",
    "                <li>Al igual que ocurría con las funciones, si el cuerpo de un `while` o un `if` contiene una única sentencia podemos eliminar las llaves</li>\n",
    "            </ul>\n",
    "        </td>\n",
    "    </tr>\n",
    "</table>"
   ]
  },
  {
   "cell_type": "markdown",
   "metadata": {},
   "source": [
    "<table align=\"left\" style=\"border-collapse: collapse; border: none !important; width: 100%;\">\n",
    "    <tr style=\"border:none !important;\">\n",
    "        <td style=\"border:none !important; width: 60px;\">\n",
    "<img src=\"icons/warning.png\" align=\"left\" width=\"50px\"> \n",
    "        </td>\n",
    "        <td style=\"border:none !important;text-align:left;\">\n",
    "            <ul>\n",
    "                <li>El uso de bucles no está recomendado en un entorno de programación funcional pura</li>\n",
    "            </ul>\n",
    "        </td>\n",
    "    </tr>\n",
    "</table>"
   ]
  },
  {
   "cell_type": "markdown",
   "metadata": {},
   "source": [
    "---"
   ]
  }
 ],
 "metadata": {
  "anaconda-cloud": {},
  "kernelspec": {
   "display_name": "Apache Toree - Scala",
   "language": "scala",
   "name": "apache_toree_scala"
  },
  "language_info": {
   "file_extension": ".scala",
   "name": "scala",
   "version": "2.11.8"
  }
 },
 "nbformat": 4,
 "nbformat_minor": 2
}
