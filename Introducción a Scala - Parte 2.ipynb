{
 "cells": [
  {
   "cell_type": "markdown",
   "metadata": {},
   "source": [
    "<img src=\"images/intro-logo-scala-spa.png\" align=\"left\" width=\"600px\"/>\n",
    "<!--- ![alt text](heading.png \"Heading with Scala logo\") --->"
   ]
  },
  {
   "cell_type": "markdown",
   "metadata": {},
   "source": [
    "---"
   ]
  },
  {
   "cell_type": "markdown",
   "metadata": {},
   "source": [
    "# Índice\n",
    "\n",
    "\n",
    "### [2. Caminando](#seccion-2. Caminando)\n",
    "  * [Más sobre estructuras de control](#subseccion-Más sobre estructuras de control)\n",
    "  * [Inicializando objetos](#subseccion-Inicializando objetos)\n",
    "  * [Los operadores](#subseccion-Los operadores)\n",
    "  * [Los métodos `apply` y `update`](#subseccion-Los métodos `apply` y `update`)\n",
    "  * [Usando `List`](#subseccion-Usando `List`)\n",
    "  * [Operaciones con listas](#subseccion-Operaciones con listas)\n",
    "    * [Operaciones de 'plegado'](#subsubseccion-Operaciones de plegado)\n",
    "  * [Tuplas](#subseccion-Tuplas)\n",
    "  * [Utilizando `Sets` y `Maps`](#subseccion-Utilizando `Sets` y `Maps`)\n",
    "  * [Ventajas y desventajas de los objetos inmutables](#subseccion-Ventajas y desventajas de los objetos inmutables)\n",
    "  * [Clases y objetos](#subseccion-Clases y objetos)\n",
    "  * [Modificador `abstract`](#subseccion-Modificador `abstract`)\n",
    "  * [Herencia](#subseccion-Herencia)\n",
    "  * [La jerarquía de clases en Scala](#subseccion-La jerarquía de clases en Scala)\n",
    "  * [Enumeraciones](#subseccion-Enumeraciones)\n",
    "  * [Precedencia y asociatividad de los operadores](#subseccion-Precedencia y asociatividad de los operadores)\n",
    "  * [La igualdad con `==` o `!=` (y su relación con `equals`)](#subseccion-La igualdad con `==` o `!=` {y su relación con `equals`})\n",
    "  * [Clases con parámetros](#subseccion-Clases con parámetros)\n",
    "  * [Precondiciones](#subseccion-Precondiciones)\n",
    "  * [Constructores auxiliares](#subseccion-Constructores auxiliares)\n",
    "  * [Traits](#subseccion-Traits)\n",
    "  * [Tipos abstractos y concretos](#subseccion-Tipos abstractos y concretos)\n",
    "  * [Manejando excepciones con `throw`, `try`, `catch` y `finally`](#subseccion-Manejando excepciones con `throw`, `try`, `catch` y `finally`)\n",
    "  * [Leyendo un fichero](#subseccion-Leyendo un fichero)\n",
    "  * [Aplicaciones](#subseccion-Aplicaciones)\n",
    "  * [Usando `package` e `import`](#subseccion-Usando `package` e `import`)\n",
    "    * [Los `import` por defecto](#subsubseccion-Los `import` por defecto)\n",
    "  * [Calidad del código](#subseccion-Calidad del código)\n",
    "    * [Comprobando condiciones con `assert`](#subsubseccion-Comprobando condiciones con `assert`)\n",
    "    * [Pruebas unitarias](#subsubseccion-Pruebas unitarias)\n"
   ]
  },
  {
   "cell_type": "markdown",
   "metadata": {},
   "source": [
    "---"
   ]
  },
  {
   "cell_type": "markdown",
   "metadata": {},
   "source": [
    "<!---\n",
    "# 2. Caminando --->\n",
    "<a name=\"seccion-2. Caminando\"></a>\n",
    "<table align=\"left\" style=\"border-collapse: collapse; width: 100%; border: 5px double black\">\n",
    "    <tr style=\"border:none !important;\">\n",
    "        <td style=\"border:none !important; width: 100px;\">\n",
    "<img src=\"icons/caminar-m.png\" align=\"left\" width=60px/>\n",
    "        </td>\n",
    "        <td style=\"border:none !important; text-align:left;\">\n",
    "<h1>2. Caminando</h1>\n",
    "<br>\n",
    "Bueno, ya nos hemos puesto en pie y podemos movernos con Scala, y aunque no estamos listos para salir corriendo, es hora de caminar e ir conociendo algunas características interesantes de Scala.\n",
    "        </td>\n",
    "    </tr>\n",
    "</table>"
   ]
  },
  {
   "cell_type": "markdown",
   "metadata": {},
   "source": [
    "<a name=\"subseccion-Más sobre estructuras de control\"></a>\n",
    "## Más sobre estructuras de control\n",
    "\n",
    "Las únicas estructuras de control que hay incluidas en la sintaxis de Scala son `if`, `while`, `for`, `try` y `match`. A partir de ahí, podemos utilizar algunos métodos y las características del lenguaje para crearnos nuestras propias estructuras de control como veremos.\n",
    "\n",
    "En Scala el `if` se asemeja al operador ternario `?:` presente en otros lenguajes, ya que puede devolver un valor, y lo mismo ocurre con `for`, `try` y `match`, que también pueden devolver un valor."
   ]
  },
  {
   "cell_type": "code",
   "execution_count": 5,
   "metadata": {},
   "outputs": [
    {
     "name": "stdout",
     "output_type": "stream",
     "text": [
      "true\n",
      "MAX1=()\n",
      "MAX=()\n",
      "MAX=2\n"
     ]
    }
   ],
   "source": [
    "def maximo(x: Int, y: Int) =\n",
    "    if (x > y) x else y\n",
    "println(\"MAX1=\"+x)\n",
    "println(\"MAX=\"+maximo(1,2))\n",
    "\n",
    "// Para que se vea más claro todavía que el 'if' devuelve un valor:\n",
    "val valor1 = 1\n",
    "val valor2 = 2\n",
    "println(\"MAX=\"+(if (valor1 > valor2) valor1 else valor2))"
   ]
  },
  {
   "cell_type": "markdown",
   "metadata": {},
   "source": [
    "El bucle `while` o `do-while` por su parte no devuelve ningún valor interesante, sino que devuelve `Unit` (equivalente a `void` en Java). Como ya hemos mencionado anteriormente, su uso está muy ligado al estilo imperativo resultando inapropiado desde el punto de vista de la programación funcional, y a continuación mostramos un ejemplo de las diferencias de ambos estilos."
   ]
  },
  {
   "cell_type": "code",
   "execution_count": 7,
   "metadata": {},
   "outputs": [
    {
     "data": {
      "text/plain": [
       "defined \u001b[32mfunction\u001b[39m \u001b[36mmcdImp\u001b[39m\r\n",
       "defined \u001b[32mfunction\u001b[39m \u001b[36mmcdFun\u001b[39m"
      ]
     },
     "execution_count": 7,
     "metadata": {},
     "output_type": "execute_result"
    }
   ],
   "source": [
    "// Bucle para hallar el máximo común divisor de dos enteros (estilo imperativo, no funcional)\n",
    "def mcdImp(x: Long, y: Long): Long = {\n",
    "    var a = x\n",
    "    var b = y\n",
    "    while (a != 0) {\n",
    "        val temp = a\n",
    "        a = b % a\n",
    "        b = temp\n",
    "    }\n",
    "    b\n",
    "}\n",
    "\n",
    "// Misma función en estilo funcional\n",
    "def mcdFun(a: Int, b: Int): Int =\n",
    "    if (b == 0) a else mcdFun(b, a % b)"
   ]
  },
  {
   "cell_type": "markdown",
   "metadata": {},
   "source": [
    "En Scala los bucles `for` introducen con frecuencia formas más concisas y eficientes de llevar a cabo tareas repetitivas, tal y como vemos en los siguientes ejemplos.\n",
    "\n",
    "La primera parte `x <- xs` se denomina generador y sirve para iterar sobre los elementos de la parte derecha (el tipo de `x` se infiere del tipo de `xs`). A ese generador se le puede aplicar un filtro con `if (condición)`, de manera que se descarten los `x` que no cumplan la condición. Finalmente, se ejecuta el código especificado para cada elemento generado que supere el filtro.\n",
    "\n",
    "Por otra parte, podemos tener más de un generador y más de un filtro, pudiendo crear expresiones `for` más complejas y potentes como vemos en el tercer ejemplo, en el que también se asigna una variable (un `val`) en mitad del `for` para guardar un resultado parcial.\n",
    "\n",
    "Finalmente, podemos recopilar los valores que se van generando en cada iteración con la palabra `yield` como vemos en el último ejemplo."
   ]
  },
  {
   "cell_type": "code",
   "execution_count": 38,
   "metadata": {},
   "outputs": [
    {
     "name": "stdout",
     "output_type": "stream",
     "text": [
      "0 2 4 6 8 \n",
      "0 2 4 6 8 \n",
      "[X=1,Y=1,XY=2] [X=2,Y=0,XY=2] [X=2,Y=2,XY=4] [X=3,Y=1,XY=4] [X=3,Y=3,XY=6] [X=4,Y=0,XY=4] [X=4,Y=2,XY=6] [X=4,Y=4,XY=8] "
     ]
    },
    {
     "data": {
      "text/plain": [
       "\u001b[36mres37_5\u001b[39m: \u001b[32mcollection\u001b[39m.\u001b[32mimmutable\u001b[39m.\u001b[32mIndexedSeq\u001b[39m[\u001b[32mInt\u001b[39m] = \u001b[33mVector\u001b[39m(\u001b[32m1\u001b[39m, \u001b[32m3\u001b[39m, \u001b[32m5\u001b[39m, \u001b[32m7\u001b[39m, \u001b[32m9\u001b[39m)"
      ]
     },
     "execution_count": 38,
     "metadata": {},
     "output_type": "execute_result"
    }
   ],
   "source": [
    "// Ejemplo sencillo\n",
    "for (x <- Range(0, 10) if (x % 2 == 0)) print(x+\" \")\n",
    "println()\n",
    "\n",
    "// Formulación equivalente con el 'if' en el cuerpo\n",
    "for (x <- Range(0, 10))\n",
    "    if (x % 2 == 0) print(x+\" \")\n",
    "println()\n",
    "\n",
    "// Ejemplo más completo\n",
    "for (x <- List(-1,0,1,2,3,4)                  // GENERADOR:  Para cada elemento x de la lista\n",
    "     if (x > 0);                              // FILTRO:     si x es mayor que cero\n",
    "     y <- 0 to x;                             // GENERADOR:  para cada elemento y en el rango 0..x\n",
    "     xy = x + y                               // ASIGNACIÓN: sumamos x e y y lo guardamos en xy\n",
    "     if (xy % 2 == 0)                         // FILTRO:     si xy es par\n",
    "     ) \n",
    "    print(\"[X=\"+x+\",Y=\"+y+\",XY=\"+xy+\"] \")     // imprimimos los elementos x, y, xy\n",
    "\n",
    "// Recopilando y devolviendo los valores generados\n",
    "for (x <- Range(0, 10) if (x % 2 == 0)) yield {x+1}"
   ]
  },
  {
   "cell_type": "markdown",
   "metadata": {},
   "source": [
    "<table align=\"left\" style=\"border-collapse: collapse; border: none !important; width: 100%;\">\n",
    "    <tr style=\"border:none !important;\">\n",
    "        <td style=\"border:none !important; width: 60px;\">\n",
    "<img src=\"icons/notepad.png\" align=\"left\" width=\"50px\"> \n",
    "        </td>\n",
    "        <td style=\"border:none !important;text-align:left;\">\n",
    "            <ul>\n",
    "                <li>Aunque puede que no lo parezca, la parte izquierda de `<-` es siempre un `val`</li>\n",
    "                <li>En este ejemplo usamos `Range(0, 10)` para generar una secuencia `0..9`, aunque también podemos usar `0 to 9` o `0 until 10` con el mismo resultado, y usamos `List(...)` para crear una lista de elementos, aunque los detalles de las listas los veremos más adelante</li>\n",
    "            </ul>\n",
    "        </td>\n",
    "    </tr>\n",
    "</table>"
   ]
  },
  {
   "cell_type": "markdown",
   "metadata": {},
   "source": [
    "<table align=\"left\" style=\"border-collapse: collapse; border: none !important; width: 100%;\">\n",
    "    <tr style=\"border:none !important;\">\n",
    "        <td style=\"border:none !important; width: 60px;\">\n",
    "<img src=\"icons/optimizar.png\" align=\"left\" width=\"50px\"> \n",
    "        </td>\n",
    "        <td style=\"border:none !important; text-align:left\">\n",
    "            <ul>\n",
    "                <li>Todos los `for` con `yield` se convierten internamente a una secuencia de llamadas a los métodos `map`, `flatMap` y `filter`, y los que no usan `yield` hacen lo propio con `filter` y `foreach`</li>\n",
    "            </ul>\n",
    "        </td>\n",
    "    </tr>\n",
    "</table>"
   ]
  },
  {
   "cell_type": "markdown",
   "metadata": {},
   "source": [
    "Otra alternativa es el uso de `foreach`, un método que permite aplicar un código a todos los elementos de una secuencia."
   ]
  },
  {
   "cell_type": "code",
   "execution_count": 5,
   "metadata": {},
   "outputs": [
    {
     "name": "stdout",
     "output_type": "stream",
     "text": [
      "0\n",
      "2\n",
      "4\n",
      "6\n",
      "8\n"
     ]
    }
   ],
   "source": [
    "Range(0, 10).foreach((x: Int) => if (x % 2 == 0) println(x))"
   ]
  },
  {
   "cell_type": "markdown",
   "metadata": {},
   "source": [
    "<a name=\"subseccion-Inicializando objetos\"></a>\n",
    "## Inicializando objetos\n",
    "\n",
    "En Scala podemos inicializar objetos o instancias de clases utilizando `new`, y al mismo tiempo podemos parametrizar o configurar la instancia indicando tipo entre corchetes y/o valores entre paréntesis. En el siguiente ejemplo vemos cómo se inicializa un vector (utilizando la clase `Array`) con el tipo `String` y el tamaño `2`. "
   ]
  },
  {
   "cell_type": "code",
   "execution_count": 7,
   "metadata": {},
   "outputs": [
    {
     "name": "stdout",
     "output_type": "stream",
     "text": [
      "Sevilla\n"
     ]
    }
   ],
   "source": [
    "val vector = new Array[String](2)\n",
    "vector(0) = \"pera\"\n",
    "vector(1) = \"manzana\"\n",
    "\n",
    "val vector2 = Array(\"Madrid\", \"Barcelona\", \"Sevilla\")"
   ]
  },
  {
   "cell_type": "markdown",
   "metadata": {},
   "source": [
    "<table align=\"left\" style=\"border-collapse: collapse; border: none !important; width: 100%;\">\n",
    "    <tr style=\"border:none !important;\">\n",
    "        <td style=\"border:none !important; width: 60px;\">\n",
    "<img src=\"icons/notepad.png\" align=\"left\" width=\"50px\"> \n",
    "        </td>\n",
    "        <td style=\"border:none !important;text-align:left;\">\n",
    "            <ul>\n",
    "                <li>Aunque el código del ejemplo es correcto, veremos formas mejores de inicializar un `Array` en Scala: `val vector = Array(\"pera\", \"manzana\")`</li>\n",
    "                <li>Podríamos haber escrito `'val vector: Array[String] = new Array[String](2)'`, pero Scala permite eliminar el código redundante</li>\n",
    "                <li>El punto anterior deja claro que el tipo es `'Array[String]'` y no `'Array[String](2)'`</li>\n",
    "                <li>Como se puede ver, para acceder a los elementos del `Array` se usa el índice entre paréntesis, no entre corchetes como ocurre en Java</li>\n",
    "                <li>El uso de `val` hace que la variable no se pueda reasignar, pero eso no impide que el objeto al que se refiere pueda cambiar</li>\n",
    "                <li>Los `Array` en Scala se representan como en Java, pero admiten muchas más operaciones, como por ejemplo `++` para concatenar dos `Array` o `mkString` que genera un `String` con sus elementos y usando el separador que le pasemos como parámetro</li>\n",
    "            </ul>\n",
    "        </td>\n",
    "    </tr>\n",
    "</table>"
   ]
  },
  {
   "cell_type": "markdown",
   "metadata": {},
   "source": [
    "<a name=\"subseccion-Los operadores\"></a>\n",
    "## Los operadores\n",
    "\n",
    "Si un método sólo usa un parámetro se puede escribir sin '.' ni paréntesis. Por ejemplo, en Scala la clase `Int` tiene definido el método `to` que devuelve el rango entre el entero que recibe la llamada y el que se utiliza como único parámetro.\n",
    "\n",
    "En Scala no existen operadores tal y como se definen en otros lenguajes, sino que se utiliza esta idea para crear métodos que sirvan de operadores, pudiendo darles como nombre los símbolos habituales (`+`,`-`,`/`,...). La clase `Int` tiene por ejemplo un método `+` para realizar la suma (o mejor dicho varios para poder recibir como parámetro otro `Int`, un `Double`,...). De esta forma `3 + 4` podría escribirse `(3).+(4)`."
   ]
  },
  {
   "cell_type": "code",
   "execution_count": 7,
   "metadata": {},
   "outputs": [
    {
     "data": {
      "text/plain": [
       "\u001b[36mdesde\u001b[39m: \u001b[32mInt\u001b[39m = \u001b[32m0\u001b[39m\n",
       "\u001b[36mhasta\u001b[39m: \u001b[32mInt\u001b[39m = \u001b[32m2\u001b[39m\n",
       "\u001b[36mres6_2\u001b[39m: \u001b[32mRange\u001b[39m.\u001b[32mInclusive\u001b[39m = \u001b[33mRange\u001b[39m(\u001b[32m0\u001b[39m, \u001b[32m1\u001b[39m, \u001b[32m2\u001b[39m)"
      ]
     },
     "execution_count": 7,
     "metadata": {},
     "output_type": "execute_result"
    }
   ],
   "source": [
    "val desde = 0\n",
    "val hasta = 2\n",
    "desde.to(hasta)"
   ]
  },
  {
   "cell_type": "code",
   "execution_count": null,
   "metadata": {
    "collapsed": true
   },
   "outputs": [],
   "source": [
    "for (i <- desde.to(hasta)) println(i)"
   ]
  },
  {
   "cell_type": "code",
   "execution_count": null,
   "metadata": {
    "collapsed": true
   },
   "outputs": [],
   "source": [
    "for (i <- desde to hasta) println(i)"
   ]
  },
  {
   "cell_type": "code",
   "execution_count": null,
   "metadata": {
    "collapsed": true
   },
   "outputs": [],
   "source": [
    "for (i <- 0 to 2) println(i)"
   ]
  },
  {
   "cell_type": "code",
   "execution_count": 8,
   "metadata": {},
   "outputs": [
    {
     "data": {
      "text/plain": [
       "\u001b[36mres7_0\u001b[39m: \u001b[32mInt\u001b[39m = \u001b[32m7\u001b[39m\n",
       "\u001b[36mres7_1\u001b[39m: \u001b[32mInt\u001b[39m = \u001b[32m7\u001b[39m\n",
       "\u001b[36mres7_2\u001b[39m: \u001b[32mInt\u001b[39m = \u001b[32m2\u001b[39m\n",
       "\u001b[36mres7_3\u001b[39m: \u001b[32mInt\u001b[39m = \u001b[32m2\u001b[39m"
      ]
     },
     "execution_count": 8,
     "metadata": {},
     "output_type": "execute_result"
    }
   ],
   "source": [
    "3+4\n",
    "(3).+(4)\n",
    "desde + hasta\n",
    "desde.+(hasta)"
   ]
  },
  {
   "cell_type": "markdown",
   "metadata": {},
   "source": [
    "Si el método recibe 2 parámetros en lugar de uno, se puede usar también la notación infija pero con los parámetros entre paréntesis. \n",
    "\n",
    "En el siguiente ejemplo vemos el método `indexOf` de la clase `String`, que puede recibir como parámetro solamente el carácter a buscar o también la posición desde donde buscar. "
   ]
  },
  {
   "cell_type": "code",
   "execution_count": 38,
   "metadata": {},
   "outputs": [
    {
     "data": {
      "text/plain": [
       "\u001b[36mhm\u001b[39m: \u001b[32mString\u001b[39m = \u001b[32m\"Hola, mundo\"\u001b[39m\r\n",
       "\u001b[36mres37_1\u001b[39m: \u001b[32mInt\u001b[39m = \u001b[32m1\u001b[39m\r\n",
       "\u001b[36mres37_2\u001b[39m: \u001b[32mInt\u001b[39m = \u001b[32m1\u001b[39m\r\n",
       "\u001b[36mres37_3\u001b[39m: \u001b[32mInt\u001b[39m = \u001b[32m10\u001b[39m\r\n",
       "\u001b[36mres37_4\u001b[39m: \u001b[32mInt\u001b[39m = \u001b[32m10\u001b[39m"
      ]
     },
     "execution_count": 38,
     "metadata": {},
     "output_type": "execute_result"
    }
   ],
   "source": [
    "val hm = \"Hola, mundo\"\n",
    "hm indexOf 'o'\n",
    "hm.indexOf('o')\n",
    "hm indexOf ('o', 2)\n",
    "hm.indexOf('o', 2)"
   ]
  },
  {
   "cell_type": "markdown",
   "metadata": {},
   "source": [
    "<table align=\"left\" style=\"border-collapse: collapse; border: none !important; width: 100%;\">\n",
    "    <tr style=\"border:none !important;\">\n",
    "        <td style=\"border:none !important; width: 60px;\">\n",
    "<img src=\"icons/notepad.png\" align=\"left\" width=\"50px\"> \n",
    "        </td>\n",
    "        <td style=\"border:none !important;text-align:left;\">\n",
    "            <ul>\n",
    "                <li>Para que se pueda aplicar la notación infija debe mencionarse de forma explícita el objeto que recibe la llamada, por lo que podemos escribir por ejemplo '`Console println \"Hola\"`' pero no '`println \"Hola\"`'</li>\n",
    "                <li>Como vemos, en Scala cualquier método puede ser un operador, simplemente utilizándolo con la notación infija</li>\n",
    "                <li>Para mantener la compatibilidad con Java, el compilador de Scala traducirá los identificadores usados en operadores de Scala que no sean identificadores válidos en Java (p. ej. `:->` internamente se traduce a `$colon$minus$greater`)</li>\n",
    "            </ul>\n",
    "        </td>\n",
    "    </tr>\n",
    "</table>"
   ]
  },
  {
   "cell_type": "markdown",
   "metadata": {},
   "source": [
    "Además de la notación infija (dos operandos con el operador en medio), existe también la posibilidad de usar operadores unarios con un solo operando mediante las notaciones prefija (el '`-`' de `-5`) y postfija (el `toLong` en `5 toLong`).\n",
    "\n",
    "Para la notación prefija deberemos definir el método con el prefijo '`unary_`'. Por ejemplo, si definimos el método '`unary_-`' en la clase Double, podremos escribir `-2.0` y será equivalente a `(-2.0).unary_-`. De todas formas, **solo** podemos usar la notación prefija con los operadores `+,-,! y ~`."
   ]
  },
  {
   "cell_type": "code",
   "execution_count": 40,
   "metadata": {},
   "outputs": [
    {
     "data": {
      "text/plain": [
       "\u001b[36mres39_0\u001b[39m: \u001b[32mDouble\u001b[39m = \u001b[32m-2.0\u001b[39m\r\n",
       "\u001b[36mres39_1\u001b[39m: \u001b[32mDouble\u001b[39m = \u001b[32m-2.0\u001b[39m\r\n",
       "\u001b[36mres39_2\u001b[39m: \u001b[32mBoolean\u001b[39m = \u001b[32mfalse\u001b[39m\r\n",
       "\u001b[36mres39_3\u001b[39m: \u001b[32mInt\u001b[39m = \u001b[32m-256\u001b[39m"
      ]
     },
     "execution_count": 40,
     "metadata": {},
     "output_type": "execute_result"
    }
   ],
   "source": [
    "-2.0\n",
    "(2.0).unary_-\n",
    "\n",
    "!(true)\n",
    "~0xFF"
   ]
  },
  {
   "cell_type": "markdown",
   "metadata": {},
   "source": [
    "Por último, la notación postfija sirve para métodos sin parámetros, simplemente obviando los paréntesis y el punto."
   ]
  },
  {
   "cell_type": "code",
   "execution_count": 42,
   "metadata": {},
   "outputs": [
    {
     "data": {
      "text/plain": [
       "\u001b[36mres41_0\u001b[39m: \u001b[32mString\u001b[39m = \u001b[32m\"hola, mundo\"\u001b[39m\r\n",
       "\u001b[36mres41_1\u001b[39m: \u001b[32mString\u001b[39m = \u001b[32m\"hola, mundo\"\u001b[39m"
      ]
     },
     "execution_count": 42,
     "metadata": {},
     "output_type": "execute_result"
    }
   ],
   "source": [
    "hm.toLowerCase()\n",
    "hm toLowerCase"
   ]
  },
  {
   "cell_type": "markdown",
   "metadata": {},
   "source": [
    "<table align=\"left\" style=\"border-collapse: collapse; border: none !important; width: 100%;\">\n",
    "    <tr style=\"border:none !important;\">\n",
    "        <td style=\"border:none !important; width: 60px;\">\n",
    "<img src=\"icons/notepad.png\" align=\"left\" width=\"50px\"> \n",
    "        </td>\n",
    "        <td style=\"border:none !important;text-align:left;\">\n",
    "            <ul>\n",
    "                <li>Scala permite no escribir los paréntesis vacíos en los métodos sin parámetros, aunque se recomienda escribirlos si el método tiene efectos colaterales para deferenciarlos de las funciones 'puras' que no lo tienen</li>\n",
    "            </ul>\n",
    "        </td>\n",
    "    </tr>\n",
    "</table>"
   ]
  },
  {
   "cell_type": "markdown",
   "metadata": {},
   "source": [
    "Antes de continuar, aprovecha este momento para explorar la [API de Scala](http://www.scala-lang.org/api/current/scala/index.html), busca las clases asociadas a los tipos y comprueba los operadores que hay definidos para ellos, como por ejemplo:\n",
    "\n",
    "* Aritméticos: `+ - * / %`\n",
    "* Relacionales: `> < >= <= !`\n",
    "* Lógicos: `&& ||`\n",
    "* Bit a bit (bitwise): `& | ^ << >> >>>`"
   ]
  },
  {
   "cell_type": "markdown",
   "metadata": {},
   "source": [
    "<table align=\"left\" style=\"border-collapse: collapse; border: none !important; width: 100%;\">\n",
    "    <tr style=\"border:none !important;\">\n",
    "        <td style=\"border:none !important; width: 60px;\">\n",
    "<img src=\"icons/notepad.png\" align=\"left\" width=\"50px\"> \n",
    "        </td>\n",
    "        <td style=\"border:none !important;text-align:left;\">\n",
    "            <ul>\n",
    "                <li>Los operadores lógicos están 'short-circuited' como en Java, de manera que los operandos no se evaluan si no es necesario (`true || x` es `true` sin importar el valor de `x`)</li>\n",
    "            </ul>\n",
    "        </td>\n",
    "    </tr>\n",
    "</table>"
   ]
  },
  {
   "cell_type": "markdown",
   "metadata": {},
   "source": [
    "<a name=\"subseccion-Los métodos `apply` y `update`\"></a>\n",
    "## Los métodos `apply` y `update`\n",
    "\n",
    "Cuando en Scala escribimos una variable a la que aplicamos uno o más valores entre paréntesis, internamente se ejecutará el método `apply` definido en el tipo de esa variable. Esta es la razón por la que se accede a los elementos de un `Array` con paréntesis (`vector(0)` equivale a `vector.apply(0)`), pero esta idea no se limita a los `Array` sino a todos los objetos en general. Por lo tanto, nosotros también podremos definir un método apply en nuestras clases para sacar provecho de esta característica. \n",
    "\n",
    "De forma similar, si escribimos esa variable con uno o más valores entre paréntesis en la parte izquierda de una asignación, en lugar de `apply` se ejecutará el método `update`, pasando los valores entre paréntesis y la parte derecha de la asignación como parámetros (`vector(0) = \"pera\"` equivale a `vector.update(0, \"pera\")`)"
   ]
  },
  {
   "cell_type": "code",
   "execution_count": null,
   "metadata": {
    "collapsed": true
   },
   "outputs": [],
   "source": [
    "vector(0) = \"uva\"\n",
    "println(vector(0))"
   ]
  },
  {
   "cell_type": "code",
   "execution_count": null,
   "metadata": {
    "collapsed": true
   },
   "outputs": [],
   "source": [
    "vector.update(0, \"ciruela\")\n",
    "println(vector.apply(0))"
   ]
  },
  {
   "cell_type": "markdown",
   "metadata": {},
   "source": [
    "<a name=\"subseccion-Usando `List`\"></a>\n",
    "## Usando `List`\n",
    "\n",
    "Al igual que `Array`, la clase `List` de Scala permite almacenar una secuencia de objetos que comparten el mismo tipo (son 'homogéneas'), pero a diferencia del `Array`, un `List` siempre es **inmutable** y tiene una estructura recursiva en lugar de plana. El tipo 'lista de elementos de tipo `T`' se denomina `List[T]`, y podemos considerarla una pieza clave en el estilo de programación funcional. Se puede crear e inicializar una lista fácilmente como vemos en los siguientes ejemplos:"
   ]
  },
  {
   "cell_type": "code",
   "execution_count": 10,
   "metadata": {},
   "outputs": [
    {
     "data": {
      "text/plain": [
       "\u001b[36mfrutas\u001b[39m: \u001b[32mList\u001b[39m[\u001b[32mString\u001b[39m] = \u001b[33mList\u001b[39m(\u001b[32m\"peras\"\u001b[39m, \u001b[32m\"manzanas\"\u001b[39m)\r\n",
       "\u001b[36mcopiaFrutas\u001b[39m: \u001b[32mList\u001b[39m[\u001b[32mString\u001b[39m] = \u001b[33mList\u001b[39m(\u001b[32m\"peras\"\u001b[39m, \u001b[32m\"manzanas\"\u001b[39m)\r\n",
       "\u001b[36mhitosSuperados\u001b[39m: \u001b[32mList\u001b[39m[\u001b[32mInt\u001b[39m] = \u001b[33mList\u001b[39m(\u001b[32m1\u001b[39m)"
      ]
     },
     "execution_count": 10,
     "metadata": {},
     "output_type": "execute_result"
    }
   ],
   "source": [
    "val frutas = List(\"peras\", \"manzanas\")\n",
    "val copiaFrutas = frutas\n",
    "\n",
    "var hitosSuperados: List[Int] = List()  // Hay que indicar el tipo base (también sirve `var hitosSuperados = List[Int]()`)\n",
    "hitosSuperados ::= 1                    // Al ser un 'var' podemos reasignar"
   ]
  },
  {
   "cell_type": "markdown",
   "metadata": {},
   "source": [
    "Scala ofrece muchos métodos para manipularlas, pero si su función es por ejemplo añadir un nuevo elemento, el resultado será una nueva lista con el nuevo elemento añadido en lugar de modificar la lista original, que permanecerá intacta. Probemos ahora los métodos `::` y `:::`, para añadir un elemento al inicio de una lista y concatenar dos listas respectivamente."
   ]
  },
  {
   "cell_type": "code",
   "execution_count": null,
   "metadata": {
    "collapsed": true
   },
   "outputs": [],
   "source": [
    "val masFrutas = \"naranja\" :: List(\"uva\", \"ciruela\")  // Añadiendo un elemento\n",
    "val todasFrutas = frutas ::: masFrutas               // Concatenando dos listas\n",
    "frutas                                               // Permanece intacta\n",
    "masFrutas                                            // Permanece intacta"
   ]
  },
  {
   "cell_type": "markdown",
   "metadata": {},
   "source": [
    "Para hacer referencia a la lista vacía usamos el término `Nil`, que nos servirá entre otras muchas cosas para crear una nueva lista mediante el método `::`, agregando elementos en cadena a la lista vacía como vemos en el siguiente ejemplo. \n",
    "\n",
    "Siguiendo lo explicado anteriormente sobre los operadores en Scala, `x :: lista` se podría escribir `x.::(lista)` aunque en este caso nos encontramos con una excepción a la regla, ya que si el nombre del método termina en '`:`' se invocará en el operando de la derecha en lugar del de la izquierda, por lo que en realidad se traduce en `lista.::(x)`. Como véis, esto tiene mucho más sentido ya que se trata de agregar un elemento a la lista, y no al revés. De hecho será `lista`, de tipo `List`, la que tenga implementado el método `::`, y no `x`. "
   ]
  },
  {
   "cell_type": "code",
   "execution_count": null,
   "metadata": {
    "collapsed": true
   },
   "outputs": [],
   "source": [
    "val deCeroADos = 0 :: 1 :: 2 :: Nil"
   ]
  },
  {
   "cell_type": "markdown",
   "metadata": {},
   "source": [
    "<table align=\"left\" style=\"border-collapse: collapse; border: none !important; width: 100%;\">\n",
    "    <tr style=\"border:none !important;\">\n",
    "        <td style=\"border:none !important; width: 60px;\">\n",
    "<img src=\"icons/notepad.png\" align=\"left\" width=\"50px\"> \n",
    "        </td>\n",
    "        <td style=\"border:none !important;text-align:left;\">\n",
    "            <ul>\n",
    "                <li>Como vemos en el ejemplo, Scala es capaz de inferir el tipo de la lista al analizar los elementos con los que se inicializa</li>\n",
    "                <li>Como ya avisamos al presentar la clase `Array`, no es necesario usar `new` para inicializar una `List`, aunque ya veremos por qué</li>\n",
    "                <li>El método `::` se conoce como `cons`, de `construct`</li>\n",
    "                <li>El hecho de agregar los elementos al inicio y no al final de la `List` tiene que ver con los problemas de eficiencia que provoca esta última operación, aunque veremos cómo sortearlos</li>\n",
    "                <li>Revisitaremos la clase `List` en repetidas ocasiones como uno de los elementos más útiles de nuestra caja de herramientas de Scala</li>\n",
    "                <li>Aunque aquí no hemos puesto ningún ejemplo, nada impide que los elementos de una lista sean listas</li>\n",
    "            </ul>\n",
    "        </td>\n",
    "    </tr>\n",
    "</table>"
   ]
  },
  {
   "cell_type": "markdown",
   "metadata": {},
   "source": [
    "<a name=\"subseccion-Operaciones con listas\"></a>\n",
    "## Operaciones con listas\n",
    "\n",
    "Presentamos ahora algunas de las operaciones que podemos realizar sobre objetos de tipo `List`. Utilizaremos como ejemplo una lista con los nombres de las provincias de Andalucía."
   ]
  },
  {
   "cell_type": "code",
   "execution_count": 8,
   "metadata": {},
   "outputs": [],
   "source": [
    "val provincias = List(\"Jaén\", \"Córdoba\", \"Sevilla\", \"Huelva\", \"Cádiz\", \"Málaga\", \"Granada\", \"Almería\")"
   ]
  },
  {
   "cell_type": "markdown",
   "metadata": {},
   "source": [
    "1) Comenzamos con métodos que aportan información sobre la lista:"
   ]
  },
  {
   "cell_type": "code",
   "execution_count": 38,
   "metadata": {},
   "outputs": [
    {
     "data": {
      "text/plain": [
       "\u001b[36mres37_0\u001b[39m: \u001b[32mBoolean\u001b[39m = \u001b[32mfalse\u001b[39m\r\n",
       "\u001b[36mres37_1\u001b[39m: \u001b[32mInt\u001b[39m = \u001b[32m8\u001b[39m\r\n",
       "\u001b[36mres37_2\u001b[39m: \u001b[32mInt\u001b[39m = \u001b[32m6\u001b[39m\r\n",
       "\u001b[36mres37_3\u001b[39m: \u001b[32mRange\u001b[39m = \u001b[33mRange\u001b[39m(\u001b[32m0\u001b[39m, \u001b[32m1\u001b[39m, \u001b[32m2\u001b[39m, \u001b[32m3\u001b[39m, \u001b[32m4\u001b[39m, \u001b[32m5\u001b[39m, \u001b[32m6\u001b[39m, \u001b[32m7\u001b[39m)\r\n",
       "\u001b[36mres37_4\u001b[39m: \u001b[32mIterator\u001b[39m[\u001b[32mString\u001b[39m] = non-empty iterator"
      ]
     },
     "execution_count": 38,
     "metadata": {},
     "output_type": "execute_result"
    }
   ],
   "source": [
    "provincias.isEmpty                      // ¿Está vacía?\n",
    "provincias.length                       // Tamaño de la lista\n",
    "provincias.count(p => p.endsWith(\"a\"))  // Contar el nº de elementos que cumplen la condición\n",
    "provincias.indices                      // Nos indica los índices 'válidos', por ejemplo para aplicar 'apply' (ver abajo)\n",
    "provincias.toIterator                   // Devuelve un iterador para poder recorrer la lista"
   ]
  },
  {
   "cell_type": "markdown",
   "metadata": {},
   "source": [
    "2) Métodos para quedarnos con un subconjunto de los elementos que contiene la lista:"
   ]
  },
  {
   "cell_type": "code",
   "execution_count": 55,
   "metadata": {},
   "outputs": [
    {
     "data": {
      "text/plain": [
       "\u001b[36mres54_0\u001b[39m: \u001b[32mList\u001b[39m[\u001b[32mString\u001b[39m] = \u001b[33mList\u001b[39m(\u001b[32m\"Jaén\"\u001b[39m, \u001b[32m\"Córdoba\"\u001b[39m)\r\n",
       "\u001b[36mres54_1\u001b[39m: \u001b[32mList\u001b[39m[\u001b[32mString\u001b[39m] = \u001b[33mList\u001b[39m(\u001b[32m\"Sevilla\"\u001b[39m, \u001b[32m\"Huelva\"\u001b[39m, \u001b[32m\"Cádiz\"\u001b[39m, \u001b[32m\"Málaga\"\u001b[39m, \u001b[32m\"Granada\"\u001b[39m, \u001b[32m\"Almería\"\u001b[39m)\r\n",
       "\u001b[36mres54_2\u001b[39m: \u001b[32mList\u001b[39m[\u001b[32mString\u001b[39m] = \u001b[33mList\u001b[39m(\u001b[32m\"Jaén\"\u001b[39m, \u001b[32m\"Córdoba\"\u001b[39m, \u001b[32m\"Sevilla\"\u001b[39m, \u001b[32m\"Huelva\"\u001b[39m, \u001b[32m\"Cádiz\"\u001b[39m, \u001b[32m\"Málaga\"\u001b[39m)\r\n",
       "\u001b[36mres54_3\u001b[39m: \u001b[32mList\u001b[39m[\u001b[32mString\u001b[39m] = \u001b[33mList\u001b[39m(\u001b[32m\"Jaén\"\u001b[39m, \u001b[32m\"Cádiz\"\u001b[39m)\r\n",
       "\u001b[36mres54_4\u001b[39m: \u001b[32mList\u001b[39m[\u001b[32mString\u001b[39m] = \u001b[33mList\u001b[39m(\u001b[32m\"Córdoba\"\u001b[39m, \u001b[32m\"Sevilla\"\u001b[39m, \u001b[32m\"Huelva\"\u001b[39m, \u001b[32m\"Málaga\"\u001b[39m, \u001b[32m\"Granada\"\u001b[39m, \u001b[32m\"Almería\"\u001b[39m)\r\n",
       "\u001b[36mres54_5\u001b[39m: (\u001b[32mList\u001b[39m[\u001b[32mString\u001b[39m], \u001b[32mList\u001b[39m[\u001b[32mString\u001b[39m]) = (\n",
       "  \u001b[33mList\u001b[39m(\u001b[32m\"Córdoba\"\u001b[39m, \u001b[32m\"Sevilla\"\u001b[39m, \u001b[32m\"Huelva\"\u001b[39m, \u001b[32m\"Málaga\"\u001b[39m, \u001b[32m\"Granada\"\u001b[39m, \u001b[32m\"Almería\"\u001b[39m),\n",
       "  \u001b[33mList\u001b[39m(\u001b[32m\"Jaén\"\u001b[39m, \u001b[32m\"Cádiz\"\u001b[39m)\n",
       ")\r\n",
       "\u001b[36mres54_6\u001b[39m: (\u001b[32mList\u001b[39m[\u001b[32mString\u001b[39m], \u001b[32mList\u001b[39m[\u001b[32mString\u001b[39m]) = (\n",
       "  \u001b[33mList\u001b[39m(\u001b[32m\"Jaén\"\u001b[39m, \u001b[32m\"Córdoba\"\u001b[39m),\n",
       "  \u001b[33mList\u001b[39m(\u001b[32m\"Sevilla\"\u001b[39m, \u001b[32m\"Huelva\"\u001b[39m, \u001b[32m\"Cádiz\"\u001b[39m, \u001b[32m\"Málaga\"\u001b[39m, \u001b[32m\"Granada\"\u001b[39m, \u001b[32m\"Almería\"\u001b[39m)\n",
       ")\r\n",
       "\u001b[36mres54_7\u001b[39m: \u001b[32mList\u001b[39m[\u001b[32mString\u001b[39m] = \u001b[33mList\u001b[39m(\u001b[32m\"Jaén\"\u001b[39m)\r\n",
       "\u001b[36mres54_8\u001b[39m: \u001b[32mList\u001b[39m[\u001b[32mString\u001b[39m] = \u001b[33mList\u001b[39m(\u001b[32m\"Córdoba\"\u001b[39m, \u001b[32m\"Sevilla\"\u001b[39m, \u001b[32m\"Huelva\"\u001b[39m, \u001b[32m\"Cádiz\"\u001b[39m, \u001b[32m\"Málaga\"\u001b[39m, \u001b[32m\"Granada\"\u001b[39m, \u001b[32m\"Almería\"\u001b[39m)\r\n",
       "\u001b[36mres54_9\u001b[39m: (\u001b[32mList\u001b[39m[\u001b[32mString\u001b[39m], \u001b[32mList\u001b[39m[\u001b[32mString\u001b[39m]) = (\n",
       "  \u001b[33mList\u001b[39m(\u001b[32m\"Jaén\"\u001b[39m),\n",
       "  \u001b[33mList\u001b[39m(\u001b[32m\"Córdoba\"\u001b[39m, \u001b[32m\"Sevilla\"\u001b[39m, \u001b[32m\"Huelva\"\u001b[39m, \u001b[32m\"Cádiz\"\u001b[39m, \u001b[32m\"Málaga\"\u001b[39m, \u001b[32m\"Granada\"\u001b[39m, \u001b[32m\"Almería\"\u001b[39m)\n",
       ")"
      ]
     },
     "execution_count": 55,
     "metadata": {},
     "output_type": "execute_result"
    }
   ],
   "source": [
    "provincias.take(2)                          // Quedarnos con un nº de elementos a la izquierda\n",
    "provincias.drop(2)                          // Eliminar un nº de elementos a la izquierda\n",
    "provincias.dropRight(2)                     // Eliminar un nº de elementos a la derecha\n",
    "provincias.filterNot(p => p.endsWith(\"a\"))  // Eliminar los elementos que cumplen la condición\n",
    "provincias.filter(p => p.endsWith(\"a\"))     // Quedarnos con los elementos que cumplen la condición\n",
    "provincias.partition(p => p.endsWith(\"a\"))  // Dividimos la lista en dos, los elementos que cumplen la condición y los que no\n",
    "provincias.splitAt(2)                       // Dividimos la lista en dos subconjuntos por la posición indicada\n",
    "provincias.takeWhile(p => !p.endsWith(\"a\")) // Quedarnos con el prefijo más largo cuyos elementos cumplan la condición\n",
    "provincias.dropWhile(p => !p.endsWith(\"a\")) // Eliminar el prefijo más largo cuyos elementos cumplan la condición\n",
    "provincias.span(p => !p.endsWith(\"a\"))      // Dividimos la lista en dos, el resultado de takeWhile y el de dropWhile"
   ]
  },
  {
   "cell_type": "markdown",
   "metadata": {},
   "source": [
    "3) Cuantificadores existenciales ($\\exists$) y universales ($\\forall$):"
   ]
  },
  {
   "cell_type": "code",
   "execution_count": null,
   "metadata": {
    "collapsed": true
   },
   "outputs": [],
   "source": [
    "provincias.exists(p => p.endsWith(\"x\"))  // Comprobar si algún elemento cumple la condición\n",
    "provincias.forall(p => p.length > 3)     // Comprobar si todos los elementos cumplen la condición"
   ]
  },
  {
   "cell_type": "markdown",
   "metadata": {},
   "source": [
    "4) Métodos modificadores del orden de los elementos:"
   ]
  },
  {
   "cell_type": "code",
   "execution_count": 66,
   "metadata": {},
   "outputs": [
    {
     "data": {
      "text/plain": [
       "\u001b[36mres65_0\u001b[39m: \u001b[32mList\u001b[39m[\u001b[32mString\u001b[39m] = \u001b[33mList\u001b[39m(\n",
       "  \u001b[32m\"Almería\"\u001b[39m,\n",
       "  \u001b[32m\"Granada\"\u001b[39m,\n",
       "  \u001b[32m\"Málaga\"\u001b[39m,\n",
       "  \u001b[32m\"Cádiz\"\u001b[39m,\n",
       "  \u001b[32m\"Huelva\"\u001b[39m,\n",
       "  \u001b[32m\"Sevilla\"\u001b[39m,\n",
       "  \u001b[32m\"Córdoba\"\u001b[39m,\n",
       "  \u001b[32m\"Jaén\"\u001b[39m\n",
       ")\r\n",
       "\u001b[36mres65_1\u001b[39m: \u001b[32mList\u001b[39m[\u001b[32mString\u001b[39m] = \u001b[33mList\u001b[39m(\n",
       "  \u001b[32m\"Almería\"\u001b[39m,\n",
       "  \u001b[32m\"Córdoba\"\u001b[39m,\n",
       "  \u001b[32m\"Cádiz\"\u001b[39m,\n",
       "  \u001b[32m\"Granada\"\u001b[39m,\n",
       "  \u001b[32m\"Huelva\"\u001b[39m,\n",
       "  \u001b[32m\"Jaén\"\u001b[39m,\n",
       "  \u001b[32m\"Málaga\"\u001b[39m,\n",
       "  \u001b[32m\"Sevilla\"\u001b[39m\n",
       ")"
      ]
     },
     "execution_count": 66,
     "metadata": {},
     "output_type": "execute_result"
    }
   ],
   "source": [
    "provincias.reverse                  // Invertir el orden de los elementos\n",
    "provincias.sortWith((s, t) =>       // Ordenar según el criterio especificado mediante una función\n",
    "                     s.charAt(0) <\n",
    "                     t.charAt(0))"
   ]
  },
  {
   "cell_type": "markdown",
   "metadata": {},
   "source": [
    "5) Métodos extractores de los elementos de la lista:"
   ]
  },
  {
   "cell_type": "code",
   "execution_count": 25,
   "metadata": {},
   "outputs": [
    {
     "data": {
      "text/plain": [
       "\u001b[36mres24_0\u001b[39m: \u001b[32mString\u001b[39m = \u001b[32m\"Jaén\"\u001b[39m\r\n",
       "\u001b[36mres24_1\u001b[39m: \u001b[32mList\u001b[39m[\u001b[32mString\u001b[39m] = \u001b[33mList\u001b[39m(\u001b[32m\"Córdoba\"\u001b[39m, \u001b[32m\"Sevilla\"\u001b[39m, \u001b[32m\"Huelva\"\u001b[39m, \u001b[32m\"Cádiz\"\u001b[39m, \u001b[32m\"Málaga\"\u001b[39m, \u001b[32m\"Granada\"\u001b[39m, \u001b[32m\"Almería\"\u001b[39m)\r\n",
       "\u001b[36mres24_2\u001b[39m: \u001b[32mList\u001b[39m[\u001b[32mString\u001b[39m] = \u001b[33mList\u001b[39m(\u001b[32m\"Jaén\"\u001b[39m, \u001b[32m\"Córdoba\"\u001b[39m, \u001b[32m\"Sevilla\"\u001b[39m, \u001b[32m\"Huelva\"\u001b[39m, \u001b[32m\"Cádiz\"\u001b[39m, \u001b[32m\"Málaga\"\u001b[39m, \u001b[32m\"Granada\"\u001b[39m)\r\n",
       "\u001b[36mres24_3\u001b[39m: \u001b[32mString\u001b[39m = \u001b[32m\"Almería\"\u001b[39m\r\n",
       "\u001b[36mres24_4\u001b[39m: \u001b[32mString\u001b[39m = \u001b[32m\"Sevilla\"\u001b[39m"
      ]
     },
     "execution_count": 25,
     "metadata": {},
     "output_type": "execute_result"
    }
   ],
   "source": [
    "provincias.head     // Primer elemento de la izquierda\n",
    "provincias.tail     // Todos los elementos menos el primero de la izquierda\n",
    "provincias.init     // Todos los elementos menos el último de la derecha\n",
    "provincias.last     // Último elemento de la derecha\n",
    "\n",
    "provincias.apply(2) // Selecciona el elemento de la posición indicada"
   ]
  },
  {
   "cell_type": "markdown",
   "metadata": {},
   "source": [
    "6) Métodos para ejecutar operaciones basadas en los elementos de la lista:"
   ]
  },
  {
   "cell_type": "code",
   "execution_count": 75,
   "metadata": {},
   "outputs": [
    {
     "name": "stdout",
     "output_type": "stream",
     "text": [
      "Jaén\n",
      "Córdoba\n",
      "Sevilla\n",
      "Huelva\n",
      "Cádiz\n",
      "Málaga\n",
      "Granada\n",
      "Almería\n"
     ]
    },
    {
     "data": {
      "text/plain": [
       "\u001b[36mres74_0\u001b[39m: \u001b[32mList\u001b[39m[(\u001b[32mString\u001b[39m, \u001b[32mInt\u001b[39m)] = \u001b[33mList\u001b[39m(\n",
       "  (\u001b[32m\"Jaén\"\u001b[39m, \u001b[32m0\u001b[39m),\n",
       "  (\u001b[32m\"Córdoba\"\u001b[39m, \u001b[32m1\u001b[39m),\n",
       "  (\u001b[32m\"Sevilla\"\u001b[39m, \u001b[32m2\u001b[39m),\n",
       "  (\u001b[32m\"Huelva\"\u001b[39m, \u001b[32m3\u001b[39m),\n",
       "  (\u001b[32m\"Cádiz\"\u001b[39m, \u001b[32m4\u001b[39m),\n",
       "  (\u001b[32m\"Málaga\"\u001b[39m, \u001b[32m5\u001b[39m),\n",
       "  (\u001b[32m\"Granada\"\u001b[39m, \u001b[32m6\u001b[39m),\n",
       "  (\u001b[32m\"Almería\"\u001b[39m, \u001b[32m7\u001b[39m)\n",
       ")\r\n",
       "\u001b[36mres74_1\u001b[39m: \u001b[32mList\u001b[39m[(\u001b[32mString\u001b[39m, \u001b[32mInt\u001b[39m)] = \u001b[33mList\u001b[39m(\n",
       "  (\u001b[32m\"Jaén\"\u001b[39m, \u001b[32m0\u001b[39m),\n",
       "  (\u001b[32m\"Córdoba\"\u001b[39m, \u001b[32m1\u001b[39m),\n",
       "  (\u001b[32m\"Sevilla\"\u001b[39m, \u001b[32m2\u001b[39m),\n",
       "  (\u001b[32m\"Huelva\"\u001b[39m, \u001b[32m3\u001b[39m),\n",
       "  (\u001b[32m\"Cádiz\"\u001b[39m, \u001b[32m4\u001b[39m),\n",
       "  (\u001b[32m\"Málaga\"\u001b[39m, \u001b[32m5\u001b[39m),\n",
       "  (\u001b[32m\"Granada\"\u001b[39m, \u001b[32m6\u001b[39m),\n",
       "  (\u001b[32m\"Almería\"\u001b[39m, \u001b[32m7\u001b[39m)\n",
       ")\r\n",
       "\u001b[36mzipped\u001b[39m: \u001b[32mList\u001b[39m[(\u001b[32mString\u001b[39m, \u001b[32mInt\u001b[39m)] = \u001b[33mList\u001b[39m(\n",
       "  (\u001b[32m\"Jaén\"\u001b[39m, \u001b[32m0\u001b[39m),\n",
       "  (\u001b[32m\"Córdoba\"\u001b[39m, \u001b[32m1\u001b[39m),\n",
       "  (\u001b[32m\"Sevilla\"\u001b[39m, \u001b[32m2\u001b[39m),\n",
       "  (\u001b[32m\"Huelva\"\u001b[39m, \u001b[32m3\u001b[39m),\n",
       "  (\u001b[32m\"Cádiz\"\u001b[39m, \u001b[32m4\u001b[39m),\n",
       "  (\u001b[32m\"Málaga\"\u001b[39m, \u001b[32m5\u001b[39m),\n",
       "  (\u001b[32m\"Granada\"\u001b[39m, \u001b[32m6\u001b[39m),\n",
       "  (\u001b[32m\"Almería\"\u001b[39m, \u001b[32m7\u001b[39m)\n",
       ")\r\n",
       "\u001b[36mres74_3\u001b[39m: (\u001b[32mList\u001b[39m[\u001b[32mString\u001b[39m], \u001b[32mList\u001b[39m[\u001b[32mInt\u001b[39m]) = (\n",
       "  \u001b[33mList\u001b[39m(\n",
       "    \u001b[32m\"Jaén\"\u001b[39m,\n",
       "    \u001b[32m\"Córdoba\"\u001b[39m,\n",
       "    \u001b[32m\"Sevilla\"\u001b[39m,\n",
       "    \u001b[32m\"Huelva\"\u001b[39m,\n",
       "    \u001b[32m\"Cádiz\"\u001b[39m,\n",
       "    \u001b[32m\"Málaga\"\u001b[39m,\n",
       "    \u001b[32m\"Granada\"\u001b[39m,\n",
       "    \u001b[32m\"Almería\"\u001b[39m\n",
       "  ),\n",
       "  \u001b[33mList\u001b[39m(\u001b[32m0\u001b[39m, \u001b[32m1\u001b[39m, \u001b[32m2\u001b[39m, \u001b[32m3\u001b[39m, \u001b[32m4\u001b[39m, \u001b[32m5\u001b[39m, \u001b[32m6\u001b[39m, \u001b[32m7\u001b[39m)\n",
       "\u001b[33m...\u001b[39m\r\n",
       "\u001b[36mmult\u001b[39m: \u001b[32mList\u001b[39m[\u001b[32mList\u001b[39m[\u001b[32mString\u001b[39m]] = \u001b[33mList\u001b[39m(\n",
       "  \u001b[33mList\u001b[39m(\u001b[32m\"Jaén\"\u001b[39m, \u001b[32m\"Córdoba\"\u001b[39m),\n",
       "  \u001b[33mList\u001b[39m(\u001b[32m\"Sevilla\"\u001b[39m, \u001b[32m\"Huelva\"\u001b[39m, \u001b[32m\"Cádiz\"\u001b[39m),\n",
       "  \u001b[33mList\u001b[39m(\u001b[32m\"Málaga\"\u001b[39m, \u001b[32m\"Granada\"\u001b[39m, \u001b[32m\"Almería\"\u001b[39m)\n",
       ")\r\n",
       "\u001b[36mres74_5\u001b[39m: \u001b[32mList\u001b[39m[\u001b[32mString\u001b[39m] = \u001b[33mList\u001b[39m(\n",
       "  \u001b[32m\"Jaén\"\u001b[39m,\n",
       "  \u001b[32m\"Córdoba\"\u001b[39m,\n",
       "  \u001b[32m\"Sevilla\"\u001b[39m,\n",
       "  \u001b[32m\"Huelva\"\u001b[39m,\n",
       "  \u001b[32m\"Cádiz\"\u001b[39m,\n",
       "  \u001b[32m\"Málaga\"\u001b[39m,\n",
       "  \u001b[32m\"Granada\"\u001b[39m,\n",
       "  \u001b[32m\"Almería\"\u001b[39m\n",
       ")\r\n",
       "\u001b[36mres74_7\u001b[39m: \u001b[32mList\u001b[39m[\u001b[32mString\u001b[39m] = \u001b[33mList\u001b[39m(\n",
       "  \u001b[32m\"jaén\"\u001b[39m,\n",
       "  \u001b[32m\"córdoba\"\u001b[39m,\n",
       "  \u001b[32m\"sevilla\"\u001b[39m,\n",
       "  \u001b[32m\"huelva\"\u001b[39m,\n",
       "  \u001b[32m\"cádiz\"\u001b[39m,\n",
       "  \u001b[32m\"málaga\"\u001b[39m,\n",
       "  \u001b[32m\"granada\"\u001b[39m,\n",
       "  \u001b[32m\"almería\"\u001b[39m\n",
       ")\r\n",
       "\u001b[36mres74_8\u001b[39m: \u001b[32mList\u001b[39m[\u001b[32mList\u001b[39m[\u001b[32mChar\u001b[39m]] = \u001b[33mList\u001b[39m(\n",
       "  \u001b[33mList\u001b[39m(\u001b[32m'J'\u001b[39m, \u001b[32m'a'\u001b[39m, \u001b[32m'é'\u001b[39m, \u001b[32m'n'\u001b[39m),\n",
       "  \u001b[33mList\u001b[39m(\u001b[32m'C'\u001b[39m, \u001b[32m'ó'\u001b[39m, \u001b[32m'r'\u001b[39m, \u001b[32m'd'\u001b[39m, \u001b[32m'o'\u001b[39m, \u001b[32m'b'\u001b[39m, \u001b[32m'a'\u001b[39m),\n",
       "  \u001b[33mList\u001b[39m(\u001b[32m'S'\u001b[39m, \u001b[32m'e'\u001b[39m, \u001b[32m'v'\u001b[39m, \u001b[32m'i'\u001b[39m, \u001b[32m'l'\u001b[39m, \u001b[32m'l'\u001b[39m, \u001b[32m'a'\u001b[39m),\n",
       "  \u001b[33mList\u001b[39m(\u001b[32m'H'\u001b[39m, \u001b[32m'u'\u001b[39m, \u001b[32m'e'\u001b[39m, \u001b[32m'l'\u001b[39m, \u001b[32m'v'\u001b[39m, \u001b[32m'a'\u001b[39m),\n",
       "  \u001b[33mList\u001b[39m(\u001b[32m'C'\u001b[39m, \u001b[32m'á'\u001b[39m, \u001b[32m'd'\u001b[39m, \u001b[32m'i'\u001b[39m, \u001b[32m'z'\u001b[39m),\n",
       "  \u001b[33mList\u001b[39m(\u001b[32m'M'\u001b[39m, \u001b[32m'á'\u001b[39m, \u001b[32m'l'\u001b[39m, \u001b[32m'a'\u001b[39m, \u001b[32m'g'\u001b[39m, \u001b[32m'a'\u001b[39m),\n",
       "  \u001b[33mList\u001b[39m(\u001b[32m'G'\u001b[39m, \u001b[32m'r'\u001b[39m, \u001b[32m'a'\u001b[39m, \u001b[32m'n'\u001b[39m, \u001b[32m'a'\u001b[39m, \u001b[32m'd'\u001b[39m, \u001b[32m'a'\u001b[39m),\n",
       "  \u001b[33mList\u001b[39m(\u001b[32m'A'\u001b[39m, \u001b[32m'l'\u001b[39m, \u001b[32m'm'\u001b[39m, \u001b[32m'e'\u001b[39m, \u001b[32m'r'\u001b[39m, \u001b[32m'í'\u001b[39m, \u001b[32m'a'\u001b[39m)\n",
       ")\r\n",
       "\u001b[36mres74_9\u001b[39m: \u001b[32mList\u001b[39m[\u001b[32mChar\u001b[39m] = \u001b[33mList\u001b[39m(\n",
       "  \u001b[32m'J'\u001b[39m,\n",
       "  \u001b[32m'a'\u001b[39m,\n",
       "  \u001b[32m'é'\u001b[39m,\n",
       "  \u001b[32m'n'\u001b[39m,\n",
       "  \u001b[32m'C'\u001b[39m,\n",
       "  \u001b[32m'ó'\u001b[39m,\n",
       "  \u001b[32m'r'\u001b[39m,\n",
       "  \u001b[32m'd'\u001b[39m,\n",
       "  \u001b[32m'o'\u001b[39m,\n",
       "  \u001b[32m'b'\u001b[39m,\n",
       "  \u001b[32m'a'\u001b[39m,\n",
       "\u001b[33m...\u001b[39m"
      ]
     },
     "execution_count": 75,
     "metadata": {},
     "output_type": "execute_result"
    }
   ],
   "source": [
    "provincias.zip(provincias.indices)    // Mezclar dos listas creando una lista de pares con un elemento de cada lista\n",
    "provincias.zipWithIndex               // Mezclar una lista con sus indices (equivale al ejemplo anterior)\n",
    "\n",
    "val zipped = provincias.zip(provincias.indices)\n",
    "zipped.unzip                          // Separa una lista de pares en un par de listas\n",
    "\n",
    "val mult = List(List(\"Jaén\", \"Córdoba\"), List(\"Sevilla\", \"Huelva\", \"Cádiz\"), List(\"Málaga\", \"Granada\", \"Almería\"))\n",
    "mult.flatten                          // Aplana una lista de listas concatenando los elementos de todas\n",
    "\n",
    "provincias.foreach(p => println(p))   // Ejecutar la operación para todos los elementos (devuelve Unit, es decir, nada)\n",
    "provincias.map(p => p.toLowerCase())  // Generar una lista con el resultado de aplicar la operación a todos los elementos\n",
    "\n",
    "provincias.map(p => p.toList)         // Devueve una lista con las listas generadas por p.toList para cada elemento\n",
    "provincias.flatMap(p => p.toList)     // Devuelve la concatenación de las listas generadas por p.toList para cada elemento"
   ]
  },
  {
   "cell_type": "markdown",
   "metadata": {},
   "source": [
    "7) Métodos para convertir los datos entre los tipos `List` y `Array`:"
   ]
  },
  {
   "cell_type": "code",
   "execution_count": 37,
   "metadata": {},
   "outputs": [
    {
     "data": {
      "text/plain": [
       "\u001b[36mprovinciasArr\u001b[39m: \u001b[32mArray\u001b[39m[\u001b[32mString\u001b[39m] = \u001b[33mArray\u001b[39m(\n",
       "  \u001b[32m\"Jaén\"\u001b[39m,\n",
       "  \u001b[32m\"Córdoba\"\u001b[39m,\n",
       "  \u001b[32m\"Sevilla\"\u001b[39m,\n",
       "  \u001b[32m\"Huelva\"\u001b[39m,\n",
       "  \u001b[32m\"Cádiz\"\u001b[39m,\n",
       "  \u001b[32m\"Málaga\"\u001b[39m,\n",
       "  \u001b[32m\"Granada\"\u001b[39m,\n",
       "  \u001b[32m\"Almería\"\u001b[39m\n",
       ")\r\n",
       "\u001b[36mprovinciasLst\u001b[39m: \u001b[32mList\u001b[39m[\u001b[32mString\u001b[39m] = \u001b[33mList\u001b[39m(\n",
       "  \u001b[32m\"Jaén\"\u001b[39m,\n",
       "  \u001b[32m\"Córdoba\"\u001b[39m,\n",
       "  \u001b[32m\"Sevilla\"\u001b[39m,\n",
       "  \u001b[32m\"Huelva\"\u001b[39m,\n",
       "  \u001b[32m\"Cádiz\"\u001b[39m,\n",
       "  \u001b[32m\"Málaga\"\u001b[39m,\n",
       "  \u001b[32m\"Granada\"\u001b[39m,\n",
       "  \u001b[32m\"Almería\"\u001b[39m\n",
       ")\r\n",
       "\u001b[36mprovinciasArr2\u001b[39m: \u001b[32mArray\u001b[39m[\u001b[32mString\u001b[39m] = \u001b[33mArray\u001b[39m(\n",
       "  \u001b[32m\"Jaén\"\u001b[39m,\n",
       "  \u001b[32m\"Córdoba\"\u001b[39m,\n",
       "  \u001b[32m\"Sevilla\"\u001b[39m,\n",
       "  \u001b[32m\"Huelva\"\u001b[39m,\n",
       "  \u001b[32m\"Cádiz\"\u001b[39m,\n",
       "  \u001b[32m\"Málaga\"\u001b[39m,\n",
       "  \u001b[32m\"Granada\"\u001b[39m,\n",
       "  \u001b[32m\"Almería\"\u001b[39m\n",
       ")"
      ]
     },
     "execution_count": 37,
     "metadata": {},
     "output_type": "execute_result"
    }
   ],
   "source": [
    "val provinciasArr = provincias.toArray\n",
    "val provinciasLst = provinciasArr.toList\n",
    "\n",
    "val provinciasArr2 = new Array[String](8)\n",
    "provincias.copyToArray(provinciasArr2, 0)  // El tamaño del array debe ser suficiente para que quepan todos los elementos"
   ]
  },
  {
   "cell_type": "markdown",
   "metadata": {},
   "source": [
    "8) Por último, métodos para mostrar las listas como `String`:"
   ]
  },
  {
   "cell_type": "code",
   "execution_count": 33,
   "metadata": {},
   "outputs": [
    {
     "data": {
      "text/plain": [
       "\u001b[36mres32_0\u001b[39m: \u001b[32mString\u001b[39m = \u001b[32m\"List(Jaén, Córdoba, Sevilla, Huelva, Cádiz, Málaga, Granada, Almería)\"\u001b[39m\r\n",
       "\u001b[36mres32_1\u001b[39m: \u001b[32mString\u001b[39m = \u001b[32m\"[Jaén, Córdoba, Sevilla, Huelva, Cádiz, Málaga, Granada, Almería]\"\u001b[39m"
      ]
     },
     "execution_count": 33,
     "metadata": {},
     "output_type": "execute_result"
    }
   ],
   "source": [
    "provincias.toString                  // Convertir la lista en una cadena\n",
    "provincias.mkString(\"[\", \", \", \"]\")  // Convertir la lista en una cadena, especificando prefijo, separador y sufijo"
   ]
  },
  {
   "cell_type": "markdown",
   "metadata": {},
   "source": [
    "<table align=\"left\" style=\"border-collapse: collapse; border: none !important; width: 100%;\">\n",
    "    <tr style=\"border:none !important;\">\n",
    "        <td style=\"border:none !important; width: 60px;\">\n",
    "<img src=\"icons/notepad.png\" align=\"left\" width=\"50px\"> \n",
    "        </td>\n",
    "        <td style=\"border:none !important;text-align:left;\">\n",
    "            <ul>\n",
    "                <li>El método `length` es bastante costoso, por lo que *NO* es buena idea sustituir `xs.isEmpty` por `xs.length == 0`</li>\n",
    "                <li>Los métodos `head` y `tail` se ejecutan en un tiempo constante, mientras que `init` y `last` dependen de la longitud de la lista</li>\n",
    "                <li>Si vamos a estar accediendo a los últimos elementos de la lista puede que sea más rápido hacer `reverse` y acceder a los primeros</li>\n",
    "                <li>Si hacemos `zip` con dos listas de distinto tamaño se ignorarán los que 'sobran'</li>\n",
    "                <li>Algunas equivalencias interesantes:</li>\n",
    "                <ul>\n",
    "                    <li>`xs.reverse.reverse equals xs`</li>\n",
    "                    <li>`xs.reverse.init equals xs.tail.reverse`</li>\n",
    "                    <li>`xs.reverse.tail equals xs.init.reverse`</li>\n",
    "                    <li>`xs.reverse.head equals xs.last`</li>\n",
    "                    <li>`xs.reverse.last equals xs.head`</li>\n",
    "                </ul>\n",
    "            </ul>\n",
    "        </td>\n",
    "    </tr>\n",
    "</table>"
   ]
  },
  {
   "cell_type": "markdown",
   "metadata": {},
   "source": [
    "<a name=\"subsubseccion-Operaciones de plegado\"></a>\n",
    "### Operaciones de 'plegado'\n",
    "\n",
    "Entre las operaciones que podemos realizar con las listas, hay dos que podemos considerar \"especiales\" o diferentes al resto, consideradas de \"plegado\" por la izquierda (`/:`) o por la derecha (`:\\`). Permiten procesar los elementos de dos en dos aplicando una función que se pasa como parámetro. Su sintaxis incluye la lista a procesar (`xs`), la operación binaria a realizar (`op`) y el caso base de la operación (`z`) que sirve como operando que emparejar con el primer elemento si es plegado por la izquierda o el último si es por la derecha:\n",
    "\n",
    "* `(z /: List(abc))(op)` equivale a `op(op(op(z, a), b), c)`\n",
    "* `(List(abc) :\\ z)(op)` equivale a `op(a, op(b, op(c, z)))`\n",
    "\n",
    "\n",
    "<img src=\"images/plegado.png\" width=400px/>"
   ]
  },
  {
   "cell_type": "code",
   "execution_count": 64,
   "metadata": {},
   "outputs": [
    {
     "data": {
      "text/plain": [
       "\u001b[36msumBinInts\u001b[39m: (\u001b[32mInt\u001b[39m, \u001b[32mInt\u001b[39m) => \u001b[32mInt\u001b[39m = <function2>\r\n",
       "defined \u001b[32mfunction\u001b[39m \u001b[36msumList\u001b[39m\r\n",
       "\u001b[36mnums\u001b[39m: \u001b[32mList\u001b[39m[\u001b[32mInt\u001b[39m] = \u001b[33mList\u001b[39m(\u001b[32m1\u001b[39m, \u001b[32m2\u001b[39m, \u001b[32m3\u001b[39m)\r\n",
       "\u001b[36mres63_3\u001b[39m: \u001b[32mInt\u001b[39m = \u001b[32m6\u001b[39m\r\n",
       "\u001b[36mres63_4\u001b[39m: \u001b[32mInt\u001b[39m = \u001b[32m6\u001b[39m\r\n",
       "\u001b[36mres63_5\u001b[39m: \u001b[32mInt\u001b[39m = \u001b[32m6\u001b[39m"
      ]
     },
     "execution_count": 64,
     "metadata": {},
     "output_type": "execute_result"
    }
   ],
   "source": [
    "val sumBinInts = ((x: Int, y: Int) => x + y)\n",
    "def sumList(xs: List[Int]): Int = (0 /: xs)(sumBinInts)\n",
    "val nums = List(1, 2, 3)\n",
    "sum(nums)\n",
    "(0 /: nums)((x: Int, y: Int) => x + y)\n",
    "nums.foldLeft(0)(sumBinInts)"
   ]
  },
  {
   "cell_type": "markdown",
   "metadata": {},
   "source": [
    "<table align=\"left\" style=\"border-collapse: collapse; border: none !important; width: 100%;\">\n",
    "    <tr style=\"border:none !important;\">\n",
    "        <td style=\"border:none !important; width: 60px;\">\n",
    "<img src=\"icons/notepad.png\" align=\"left\" width=\"50px\"> \n",
    "        </td>\n",
    "        <td style=\"border:none !important;text-align:left;\">\n",
    "            <ul>\n",
    "                <li>Podemos usar los métodos equivalentes `foldLeft` y `foldRight` de `List` en lugar de `/:` y `:\\` respectivamente.</li>\n",
    "            </ul>\n",
    "        </td>\n",
    "    </tr>\n",
    "</table>"
   ]
  },
  {
   "cell_type": "markdown",
   "metadata": {},
   "source": [
    "<a name=\"subseccion-Tuplas\"></a>\n",
    "## Tuplas\n",
    "\n",
    "¿Qué ocurre si queremos agrupar elementos de diferentes tipos? A diferencia de las listas, las tuplas permiten almacenar una secuencia heterogénea de objetos, y al igual que las listas, son inmutables.\n",
    "\n",
    "El acceso a sus elementos se hace mediante un punto, el símbolo '`_`' y el índice, comenzando por el `1`."
   ]
  },
  {
   "cell_type": "code",
   "execution_count": null,
   "metadata": {
    "collapsed": true
   },
   "outputs": [],
   "source": [
    "val par = (\"Diámetro de la Tierra (Km)\", 12742)\n",
    "par._1\n",
    "par._2"
   ]
  },
  {
   "cell_type": "markdown",
   "metadata": {},
   "source": [
    "<table align=\"left\" style=\"border-collapse: collapse; border: none !important; width: 100%;\">\n",
    "    <tr style=\"border:none !important;\">\n",
    "        <td style=\"border:none !important; width: 60px;\">\n",
    "<img src=\"icons/notepad.png\" align=\"left\" width=\"50px\"> \n",
    "        </td>\n",
    "        <td style=\"border:none !important;text-align:left;\">\n",
    "            <ul>\n",
    "                <li>El tipo de la tupla depende del número y tipo de sus elementos. La tupla `par` del ejemplo es de tipo `Tuple2[String, Int]`</li>\n",
    "                <li>En teoría podemos definir tuplas de cualquier tamaño, aunque en la práctica está limitado a 22 elementos (`Tuple22`)</li>\n",
    "                <li>No podemos acceder a los elementos mediante `par(0)`, como haríamos con una `List`, ya que como vimos antes se ejecutaría el método `apply`, que debe devolver siempre el mismo tipo, cuando en una tupla cada elemento puede tener distinto tipo</li>\n",
    "            </ul>\n",
    "        </td>\n",
    "    </tr>\n",
    "</table>"
   ]
  },
  {
   "cell_type": "markdown",
   "metadata": {},
   "source": [
    "<a name=\"subseccion-Utilizando `Sets` y `Maps`\"></a>\n",
    "## Utilizando `Sets` y `Maps`\n",
    "\n",
    "Las últimas estructuras de datos que veremos en este capítulo son los conjuntos (`Set`) y los mapas (`Map`). En este caso Scala proporciona versiones mutables e inmutables de cada uno de ellos, prevaleciendo por defecto las inmutables, por lo que deberemos importar de forma explícita la versión mutable si es la que queremos utilizar. La siguiente imagen muestra la jerarquía de clases y `traits`, un concepto parecido al de `interface` en Java que explicaremos más adelante.\n",
    "\n",
    "<img src=\"images/SetMap.png\" width=800px/>\n",
    "\n",
    "Ambas versiones (`mutable` e `immutable`) se comportan de forma parecida, pero no igual. Por ejemplo, tanto `scala.collection.mutable.Set` como `scala.collection.immutable.Set` ofrecen el método `+` que crea una nueva 'copia' del `Set` al que se le añade el elemento especificado, pero solo la versión `mutable` ofrece el método `+=` para añadir el elemento nuevo al propio `Set` como es lógico.\n",
    "\n",
    "Algunas operaciones básicas con `Set` son:\n",
    "* `+`: Para agregar un elemento\n",
    "* `-`: Para eliminar un elemento\n",
    "* `++`: Para agregar varios elementos (por ejemplo `miSet ++ List(1, 2, 3)`)\n",
    "* `--`: Para eliminar varios elementos\n",
    "* `size`: Devuelve el tamaño del `Set`\n",
    "* `contains`: Devuelve `true` si el elemento que se le pasa como parámetro está en el `Set`\n",
    "* `clear`: Para borrar todos los elementos del `Set`\n",
    "* `intersect`, `union` y `diff`: Para realizar operaciones sobre conjuntos"
   ]
  },
  {
   "cell_type": "code",
   "execution_count": 40,
   "metadata": {},
   "outputs": [
    {
     "data": {
      "text/plain": [
       "\u001b[32mimport \u001b[39m\u001b[36mscala.collection.mutable    // Este import permite usar el 'Set' por defecto (immutable) y también 'mutable.Set'\r\n",
       "\r\n",
       "\u001b[39m\r\n",
       "\u001b[36mmiSet\u001b[39m: \u001b[32mmutable\u001b[39m.\u001b[32mSet\u001b[39m[\u001b[32mInt\u001b[39m] = \u001b[33mSet\u001b[39m()\r\n",
       "\u001b[36mres39_2\u001b[39m: \u001b[32mmutable\u001b[39m.\u001b[32mSet\u001b[39m[\u001b[32mInt\u001b[39m] = \u001b[33mSet\u001b[39m()\r\n",
       "\u001b[36mres39_3\u001b[39m: \u001b[32mmutable\u001b[39m.\u001b[32mSet\u001b[39m[\u001b[32mInt\u001b[39m] = \u001b[33mSet\u001b[39m()\r\n",
       "\u001b[36mres39_4\u001b[39m: \u001b[32mmutable\u001b[39m.\u001b[32mSet\u001b[39m[\u001b[32mInt\u001b[39m] = \u001b[33mSet\u001b[39m()\r\n",
       "\u001b[36mres39_5\u001b[39m: \u001b[32mmutable\u001b[39m.\u001b[32mSet\u001b[39m[\u001b[32mInt\u001b[39m] = \u001b[33mSet\u001b[39m()\r\n",
       "\u001b[36mres39_6\u001b[39m: \u001b[32mInt\u001b[39m = \u001b[32m2\u001b[39m\r\n",
       "\u001b[36mres39_7\u001b[39m: \u001b[32mBoolean\u001b[39m = \u001b[32mtrue\u001b[39m\r\n",
       "\u001b[36mres39_9\u001b[39m: \u001b[32mInt\u001b[39m = \u001b[32m0\u001b[39m\r\n",
       "\u001b[36mres39_10\u001b[39m: \u001b[32mSet\u001b[39m[\u001b[32mInt\u001b[39m] = \u001b[33mSet\u001b[39m(\u001b[32m4\u001b[39m, \u001b[32m5\u001b[39m)\r\n",
       "\u001b[36mres39_11\u001b[39m: \u001b[32mSet\u001b[39m[\u001b[32mInt\u001b[39m] = \u001b[33mSet\u001b[39m(\u001b[32m3\u001b[39m, \u001b[32m4\u001b[39m, \u001b[32m5\u001b[39m, \u001b[32m6\u001b[39m)\r\n",
       "\u001b[36mres39_12\u001b[39m: \u001b[32mSet\u001b[39m[\u001b[32mInt\u001b[39m] = \u001b[33mSet\u001b[39m(\u001b[32m3\u001b[39m)"
      ]
     },
     "execution_count": 40,
     "metadata": {},
     "output_type": "execute_result"
    }
   ],
   "source": [
    "import scala.collection.mutable    // Este import permite usar el 'Set' por defecto (immutable) y también 'mutable.Set'\n",
    "\n",
    "val miSet = mutable.Set[Int]()\n",
    "miSet += 2\n",
    "miSet -= 2\n",
    "miSet ++= List(1, 2, 3, 4)\n",
    "miSet --= List(2, 3)\n",
    "miSet.size\n",
    "miSet.contains(1)\n",
    "miSet.clear; miSet.size\n",
    "Set(3, 4, 5) intersect Set(4, 5, 6)\n",
    "Set(3, 4, 5) union Set(4, 5, 6)\n",
    "Set(3, 4, 5) diff Set(4, 5, 6)"
   ]
  },
  {
   "cell_type": "markdown",
   "metadata": {},
   "source": [
    "Los mapas son secuencias de tuplas (clave, valor), las cuales se pueden crear con el operador `->`.\n",
    "\n",
    "Algunas operaciones básicas con `Map` son:\n",
    "* `+`: Para agregar un par clave `->` valor\n",
    "* `-`: Para eliminar un par indicando la clave\n",
    "* `++`: Para agregar varios pares (por ejemplo `miMap ++ List(1 -> \"uno\", 2 -> \"dos\")`)\n",
    "* `--`: Para eliminar varios pares\n",
    "* `size`: Devuelve el tamaño del `Map`\n",
    "* `contains`: Devuelve `true` si la clave que se le pasa como parámetro está en el `Map`\n",
    "* `keys`: Devuelve un iterador sobre las claves\n",
    "* `keySet`: Devuelve un `Set` con todas las claves\n",
    "* `values`: Devuelve un iterador sobre los valores\n",
    "* `isEmpty`: Devuelve `true` si el `Map` está vacío\n",
    "\n",
    "Y por supuesto podemos acceder a cualquier valor almacenado en el `Map` pasando su clave como parámetro."
   ]
  },
  {
   "cell_type": "code",
   "execution_count": 48,
   "metadata": {},
   "outputs": [
    {
     "name": "stdout",
     "output_type": "stream",
     "text": [
      "Japón\n",
      "España\n",
      "Tokyo\n",
      "Madrid\n"
     ]
    },
    {
     "data": {
      "text/plain": [
       "\u001b[32mimport \u001b[39m\u001b[36mscala.collection.mutable    // Este import permite usar el 'Set' por defecto (immutable) y también 'mutable.Set'\r\n",
       "\r\n",
       "\u001b[39m\r\n",
       "\u001b[36mcapitales\u001b[39m: \u001b[32mmutable\u001b[39m.\u001b[32mMap\u001b[39m[\u001b[32mString\u001b[39m, \u001b[32mString\u001b[39m] = \u001b[33mMap\u001b[39m(\u001b[32m\"Japón\"\u001b[39m -> \u001b[32m\"Tokyo\"\u001b[39m, \u001b[32m\"España\"\u001b[39m -> \u001b[32m\"Madrid\"\u001b[39m)\r\n",
       "\u001b[36mres47_2\u001b[39m: \u001b[32mmutable\u001b[39m.\u001b[32mMap\u001b[39m[\u001b[32mString\u001b[39m, \u001b[32mString\u001b[39m] = \u001b[33mMap\u001b[39m(\u001b[32m\"Japón\"\u001b[39m -> \u001b[32m\"Tokyo\"\u001b[39m, \u001b[32m\"España\"\u001b[39m -> \u001b[32m\"Madrid\"\u001b[39m)\r\n",
       "\u001b[36mres47_3\u001b[39m: \u001b[32mmutable\u001b[39m.\u001b[32mMap\u001b[39m[\u001b[32mString\u001b[39m, \u001b[32mString\u001b[39m] = \u001b[33mMap\u001b[39m(\u001b[32m\"Japón\"\u001b[39m -> \u001b[32m\"Tokyo\"\u001b[39m, \u001b[32m\"España\"\u001b[39m -> \u001b[32m\"Madrid\"\u001b[39m)\r\n",
       "\u001b[36mres47_4\u001b[39m: \u001b[32mmutable\u001b[39m.\u001b[32mMap\u001b[39m[\u001b[32mString\u001b[39m, \u001b[32mString\u001b[39m] = \u001b[33mMap\u001b[39m(\u001b[32m\"Japón\"\u001b[39m -> \u001b[32m\"Tokyo\"\u001b[39m, \u001b[32m\"España\"\u001b[39m -> \u001b[32m\"Madrid\"\u001b[39m)\r\n",
       "\u001b[36mres47_5\u001b[39m: \u001b[32mmutable\u001b[39m.\u001b[32mMap\u001b[39m[\u001b[32mString\u001b[39m, \u001b[32mString\u001b[39m] = \u001b[33mMap\u001b[39m(\u001b[32m\"Japón\"\u001b[39m -> \u001b[32m\"Tokyo\"\u001b[39m, \u001b[32m\"España\"\u001b[39m -> \u001b[32m\"Madrid\"\u001b[39m)\r\n",
       "\u001b[36mres47_6\u001b[39m: \u001b[32mInt\u001b[39m = \u001b[32m2\u001b[39m\r\n",
       "\u001b[36mres47_7\u001b[39m: \u001b[32mBoolean\u001b[39m = \u001b[32mfalse\u001b[39m\r\n",
       "\u001b[36mres47_8\u001b[39m: \u001b[32mBoolean\u001b[39m = \u001b[32mtrue\u001b[39m\r\n",
       "\u001b[36mres47_10\u001b[39m: \u001b[32mcollection\u001b[39m.\u001b[32mSet\u001b[39m[\u001b[32mString\u001b[39m] = \u001b[33mSet\u001b[39m(\u001b[32m\"Japón\"\u001b[39m, \u001b[32m\"España\"\u001b[39m)\r\n",
       "\u001b[36mres47_12\u001b[39m: \u001b[32mBoolean\u001b[39m = \u001b[32mfalse\u001b[39m"
      ]
     },
     "execution_count": 48,
     "metadata": {},
     "output_type": "execute_result"
    }
   ],
   "source": [
    "import scala.collection.mutable    // Este import permite usar el 'Set' por defecto (immutable) y también 'mutable.Set'\n",
    "\n",
    "val capitales = mutable.Map(\"España\" -> \"Madrid\", \"Francia\" -> \"Paris\")\n",
    "capitales += \"Alemania\" -> \"Berlin\"\n",
    "capitales -= \"Francia\"\n",
    "capitales ++= List(\"Japón\" -> \"Tokyo\", \"Portugal\" -> \"Lisboa\")\n",
    "capitales --= List(\"Portugal\", \"Alemania\")\n",
    "capitales.size\n",
    "capitales.contains(\"Francia\")\n",
    "capitales.contains(\"España\")\n",
    "for (p <- capitales.keys) println(p)\n",
    "capitales.keySet\n",
    "for (c <- capitales.values) println(c)\n",
    "capitales.isEmpty"
   ]
  },
  {
   "cell_type": "markdown",
   "metadata": {},
   "source": [
    "<table align=\"left\" style=\"border-collapse: collapse; border: none !important; width: 100%;\">\n",
    "    <tr style=\"border:none !important;\">\n",
    "        <td style=\"border:none !important; width: 60px;\">\n",
    "<img src=\"icons/notepad.png\" align=\"left\" width=\"50px\"> \n",
    "        </td>\n",
    "        <td style=\"border:none !important;text-align:left;\">\n",
    "            <ul>\n",
    "                <li>Podemos crear tipos concretos de `Set` y `Map`, por ejemplo importando y usando `scala.collection.immutable.HashSet`</li>\n",
    "                <li>Si creamos un `Map` vacío, deberemos indicar el tipo ya que no es posible inferirlo de los valores: `val capitales = Map[String, String]()`</li>\n",
    "                <li>Procura utilizar siempre que puedas las versiones `immutable`, al igual que `val` en lugar de `var` y funciones sin efectos colaterales en lugar de funciones con tales efectos o procedimientos. Todo ello nos acercará más al estilo de programación funcional</li>\n",
    "            </ul>\n",
    "        </td>\n",
    "    </tr>\n",
    "</table>"
   ]
  },
  {
   "cell_type": "markdown",
   "metadata": {},
   "source": [
    "<a name=\"subseccion-Ventajas y desventajas de los objetos inmutables\"></a>\n",
    "## Ventajas y desventajas de los objetos inmutables\n",
    "\n",
    "Como ya sabemos, en la programación funcional se le da mucha importancia a la inmutabilidad, priorizando el uso de objetos inmutables frente a los mutables. En matemáticas por ejemplo, si tenemos dos números racionales y los sumamos, no se modifica ninguno de los anteriores, sino que se crea uno nuevo con el resultado de la operación. De todas formas, no siempre es todo blanco o negro y por eso en lenguajes como Scala se suelen ofrecer alternativas mutables e inmutables para todo tipo de objetos, si bien se favorece y se recomienda el uso de objetos inmutables siempre que sea posible. \n",
    "\n",
    "A la hora de construir nuestras propias clases, también es nuestra responsabilidad decidir si definimos la clase para que se generen objetos inmutables o si por el contrario permitimos que los objetos que se deriven de dicha clase puedan ser modificados tras su creación.\n",
    "\n",
    "Veamos algunas ventajas y desventajas a destacar de este tipo de objetos. \n",
    "\n",
    "Ventajas:\n",
    "* Es más fácil razonar sobre ellos al no tener estados complejos que cambien en el tiempo\n",
    "* Podemos pasar esos objetos con tranquilidad sabiendo que no es necesario hacer copias de seguridad por si nos los modifican\n",
    "* Varios hilos accediendo concurrentemente al objeto nunca podrán corromper su estado ya que no se puede modificar\n",
    "* Se crean 'hashkeys' seguras impidiendo por ejemplo que al modificarse el objeto una vez introducido en un `HashSet`, no sea encontrado después\n",
    "\n",
    "Desventajas:\n",
    "* A veces requieren que se copie todo el objeto con sus dependencias cuando sería posible una pequeña actualización en su lugar"
   ]
  },
  {
   "cell_type": "markdown",
   "metadata": {},
   "source": [
    "<a name=\"subseccion-Clases y objetos\"></a>\n",
    "## Clases y objetos\n",
    "\n",
    "Como lenguaje Orientado a Objetos que es, Scala permite definir clases, campos, métodos y también objetos.\n",
    "\n",
    "En el ejemplo vemos una primera aproximación a la declaración de una clase simple, con un campo `acumulador` y dos métodos `sumar` y `consultar`. El campo se declara con el modificador `private`, para que no se pueda acceder a él desde fuera de la clase."
   ]
  },
  {
   "cell_type": "code",
   "execution_count": 51,
   "metadata": {},
   "outputs": [
    {
     "name": "stdout",
     "output_type": "stream",
     "text": [
      "0\n",
      "5\n"
     ]
    },
    {
     "data": {
      "text/plain": [
       "defined \u001b[32mclass\u001b[39m \u001b[36mmiClase\u001b[39m\r\n",
       "\u001b[36mc\u001b[39m: \u001b[32mwrapper\u001b[39m.\u001b[32mwrapper\u001b[39m.\u001b[32mmiClase\u001b[39m = $sess.cmd50Wrapper$Helper$miClase@185e8d6e"
      ]
     },
     "execution_count": 51,
     "metadata": {},
     "output_type": "execute_result"
    }
   ],
   "source": [
    "class miClase{\n",
    "    private var acumulador = 0\n",
    "    def sumar(x: Int): Unit = {\n",
    "        acumulador += x\n",
    "    }\n",
    "    def consultar(): Int = {\n",
    "        return acumulador\n",
    "    }\n",
    "}\n",
    "\n",
    "val c = new miClase\n",
    "println(c.consultar())\n",
    "c.sumar(5)\n",
    "println(c.consultar())"
   ]
  },
  {
   "cell_type": "markdown",
   "metadata": {},
   "source": [
    "<table align=\"left\" style=\"border-collapse: collapse; border: none !important; width: 100%;\">\n",
    "    <tr style=\"border:none !important;\">\n",
    "        <td style=\"border:none !important; width: 60px;\">\n",
    "<img src=\"icons/notepad.png\" align=\"left\" width=\"50px\"> \n",
    "        </td>\n",
    "        <td style=\"border:none !important;text-align:left;\">\n",
    "            <ul>\n",
    "                <li>Los parámetros de un método son `val`, por lo que en el método `sumar` no podríamos modificar `x`</li>\n",
    "                <li>Los modificadores `private` y `protected` tienen un significado similar al que tienen en Java, con dos diferencias: `private` hace que el miembro no sea visible tampoco en una clase interna y `protected` no permite el acceso desde clases que no sean subclases aunque estén en el mismo paquete</li>\n",
    "                <li>En Scala no existe el modificador `public` como en Java, simplemente si no se especifica lo contrario, los campos o métodos son públicos</li>\n",
    "                <li>En Scala podemos usar `private[this]` para que sea más restrictivo todavía, permitiendo el acceso solo desde el objeto que contiene la definición, pusiendo así ocultar elementos a otros objetos de la misma clase</li>\n",
    "                <li>En Scala, los nombres de clases y constantes suelen ir en mayúsculas, y los nombres de variables, campos y métodos suelen ir en minúsculas, recomendándose el uso del sistema 'camel-case' (p. ej. \"miVariable\") en lugar del símbolo `_` que tiene otros usos en Scala</li>\n",
    "                <li>En Scala nos referimos a una clase interna con `Outer#Inner`, ya que el '`.`' se reserva para los objetos (`o1.Inner` y `o2.Inner` serían 2 tipos diferentes, subtipos del tipo general `Outer#Inner`)</li>\n",
    "            </ul>\n",
    "        </td>\n",
    "    </tr>\n",
    "</table>"
   ]
  },
  {
   "cell_type": "markdown",
   "metadata": {},
   "source": [
    "<table align=\"left\" style=\"border-collapse: collapse; border: none !important; width: 100%;\">\n",
    "    <tr style=\"border:none !important;\">\n",
    "        <td style=\"border:none !important; width: 60px;\">\n",
    "<img src=\"icons/optimizar.png\" align=\"left\" width=\"50px\"> \n",
    "        </td>\n",
    "        <td style=\"border:none !important;text-align:left;\">\n",
    "            <ul>\n",
    "                <li>Siguiendo las pautas comentadas anteriormente, podemos eliminar tipos y llaves en diversos puntos del ejemplo</li>\n",
    "                <li>El método `sumar` es un procedimiento, que se ejecuta por los efectos colaterales que produce, por lo que se puede escribir sin tipo de retorno ni signo '`=`' y con llaves: `def sumar(x: Int) {acumulador += x}`</li>\n",
    "                <li>El `return` no es necesario en `consultar`, ya que los métodos en Scala devuelven el último valor computado (salvo en los procedimientos, en donde el valor se convierte a `Unit` y se pierde)</li>\n",
    "            </ul>\n",
    "        </td>\n",
    "    </tr>\n",
    "</table>"
   ]
  },
  {
   "cell_type": "markdown",
   "metadata": {},
   "source": [
    "<table align=\"left\" style=\"border-collapse: collapse; border: none !important; width: 100%;\">\n",
    "    <tr style=\"border:none !important;\">\n",
    "        <td style=\"border:none !important; width: 60px;\">\n",
    "<img src=\"icons/warning.png\" align=\"left\" width=\"50px\"> \n",
    "        </td>\n",
    "        <td style=\"border:none !important;text-align:left;\">\n",
    "            <ul>\n",
    "                <li>Si al definir un método se nos olvida escribir el '`=`', Scala lo considerará un procedimiento y el tipo de retorno será `Unit`, por lo que no obtendremos lo que deseamos</li>\n",
    "            </ul>\n",
    "        </td>\n",
    "    </tr>\n",
    "</table>"
   ]
  },
  {
   "cell_type": "markdown",
   "metadata": {},
   "source": [
    "Aunque en la programación funcional se fomenta el uso de miembros inmutables, también podemos definir campos mediante `var` con el objetivo de mantener algún estado. En Scala, al definir un campo `var x` se definen automáticamente un 'getter' `x` y un 'setter' `x_=`. De hecho, también podemos definir nosotros el 'getter' o 'setter' sin que haya un `var` asociado. "
   ]
  },
  {
   "cell_type": "code",
   "execution_count": 55,
   "metadata": {},
   "outputs": [
    {
     "data": {
      "text/plain": [
       "defined \u001b[32mclass\u001b[39m \u001b[36mTime\u001b[39m\r\n",
       "\u001b[36mt\u001b[39m: \u001b[32mwrapper\u001b[39m.\u001b[32mwrapper\u001b[39m.\u001b[32mTime\u001b[39m = $sess.cmd54Wrapper$Helper$Time@693424b1\r\n",
       "\u001b[36mres54_2\u001b[39m: \u001b[32mInt\u001b[39m = \u001b[32m12\u001b[39m\r\n",
       "\u001b[36mres54_4\u001b[39m: \u001b[32mInt\u001b[39m = \u001b[32m13\u001b[39m\r\n",
       "defined \u001b[32mclass\u001b[39m \u001b[36mThermometer\u001b[39m"
      ]
     },
     "execution_count": 55,
     "metadata": {},
     "output_type": "execute_result"
    }
   ],
   "source": [
    "class Time {\n",
    "    var hour = 12\n",
    "    var minute = 0\n",
    "}\n",
    "val t = new Time()\n",
    "t.hour\n",
    "t.hour_=(13)\n",
    "t.hour\n",
    "\n",
    "class Thermometer {\n",
    "    var celsius: Float = _\n",
    "    def fahrenheit = celsius * 9 / 5 + 32\n",
    "    def fahrenheit_= (f: Float) {           // Se crea el 'var' fahrenheit\n",
    "        celsius = (f - 32) * 5 / 9\n",
    "    }\n",
    "    override def toString = fahrenheit +\"F/\"+ celsius +\"C\"\n",
    "}"
   ]
  },
  {
   "cell_type": "markdown",
   "metadata": {},
   "source": [
    "<table align=\"left\" style=\"border-collapse: collapse; border: none !important; width: 100%;\">\n",
    "    <tr style=\"border:none !important;\">\n",
    "        <td style=\"border:none !important; width: 60px;\">\n",
    "<img src=\"icons/notepad.png\" align=\"left\" width=\"50px\"> \n",
    "        </td>\n",
    "        <td style=\"border:none !important;text-align:left;\">\n",
    "            <ul>\n",
    "                <li>Inicializamos un `var` con `_` para asignar un cero según el tipo (0, false, null,...)</li>\n",
    "            </ul>\n",
    "        </td>\n",
    "    </tr>\n",
    "</table>"
   ]
  },
  {
   "cell_type": "markdown",
   "metadata": {},
   "source": [
    "A diferencia de Java, Scala no permite definir miembros estáticos (`static`), y a cambio ofrece la posibilidad de definir objetos 'singleton'. La definición es igual que para una clase cambiando `class` por `object`."
   ]
  },
  {
   "cell_type": "code",
   "execution_count": 14,
   "metadata": {},
   "outputs": [
    {
     "name": "stdout",
     "output_type": "stream",
     "text": [
      "0\n",
      "5\n"
     ]
    },
    {
     "data": {
      "text/plain": [
       "defined \u001b[32mobject\u001b[39m \u001b[36mmiObjeto\u001b[39m"
      ]
     },
     "execution_count": 14,
     "metadata": {},
     "output_type": "execute_result"
    }
   ],
   "source": [
    "object miObjeto{\n",
    "    private var acumulador = 0\n",
    "    def sumar(x: Int): Unit = {\n",
    "        acumulador += x\n",
    "    }\n",
    "    def consultar(): Int = {\n",
    "        return acumulador\n",
    "    }\n",
    "}\n",
    "\n",
    "println(miObjeto.consultar())\n",
    "miObjeto.sumar(5)\n",
    "println(miObjeto.consultar())"
   ]
  },
  {
   "cell_type": "markdown",
   "metadata": {},
   "source": [
    "<table align=\"left\" style=\"border-collapse: collapse; border: none !important; width: 100%;\">\n",
    "    <tr style=\"border:none !important;\">\n",
    "        <td style=\"border:none !important; width: 60px;\">\n",
    "<img src=\"icons/notepad.png\" align=\"left\" width=\"50px\"> \n",
    "        </td>\n",
    "        <td style=\"border:none !important;text-align:left;\">\n",
    "            <ul>\n",
    "                <li>No se puede usar `new` con un `object` 'singleton', ya que ya que no es una clase que se pueda instanciar sino una instancia en sí misma de una clase 'sintética' que se crea con el mismo nombre que el `object` pero acabado en '`$`' (`miObjeto$` en el ejemplo).</li>\n",
    "            </ul>\n",
    "        </td>\n",
    "    </tr>\n",
    "</table>"
   ]
  },
  {
   "cell_type": "markdown",
   "metadata": {},
   "source": [
    "<a name=\"subseccion-Modificador `abstract`\"></a>\n",
    "## Modificador `abstract`\n",
    "\n",
    "Podemos definir una clase abstracta si queremos darle la posibilidad de tener miembros sin implementación definida, y como consecuencia **no** podrán instanciarse objetos de dicha clase, sino que tendremos que heredarla en otra clase (lo veremos a continuación) y aportar una implementación para los miembros que no la tengan.\n",
    "\n",
    "No podemos usar `abstract` con los métodos particulares, sino que se consideran abstractos siempre que no se aporte implementación para ellos. En una clase abstracta podemos por lo tanto declarar métodos sin definirlos.\n",
    "\n",
    "Otra cosa a tener en cuenta es la convención existente en Scala para la eliminación o no de los paréntesis vacíos en los métodos sin parámetros. Se recomienda eliminar los paréntesis vacíos si el método no tiene efectos colaterales, accediendo únicamente objetos inmutables o accediendo a objetos mutables solo en modo lectura, y dejar los paréntesis vacíos en caso contrario. Esto hace que un método sin parámetros del primer tipo, al que le quitamos los paréntesis y para el que no aportamos implementación al estar en una clase abstracta se parece mucho a un campo, tal y como vemos en el ejemplo. "
   ]
  },
  {
   "cell_type": "code",
   "execution_count": 6,
   "metadata": {},
   "outputs": [
    {
     "data": {
      "text/plain": [
       "defined \u001b[32mclass\u001b[39m \u001b[36mElemento\u001b[39m"
      ]
     },
     "execution_count": 6,
     "metadata": {},
     "output_type": "execute_result"
    }
   ],
   "source": [
    "abstract class Elemento{\n",
    "    def contenidos: Array[String]\n",
    "}"
   ]
  },
  {
   "cell_type": "markdown",
   "metadata": {},
   "source": [
    "<table align=\"left\" style=\"border-collapse: collapse; border: none !important; width: 100%;\">\n",
    "    <tr style=\"border:none !important;\">\n",
    "        <td style=\"border:none !important; width: 60px;\">\n",
    "<img src=\"icons/notepad.png\" align=\"left\" width=\"50px\"> \n",
    "        </td>\n",
    "        <td style=\"border:none !important;text-align:left;\">\n",
    "            <ul>\n",
    "                <li>Además de la posibilidad de omitir los paréntesis al declarar un método sin parámetros, también podemos omitirlos en la llamada a dichos métodos, aunque se recomienda respetar el mismo criterio, ponerlos cuando haya efectos colaterales (p. ej. `println()`) y obviarlos cuando no (p. ej. `\"hola\".length`)</li>\n",
    "            </ul>\n",
    "        </td>\n",
    "    </tr>\n",
    "</table>"
   ]
  },
  {
   "cell_type": "markdown",
   "metadata": {},
   "source": [
    "<table align=\"left\" style=\"border-collapse: collapse; border: none !important; width: 100%;\">\n",
    "    <tr style=\"border:none !important;\">\n",
    "        <td style=\"border:none !important; width: 60px;\">\n",
    "<img src=\"icons/optimizar.png\" align=\"left\" width=\"50px\"> \n",
    "        </td>\n",
    "        <td style=\"border:none !important; text-align:left\">\n",
    "            <ul>\n",
    "                <li>La decisión entre definir campos o métodos cuando ambos son aplicables depende del diseño, ya que un campo puede aportar más velocidad pero también requiere un espacio adicional en cada objeto</li>\n",
    "                <li>Nótese la diferencia entre inicializar un campo a cero `var x:Int = _` o convertirlo en abstracto `var x:Int`</li>\n",
    "            </ul>\n",
    "        </td>\n",
    "    </tr>\n",
    "</table>"
   ]
  },
  {
   "cell_type": "markdown",
   "metadata": {},
   "source": [
    "<a name=\"subseccion-Herencia\"></a>\n",
    "## Herencia\n",
    "\n",
    "Como lenguaje orientado a objetos, Scala permite extender una clase a través de la herencia con la sintaxis `class B() extends A {...}`. La clase `B` hereda todos los miembros de A y se convierte en una 'subclase' de `A` y el tipo `B` en un 'subtipo' del tipo `A`, aunque con 2 excepciones:\n",
    "\n",
    "1. No se heredan los miembros privados (marcados con `private`)\n",
    "1. No se hereda un método si en la subclase se define un método con el mismo nombre y parámetros (denominándose sobreescritura u 'override')\n",
    "\n",
    "Algunos puntos interesantes a destacar:\n",
    "* Si el método que sobreescribe la subclase no es abstracto es obligatorio poner `override` al principio de la declaración\n",
    "* Podemos sobreescribir un método sin parámetros con un campo (métodos y campos comparten 'namespace' en Scala)\n",
    "* Al compartir 'namespace' no podemos tener un campo y un método con el mismo nombre en la misma clase\n",
    "\n",
    "Uno de los efectos más importantes de la herencia es que podemos unar un objeto de la subclase allá donde se requiera un objeto de la superclase (fenómeno denominado 'polimorfismo'). En estos casos, al ejecutar un método presente en ambas clases se elegirá la implementación del objeto asignado, no del tipo de la variable o expresión."
   ]
  },
  {
   "cell_type": "code",
   "execution_count": 11,
   "metadata": {},
   "outputs": [
    {
     "name": "stdout",
     "output_type": "stream",
     "text": [
      "Perro\r\n"
     ]
    },
    {
     "data": {
      "text/plain": [
       "defined \u001b[32mclass\u001b[39m \u001b[36mAnimal\u001b[39m\r\n",
       "defined \u001b[32mclass\u001b[39m \u001b[36mPerro\u001b[39m\r\n",
       "\u001b[36mmascota\u001b[39m: \u001b[32mwrapper\u001b[39m.\u001b[32mwrapper\u001b[39m.\u001b[32mAnimal\u001b[39m = $sess.cmd10Wrapper$Helper$Perro@323b723b"
      ]
     },
     "execution_count": 11,
     "metadata": {},
     "output_type": "execute_result"
    }
   ],
   "source": [
    "abstract class Animal {\n",
    "    def peligroso: Boolean\n",
    "    def miTipo = println(\"Animal\")\n",
    "}\n",
    "\n",
    "class Perro extends Animal {\n",
    "    val peligroso = false\n",
    "    override def miTipo = println(\"Perro\")\n",
    "}\n",
    "\n",
    "val mascota: Animal = new Perro\n",
    "mascota.miTipo"
   ]
  },
  {
   "cell_type": "markdown",
   "metadata": {},
   "source": [
    "<table align=\"left\" style=\"border-collapse: collapse; border: none !important; width: 100%;\">\n",
    "    <tr style=\"border:none !important;\">\n",
    "        <td style=\"border:none !important; width: 60px;\">\n",
    "<img src=\"icons/notepad.png\" align=\"left\" width=\"50px\"> \n",
    "        </td>\n",
    "        <td style=\"border:none !important; text-align:left\">\n",
    "            <ul>\n",
    "                <li>En Java hay 4 'namespaces': campos, métodos, tipos y paquetes, mientras que en Scala hay solo 2: valores (campos, métodos, paquetes y objetos) y tipos (clases y traits)</li>\n",
    "                <li>Como se ha dicho, podemos implementar un método con un campo, pero no a la inversa, ya que un `val` debe mantener el mismo valor y un método podría devolver diferentes valores en cada llamada</li>\n",
    "            </ul>\n",
    "        </td>\n",
    "    </tr>\n",
    "</table>"
   ]
  },
  {
   "cell_type": "markdown",
   "metadata": {},
   "source": [
    "Al extender una clase podemos invocar el constructor de la superclase poniendo los argumentos entre paréntesis tras el nombre de la superclase como vemos en el siguiente ejemplo:\n",
    "\n",
    "<img src=\"images/Herencia.png\" width=400px/>"
   ]
  },
  {
   "cell_type": "code",
   "execution_count": 9,
   "metadata": {},
   "outputs": [
    {
     "data": {
      "text/plain": [
       "defined \u001b[32mclass\u001b[39m \u001b[36mElement\u001b[39m\r\n",
       "defined \u001b[32mclass\u001b[39m \u001b[36mArrayElement\u001b[39m\r\n",
       "defined \u001b[32mclass\u001b[39m \u001b[36mLineElement\u001b[39m"
      ]
     },
     "execution_count": 9,
     "metadata": {},
     "output_type": "execute_result"
    }
   ],
   "source": [
    "abstract class Element{\n",
    "    def contents: Array[String]\n",
    "    def height: Int = contents.length\n",
    "    def width: Int = if (height == 0) 0 else contents(0).length\n",
    "}\n",
    "\n",
    "class ArrayElement(conts: Array[String]) extends Element {\n",
    "    def contents: Array[String] = conts\n",
    "}\n",
    "\n",
    "class LineElement(s: String) extends ArrayElement(Array(s)) {\n",
    "    override def width = s.length\n",
    "    override def height = 1\n",
    "}"
   ]
  },
  {
   "cell_type": "markdown",
   "metadata": {},
   "source": [
    "<table align=\"left\" style=\"border-collapse: collapse; border: none !important; width: 100%;\">\n",
    "    <tr style=\"border:none !important;\">\n",
    "        <td style=\"border:none !important; width: 60px;\">\n",
    "<img src=\"icons/notepad.png\" align=\"left\" width=\"50px\"> \n",
    "        </td>\n",
    "        <td style=\"border:none !important; text-align:left\">\n",
    "            <ul>\n",
    "                <li>El diseño de herencia y composición mostrado en el ejemplo es solo eso, un ejemplo, y puede no ser la solución óptima</li>\n",
    "            </ul>\n",
    "        </td>\n",
    "    </tr>\n",
    "</table>"
   ]
  },
  {
   "cell_type": "markdown",
   "metadata": {},
   "source": [
    "También tenemos la posibilidad de impedir la herencia declarando una clase con el modificador `final`, y de esta forma cualquier intento de heredar de ella al crear otra clase provocará un error de compilación. También es posible usar este modificador con los métodos, haciendo que no se puedan sobreescribir en cualquier subclase con `override`."
   ]
  },
  {
   "cell_type": "code",
   "execution_count": 13,
   "metadata": {},
   "outputs": [
    {
     "name": "stderr",
     "output_type": "stream",
     "text": [
      "cmd13.sc:2: illegal inheritance from final class NoHeredable\r\n",
      "class A extends NoHeredable\r\n",
      "                ^"
     ]
    },
    {
     "ename": "",
     "evalue": "",
     "output_type": "error",
     "traceback": [
      "Compilation Failed"
     ]
    }
   ],
   "source": [
    "final class NoHeredable            // Comprueba como al eliminar el modificador 'final' no se produce ningún error\n",
    "class A extends NoHeredable"
   ]
  },
  {
   "cell_type": "code",
   "execution_count": 12,
   "metadata": {},
   "outputs": [
    {
     "name": "stderr",
     "output_type": "stream",
     "text": [
      "cmd12.sc:6: overriding method noHeredable in class A of type => Boolean;\n",
      " method noHeredable cannot override final member\r\n",
      "    override def noHeredable = false\r\n",
      "                 ^"
     ]
    },
    {
     "ename": "",
     "evalue": "",
     "output_type": "error",
     "traceback": [
      "Compilation Failed"
     ]
    }
   ],
   "source": [
    "class A {\n",
    "    final def noHeredable = true   // Comprueba como al eliminar el modificador 'final' no se produce ningún error\n",
    "}\n",
    "\n",
    "class B extends A {\n",
    "    override def noHeredable = false\n",
    "}"
   ]
  },
  {
   "cell_type": "markdown",
   "metadata": {},
   "source": [
    "<a name=\"subseccion-La jerarquía de clases en Scala\"></a>\n",
    "## La jerarquía de clases en Scala\n",
    "\n",
    "En la siguiente figura vemos el esquema general de herencia de clases que ofrece Scala, en donde vemos que toda clase es una subclase de `Any`, y por otro lado tenemos `Nothing` como subclase de cualquier otra.\n",
    "\n",
    "Las líneas discontinuas reflejan conversiones implícitas definidas en el lenguaje, lo que quiere decir que un tipo puede convertirse de forma automática a otro si es necesario, por ejemplo si llamamos a un método `A.m` que no existe como tal en `A` pero sí en `B`, habiendo una conversión implícita de `A` a `B`. Más adelante veremos como definir nuestras propias conversiones implícitas.\n",
    "\n",
    "En la parte alta, justo por debajo de `Any`, encontramos `AnyVal`, rama por la que descienden los tipos asociados a valores (como `Int`), y `AnyRef`, rama por la que descienden los tipos asociados a referencias (como `List`). La clase `AnyRef` sería el equivalente a `Object` en Java, y de hecho su uso es intercambiable en Scala, aunque se recomienda usar `AnyRef` en donde sea necesario.\n",
    "\n",
    "En la parte baja de la jerarquía encontramos `Null`, como subclase de todos los tipos que heredan de `AnyRef` (incompatible con la rama `AnyVal`), y abajo del todo se halla `Nothing`, subclase de todas las demás como comentamos antes. El tipo `Nothing` no tiene valores, y sirve habitualmente para indicar una terminación anormal.\n",
    "\n",
    "<img src=\"images/Clases.png\" width=100%/>"
   ]
  },
  {
   "cell_type": "markdown",
   "metadata": {},
   "source": [
    "<table align=\"left\" style=\"border-collapse: collapse; border: none !important; width: 100%;\">\n",
    "    <tr style=\"border:none !important;\">\n",
    "        <td style=\"border:none !important; width: 60px;\">\n",
    "<img src=\"icons/notepad.png\" align=\"left\" width=\"50px\"> \n",
    "        </td>\n",
    "        <td style=\"border:none !important;text-align:left;\">\n",
    "            <ul>\n",
    "                <li>La clase `Any` define `==`, `!=`, `equals`, `hashCode` y `toString`, siendo `==` y `!=` declaradas `final` y como equivalentes a `equals` y su negación, por lo que podemos alterar `==` y `!=` sobreescribiendo `equals`</li>\n",
    "                <li>Un ejemplo de uso de `Nothing`: `def error(message: String): Nothing = throw new RuntimeException(message)`</li>\n",
    "            </ul>\n",
    "        </td>\n",
    "    </tr>\n",
    "</table>"
   ]
  },
  {
   "cell_type": "markdown",
   "metadata": {},
   "source": [
    "<a name=\"subseccion-Enumeraciones\"></a>\n",
    "## Enumeraciones\n",
    "\n",
    "Como en otros lenguajes, podemos declarar una enumeración que consiste en un tipo distinto que está compuesto por un conjunto de constantes con nombre, denominado lista de enumeradores. Sin embargo, en Scala las enumeraciones **no** forman parte de la sintaxis propia del lenguaje, sino que se definen mediante un objeto que extienda la clase `Enumeration`. En el siguiente ejemplo creamos el tipo con sus valores posibles."
   ]
  },
  {
   "cell_type": "code",
   "execution_count": 24,
   "metadata": {},
   "outputs": [
    {
     "data": {
      "text/plain": [
       "defined \u001b[32mobject\u001b[39m \u001b[36mColor\u001b[39m"
      ]
     },
     "execution_count": 24,
     "metadata": {},
     "output_type": "execute_result"
    }
   ],
   "source": [
    "object Color extends Enumeration {\n",
    "    val Red, Green, Blue = Value\n",
    "}"
   ]
  },
  {
   "cell_type": "markdown",
   "metadata": {},
   "source": [
    "<table align=\"left\" style=\"border-collapse: collapse; border: none !important; width: 100%;\">\n",
    "    <tr style=\"border:none !important;\">\n",
    "        <td style=\"border:none !important; width: 60px;\">\n",
    "<img src=\"icons/notepad.png\" align=\"left\" width=\"50px\"> \n",
    "        </td>\n",
    "        <td style=\"border:none !important;text-align:left;\">\n",
    "            <ul>\n",
    "                <li>La clase `scala.Enumeration` define una clase interna `Value` y un método sin parámetros `Value` que devuelve una instancia nueva de la clase interna, de ahí que `Color.Red` sea de tipo `Color.Value`, que es el tipo de todos los valores de los enumerados definidos en el objeto `Color`</li>\n",
    "            </ul>\n",
    "        </td>\n",
    "    </tr>\n",
    "</table>"
   ]
  },
  {
   "cell_type": "markdown",
   "metadata": {},
   "source": [
    "También podemos asociar nombres a los diferentes valores y realizar ciertas operaciones, como iterar sobre ellos con el método `values`, obtener el índice con `id` (empezando por 0) u obtener el valor indicando el índice."
   ]
  },
  {
   "cell_type": "code",
   "execution_count": 25,
   "metadata": {},
   "outputs": [
    {
     "name": "stdout",
     "output_type": "stream",
     "text": [
      "North East South West "
     ]
    },
    {
     "data": {
      "text/plain": [
       "defined \u001b[32mobject\u001b[39m \u001b[36mDirection\u001b[39m\r\n",
       "\u001b[36mres24_2\u001b[39m: \u001b[32mInt\u001b[39m = \u001b[32m1\u001b[39m\r\n",
       "\u001b[36mres24_3\u001b[39m: \u001b[32mDirection\u001b[39m.\u001b[32mValue\u001b[39m = East"
      ]
     },
     "execution_count": 25,
     "metadata": {},
     "output_type": "execute_result"
    }
   ],
   "source": [
    "object Direction extends Enumeration {\n",
    "    val North = Value(\"North\")\n",
    "    val East = Value(\"East\")\n",
    "    val South = Value(\"South\")\n",
    "    val West = Value(\"West\")\n",
    "}\n",
    "for (d <- Direction.values) print(d +\" \")\n",
    "Direction.East.id\n",
    "Direction(1)"
   ]
  },
  {
   "cell_type": "markdown",
   "metadata": {},
   "source": [
    "<a name=\"subseccion-Precedencia y asociatividad de los operadores\"></a>\n",
    "## Precedencia y asociatividad de los operadores\n",
    "\n",
    "La precedencia en Scala depende del _primer carácter_ del nombre del operador. Por ejemplo, si tenemos `a +++ b *** c` se aplicará `a +++ (b *** c)` porque el caracter `*` tiene mayor precedencia que `+` y por lo tanto le otorga mayor precedencia al operador `***` que al operador `+++`. El orden es, de mayor a menor precedencia:\n",
    "\n",
    "1. (resto de caracteres especiales)\n",
    "1. `* / %`\n",
    "1. `+ -`\n",
    "1. `:`\n",
    "1. `= !`\n",
    "1. `< >`\n",
    "1. `&`\n",
    "1. `^`\n",
    "1. `|`\n",
    "1. (todas las letras)\n",
    "1. (todos los operadores de asignación)\n",
    "\n",
    "La única excepción a la regla son los operadores que acaban en `=` y no son relacionales (`<= >= ==)` que todos tienen la misma precedencia que la asignación simple `=` (la más baja). Sería el caso por ejemplo de `+=` y `*=`."
   ]
  },
  {
   "cell_type": "code",
   "execution_count": 62,
   "metadata": {},
   "outputs": [
    {
     "data": {
      "text/plain": [
       "\u001b[36mres61\u001b[39m: \u001b[32mInt\u001b[39m = \u001b[32m16\u001b[39m"
      ]
     },
     "execution_count": 62,
     "metadata": {},
     "output_type": "execute_result"
    }
   ],
   "source": [
    "2 + 2 * 7"
   ]
  },
  {
   "cell_type": "markdown",
   "metadata": {},
   "source": [
    "La asociatividad en Scala depende en cambio del _último carácter_ del nombre del operador. La regla general es que el método se invoca sobre el operando de la izquierda pasando como parámetro el de la derecha, salvo si el nombre acaba en `:`, en cuyo caso se hace al contrario. Esto también se aplica para agrupar operadores de la misma precedencia, de manera que `a:::b:::c` se hará `a:::(b:::c)` y `a*b*c` se hará `(a*b)*c`."
   ]
  },
  {
   "cell_type": "code",
   "execution_count": 61,
   "metadata": {},
   "outputs": [
    {
     "data": {
      "text/plain": [
       "\u001b[36mres60_0\u001b[39m: \u001b[32mInt\u001b[39m = \u001b[32m1\u001b[39m\r\n",
       "\u001b[36mres60_1\u001b[39m: \u001b[32mInt\u001b[39m = \u001b[32m3\u001b[39m\r\n",
       "\u001b[36mres60_2\u001b[39m: \u001b[32mList\u001b[39m[\u001b[32mInt\u001b[39m] = \u001b[33mList\u001b[39m(\u001b[32m1\u001b[39m, \u001b[32m2\u001b[39m, \u001b[32m3\u001b[39m)"
      ]
     },
     "execution_count": 61,
     "metadata": {},
     "output_type": "execute_result"
    }
   ],
   "source": [
    "7 % 3              //(7).%(3)\n",
    "3 % 7              //(3).%(7)\n",
    "\n",
    "1 :: List(2, 3)    //(List(2, 3)).::(1)\n",
    "//List(1, 2) :: 3  //ERROR: El método se invoca sobre el objeto (3) y la clase Int no tiene definido el método ::"
   ]
  },
  {
   "cell_type": "markdown",
   "metadata": {},
   "source": [
    "<table align=\"left\" style=\"border-collapse: collapse; border: none !important; width: 100%;\">\n",
    "    <tr style=\"border:none !important;\">\n",
    "        <td style=\"border:none !important; width: 60px;\">\n",
    "<img src=\"icons/notepad.png\" align=\"left\" width=\"50px\"> \n",
    "        </td>\n",
    "        <td style=\"border:none !important;text-align:left;\">\n",
    "            <ul>\n",
    "                <li>Independientemente de la asociatividad, los operandos siempre se evaluan de izquierda a derecha</li>\n",
    "            </ul>\n",
    "        </td>\n",
    "    </tr>\n",
    "</table>"
   ]
  },
  {
   "cell_type": "markdown",
   "metadata": {},
   "source": [
    "<table align=\"left\" style=\"border-collapse: collapse; border: none !important; width: 100%;\">\n",
    "    <tr style=\"border:none !important;\">\n",
    "        <td style=\"border:none !important; width: 60px;\">\n",
    "<img src=\"icons/warning.png\" align=\"left\" width=\"50px\"> \n",
    "        </td>\n",
    "        <td style=\"border:none !important;text-align:left;\">\n",
    "            <ul>\n",
    "                <li>Usa paréntesis siempre que tengas dudas para evitar problemas</li>\n",
    "            </ul>\n",
    "        </td>\n",
    "    </tr>\n",
    "</table>"
   ]
  },
  {
   "cell_type": "markdown",
   "metadata": {},
   "source": [
    "<a name=\"subseccion-La igualdad con `==` o `!=` {y su relación con `equals`}\"></a>\n",
    "## La igualdad con `==` o `!=` (y su relación con `equals`)\n",
    "\n",
    "Como hemos visto anteriormente, en Scala `==` y `!=` se basan en la definición de `equals`. Mientras en los tipos de valores como `Int`, etc. el resultado será la igualdad numérica o booleana, para las referencias dependerá de la implementación de `equals`, basada en el contenido, por lo que en Scala la comparación de cadenas `String` con `==` se comportará según lo esperado (a diferencia de lo que ocurre en Java).\n",
    "\n",
    "Podemos comparar objetos de cualquier tipo, tanto tipos básicos como `Int` como otros tipos (`List`,...) e incluso comparar objetos de diferentes tipos o comparar con `null` sin provocar ninguna excepción.\n",
    "\n",
    "La regla que se aplica es comprobar si el lado izquierdo es `null`, y si no lo es llamar al método `equals`, que se encarga de comprobar si el contenido es el mismo o no, aunque el tipo pueda ser diferente."
   ]
  },
  {
   "cell_type": "code",
   "execution_count": 50,
   "metadata": {},
   "outputs": [
    {
     "data": {
      "text/plain": [
       "\u001b[36mres49_0\u001b[39m: \u001b[32mBoolean\u001b[39m = \u001b[32mfalse\u001b[39m\r\n",
       "\u001b[36mres49_1\u001b[39m: \u001b[32mBoolean\u001b[39m = \u001b[32mtrue\u001b[39m\r\n",
       "\u001b[36mres49_2\u001b[39m: \u001b[32mBoolean\u001b[39m = \u001b[32mtrue\u001b[39m\r\n",
       "\u001b[36mres49_3\u001b[39m: \u001b[32mBoolean\u001b[39m = \u001b[32mtrue\u001b[39m\r\n",
       "\u001b[36mres49_4\u001b[39m: \u001b[32mBoolean\u001b[39m = \u001b[32mfalse\u001b[39m\r\n",
       "\u001b[36mres49_5\u001b[39m: \u001b[32mBoolean\u001b[39m = \u001b[32mfalse\u001b[39m\r\n",
       "\u001b[36mres49_6\u001b[39m: \u001b[32mBoolean\u001b[39m = \u001b[32mtrue\u001b[39m\r\n",
       "\u001b[36mres49_7\u001b[39m: \u001b[32mBoolean\u001b[39m = \u001b[32mtrue\u001b[39m\r\n",
       "\u001b[36mres49_8\u001b[39m: \u001b[32mBoolean\u001b[39m = \u001b[32mfalse\u001b[39m\r\n",
       "\u001b[36mres49_9\u001b[39m: \u001b[32mBoolean\u001b[39m = \u001b[32mfalse\u001b[39m\r\n",
       "\u001b[36mres49_10\u001b[39m: \u001b[32mBoolean\u001b[39m = \u001b[32mtrue\u001b[39m"
      ]
     },
     "execution_count": 50,
     "metadata": {},
     "output_type": "execute_result"
    }
   ],
   "source": [
    "1 == 2\n",
    "1 != 2\n",
    "2 == 2\n",
    "\n",
    "List(1, 2, 3) == List(1, 2, 3)\n",
    "List(1, 2, 3) == List(1, 2, 3, 4)\n",
    "\n",
    "1.0 == 2\n",
    "1.0 != 2\n",
    "2.0 == 2\n",
    "\n",
    "List(1, 2, 3) == null\n",
    "null == List(1, 2, 3)\n",
    "\n",
    "(\"ho\"+\"la\") == \"hola\""
   ]
  },
  {
   "cell_type": "markdown",
   "metadata": {},
   "source": [
    "<table align=\"left\" style=\"border-collapse: collapse; border: none !important; width: 100%;\">\n",
    "    <tr style=\"border:none !important;\">\n",
    "        <td style=\"border:none !important; width: 60px;\">\n",
    "<img src=\"icons/notepad.png\" align=\"left\" width=\"50px\"> \n",
    "        </td>\n",
    "        <td style=\"border:none !important;text-align:left;\">\n",
    "            <ul>\n",
    "                <li>Como vemos, la igualdad que se calcula con `==` es por **valor**, y para que fuese por referencia tendríamos que usar los métodos `eq` y `ne`, aunque solo sirve para objetos que pueden mapearse a objetos Java</li>\n",
    "            </ul>\n",
    "        </td>\n",
    "    </tr>\n",
    "</table>"
   ]
  },
  {
   "cell_type": "markdown",
   "metadata": {},
   "source": [
    "<a name=\"subseccion-Clases con parámetros\"></a>\n",
    "## Clases con parámetros\n",
    "\n",
    "Si queremos crear una clase sencilla, por ejemplo que solo tenga dos campos de tipo Int, no necesitamos que la definición de la clase tenga un cuerpo entre llaves, sino que podemos especificar esos campos como parámetros: `class miClase(x: Int, y: Int)`. \n",
    "\n",
    "El compilador se encargará de crear un constructor con esos parámetros, y en él incluirá cualquier código que añadamos directamente en el cuerpo entre llaves de la clase.\n",
    "\n",
    "Dentro de ese cuerpo también podemos definir otros miembros como es lógico, y en el ejemplo podemos ver como se redefine el método toString que heredan todas las clases (usando `override` como en Java), con lo que conseguimos que el intérprete muestre un mensaje más legible al crear un objeto, ya que en lugar de un código se muestra información sobre el objeto en sí."
   ]
  },
  {
   "cell_type": "code",
   "execution_count": 3,
   "metadata": {},
   "outputs": [
    {
     "name": "stdout",
     "output_type": "stream",
     "text": [
      "Creado 1/2\n",
      "Creado 1/2\n"
     ]
    },
    {
     "data": {
      "text/plain": [
       "defined \u001b[32mclass\u001b[39m \u001b[36mRational1\u001b[39m\r\n",
       "\u001b[36mres2_1\u001b[39m: \u001b[32mwrapper\u001b[39m.\u001b[32mwrapper\u001b[39m.\u001b[32mRational1\u001b[39m = $sess.cmd2Wrapper$Helper$Rational1@e413725\r\n",
       "defined \u001b[32mclass\u001b[39m \u001b[36mRational2\u001b[39m\r\n",
       "\u001b[36mres2_3\u001b[39m: \u001b[32mwrapper\u001b[39m.\u001b[32mwrapper\u001b[39m.\u001b[32mRational2\u001b[39m = $sess.cmd2Wrapper$Helper$Rational2@7e2bcb71\r\n",
       "defined \u001b[32mclass\u001b[39m \u001b[36mRational3\u001b[39m\r\n",
       "\u001b[36mres2_5\u001b[39m: \u001b[32mRational3\u001b[39m = 1/2"
      ]
     },
     "execution_count": 3,
     "metadata": {},
     "output_type": "execute_result"
    }
   ],
   "source": [
    "class Rational1(n: Int, d: Int)\n",
    "new Rational1(1, 2)\n",
    "\n",
    "class Rational2(n: Int, d: Int){\n",
    "    println(\"Creado \"+n+\"/\"+d)\n",
    "}\n",
    "new Rational2(1, 2)\n",
    "\n",
    "class Rational3(n: Int, d: Int){\n",
    "    println(\"Creado \"+n+\"/\"+d)\n",
    "    override def toString = n+\"/\"+d\n",
    "}\n",
    "new Rational3(1, 2)"
   ]
  },
  {
   "cell_type": "markdown",
   "metadata": {
    "collapsed": true
   },
   "source": [
    "<table align=\"left\" style=\"border-collapse: collapse; border: none !important; width: 100%;\">\n",
    "    <tr style=\"border:none !important;\">\n",
    "        <td style=\"border:none !important; width: 60px;\">\n",
    "<img src=\"icons/notepad.png\" align=\"left\" width=\"50px\"> \n",
    "        </td>\n",
    "        <td style=\"border:none !important;text-align:left;\">\n",
    "            <ul>\n",
    "                <li>Como vemos aquí, mientras Java permite definir constructores con parámetros, Scala permite clases con parámetros con un estilo más conciso, ahorrando líneas de código en clases pequeñas y simples</li>\n",
    "            </ul>\n",
    "        </td>\n",
    "    </tr>\n",
    "</table>"
   ]
  },
  {
   "cell_type": "markdown",
   "metadata": {},
   "source": [
    "¿Y si añadimos un método que sume dos números racionales? En el ejemplo lo definimos haciendo uso de lo aprendido hasta ahora sobre los operadores y de forma inmutable pero, ¿qué ocurre al intentar acceder a los campos '`n`' y '`d`' del objeto `otro`? Tal y como están definidos los parámetros de la clase **solo** podré acceder desde el propio objeto, por lo que habría que usar 'campos paramétricos'. Consiste en declarar los parámetros como si estuviésemos declarando un campo de la clase, por ejemplo: `val n: Int`. También podemos usar `var` en lugar de `val` o precederlo de `private` o `protected` por ejemplo si lo estimamos oportuno."
   ]
  },
  {
   "cell_type": "code",
   "execution_count": 13,
   "metadata": {},
   "outputs": [
    {
     "name": "stderr",
     "output_type": "stream",
     "text": [
      "cmd13.sc:5: value d is not a member of Helper.this.Rational4\n",
      "            n * otro.d + otro.n * d,     // Puedo acceder a 'n' y 'd' del objeto actual pero no de 'otro'\n",
      "                     ^cmd13.sc:5: value n is not a member of Helper.this.Rational4\n",
      "            n * otro.d + otro.n * d,     // Puedo acceder a 'n' y 'd' del objeto actual pero no de 'otro'\n",
      "                              ^cmd13.sc:6: value d is not a member of Helper.this.Rational4\n",
      "            d * otro.d\n",
      "                     ^"
     ]
    },
    {
     "ename": "",
     "evalue": "",
     "output_type": "error",
     "traceback": [
      "Compilation Failed"
     ]
    }
   ],
   "source": [
    "class Rational4(n: Int, d: Int){         // Falta definir n y d con 'val'\n",
    "    override def toString = n+\"/\"+d\n",
    "    def +(otro: Rational4): Rational4 = \n",
    "        new Rational4(\n",
    "            n * otro.d + otro.n * d,     // Puedo acceder a 'n' y 'd' del objeto actual pero no de 'otro'\n",
    "            d * otro.d\n",
    "        )\n",
    "}\n",
    "\n",
    "val r1 = new Rational4(1, 2)\n",
    "val r2 = new Rational4(3, 4)\n",
    "val r3 = r1 + r2"
   ]
  },
  {
   "cell_type": "code",
   "execution_count": 5,
   "metadata": {},
   "outputs": [
    {
     "data": {
      "text/plain": [
       "defined \u001b[32mclass\u001b[39m \u001b[36mGato\u001b[39m\r\n",
       "defined \u001b[32mclass\u001b[39m \u001b[36mTigre\u001b[39m"
      ]
     },
     "execution_count": 5,
     "metadata": {},
     "output_type": "execute_result"
    }
   ],
   "source": [
    "class Gato {\n",
    "    val peligroso = false\n",
    "}\n",
    "\n",
    "class Tigre (\n",
    "        override val peligroso: Boolean,\n",
    "        private var edad: Int\n",
    "    ) extends Gato"
   ]
  },
  {
   "cell_type": "markdown",
   "metadata": {},
   "source": [
    "En resumen:\n",
    "\n",
    "* `class Rational4(n: Int)`: `n` es solo un parámetro del constructor. Si esta variable no se usa en ningún otro sitio, salvo en el constructor, se queda ahí (no se genera ningún campo). En caso contrario, se crea el campo `private val n` y se le asigna el valor del parámetro `n`. No se crea ningún *getter*.\n",
    "\n",
    "* `class Rational4(private val n: Int)`: Esta declaración del parámetro creará un campo `private val n` con un *getter* privado. Este comportamiento es el mismo independientemente de si el parámetro se usa fuera del constructor (p.ej. en `toString()`) o no.\n",
    "\n",
    "* `class Rational4(val bar: Int)`: Igual que arriba pero el *getter* que genera Scala es **público**."
   ]
  },
  {
   "cell_type": "markdown",
   "metadata": {},
   "source": [
    "<a name=\"subseccion-Precondiciones\"></a>\n",
    "## Precondiciones\n",
    "\n",
    "En ocasiones hay restricciones que nos obligan a cumplir unas condiciones para que los valores que se le pasan a un método o constructor sean considerados válidos. Por ejemplo, para que un número racional sea coorecto no podemos usar como denominador el cero. Scala permite describir estas precondiciones con `require` de manera que se detecten casos en los que se incumplen las condiciones dando lugar a errores. Si la expresión booleana utilizada con `require` devuelve `false`, se lanzará una excepción `IllegalArgumentException`. "
   ]
  },
  {
   "cell_type": "code",
   "execution_count": 10,
   "metadata": {},
   "outputs": [
    {
     "name": "stdout",
     "output_type": "stream",
     "text": [
      "1/2 (1)\n",
      "1/2 (3)\n"
     ]
    },
    {
     "data": {
      "text/plain": [
       "defined \u001b[32mclass\u001b[39m \u001b[36mRationalX\u001b[39m\r\n",
       "\u001b[36mr\u001b[39m: \u001b[32mRationalX\u001b[39m = 1/2 (3)"
      ]
     },
     "execution_count": 10,
     "metadata": {},
     "output_type": "execute_result"
    }
   ],
   "source": [
    "class RationalX(n: Int, d: Int){\n",
    "    require(d != 0)                                 // Precondición para el constructor de 'Rational4'\n",
    "    var x = 1                                       // Añadimos un campo x modificable mediante el método 'cambiaX'\n",
    "    def cambiaX(newX: Int){\n",
    "        require(newX != 0)                          // Precondición para el método 'cambiaX'\n",
    "        x = newX\n",
    "    }\n",
    "    override def toString = n+\"/\"+d+\" (\"+x+\")\"\n",
    "}\n",
    "\n",
    "val r = new RationalX(1, 2)                         // Probar con denominador=0\n",
    "println(r)\n",
    "r.cambiaX(3)                                        // Probar a cambiar x a 0\n",
    "println(r)"
   ]
  },
  {
   "cell_type": "markdown",
   "metadata": {},
   "source": [
    "<a name=\"subseccion-Constructores auxiliares\"></a>\n",
    "## Constructores auxiliares\n",
    "\n",
    "Para definir otros constructores usamos `def this(...)`, teniendo en cuenta que Scala obliga a que lo primero que hagamos sea invocar otro constructor de la misma clase (con `this(...)`), pudiendo definir varios constructores auxiliares con llamadas en cascada, aunque al final debemos terminar siempre llamando al constructor principal.\n",
    "\n",
    "En nuestro ejemplo de números racionales podría ser útil poder crear un racional sólo con el numerador de forma que el denominador sea por defecto `1`."
   ]
  },
  {
   "cell_type": "code",
   "execution_count": 4,
   "metadata": {},
   "outputs": [
    {
     "data": {
      "text/plain": [
       "defined \u001b[32mclass\u001b[39m \u001b[36mRational5\u001b[39m"
      ]
     },
     "execution_count": 4,
     "metadata": {},
     "output_type": "execute_result"
    }
   ],
   "source": [
    "class Rational5(val n: Int, val d: Int){\n",
    "    require(d != 0)\n",
    "    \n",
    "    def this(n: Int) = this(n, 1)\n",
    "    \n",
    "    override def toString = n+\"/\"+d\n",
    "    def +(otro: Rational5): Rational5 = \n",
    "        new Rational5(\n",
    "            n * otro.d + otro.n * d,\n",
    "            d * otro.d\n",
    "        )\n",
    "}"
   ]
  },
  {
   "cell_type": "markdown",
   "metadata": {
    "collapsed": true
   },
   "source": [
    "<table align=\"left\" style=\"border-collapse: collapse; border: none !important; width: 100%;\">\n",
    "    <tr style=\"border:none !important;\">\n",
    "        <td style=\"border:none !important; width: 60px;\">\n",
    "<img src=\"icons/notepad.png\" align=\"left\" width=\"50px\"> \n",
    "        </td>\n",
    "        <td style=\"border:none !important;text-align:left;\">\n",
    "            <ul>\n",
    "                <li>Podemos usar `this` en general para referenciar al propio objeto, tal y como se hace en Java, por lo que el método `+` por ejemplo se podría reescribir con `this.n` y `this.d` allá donde solo aparece `n` o `d`</li>\n",
    "                <li>A diferencia de Java, Scala **solo** permite que el constructor principal invoque un constructor de una superclase</li>\n",
    "            </ul>\n",
    "        </td>\n",
    "    </tr>\n",
    "</table>"
   ]
  },
  {
   "cell_type": "markdown",
   "metadata": {},
   "source": [
    "<a name=\"subseccion-Traits\"></a>\n",
    "## Traits\n",
    "\n",
    "Un `trait` en Scala encapsula métodos y campos (concretos o abstractos) para poder incorporarlos en otras clases. La diferencia con la herencia es que una nueva clase puede heredar de **una sola** superclase, pero en ella se pueden 'mezclar' múltiples `trait`. Para mezclar traits se pueden usar las palabras `extends` o `with`, y si usamos herencia también usaremos `extends` para indicar la superclase y un `with` para cada `trait` a mezclar. \n",
    "\n",
    "Un `trait` también puede ser usado como un tipo, y sus métodos pueden usarse de la misma forma que usamos los métodos de una superclase. Si declaramos una variable del tipo del `trait`, podremos asignarle un objeto de cualquier clase que mezcle dicho `trait`.\n",
    "\n",
    "Dos diferencias destacables respecto a las clases son:\n",
    "* Un `trait` **no** puede tener parámetros\n",
    "* Cuando usamos `super` en una clase, como en `super.toString`, sabemos qué método se invocará, pero en un trait no está definido a la hora de escribir el `trait`"
   ]
  },
  {
   "cell_type": "code",
   "execution_count": 23,
   "metadata": {},
   "outputs": [
    {
     "name": "stdout",
     "output_type": "stream",
     "text": [
      "I am a frog\n",
      "I can run!\n"
     ]
    },
    {
     "data": {
      "text/plain": [
       "defined \u001b[32mclass\u001b[39m \u001b[36mAmphibian\u001b[39m\r\n",
       "defined \u001b[32mtrait\u001b[39m \u001b[36mHasLegs\u001b[39m\r\n",
       "defined \u001b[32mtrait\u001b[39m \u001b[36mEatsInsects\u001b[39m\r\n",
       "defined \u001b[32mclass\u001b[39m \u001b[36mFrog\u001b[39m\r\n",
       "\u001b[36mfrog\u001b[39m: \u001b[32mwrapper\u001b[39m.\u001b[32mwrapper\u001b[39m.\u001b[32mHasLegs\u001b[39m = Legged\r\n",
       "defined \u001b[32mclass\u001b[39m \u001b[36mTwoLegged\u001b[39m\r\n",
       "\u001b[36mlegged\u001b[39m: \u001b[32mwrapper\u001b[39m.\u001b[32mwrapper\u001b[39m.\u001b[32mTwoLegged\u001b[39m = Legged"
      ]
     },
     "execution_count": 23,
     "metadata": {},
     "output_type": "execute_result"
    }
   ],
   "source": [
    "class Amphibian {\n",
    "    def demo = println(\"Now I'm in, now I'm out!\")\n",
    "}\n",
    "trait HasLegs{\n",
    "    def demo = println(\"I can run!\")            // Método concreto (no abstracto)\n",
    "    val numLegs: Int                            // Campo abstracto\n",
    "    override def toString = \"Legged\"            // Un trait hereda de AnyRef como lo hace una clase\n",
    "}\n",
    "trait EatsInsects{\n",
    "    def demo = println(\"Mmmmm...\")\n",
    "}\n",
    "\n",
    "class Frog extends Amphibian                    // Usamos extends con la superclase y with con cada trait\n",
    "        with HasLegs\n",
    "        with EatsInsects{\n",
    "    override def demo = println(\"I am a frog\")  // ¿Qué ocurre si quitamos esta línea?\n",
    "    val numLegs = 4                             // Hay que darle valor a los miembros abstractos\n",
    "}\n",
    "\n",
    "val frog: HasLegs = new Frog                    // Usamos el trait HasLegs como tipo\n",
    "frog.demo                                       // Se ejecuta el demo de Frog que sobreescribe al del tipo (HasLegs)\n",
    "\n",
    "class TwoLegged extends HasLegs{                // Usamos extends con el trait\n",
    "    val numLegs = 2\n",
    "}\n",
    "val legged = new TwoLegged\n",
    "legged.demo                                     // Se ejecuta el demo de HasLegs ya que la clase TwoLegged no tiene demo"
   ]
  },
  {
   "cell_type": "markdown",
   "metadata": {
    "collapsed": true
   },
   "source": [
    "Uno de los usos habituales de los traits es crear interfaces con muchos métodos concretos y algunos abstractos, de manera que al incluirlo en una clase se obtengan todos los métodos que ofrece el trait y solo se tenga que definir unos pocos. Un ejemplo sencillo es el trait `Ordered`, que solo exige que implementemos el método `compare` y a cambio nos ofrece todos los operadores relacionales `<`, `>`, `<=` y `>=`, ´todos ellos basados en `compare`."
   ]
  },
  {
   "cell_type": "code",
   "execution_count": 25,
   "metadata": {},
   "outputs": [
    {
     "data": {
      "text/plain": [
       "defined \u001b[32mclass\u001b[39m \u001b[36mOrderedRational\u001b[39m\r\n",
       "\u001b[36mmitad\u001b[39m: \u001b[32mwrapper\u001b[39m.\u001b[32mwrapper\u001b[39m.\u001b[32mOrderedRational\u001b[39m = 1/2\r\n",
       "\u001b[36mtercio\u001b[39m: \u001b[32mwrapper\u001b[39m.\u001b[32mwrapper\u001b[39m.\u001b[32mOrderedRational\u001b[39m = 1/3\r\n",
       "\u001b[36mres24_3\u001b[39m: \u001b[32mBoolean\u001b[39m = \u001b[32mfalse\u001b[39m\r\n",
       "\u001b[36mres24_4\u001b[39m: \u001b[32mBoolean\u001b[39m = \u001b[32mtrue\u001b[39m"
      ]
     },
     "execution_count": 25,
     "metadata": {},
     "output_type": "execute_result"
    }
   ],
   "source": [
    "/* En lugar de...\n",
    "class OrderedRational(n: Int, d: Int) {\n",
    "    // ...\n",
    "    def < (that: Rational) =\n",
    "        this.numer * that.denom > that.numer * this.denom\n",
    "    def > (that: Rational) = that < this\n",
    "    def <= (that: Rational) = (this < that) || (this == that)\n",
    "    def >= (that: Rational) = (this > that) || (this == that)\n",
    "}\n",
    "*/\n",
    "class OrderedRational(val n: Int, val d: Int) extends Ordered[OrderedRational] {\n",
    "    // ...\n",
    "    override def toString = n+\"/\"+d\n",
    "    // ...\n",
    "\n",
    "    def compare(that: OrderedRational) =\n",
    "        (this.n * that.d) - (that.n * this.d)\n",
    "}\n",
    "\n",
    "val mitad = new OrderedRational(1, 2)\n",
    "val tercio = new OrderedRational(1, 3)\n",
    "mitad < tercio\n",
    "mitad > tercio"
   ]
  },
  {
   "cell_type": "markdown",
   "metadata": {},
   "source": [
    "Otro uso típico es crear una serie de traits que puedan apilarse para dar lugar a diferentes versiones de una misma clase. Por ejemplo, podemos tener una clase que represente una cola de enteros y definir diferentes traits para añadir diferentes 'características' de su funcionamiento, pudiendo mezclarlas como queramos. Esas 'características' podrían ser por ejemplo duplicar los elementos que se introducen, incrementarlos o filtrarlos.\n",
    "\n",
    "Destacamos tres aspectos de este esquema:\n",
    "* Al crear los trait con `extends IntQueue` estamos diciendo que solo las clases que extiendan IntQueue pueden usar el trait. \n",
    "* Al declarar los métodos con `abstract override` estamos diciendo que el trait solo puede usarse en una clase que aporte una implementación concreta del método (en cualquier método abstracto **no** se podría usar `super`, pero con esta formulación sí).\n",
    "* El orden en el que se aplican los traits mezclados es de derecha a izquierda, por lo que el orden es relevante"
   ]
  },
  {
   "cell_type": "code",
   "execution_count": 2,
   "metadata": {},
   "outputs": [
    {
     "data": {
      "text/plain": [
       "defined \u001b[32mclass\u001b[39m \u001b[36mIntQueue\u001b[39m\r\n",
       "\u001b[32mimport \u001b[39m\u001b[36mscala.collection.mutable.ArrayBuffer\r\n",
       "\u001b[39m\r\n",
       "defined \u001b[32mclass\u001b[39m \u001b[36mBasicIntQueue\u001b[39m\r\n",
       "defined \u001b[32mtrait\u001b[39m \u001b[36mDoubling\u001b[39m\r\n",
       "defined \u001b[32mtrait\u001b[39m \u001b[36mIncrementing\u001b[39m\r\n",
       "defined \u001b[32mtrait\u001b[39m \u001b[36mFiltering\u001b[39m\r\n",
       "defined \u001b[32mclass\u001b[39m \u001b[36mMyQueue\u001b[39m\r\n",
       "\u001b[36mqueueD\u001b[39m: \u001b[32mwrapper\u001b[39m.\u001b[32mwrapper\u001b[39m.\u001b[32mMyQueue\u001b[39m = $sess.cmd1Wrapper$Helper$MyQueue@a93972\r\n",
       "\u001b[36mres1_9\u001b[39m: \u001b[32mInt\u001b[39m = \u001b[32m20\u001b[39m\r\n",
       "\u001b[36mqueueIF\u001b[39m: \u001b[32mwrapper\u001b[39m.\u001b[32mwrapper\u001b[39m.\u001b[32mBasicIntQueue\u001b[39m with \u001b[32mwrapper\u001b[39m.\u001b[32mwrapper\u001b[39m.\u001b[32mIncrementing\u001b[39m with \u001b[32mwrapper\u001b[39m.\u001b[32mwrapper\u001b[39m.\u001b[32mFiltering\u001b[39m = $sess.cmd1Wrapper$Helper$$anon$1@d00d129\r\n",
       "\u001b[36mres1_14\u001b[39m: \u001b[32mInt\u001b[39m = \u001b[32m1\u001b[39m\r\n",
       "\u001b[36mqueueFI\u001b[39m: \u001b[32mwrapper\u001b[39m.\u001b[32mwrapper\u001b[39m.\u001b[32mBasicIntQueue\u001b[39m with \u001b[32mwrapper\u001b[39m.\u001b[32mwrapper\u001b[39m.\u001b[32mFiltering\u001b[39m with \u001b[32mwrapper\u001b[39m.\u001b[32mwrapper\u001b[39m.\u001b[32mIncrementing\u001b[39m = $sess.cmd1Wrapper$Helper$$anon$2@442b1b52\r\n",
       "\u001b[36mres1_19\u001b[39m: \u001b[32mInt\u001b[39m = \u001b[32m0\u001b[39m"
      ]
     },
     "execution_count": 2,
     "metadata": {},
     "output_type": "execute_result"
    }
   ],
   "source": [
    "// Definición abstracta de una cola de Int\n",
    "abstract class IntQueue {\n",
    "    def get(): Int\n",
    "    def put(x: Int)\n",
    "}\n",
    "\n",
    "// Implementación con ArrayBuffer\n",
    "import scala.collection.mutable.ArrayBuffer\n",
    "class BasicIntQueue extends IntQueue {\n",
    "    private val buf = new ArrayBuffer[Int]\n",
    "    def get() = buf.remove(0)\n",
    "    def put(x: Int) { buf += x }\n",
    "}\n",
    "\n",
    "// Modificaciones apilables\n",
    "trait Doubling extends IntQueue {\n",
    "    abstract override def put(x: Int) { super.put(2 * x) }\n",
    "}\n",
    "trait Incrementing extends IntQueue {\n",
    "    abstract override def put(x: Int) { super.put(x + 1) }\n",
    "}\n",
    "trait Filtering extends IntQueue {\n",
    "    abstract override def put(x: Int) {\n",
    "        if (x >= 0) super.put(x)\n",
    "    }\n",
    "}\n",
    "\n",
    "class MyQueue extends BasicIntQueue with Doubling\n",
    "val queueD = new MyQueue\n",
    "queueD.put(10)\n",
    "queueD.get()\n",
    "\n",
    "// Podemos aplicar los traits directamente al usar new\n",
    "val queueIF = new BasicIntQueue with Incrementing with Filtering\n",
    "queueIF.put(-1)\n",
    "queueIF.put(0)\n",
    "queueIF.put(1)\n",
    "queueIF.get()\n",
    "\n",
    "// El orden es relevante, al aplicarse los traits de derecha a izquierda\n",
    "val queueFI = new BasicIntQueue with Filtering with Incrementing\n",
    "queueFI.put(-1)\n",
    "queueFI.put(0)\n",
    "queueFI.put(1)\n",
    "queueFI.get()"
   ]
  },
  {
   "cell_type": "markdown",
   "metadata": {},
   "source": [
    "<table align=\"left\" style=\"border-collapse: collapse; border: none !important; width: 100%;\">\n",
    "    <tr style=\"border:none !important;\">\n",
    "        <td style=\"border:none !important; width: 60px;\">\n",
    "<img src=\"icons/optimizar.png\" align=\"left\" width=\"50px\"> \n",
    "        </td>\n",
    "        <td style=\"border:none !important; text-align:left\">\n",
    "            <ul>\n",
    "                <li>Los trait se compilan como interfaces, y la ejecución de sus métodos puede ser más lenta que si usamos una clase, por lo que debemos tenerlo en cuenta si el rendimiento es crítico y vemos que el trait puede convertirse en un cuello de botella</li>\n",
    "            </ul>\n",
    "        </td>\n",
    "    </tr>\n",
    "</table>"
   ]
  },
  {
   "cell_type": "markdown",
   "metadata": {},
   "source": [
    "<a name=\"subseccion-Tipos abstractos y concretos\"></a>\n",
    "## Tipos abstractos y concretos\n",
    "\n",
    "Las clases pueden ser abstractas y los traits lo son por definición, pero cuando hablamos de tipos abstractos nos referimos a un tipo definido con la palabra `type` como miembro abstracto de alguna clase o trait. Cuando se usa de forma concreta, lo que se está creando es un alias para un tipo ya existente, al que le estamos dando otro nombre."
   ]
  },
  {
   "cell_type": "code",
   "execution_count": 16,
   "metadata": {},
   "outputs": [
    {
     "data": {
      "text/plain": [
       "defined \u001b[32mtrait\u001b[39m \u001b[36mAbstract\u001b[39m\r\n",
       "defined \u001b[32mclass\u001b[39m \u001b[36mConcrete\u001b[39m\r\n",
       "\u001b[36mx\u001b[39m: \u001b[32mwrapper\u001b[39m.\u001b[32mwrapper\u001b[39m.\u001b[32mConcrete\u001b[39m = $sess.cmd15Wrapper$Helper$Concrete@8855af7\r\n",
       "\u001b[36mres15_3\u001b[39m: \u001b[32mString\u001b[39m = \u001b[32m\"holahola\"\u001b[39m"
      ]
     },
     "execution_count": 16,
     "metadata": {},
     "output_type": "execute_result"
    }
   ],
   "source": [
    "trait Abstract {\n",
    "    type T                              // Tipo abstracto\n",
    "    def transform(x: T): T\n",
    "}\n",
    "\n",
    "class Concrete extends Abstract {\n",
    "    type T = String                     // Tipo concreto (T es un alias de String)\n",
    "    def transform(x: T) = x + x         // Podríamos usar String en lugar de T\n",
    "}\n",
    "\n",
    "val x = new Concrete\n",
    "x.transform(\"hola\")"
   ]
  },
  {
   "cell_type": "markdown",
   "metadata": {},
   "source": [
    "Podemos establecer límites superiores o inferiores en la jerarquía de clases a la hora de definir tipos abstractos (con `<:` o `>:`). Por ejemplo, al definir una clase 'Animal' en la que se especifica la comida que come ese animal, podemos definir un tipo de comida abstracto, pero obligar a que tenga que ser un subtipo de la clase 'Food', y con ello evitamos que se pueda instanciar el tipo abstracto con un tipo inapropiado, como por ejemplo `IOException`."
   ]
  },
  {
   "cell_type": "code",
   "execution_count": 23,
   "metadata": {},
   "outputs": [
    {
     "data": {
      "text/plain": [
       "defined \u001b[32mclass\u001b[39m \u001b[36mFood\u001b[39m\r\n",
       "defined \u001b[32mclass\u001b[39m \u001b[36mAnimal\u001b[39m\r\n",
       "defined \u001b[32mclass\u001b[39m \u001b[36mGrass\u001b[39m\r\n",
       "defined \u001b[32mclass\u001b[39m \u001b[36mCow\u001b[39m"
      ]
     },
     "execution_count": 23,
     "metadata": {},
     "output_type": "execute_result"
    }
   ],
   "source": [
    "class Food\n",
    "abstract class Animal {\n",
    "    type SuitableFood <: Food\n",
    "    def eat(food: SuitableFood)\n",
    "}\n",
    "\n",
    "class Grass extends Food\n",
    "class Cow extends Animal {\n",
    "    type SuitableFood = Grass\n",
    "    override def eat(food: Grass) {}\n",
    "}"
   ]
  },
  {
   "cell_type": "markdown",
   "metadata": {},
   "source": [
    "<a name=\"subseccion-Manejando excepciones con `throw`, `try`, `catch` y `finally`\"></a>\n",
    "## Manejando excepciones con `throw`, `try`, `catch` y `finally`\n",
    "\n",
    "Podemos gestionar las excepciones de forma similar a cómo lo hacemos en Java, con `throw`, `try` y `catch`. En Scala, una expresión `throw` devuelve un tipo `Nothing` (que comentaremos más adelante), y el `catch` utiliza 'pattern matching', que aún no hemos visto pero que podremos entender fácilmente viendo su sintaxis. El uso de `finally` nos permite asegurarnos de que se ejecuta el código que contiene pase lo que pase.\n",
    "\n",
    "El valor que devuelve un bloque `try-catch-finally` es el resultado del `try` si todo va bien, del `catch` si se captura una excepción o ningún valor si ocurre una excepción que no se captura. El valor del `finally` se descarta, aunque podríamos forzar a que sea el valor devuelto con `return` (ver el último ejemplo), pero no se recomienda, ya que el `finally` suele usarse para cerrar ficheros u otros tipos de efectos colaterales, pero no para calcular el valor a devolver."
   ]
  },
  {
   "cell_type": "code",
   "execution_count": 69,
   "metadata": {},
   "outputs": [
    {
     "name": "stdout",
     "output_type": "stream",
     "text": [
      "3\r\n"
     ]
    },
    {
     "data": {
      "text/plain": [
       "defined \u001b[32mfunction\u001b[39m \u001b[36mmitad\u001b[39m\r\n",
       "defined \u001b[32mfunction\u001b[39m \u001b[36mf\u001b[39m\r\n",
       "defined \u001b[32mfunction\u001b[39m \u001b[36mg\u001b[39m\r\n",
       "\u001b[36mres68_4\u001b[39m: \u001b[32mInt\u001b[39m = \u001b[32m1\u001b[39m\r\n",
       "\u001b[36mres68_5\u001b[39m: \u001b[32mInt\u001b[39m = \u001b[32m2\u001b[39m"
      ]
     },
     "execution_count": 69,
     "metadata": {},
     "output_type": "execute_result"
    },
    {
     "name": "stdout",
     "output_type": "stream",
     "text": [
      "The End\r\n"
     ]
    }
   ],
   "source": [
    "def mitad(n: Int): Int =\n",
    "    if (n < 0)\n",
    "        throw new IllegalArgumentException(\"n no puede ser negativo\")\n",
    "    else\n",
    "        if (n % 2 == 0)\n",
    "            n / 2\n",
    "        else\n",
    "            throw new RuntimeException(\"n debe ser par\")\n",
    "\n",
    "\n",
    "try {\n",
    "    println(mitad(6))\n",
    "} catch {\n",
    "    case ex: IllegalArgumentException => println(\"IAE: \"+ex.getMessage)\n",
    "    case ex: RuntimeException => println(\"RE: \"+ex.getMessage)\n",
    "} finally {\n",
    "    println(\"The End\")\n",
    "}\n",
    "\n",
    "def f:Int = try {1} finally {2}\n",
    "def g:Int = try {return 1} finally {return 2}\n",
    "f\n",
    "g"
   ]
  },
  {
   "cell_type": "markdown",
   "metadata": {},
   "source": [
    "<a name=\"subseccion-Leyendo un fichero\"></a>\n",
    "## Leyendo un fichero\n",
    "\n",
    "Para leer un fichero podemos recurrir a la clase `scala.io.Source` que ofrece métodos apropiados para dicha tarea como vemos en el ejemplo."
   ]
  },
  {
   "cell_type": "code",
   "execution_count": 1,
   "metadata": {},
   "outputs": [
    {
     "data": {
      "text/plain": [
       "\u001b[32mimport \u001b[39m\u001b[36mscala.io.Source\r\n",
       "\r\n",
       "\u001b[39m\r\n",
       "\u001b[36mlines\u001b[39m: \u001b[32mList\u001b[39m[\u001b[32mString\u001b[39m] = \u001b[33mList\u001b[39m(\u001b[32m\"﻿Primera línea\"\u001b[39m, \u001b[32m\"Segunda línea\"\u001b[39m, \u001b[32m\"tercera línea\"\u001b[39m)"
      ]
     },
     "execution_count": 1,
     "metadata": {},
     "output_type": "execute_result"
    }
   ],
   "source": [
    "import scala.io.Source\n",
    "\n",
    "val lines = Source.fromFile(\"files/test.txt\").getLines.toList"
   ]
  },
  {
   "cell_type": "markdown",
   "metadata": {},
   "source": [
    "<table align=\"left\" style=\"border-collapse: collapse; border: none !important; width: 100%;\">\n",
    "    <tr style=\"border:none !important;\">\n",
    "        <td style=\"border:none !important; width: 60px;\">\n",
    "<img src=\"icons/notepad.png\" align=\"left\" width=\"50px\"> \n",
    "        </td>\n",
    "        <td style=\"border:none !important;text-align:left;\">\n",
    "            <ul>\n",
    "                <li>Podemos pasarle al método `fromFile` un segundo parámetro especificando el 'encoding' (por ejemplo: \"UTF8\", \"UTF16\" o \"ISO-8859-1\")</li>\n",
    "                <li>En el ejemplo ejecutamos el metodo `toList` para convertir el `iterator` que devuelve `getLines` a `List` (un `iterator` se 'consume' y no permite recorrerlo varias veces)</li>\n",
    "            </ul>\n",
    "        </td>\n",
    "    </tr>\n",
    "</table>"
   ]
  },
  {
   "cell_type": "markdown",
   "metadata": {},
   "source": [
    "<a name=\"subseccion-Aplicaciones\"></a>\n",
    "## Aplicaciones\n",
    "\n",
    "Para crear una aplicación en Scala hay que especificar un punto de entrada a ejecutar para iniciar la aplicación. Esto se realiza definiendo dentro de un `object` un método `main`, con un parámetro `Array[String]` y tipo de retorno `Unit`."
   ]
  },
  {
   "cell_type": "code",
   "execution_count": 13,
   "metadata": {},
   "outputs": [
    {
     "name": "stdout",
     "output_type": "stream",
     "text": [
      "Hola\r\n",
      "mundo!\r\n"
     ]
    },
    {
     "data": {
      "text/plain": [
       "defined \u001b[32mobject\u001b[39m \u001b[36mmiApp\u001b[39m"
      ]
     },
     "execution_count": 13,
     "metadata": {},
     "output_type": "execute_result"
    }
   ],
   "source": [
    "object miApp{\n",
    "    def main(args: Array[String]) {\n",
    "        for (arg <- args) println(arg)\n",
    "    }\n",
    "}\n",
    "\n",
    "miApp.main(Array(\"Hola\", \"mundo!\")) //Método que se ejecutará al iniciar la aplicación"
   ]
  },
  {
   "cell_type": "markdown",
   "metadata": {},
   "source": [
    "Nuestra aplicación por lo tanto estará formada por los ficheros fuente '`.scala`' que necesitemos, siempre y cuando exista al menos un método `main` que nos permita ejecutarla. La diferencia con un 'script' es que las aplicaciones acaban con una definición mientras que un 'script' acaba con una expresión.\n",
    "\n",
    "El compilador básico de Scala es `scalac` y con él podemos compilar los ficheros de nuestra aplicación para poder ejecutarla a continuación con `scala` y pasándole el nombre del objeto que contiene el método `main`. "
   ]
  },
  {
   "cell_type": "markdown",
   "metadata": {},
   "source": [
    "<table align=\"left\" style=\"border-collapse: collapse; border: none !important; width: 100%;\">\n",
    "    <tr style=\"border:none !important;\">\n",
    "        <td style=\"border:none !important; width: 60px;\">\n",
    "<img src=\"icons/notepad.png\" align=\"left\" width=\"50px\"> \n",
    "        </td>\n",
    "        <td style=\"border:none !important;text-align:left;\">\n",
    "            <ul>\n",
    "                <li>A diferencia de Java, Scala permite ponerle cualquier nombre a los ficheros de nuestra aplicación (el nombre del fichero no tiene por qué coincidir con el de la clase que contiene), aunque es recomendable usar nombres relacionados con el contenido</li>\n",
    "                <li>Aparte de `scalac`, existen otros métodos para compilar en Scala, como por ejemplo una versión más rápida del compilador llamada `fsc`</li>\n",
    "            </ul>\n",
    "        </td>\n",
    "    </tr>\n",
    "</table>"
   ]
  },
  {
   "cell_type": "markdown",
   "metadata": {},
   "source": [
    "<table align=\"left\" style=\"border-collapse: collapse; border: none !important; width: 100%;\">\n",
    "    <tr style=\"border:none !important;\">\n",
    "        <td style=\"border:none !important; width: 60px;\">\n",
    "<img src=\"icons/optimizar.png\" align=\"left\" width=\"50px\"> \n",
    "        </td>\n",
    "        <td style=\"border:none !important;text-align:left;\">\n",
    "            <ul>\n",
    "                <li>Aunque todavía no hemos hablado de los `trait` (similar al `interface` en Java), podemos hacer uso de ellos para reescribir nuestro objeto principal como: `object miApp extends Application {...}`, y esto nos permitiría incluir entre las llaves directamente el código que iría dentro de `main`, aunque con limitaciones (por ejemplo no existen argumentos), y por esta razón sólo se recomienda en aplicaciones pequeñas y sencillas</li>\n",
    "            </ul>\n",
    "        </td>\n",
    "    </tr>\n",
    "</table>"
   ]
  },
  {
   "cell_type": "markdown",
   "metadata": {},
   "source": [
    "<a name=\"subseccion-Usando `package` e `import`\"></a>\n",
    "## Usando `package` e `import`\n",
    "\n",
    "Podemos organizar nuestro código poniendo todo el contenido de un fichero en un paquete, poniendo por ejemplo `package com.myproject.tests`. De esta forma, los ficheros que incorporen esta misma clausula formarán un mismo paquete, y podrán acceder a los miembros definidos en cualquiera de esos ficheros.\n",
    "\n",
    "Por otra parte, si otro fichero declarado en un paquete distinto (o sin hacer uso de la clausula `package`, lo cual equivale a usar el paquete por defecto) quiere usar el contenido del packete `package com.myproject.tests`, tendrá que importarlo mediante la cláusula `import com.myproject.tests`.\n",
    "\n",
    "Hay que destacar sobre `import`:\n",
    "* que con la cláusula anterior importamos el paquete `com.myproject.tests` y podremos usar los miembros definidos en dicho paquete, pero no los miembros de los paquetes `com.myproject` o `com`. \n",
    "* Al realizar el `import` podemos acceder a los miembros del paquete por su nombre, sin necesidad de poner el prefijo completo.\n",
    "* El import puede aparecer en cualquier sitio, no solo al inicio del fichero.\n",
    "* Podemos importar también cualquier valor, como un objeto concreto, lo que nos permitiría acceder directamente a sus miembros sin usar el nombre del objeto y el punto (esto es especialmente util cuando usamos objetos como módulos).\n",
    "\n",
    "La sintaxis de `import` incluye algunas opciones interesantes:\n",
    "* `import <paquete>.{<miembro1>,...,<miembroN>}` : importar solo algunos miembros de un paquete (lo que equivale a ocultar el resto de miembros)\n",
    "* `import <paquete>.{<nombre-real> => <nuevo-nombre>}` : renombrar un miembro\n",
    "* Algunos ejemplos interesantes aplicando los puntos anteriores:\n",
    " * `import <paquete>.{_}` : equivalente a `import <paquete>._`\n",
    " * `import <paquete>.{_, <miembro> => <miembroRenombrado>}` : importando todo y renombrando un miembro\n",
    " * `import <paquete>.{_, <miembro> => _}` : importando todo *excepto* el miembro especificado"
   ]
  },
  {
   "cell_type": "code",
   "execution_count": 6,
   "metadata": {},
   "outputs": [
    {
     "data": {
      "text/plain": [
       "\u001b[32mimport \u001b[39m\u001b[36mjava.io.File             // importamos el miembro File del paquete java.io\r\n",
       "\u001b[39m\r\n",
       "\u001b[32mimport \u001b[39m\u001b[36mjava.util.regex          // importamos el paquete regex (nos permite acceder a sus miembros con regex.<miembro>)\r\n",
       "\u001b[39m\r\n",
       "\u001b[32mimport \u001b[39m\u001b[36mjava.sql.{Date => SDate} //Importamos solo el miembro Date del paquete java.sql y lo renombramos a SDate\u001b[39m"
      ]
     },
     "execution_count": 6,
     "metadata": {},
     "output_type": "execute_result"
    }
   ],
   "source": [
    "import java.io.File             // importamos el miembro File del paquete java.io\n",
    "import java.util.regex          // importamos el paquete regex (nos permite acceder a sus miembros con regex.<miembro>)\n",
    "import java.sql.{Date => SDate} //Importamos solo el miembro Date del paquete java.sql y lo renombramos a SDate"
   ]
  },
  {
   "cell_type": "markdown",
   "metadata": {},
   "source": [
    "<table align=\"left\" style=\"border-collapse: collapse; border: none !important; width: 100%;\">\n",
    "    <tr style=\"border:none !important;\">\n",
    "        <td style=\"border:none !important; width: 60px;\">\n",
    "<img src=\"icons/notepad.png\" align=\"left\" width=\"50px\"> \n",
    "        </td>\n",
    "        <td style=\"border:none !important;text-align:left;\">\n",
    "            <ul>\n",
    "                <li>Scala incorpora el paquete `_root_` que está por encima de cualquier paquete (por ejemplo `java.io.File` equivale a `_root_.java.io.File`), y esto puede ayudarnos si tenemos problemas para acceder a un paquete en concreto cuando tenemos anidamientos complejos en donde se repite el mismo nombre</li>\n",
    "                <li>En Scala, respecto a Java, se sustituye `import java.io.*` por `import java.io._` porque `*` es un identificador válido en Scala</li>\n",
    "            </ul>\n",
    "        </td>\n",
    "    </tr>\n",
    "</table>"
   ]
  },
  {
   "cell_type": "markdown",
   "metadata": {},
   "source": [
    "<a name=\"subsubseccion-Los `import` por defecto\"></a>\n",
    "### Los `import` por defecto\n",
    "\n",
    "Si bien podemos consultar la [API](http://www.scala-lang.org/api/current/) en cualquier momento en busca de lo que necesitamos, hay varios componentes que se importan sin necesidad de escribir la cláusula `import` explícitamente, y son:\n",
    "\n",
    "1. `import java.lang._` : todo lo que hay en el paquete `java.lang`\n",
    "2. `import scala._` : todo lo que hay en el paquete `scala`\n",
    "3. `import Predef._` : todo lo que hay en el objeto `Predef`\n",
    "\n",
    "Estos `import` por defecto hacen que podamos escribir por ejemplo `println` en lugar de `Predef.println` entre otras muchas cosas."
   ]
  },
  {
   "cell_type": "markdown",
   "metadata": {},
   "source": [
    "<table align=\"left\" style=\"border-collapse: collapse; border: none !important; width: 100%;\">\n",
    "    <tr style=\"border:none !important;\">\n",
    "        <td style=\"border:none !important; width: 60px;\">\n",
    "<img src=\"icons/notepad.png\" align=\"left\" width=\"50px\"> \n",
    "        </td>\n",
    "        <td style=\"border:none !important; text-align:left\">\n",
    "            <ul>\n",
    "                <li>El orden de los import es relevante prevaleciendo los últimos import sobre los primeros, de ahí que si escribimos `StringBuilder` se haga uso de `scala.StringBuilder` en lugar de `java.lang.StringBuilder` al hacerse los import por defecto en el orden que hemos mostrado</li>\n",
    "            </ul>\n",
    "        </td>\n",
    "    </tr>\n",
    "</table>"
   ]
  },
  {
   "cell_type": "markdown",
   "metadata": {},
   "source": [
    "<a name=\"subseccion-Calidad del código\"></a>\n",
    "## Calidad del código\n",
    "\n",
    "Scala ofrece algunas herramientas para ayudarnos a desarrollar un código de calidad y facilitar las pruebas que lo avalen."
   ]
  },
  {
   "cell_type": "markdown",
   "metadata": {},
   "source": [
    "<a name=\"subsubseccion-Comprobando condiciones con `assert`\"></a>\n",
    "### Comprobando condiciones con `assert`\n",
    "\n",
    "La expresión `assert(condición [, explicación])` : Lanza una excepción `AssertionError` si la condición no se cumple. El segundo parámetro es opcional y permite añadir una explicación de tipo `Any` que se incluirá en la excepción tras llamar a `toString`."
   ]
  },
  {
   "cell_type": "code",
   "execution_count": 3,
   "metadata": {},
   "outputs": [
    {
     "ename": "",
     "evalue": "",
     "output_type": "error",
     "traceback": [
      "\u001b[31mjava.lang.AssertionError: assertion failed: 3 NO es mayor que 2\u001b[39m\r",
      "  scala.Predef$.assert(\u001b[32mPredef.scala\u001b[39m:\u001b[32m170\u001b[39m)\r",
      "  $sess.cmd2Wrapper$Helper.<init>(\u001b[32mcmd2.sc\u001b[39m:\u001b[32m1\u001b[39m)\r",
      "  $sess.cmd2Wrapper.<init>(\u001b[32mcmd2.sc\u001b[39m:\u001b[32m75\u001b[39m)\r",
      "  $sess.cmd2$.<init>(\u001b[32mcmd2.sc\u001b[39m:\u001b[32m60\u001b[39m)\r",
      "  $sess.cmd2$.<clinit>(\u001b[32mcmd2.sc\u001b[39m:\u001b[32m-1\u001b[39m)"
     ]
    }
   ],
   "source": [
    "assert(3 < 2, \"3 NO es menor que 2\")"
   ]
  },
  {
   "cell_type": "markdown",
   "metadata": {},
   "source": [
    "<table align=\"left\" style=\"border-collapse: collapse; border: none !important; width: 100%;\">\n",
    "    <tr style=\"border:none !important;\">\n",
    "        <td style=\"border:none !important; width: 60px;\">\n",
    "<img src=\"icons/notepad.png\" align=\"left\" width=\"50px\"> \n",
    "        </td>\n",
    "        <td style=\"border:none !important; text-align:left\">\n",
    "            <ul>\n",
    "                <li>El uso de `assert` se puede activar y desactivar desde la linea de comandos con las opciones `-ea` y `-da` de la JVM</li>\n",
    "                <li>El objeto `Predef` contiene un método `ensuring` que ofrece otra forma de realizar comprobaciones aparte de `assert`</li>\n",
    "            </ul>\n",
    "        </td>\n",
    "    </tr>\n",
    "</table>"
   ]
  },
  {
   "cell_type": "markdown",
   "metadata": {},
   "source": [
    "<a name=\"subsubseccion-Pruebas unitarias\"></a>\n",
    "### Pruebas unitarias\n",
    "\n",
    "Además de las opciones que ofrece el ecosistema Java para realizar las pruebas unitarias, hay varias herramientas adicionales que ofrece Scala para facilitar esta tarea, como ScalaTest.\n",
    "\n",
    "La forma más sencilla de crear pruebas unitarias con ScalaTest es crear clases que extiendan `org.scalatest.Suite` y definir métodos en ellas cuyos nombres empiecen por \"test\" para realizar las pruebas. Generalmente, se necesita que el fichero con las pruebas esté en el paquete `test`, y sería algo así:\n",
    "\n",
    "<table align=\"middle\" style=\"border-collapse: collapse; border: none !important; width: 60%;\">\n",
    "    <tr style=\"border:none !important;\">\n",
    "        <td style=\"border:none !important; text-align:left\">\n",
    "&nbsp;&nbsp;&nbsp;&nbsp;`import org.scalatest.Suite`<br><br>\n",
    "&nbsp;&nbsp;&nbsp;&nbsp;`class miSuite extends Suite{`<br>\n",
    "&nbsp;&nbsp;&nbsp;&nbsp;&nbsp;&nbsp;&nbsp;&nbsp;`    def testSumaRacionales() = {`<br>\n",
    "&nbsp;&nbsp;&nbsp;&nbsp;&nbsp;&nbsp;&nbsp;&nbsp;&nbsp;&nbsp;&nbsp;&nbsp;`        val r1 = new Rational(1, 2)`<br>\n",
    "&nbsp;&nbsp;&nbsp;&nbsp;&nbsp;&nbsp;&nbsp;&nbsp;&nbsp;&nbsp;&nbsp;&nbsp;`        val r2 = new Rational(1, 4)`<br>\n",
    "&nbsp;&nbsp;&nbsp;&nbsp;&nbsp;&nbsp;&nbsp;&nbsp;&nbsp;&nbsp;&nbsp;&nbsp;`        val r3 = new Rational(3, 4)`<br>\n",
    "&nbsp;&nbsp;&nbsp;&nbsp;&nbsp;&nbsp;&nbsp;&nbsp;&nbsp;&nbsp;&nbsp;&nbsp;`        val rSuma = r1 + r2`<br>\n",
    "&nbsp;&nbsp;&nbsp;&nbsp;&nbsp;&nbsp;&nbsp;&nbsp;&nbsp;&nbsp;&nbsp;&nbsp;`        assert(r3 == rSuma , \"Error sumando racionales\")`<br>\n",
    "&nbsp;&nbsp;&nbsp;&nbsp;&nbsp;&nbsp;&nbsp;&nbsp;`    }`<br>\n",
    "&nbsp;&nbsp;&nbsp;&nbsp;`}`<br>\n",
    "        </td>\n",
    "    </tr>\n",
    "</table>\n",
    "\n",
    "Si usamos `===` en lugar de `==` en un `assert` veremos mensajes más descriptivos de lo que ha ocurrido.\n",
    "\n",
    "Y si lo que queremos es comprobar que se lanza una excepción según lo esperado, podemos usar el método `intercept`:\n",
    "\n",
    "<table align=\"middle\" style=\"border-collapse: collapse; border: none !important; width: 60%;\">\n",
    "    <tr style=\"border:none !important;\">\n",
    "        <td style=\"border:none !important; text-align:left\">\n",
    "&nbsp;&nbsp;&nbsp;&nbsp;`intercept(classOf[IllegalArgumentException]) {`<br>\n",
    "&nbsp;&nbsp;&nbsp;&nbsp;&nbsp;&nbsp;&nbsp;&nbsp;`    val r1 = new Rational(1, 0)`<br>\n",
    "&nbsp;&nbsp;&nbsp;&nbsp;`}`\n",
    "        </td>\n",
    "    </tr>\n",
    "</table>\n",
    "\n",
    "Para ejecutar las pruebas (las `Suite`) mediante ScalaTest deberemos ejecutar la aplicación `Runner` que incluye la herramienta indicando las pruebas que queremos ejecutar, aunque en la práctica lo más común es ejecutar las opciones que incorporan para tal fin los IDE como [ScalaIDE](http://scala-ide.org/download/sdk.html) (eclipse) o [IntelliJ](https://www.jetbrains.com/idea/download)."
   ]
  },
  {
   "cell_type": "markdown",
   "metadata": {},
   "source": [
    "<table align=\"left\" style=\"border-collapse: collapse; border: none !important; width: 100%;\">\n",
    "    <tr style=\"border:none !important;\">\n",
    "        <td style=\"border:none !important; width: 60px;\">\n",
    "<img src=\"icons/notepad.png\" align=\"left\" width=\"50px\"> \n",
    "        </td>\n",
    "        <td style=\"border:none !important; text-align:left\">\n",
    "            <ul>\n",
    "                <li>Aparte de lo que se ha mostrado aquí hay otras herramientas y métodos para ayudar a probar nuestro código</li>\n",
    "            </ul>\n",
    "        </td>\n",
    "    </tr>\n",
    "</table>"
   ]
  },
  {
   "cell_type": "markdown",
   "metadata": {},
   "source": [
    "---"
   ]
  }
 ],
 "metadata": {
  "anaconda-cloud": {},
  "kernelspec": {
   "display_name": "Apache Toree - Scala",
   "language": "scala",
   "name": "apache_toree_scala"
  },
  "language_info": {
   "file_extension": ".scala",
   "name": "scala",
   "version": "2.11.8"
  }
 },
 "nbformat": 4,
 "nbformat_minor": 2
}
