{
 "cells": [
  {
   "cell_type": "markdown",
   "metadata": {},
   "source": [
    "<img src=\"images/intro-logo-scala-eng.png\" align=\"left\" width=\"600px\"/>\n",
    "<!--- ![alt text](heading.png \"Heading with Scala logo\") --->"
   ]
  },
  {
   "cell_type": "markdown",
   "metadata": {},
   "source": [
    "---"
   ]
  },
  {
   "cell_type": "markdown",
   "metadata": {},
   "source": [
    "# Index\n",
    "\n",
    "### [1. Starting to crawl](#seccion-1. Starting to crawl)\n",
    "  * [Print out on screen](#subseccion-Print out on screen)\n",
    "  * [Expressions](#subseccion-Expressions)\n",
    "  * [Variables](#subseccion-Variables)\n",
    "  * [Multiline](#subseccion-Multiline)\n",
    "  * [\"Basic\" types and their literals](#subseccion-Basic types and their literals)\n",
    "  * [Functions](#subseccion-Functions)\n",
    "  * [Procedures](#subseccion-Procedures)\n",
    "  * [Basic control structures (`while`, `if`)](#subseccion-Basic control structures {`while`, `if`})\n",
    "\n"
   ]
  },
  {
   "cell_type": "markdown",
   "metadata": {},
   "source": [
    "---"
   ]
  },
  {
   "cell_type": "markdown",
   "metadata": {},
   "source": [
    "<a name=\"seccion-1. Starting to crawl\"></a>\n",
    "<table align=\"left\" style=\"border-collapse: collapse; width: 100%; border: 5px double black\">\n",
    "    <tr style=\"border:none !important;\">\n",
    "        <td style=\"border:none !important; width: 100px;\">\n",
    "<img src=\"icons/gatear-m.png\" align=\"left\" width=60px/>\n",
    "        </td>\n",
    "        <td style=\"border:none !important; text-align:left;\">\n",
    "<h1>1. Starting to crawl</h1>\n",
    "<br>\n",
    "Let's see some basic operations that can be performed with Scala's interpreter.\n",
    "        </td>\n",
    "    </tr>\n",
    "</table>\n"
   ]
  },
  {
   "cell_type": "markdown",
   "metadata": {},
   "source": [
    "<a name=\"subseccion-Print out on screen\"></a>\n",
    "## Print out on screen\n",
    "\n",
    "Unlike Java, in Scala we just need to call `println` in order to print something out on screen (Thanks, Scala!)."
   ]
  },
  {
   "cell_type": "code",
   "execution_count": 1,
   "metadata": {},
   "outputs": [
    {
     "data": {
      "text/plain": [
       "Intitializing Scala interpreter ..."
      ]
     },
     "metadata": {},
     "output_type": "display_data"
    },
    {
     "data": {
      "text/plain": [
       "Spark Web UI available at http://172.17.0.2:4040\n",
       "SparkContext available as 'sc' (version = 2.2.0, master = local[*], app id = local-1515603060746)\n",
       "SparkSession available as 'spark'\n"
      ]
     },
     "metadata": {},
     "output_type": "display_data"
    },
    {
     "name": "stdout",
     "output_type": "stream",
     "text": [
      "Hello World!\n"
     ]
    }
   ],
   "source": [
    "println(\"Hello World!\")"
   ]
  },
  {
   "cell_type": "markdown",
   "metadata": {},
   "source": [
    "<table align=\"left\" style=\"border-collapse: collapse; border: none !important; width: 100%;\">\n",
    "    <tr style=\"border:none !important;\">\n",
    "        <td style=\"border:none !important; width: 60px;\">\n",
    "<img src=\"icons/notepad.png\" align=\"left\" width=\"50px\"> \n",
    "        </td>\n",
    "        <td style=\"border:none !important;text-align:left;\">\n",
    "            <ul>\n",
    "                <li>Note that it is **NOT** necessary to add '`;`' (nor any other symbols) at the end of each line of code.</li>\n",
    "            </ul>\n",
    "        </td>\n",
    "    </tr>\n",
    "</table>"
   ]
  },
  {
   "cell_type": "markdown",
   "metadata": {},
   "source": [
    "<a name=\"subseccion-Expressions\"></a>\n",
    "## Expressions\n",
    "\n",
    "Scala's interpreter computes the value of any expression and prints its result on console.\n",
    "\n",
    "For example, if we write `1 + 2` the interpreter will show us the result on screen, that is: an `Int` value equal to `3`, with an automatically generated name `resN`."
   ]
  },
  {
   "cell_type": "code",
   "execution_count": 3,
   "metadata": {},
   "outputs": [
    {
     "data": {
      "text/plain": [
       "res2: Int = 3\n"
      ]
     },
     "execution_count": 3,
     "metadata": {},
     "output_type": "execute_result"
    }
   ],
   "source": [
    "1 + 2"
   ]
  },
  {
   "cell_type": "markdown",
   "metadata": {},
   "source": [
    "<table align=\"left\" style=\"border-collapse: collapse; border: none !important; width: 100%;\">\n",
    "    <tr style=\"border:none !important;\">\n",
    "        <td style=\"border:none !important; width: 60px;\">\n",
    "<img src=\"icons/notepad.png\" align=\"left\" width=\"50px\"> \n",
    "        </td>\n",
    "        <td style=\"border:none !important;text-align:left;\">\n",
    "            <ul>\n",
    "                <li>The type `Int` is the equivalent to the conceptual conjunction of `int` and `Integer` in Java, as we will see below.</li>\n",
    "            </ul>\n",
    "        </td>\n",
    "    </tr>\n",
    "</table>"
   ]
  },
  {
   "cell_type": "markdown",
   "metadata": {},
   "source": [
    "<a name=\"subseccion-Variables\"></a>\n",
    "## Variables\n",
    "\n",
    "There are 2 kinds of variables in Scala, declared by `var` and `val`. The main difference between them is that, once they are declared, `var`-like variables can be reassigned and `val`-ones not."
   ]
  },
  {
   "cell_type": "code",
   "execution_count": 3,
   "metadata": {},
   "outputs": [
    {
     "data": {
      "text/plain": [
       "x: Int = 3\n",
       "y: Int = 4\n"
      ]
     },
     "execution_count": 3,
     "metadata": {},
     "output_type": "execute_result"
    }
   ],
   "source": [
    "val x = 3\n",
    "var y = 4"
   ]
  },
  {
   "cell_type": "code",
   "execution_count": 4,
   "metadata": {},
   "outputs": [
    {
     "ename": "<console>",
     "evalue": "27: error: reassignment to val",
     "output_type": "error",
     "traceback": [
      "<console>:27: error: reassignment to val",
      "       x = 5",
      "         ^",
      ""
     ]
    }
   ],
   "source": [
    "x = 5\n",
    "y = 6 // ERROR!!"
   ]
  },
  {
   "cell_type": "markdown",
   "metadata": {},
   "source": [
    "<table align=\"left\" style=\"border-collapse: collapse; border: none !important; width: 100%;\">\n",
    "    <tr style=\"border:none !important;\">\n",
    "        <td style=\"border:none !important; width: 60px;\">\n",
    "<img src=\"icons/warning.png\" align=\"left\" width=\"50px\"> \n",
    "        </td>\n",
    "        <td style=\"border:none !important;text-align:left;\">\n",
    "            <ul>\n",
    "                <li>The use of mutable variables (reassignable variables) it is not recommended in a pure functional programming environment.</li>\n",
    "            </ul>\n",
    "        </td>\n",
    "    </tr>\n",
    "</table>"
   ]
  },
  {
   "cell_type": "markdown",
   "metadata": {},
   "source": [
    "<a name=\"subseccion-Multiline\"></a>\n",
    "## Multiline\n",
    "\n",
    "We can continue a sentence in the next line of code and Scala's interpreter will process it correctly. Nevertheless, there are some exceptions to this rule, for example, let's try to insert a line break inside a _String_:"
   ]
  },
  {
   "cell_type": "code",
   "execution_count": 4,
   "metadata": {},
   "outputs": [
    {
     "data": {
      "text/plain": [
       "text: String = Completing a multiline operation\n"
      ]
     },
     "execution_count": 4,
     "metadata": {},
     "output_type": "execute_result"
    }
   ],
   "source": [
    "val text = \n",
    "\"Completing a multiline operation\""
   ]
  },
  {
   "cell_type": "markdown",
   "metadata": {},
   "source": [
    "<table align=\"left\" style=\"border-collapse: collapse; border: none !important; width: 100%;\">\n",
    "    <tr style=\"border:none !important;\">\n",
    "        <td style=\"border:none !important; width: 60px;\">\n",
    "<img src=\"icons/notepad.png\" align=\"left\" width=\"50px\"> \n",
    "        </td>\n",
    "        <td style=\"border:none !important;text-align:left;\">\n",
    "            <ul>\n",
    "                <li>If the interpreter show us an `IO error while decoding`, we must declare the environment variable `JAVA_TOOL_OPTIONS=\"-Dfile.encoding=UTF8\"`</li>\n",
    "            </ul>\n",
    "        </td>\n",
    "    </tr>\n",
    "</table>"
   ]
  },
  {
   "cell_type": "markdown",
   "metadata": {},
   "source": [
    "<a name=\"subseccion-Basic types and their literals\"></a>\n",
    "## \"Basic\" types and their literals\n",
    "\n",
    "In this section we are reviewing the basic types that can be used in Scala. All these types are classes, even the simpler ones, that's why `int` and `Integer` are indistinguishable here; unlike Java, Scala just defines the `Int` type.\n",
    "* `Byte`\n",
    "* `Short`\n",
    "* `Int`\n",
    "* `Long`\n",
    "* `Char`\n",
    "* `String`\n",
    "* `Float`\n",
    "* `Double`\n",
    "* `Boolean`\n",
    "\n",
    "We can infer their meaning by their names, anyway let's see some examples with the literals that can be used with each basic type."
   ]
  },
  {
   "cell_type": "code",
   "execution_count": 5,
   "metadata": {},
   "outputs": [
    {
     "data": {
      "text/plain": [
       "hex: Int = 255\n",
       "dec: Int = 255\n",
       "hexLong: Long = 255\n",
       "decLong: Long = 255\n",
       "hexShort: Short = 255\n",
       "decShort: Short = 255\n",
       "hexByte: Byte = 15\n",
       "decByte: Byte = 15\n",
       "real: Double = 123450.0\n",
       "realFloat: Float = 123450.0\n",
       "caracter: Char = A\n",
       "caracterOctal: Char = A\n",
       "caracterHex: Char = A\n",
       "caracterEspecial: Char =\n",
       "\n",
       "\n",
       "hola: String = Hola\n",
       "holaEsp: String =\n",
       "'Hola\n",
       "Mundo!'\n",
       "holaRaw: String =\n",
       "'Hola\n",
       "                  Mundo!'\n",
       "verdadero: Boolean = true\n",
       "falso: Boolean = false\n"
      ]
     },
     "execution_count": 5,
     "metadata": {},
     "output_type": "execute_result"
    }
   ],
   "source": [
    "// Int\n",
    "val hex = 0x00FF       // Hexadecimal (base 16) if it begins with 0x o 0X\n",
    "val dec = 255          // Decimal (base 10) if it doesn't begin with 0\n",
    "\n",
    "// Long                // Long if it ends with l o L\n",
    "val hexLong = 0x00FFL\n",
    "val decLong = 255l\n",
    "\n",
    "// Short y Byte        // Short and Byte whenever we store a value (within the range) in a variable of any of these types\n",
    "val hexShort: Short = 0x00FF\n",
    "val decShort: Short = 255\n",
    "val hexByte: Byte = 0x0F\n",
    "val decByte: Byte = 15 // Note: what happens if we try to store 255 instead of 15\n",
    "\n",
    "// Double\n",
    "val real = 1.2345E5\n",
    "\n",
    "// Float               // Float if it ends with f o F\n",
    "val realFloat = 1.2345E5F\n",
    "\n",
    "// Char\n",
    "val caracter = 'A'\n",
    "val caracterOctal = '\\101'  // We ca use an octal number between '\\0' y '\\377'\n",
    "val caracterHex = '\\u0041'  // We ca use an hexadecimal number between '\\u0000' y '\\uFFFF'\n",
    "val caracterEspecial = '\\n' // Special characters: \\n \\b \\t \\f \\r \\\" \\' \\\\\n",
    "\n",
    "// String\n",
    "val hola = \"Hola\"\n",
    "val holaEsp = \"\\'Hola\\nMundo!\\'\"\n",
    "  // 'Raw string' -> are written between \"\"\" and they are taken literally (with line breaks, special characters, etc.)\n",
    "val holaRaw = \"\"\"'Hola\n",
    "                  Mundo!'\"\"\"\n",
    "\n",
    "// Boolean\n",
    "val verdadero = true\n",
    "val falso = false"
   ]
  },
  {
   "cell_type": "markdown",
   "metadata": {},
   "source": [
    "<table align=\"left\" style=\"border-collapse: collapse; border: none !important; width: 100%;\">\n",
    "    <tr style=\"border:none !important;\">\n",
    "        <td style=\"border:none !important; width: 60px;\">\n",
    "<img src=\"icons/notepad.png\" align=\"left\" width=\"50px\"> \n",
    "        </td>\n",
    "        <td style=\"border:none !important;text-align:left;\">\n",
    "            <ul>\n",
    "                <li>The fully qualified name of `Int` is `scala.Int`, but since the `scala` package is automatically imported by default, we can write just `Int`</li>\n",
    "                <li>All these basic types are placed into the `scala` package, except `String` that is located in `java.lang.String` (`java.lang` package is also imported by defaul in both, Java and Scala)</li>\n",
    "                <li>Right now we can also write some types in lowercases, i.e. `int`, but we are referring to the same `scala.Int`, and this feature is likely to dissapear in the next versions of Scala.</li>\n",
    "                <li>Unicode characters can be used anywhere in our code, for instance in the name of a variable, but this used is discouraged because it can make the code difficult to read.</li>\n",
    "            </ul>\n",
    "        </td>\n",
    "    </tr>\n",
    "</table>"
   ]
  },
  {
   "cell_type": "markdown",
   "metadata": {},
   "source": [
    "<table align=\"left\" style=\"border-collapse: collapse; border: none !important; width: 100%;\">\n",
    "    <tr style=\"border:none !important;\">\n",
    "        <td style=\"border:none !important; width: 60px;\">\n",
    "<img src=\"icons/optimizar.png\" align=\"left\" width=\"50px\"> \n",
    "        </td>\n",
    "        <td style=\"border:none !important;text-align:left;\">\n",
    "            <ul>\n",
    "                <li>`Raw string` include the white spaces toindent the source code, so we usually call `stripMargin` to get the desired results (marking with a `|` the beginning of the left margin)</li>\n",
    "            </ul>\n",
    "        </td>\n",
    "    </tr>\n",
    "</table>"
   ]
  },
  {
   "cell_type": "markdown",
   "metadata": {},
   "source": [
    "<a name=\"subseccion-Functions\"></a>\n",
    "## Functions\n",
    "\n",
    "We use the special word `def` to define a new function. Then, we specify the parameters with their types and the return type. Finally we include the body of the function between (curly) brackets, as follows:"
   ]
  },
  {
   "cell_type": "code",
   "execution_count": null,
   "metadata": {
    "collapsed": true
   },
   "outputs": [],
   "source": [
    "def sumaXY(x: Int, y: Int): Int = {x + y}"
   ]
  },
  {
   "cell_type": "code",
   "execution_count": null,
   "metadata": {
    "collapsed": true
   },
   "outputs": [],
   "source": [
    "sumaXY(7, 8)"
   ]
  },
  {
   "cell_type": "markdown",
   "metadata": {},
   "source": [
    "<table align=\"left\" style=\"border-collapse: collapse; border: none !important; width: 100%;\">\n",
    "    <tr style=\"border:none !important;\">\n",
    "        <td style=\"border:none !important; width: 60px;\">\n",
    "<img src=\"icons/optimizar.png\" align=\"left\" width=\"50px\"> \n",
    "        </td>\n",
    "        <td style=\"border:none !important;text-align:left;\">\n",
    "            <ul>\n",
    "                <li>If the function is NOT recursive the return type can be omitted</li>\n",
    "                <li>If the body of the function contains just one sentence, the brackets can be omitted</li>\n",
    "            </ul>\n",
    "        </td>\n",
    "    </tr>\n",
    "</table>\n"
   ]
  },
  {
   "cell_type": "code",
   "execution_count": null,
   "metadata": {
    "collapsed": true
   },
   "outputs": [],
   "source": [
    "def sumaXYalt(x: Int, y: Int) = x + y"
   ]
  },
  {
   "cell_type": "code",
   "execution_count": null,
   "metadata": {
    "collapsed": true
   },
   "outputs": [],
   "source": [
    "sumaXYalt(7, 8)"
   ]
  },
  {
   "cell_type": "markdown",
   "metadata": {},
   "source": [
    "Since we are just starting the learning process of Scala language, it is really important to highlight a key concept from the very beginning: functions are \"first-class citizens\" in Scala. Which means:\n",
    "\n",
    "* Functions can be used as values, just like other types such as integers or strings (in fact, we can assign a function to a variable, pass it as a parameter, make a function return another function, etc.)\n",
    "* We can define a function in the same places as \"normal\" values (locally, inside another function, in a expression, etc.)\n",
    "* Every function has a type, exactly the same as the rest of values in Scala."
   ]
  },
  {
   "cell_type": "code",
   "execution_count": null,
   "metadata": {
    "collapsed": true
   },
   "outputs": [],
   "source": [
    "(x: Int) => x + 1                   // Function literal\n",
    "var incr = (x: Int) => x + 1        // Function literal, assigned to a variable (with type Int => Int)\n",
    "incr                                // The variable type is the type of the function: Int => Int\n",
    "incr(2)                             // Invoking a function\n",
    "incr = (x: Int) => x + 2            // Reassignment of a variable with another function literal (with type Int => Int)\n",
    "incr(2)                             // Invoking the function\n",
    "\n",
    "def aplicaFunInt(f: Int => Int, x: Int) = f(x)  // A function with another function as input parameter\n",
    "aplicaFunInt((x: Int) => x + 1, 2)              // Giving a function as parameter to another function\n",
    "aplicaFunInt(incr, 2)                           // We can also provide a variable containing a function"
   ]
  },
  {
   "cell_type": "markdown",
   "metadata": {},
   "source": [
    "<a name=\"subseccion-Procedures\"></a>\n",
    "## Procedures\n",
    "\n",
    "A procedure, by definition, is a function without returning value. They are usually implemented to provoke some kind of \"collateral effect\", for example, to print something on screen. In Scala we can emulate this by defining a function with a returning value of type `Unit`, equivalent to `void` in Java. With this 'special' kind of functions we can omit the returning typeand the '`=`' symbol, adding the body between brackets."
   ]
  },
  {
   "cell_type": "code",
   "execution_count": 1,
   "metadata": {},
   "outputs": [
    {
     "data": {
      "text/plain": [
       "defined \u001b[32mfunction\u001b[39m \u001b[36mhola\u001b[39m\n",
       "defined \u001b[32mfunction\u001b[39m \u001b[36mhola2\u001b[39m"
      ]
     },
     "execution_count": 1,
     "metadata": {},
     "output_type": "execute_result"
    }
   ],
   "source": [
    "def hola(): Unit = println(\"¡Hola!\")  // Function definition without the brackets because the body has only one line of code\n",
    "def hola2() {println(\"¡Hola!\")}       // Procedure definition without the returning type and the '=' but with brackets"
   ]
  },
  {
   "cell_type": "code",
   "execution_count": null,
   "metadata": {
    "collapsed": true
   },
   "outputs": [],
   "source": [
    "hola()\n",
    "hola2()"
   ]
  },
  {
   "cell_type": "markdown",
   "metadata": {},
   "source": [
    "<table align=\"left\" style=\"border-collapse: collapse; border: none !important; width: 100%;\">\n",
    "    <tr style=\"border:none !important;\">\n",
    "        <td style=\"border:none !important; width: 60px;\">\n",
    "<img src=\"icons/warning.png\" align=\"left\" width=\"50px\"> \n",
    "        </td>\n",
    "        <td style=\"border:none !important;text-align:left;\">\n",
    "            <ul>\n",
    "                <li>The use of procedures is discourge in a pure functional programming environment</li>\n",
    "            </ul>\n",
    "        </td>\n",
    "    </tr>\n",
    "</table>"
   ]
  },
  {
   "cell_type": "markdown",
   "metadata": {},
   "source": [
    "<a name=\"subseccion-Estructuras de control básicas {`while`, `if`}\"></a>\n",
    "<a name=\"subseccion-Basic control structures {`while`, `if`}\"></a>\n",
    "## Basic control structures (`while`, `if`)\n",
    "\n",
    "Now we show an example with the basic control structures provided by Scala, `while` and `if`. Check their behavior."
   ]
  },
  {
   "cell_type": "code",
   "execution_count": null,
   "metadata": {
    "collapsed": true
   },
   "outputs": [],
   "source": [
    "var i = 0\n",
    "while (i  < 10){\n",
    "    if (i % 2 == 0){\n",
    "        println(i)\n",
    "    }\n",
    "    i = i + 1\n",
    "}"
   ]
  },
  {
   "cell_type": "markdown",
   "metadata": {},
   "source": [
    "<table align=\"left\" style=\"border-collapse: collapse; border: none !important; width: 100%;\">\n",
    "    <tr style=\"border:none !important;\">\n",
    "        <td style=\"border:none !important; width: 60px;\">\n",
    "<img src=\"icons/notepad.png\" align=\"left\" width=\"50px\"> \n",
    "        </td>\n",
    "        <td style=\"border:none !important; text-align:left\">\n",
    "            <ul>\n",
    "                <li>Unlike other languages, the assignment operations in Scala do **NOT** return any values in the reassignments of a `var` (that is, they return a type `Unit`). That is why 'usual' mechanisms like `while ((i += 1) < 10)` or `while((line = readline()) != \"\")` do **NOT** work in Scala</li>\n",
    "                <li>We do not have `break`, nor `continue`, but we can emulate their behavior using `if` and booleans (i.e. `while(... && !breakVar){ if (!<continueCond>)...) ... if (<breakCond>) breakVar=true}` or, with a more functional schema, using recursion</li>\n",
    "            </ul>\n",
    "        </td>\n",
    "    </tr>\n",
    "</table>"
   ]
  },
  {
   "cell_type": "markdown",
   "metadata": {},
   "source": [
    "<table align=\"left\" style=\"border-collapse: collapse; border: none !important; width: 100%;\">\n",
    "    <tr style=\"border:none !important;\">\n",
    "        <td style=\"border:none !important; width: 60px;\">\n",
    "<img src=\"icons/optimizar.png\" align=\"left\" width=\"50px\"> \n",
    "        </td>\n",
    "        <td style=\"border:none !important;text-align:left;\">\n",
    "            <ul>\n",
    "                <li>Note that, in Scala, we cannot do something like `i++`, we must write instead `i+=1`</li>\n",
    "                <li>Like in functions, brackets can be omitted whenever the `while` or `if` contain just one instruction</li>\n",
    "            </ul>\n",
    "        </td>\n",
    "    </tr>\n",
    "</table>"
   ]
  },
  {
   "cell_type": "markdown",
   "metadata": {},
   "source": [
    "<table align=\"left\" style=\"border-collapse: collapse; border: none !important; width: 100%;\">\n",
    "    <tr style=\"border:none !important;\">\n",
    "        <td style=\"border:none !important; width: 60px;\">\n",
    "<img src=\"icons/warning.png\" align=\"left\" width=\"50px\"> \n",
    "        </td>\n",
    "        <td style=\"border:none !important;text-align:left;\">\n",
    "            <ul>\n",
    "                <li>The use of loops is discouraged in a pure functional programming environment. We tend to use recursion instead.</li>\n",
    "            </ul>\n",
    "        </td>\n",
    "    </tr>\n",
    "</table>"
   ]
  },
  {
   "cell_type": "markdown",
   "metadata": {},
   "source": [
    "---"
   ]
  }
 ],
 "metadata": {
  "anaconda-cloud": {},
  "kernelspec": {
   "display_name": "spylon-kernel",
   "language": "scala",
   "name": "spylon-kernel"
  },
  "language_info": {
   "codemirror_mode": "text/x-scala",
   "file_extension": ".scala",
   "help_links": [
    {
     "text": "MetaKernel Magics",
     "url": "https://github.com/calysto/metakernel/blob/master/metakernel/magics/README.md"
    }
   ],
   "mimetype": "text/x-scala",
   "name": "scala",
   "pygments_lexer": "scala",
   "version": "0.4.0"
  }
 },
 "nbformat": 4,
 "nbformat_minor": 2
}
